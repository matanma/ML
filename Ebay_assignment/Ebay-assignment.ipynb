{
 "cells": [
  {
   "cell_type": "code",
   "execution_count": 5,
   "metadata": {},
   "outputs": [],
   "source": [
    "import pandas as pd\n",
    "import sklearn\n",
    "from sklearn.linear_model import LinearRegression\n",
    "import numpy as np\n",
    "from pandas_summary import DataFrameSummary\n",
    "import pandas_profiling as pp\n",
    "import matplotlib.pyplot as plt\n",
    "from sklearn.linear_model import LogisticRegressionCV\n",
    "from sklearn import preprocessing\n",
    "from sklearn.metrics import classification_report, confusion_matrix\n",
    "from sklearn.model_selection import train_test_split\n",
    "import random\n",
    "%matplotlib inline\n",
    "from IPython.core.debugger import set_trace #!!TODO: remove this"
   ]
  },
  {
   "cell_type": "code",
   "execution_count": 4,
   "metadata": {},
   "outputs": [
    {
     "data": {
      "text/plain": [
       "array([[0, 4, 0],\n",
       "       [2, 1, 4]])"
      ]
     },
     "execution_count": 4,
     "metadata": {},
     "output_type": "execute_result"
    }
   ],
   "source": [
    "np.random.randint(0, high=5, size=(2,3))"
   ]
  },
  {
   "cell_type": "code",
   "execution_count": 106,
   "metadata": {},
   "outputs": [
    {
     "data": {
      "text/plain": [
       "array([[0.        , 0.        , 0.        , 0.        ],\n",
       "       [0.        , 0.        , 0.41824435, 0.52377017],\n",
       "       [0.88570544, 0.        , 0.17882353, 0.        ]])"
      ]
     },
     "execution_count": 106,
     "metadata": {},
     "output_type": "execute_result"
    }
   ],
   "source": [
    "import scipy\n",
    "S = scipy.sparse.random(3, 4, density=0.35)\n",
    "tmp = S.A\n",
    "tmp\n"
   ]
  },
  {
   "cell_type": "code",
   "execution_count": 50,
   "metadata": {},
   "outputs": [
    {
     "data": {
      "text/plain": [
       "array([[False,  True, False, False],\n",
       "       [False, False,  True,  True],\n",
       "       [False,  True, False, False]])"
      ]
     },
     "execution_count": 50,
     "metadata": {},
     "output_type": "execute_result"
    }
   ],
   "source": [
    "tmp_int = np.ceil(tmp*6)-1\n",
    "scored_inds = tmp_int >= 0\n",
    "scored_inds"
   ]
  },
  {
   "cell_type": "code",
   "execution_count": 109,
   "metadata": {},
   "outputs": [
    {
     "data": {
      "text/plain": [
       "array([[-1.,  0., -1., -1.],\n",
       "       [-1., -1.,  2.,  5.],\n",
       "       [-1.,  5., -1., -1.]])"
      ]
     },
     "execution_count": 109,
     "metadata": {},
     "output_type": "execute_result"
    }
   ],
   "source": [
    "tmp_int"
   ]
  },
  {
   "cell_type": "code",
   "execution_count": 110,
   "metadata": {},
   "outputs": [
    {
     "data": {
      "text/plain": [
       "array([[0.36315619, 0.25742299, 0.88980521],\n",
       "       [0.83652955, 0.16315537, 0.67623867]])"
      ]
     },
     "execution_count": 110,
     "metadata": {},
     "output_type": "execute_result"
    }
   ],
   "source": [
    "np.random.rand(2,3)"
   ]
  },
  {
   "cell_type": "code",
   "execution_count": 122,
   "metadata": {},
   "outputs": [
    {
     "data": {
      "text/plain": [
       "array([[-1.],\n",
       "       [ 0.],\n",
       "       [-1.],\n",
       "       [-1.],\n",
       "       [-1.],\n",
       "       [-1.],\n",
       "       [ 2.],\n",
       "       [ 5.],\n",
       "       [-1.],\n",
       "       [ 5.],\n",
       "       [-1.],\n",
       "       [-1.]])"
      ]
     },
     "execution_count": 122,
     "metadata": {},
     "output_type": "execute_result"
    }
   ],
   "source": [
    "tmp_int.reshape(12,1)"
   ]
  },
  {
   "cell_type": "code",
   "execution_count": 114,
   "metadata": {},
   "outputs": [
    {
     "data": {
      "text/plain": [
       "array([[ 1.,  0.,  1.,  1.],\n",
       "       [ 1.,  1.,  4., 25.],\n",
       "       [ 1., 25.,  1.,  1.]])"
      ]
     },
     "execution_count": 114,
     "metadata": {},
     "output_type": "execute_result"
    }
   ],
   "source": [
    "tmp_int**2"
   ]
  },
  {
   "cell_type": "code",
   "execution_count": 66,
   "metadata": {
    "scrolled": true
   },
   "outputs": [
    {
     "name": "stdout",
     "output_type": "stream",
     "text": [
      "[[-1.  0. -1. -1.]\n",
      " [-1. -1.  2.  5.]\n",
      " [-1.  5. -1. -1.]]\n",
      "[[False  True False False]\n",
      " [False False  True  True]\n",
      " [False  True False False]]\n",
      "[[1 0 2 0]\n",
      " [0 1 0 0]\n",
      " [0 0 0 1]]\n"
     ]
    }
   ],
   "source": [
    "Y = tmp_int\n",
    "R = tmp_int >= 0\n",
    "X = np.array([[1,0,2,0], [0,1,0,0], [0,0,0,1]])\n",
    "print(Y)\n",
    "print(R)\n",
    "print(X)"
   ]
  },
  {
   "cell_type": "code",
   "execution_count": 112,
   "metadata": {},
   "outputs": [
    {
     "data": {
      "text/plain": [
       "21"
      ]
     },
     "execution_count": 112,
     "metadata": {},
     "output_type": "execute_result"
    }
   ],
   "source": [
    "np.array([1,2,3,4,5,6]).reshape(2,3).sum()"
   ]
  },
  {
   "cell_type": "code",
   "execution_count": 108,
   "metadata": {},
   "outputs": [
    {
     "data": {
      "text/plain": [
       "5"
      ]
     },
     "execution_count": 108,
     "metadata": {},
     "output_type": "execute_result"
    }
   ],
   "source": [
    "zz = (0,5)\n",
    "zz[-1]"
   ]
  },
  {
   "cell_type": "code",
   "execution_count": 67,
   "metadata": {},
   "outputs": [
    {
     "name": "stdout",
     "output_type": "stream",
     "text": [
      "[[0 0 0 0]\n",
      " [0 0 0 0]\n",
      " [0 0 0 0]]\n"
     ]
    }
   ],
   "source": [
    "print(X*R)"
   ]
  },
  {
   "cell_type": "code",
   "execution_count": 60,
   "metadata": {},
   "outputs": [
    {
     "data": {
      "text/plain": [
       "array([[0.  ],\n",
       "       [1.75],\n",
       "       [1.25]])"
      ]
     },
     "execution_count": 60,
     "metadata": {},
     "output_type": "execute_result"
    }
   ],
   "source": [
    "np.mean(Y*R, axis=1)[:, np.newaxis]"
   ]
  },
  {
   "cell_type": "code",
   "execution_count": 62,
   "metadata": {},
   "outputs": [
    {
     "data": {
      "text/plain": [
       "array([[-1.  ,  0.  , -1.  , -1.  ],\n",
       "       [-2.75, -2.75,  0.25,  3.25],\n",
       "       [-2.25,  3.75, -2.25, -2.25]])"
      ]
     },
     "execution_count": 62,
     "metadata": {},
     "output_type": "execute_result"
    }
   ],
   "source": [
    "Y_minus_products_means = Y-np.mean(Y*R, axis=1)[:, np.newaxis]\n",
    "Y_minus_products_means"
   ]
  },
  {
   "cell_type": "code",
   "execution_count": 92,
   "metadata": {},
   "outputs": [
    {
     "name": "stdout",
     "output_type": "stream",
     "text": [
      "[[0.75392934 0.93363804 0.02310552 0.91782992]\n",
      " [0.36086434 0.62629728 0.60468062 0.03171122]\n",
      " [0.04300634 0.10552932 0.0841582  0.07343448]]\n"
     ]
    }
   ],
   "source": [
    "XX = np.random.rand(*X.shape)\n",
    "from sklearn.linear_model import LinearRegression\n",
    "lr = LinearRegression(fit_intercept=False).fit(XX, Y_minus_products_means)\n",
    "print(XX)"
   ]
  },
  {
   "cell_type": "code",
   "execution_count": 93,
   "metadata": {},
   "outputs": [
    {
     "data": {
      "text/plain": [
       "array([[-1.00000000e+00, -2.13162821e-14, -1.00000000e+00,\n",
       "        -1.00000000e+00],\n",
       "       [-2.75000000e+00, -2.75000000e+00,  2.50000000e-01,\n",
       "         3.25000000e+00],\n",
       "       [-2.25000000e+00,  3.75000000e+00, -2.25000000e+00,\n",
       "        -2.25000000e+00]])"
      ]
     },
     "execution_count": 93,
     "metadata": {},
     "output_type": "execute_result"
    }
   ],
   "source": [
    "lr.predict(XX)"
   ]
  },
  {
   "cell_type": "code",
   "execution_count": 94,
   "metadata": {},
   "outputs": [
    {
     "data": {
      "text/plain": [
       "array([[ 27.29645222,   1.62660233, -21.23096314, -24.63168963],\n",
       "       [-59.13887079,  -8.01825022,  36.12259427,  55.82520372],\n",
       "       [ 32.22330904,   3.59626662, -20.93231102, -30.68984468],\n",
       "       [ 37.15016585,   5.56593091, -20.63365891, -36.74799973]])"
      ]
     },
     "execution_count": 94,
     "metadata": {},
     "output_type": "execute_result"
    }
   ],
   "source": [
    "lr.coef_"
   ]
  },
  {
   "cell_type": "code",
   "execution_count": 97,
   "metadata": {},
   "outputs": [
    {
     "data": {
      "text/plain": [
       "array([[-1.00000000e+00, -2.13162821e-14, -1.00000000e+00,\n",
       "        -1.00000000e+00],\n",
       "       [-2.75000000e+00, -2.75000000e+00,  2.50000000e-01,\n",
       "         3.25000000e+00],\n",
       "       [-2.25000000e+00,  3.75000000e+00, -2.25000000e+00,\n",
       "        -2.25000000e+00]])"
      ]
     },
     "execution_count": 97,
     "metadata": {},
     "output_type": "execute_result"
    }
   ],
   "source": [
    "XX.dot(lr.coef_.T) "
   ]
  },
  {
   "cell_type": "code",
   "execution_count": 98,
   "metadata": {},
   "outputs": [
    {
     "data": {
      "text/plain": [
       "array([[0.75392934, 0.93363804, 0.02310552, 0.91782992],\n",
       "       [0.36086434, 0.62629728, 0.60468062, 0.03171122],\n",
       "       [0.04300634, 0.10552932, 0.0841582 , 0.07343448]])"
      ]
     },
     "execution_count": 98,
     "metadata": {},
     "output_type": "execute_result"
    }
   ],
   "source": [
    "XX"
   ]
  },
  {
   "cell_type": "code",
   "execution_count": 99,
   "metadata": {},
   "outputs": [
    {
     "data": {
      "text/plain": [
       "array([[False,  True, False, False],\n",
       "       [False, False,  True,  True],\n",
       "       [False,  True, False, False]])"
      ]
     },
     "execution_count": 99,
     "metadata": {},
     "output_type": "execute_result"
    }
   ],
   "source": [
    "R"
   ]
  },
  {
   "cell_type": "code",
   "execution_count": 100,
   "metadata": {},
   "outputs": [
    {
     "data": {
      "text/plain": [
       "array([[0.        , 0.93363804, 0.        , 0.        ],\n",
       "       [0.        , 0.        , 0.60468062, 0.03171122],\n",
       "       [0.        , 0.10552932, 0.        , 0.        ]])"
      ]
     },
     "execution_count": 100,
     "metadata": {},
     "output_type": "execute_result"
    }
   ],
   "source": [
    "XX*R"
   ]
  },
  {
   "cell_type": "code",
   "execution_count": 101,
   "metadata": {},
   "outputs": [],
   "source": [
    "lr_filt = LinearRegression(fit_intercept=False).fit(XX*R, Y_minus_products_means*R)"
   ]
  },
  {
   "cell_type": "code",
   "execution_count": 103,
   "metadata": {},
   "outputs": [
    {
     "data": {
      "text/plain": [
       "array([[0.        , 0.        , 0.        , 0.        ],\n",
       "       [0.        , 0.44826412, 0.        , 0.        ],\n",
       "       [0.        , 0.        , 0.41230744, 0.02162261],\n",
       "       [0.        , 0.        , 5.35999677, 0.28109388]])"
      ]
     },
     "execution_count": 103,
     "metadata": {},
     "output_type": "execute_result"
    }
   ],
   "source": [
    "lr_filt.coef_"
   ]
  },
  {
   "cell_type": "code",
   "execution_count": 85,
   "metadata": {},
   "outputs": [],
   "source": [
    "X1d = np.array([1,2.5,3,7.6,10.2,15])[:,np.newaxis]\n",
    "y1d = 3 + 2*X1d\n",
    "lr1d = LinearRegression().fit(X1d,y1d)"
   ]
  },
  {
   "cell_type": "code",
   "execution_count": 87,
   "metadata": {},
   "outputs": [
    {
     "data": {
      "text/plain": [
       "(array([[2.]]), array([3.]))"
      ]
     },
     "execution_count": 87,
     "metadata": {},
     "output_type": "execute_result"
    }
   ],
   "source": [
    "lr1d.coef_, lr1d.intercept_"
   ]
  },
  {
   "cell_type": "code",
   "execution_count": null,
   "metadata": {},
   "outputs": [],
   "source": []
  },
  {
   "cell_type": "code",
   "execution_count": null,
   "metadata": {},
   "outputs": [],
   "source": []
  },
  {
   "cell_type": "code",
   "execution_count": 35,
   "metadata": {},
   "outputs": [
    {
     "data": {
      "text/plain": [
       "array([[       nan,        nan,        nan,        nan],\n",
       "       [       nan,        nan,        nan, 0.33919088],\n",
       "       [       nan,        nan, 0.98279623, 0.66437247]])"
      ]
     },
     "execution_count": 35,
     "metadata": {},
     "output_type": "execute_result"
    }
   ],
   "source": [
    "tmp[~scored_inds] = np.nan\n",
    "tmp"
   ]
  },
  {
   "cell_type": "code",
   "execution_count": 42,
   "metadata": {},
   "outputs": [
    {
     "data": {
      "text/plain": [
       "array([[0.9209042 , 0.51099245, 0.15265583, 0.21024998],\n",
       "       [0.53781806, 0.75405935, 0.00155555, 0.25793837],\n",
       "       [0.78496357, 0.33826438, 0.11142428, 0.64792235]])"
      ]
     },
     "execution_count": 42,
     "metadata": {},
     "output_type": "execute_result"
    }
   ],
   "source": [
    "theta = np.random.rand(*tmp.shape)\n",
    "theta"
   ]
  },
  {
   "cell_type": "code",
   "execution_count": null,
   "metadata": {},
   "outputs": [],
   "source": [
    "Y = S.A"
   ]
  },
  {
   "cell_type": "code",
   "execution_count": null,
   "metadata": {},
   "outputs": [],
   "source": []
  },
  {
   "cell_type": "code",
   "execution_count": 12,
   "metadata": {},
   "outputs": [
    {
     "data": {
      "text/plain": [
       "3.0"
      ]
     },
     "execution_count": 12,
     "metadata": {},
     "output_type": "execute_result"
    }
   ],
   "source": [
    "np.mean([1,2,3,4,5])"
   ]
  },
  {
   "cell_type": "code",
   "execution_count": 123,
   "metadata": {},
   "outputs": [],
   "source": [
    "train_set_df = pd.read_csv(\"mercari-price-suggestion-challenge/train.tsv\", sep='\\t' )"
   ]
  },
  {
   "cell_type": "code",
   "execution_count": 31,
   "metadata": {},
   "outputs": [],
   "source": [
    "train_set_df.iloc[0:200, :].to_csv(\"mercari-price-suggestion-challenge/train_small.csv\", sep=',' )"
   ]
  },
  {
   "cell_type": "code",
   "execution_count": 34,
   "metadata": {},
   "outputs": [
    {
     "data": {
      "text/plain": [
       "200"
      ]
     },
     "execution_count": 34,
     "metadata": {},
     "output_type": "execute_result"
    }
   ],
   "source": [
    "len(train_set_df.iloc[0:200, :]['name'].unique())"
   ]
  },
  {
   "cell_type": "code",
   "execution_count": 17,
   "metadata": {},
   "outputs": [
    {
     "data": {
      "text/plain": [
       "1288"
      ]
     },
     "execution_count": 17,
     "metadata": {},
     "output_type": "execute_result"
    }
   ],
   "source": [
    "len(train_set_df.category_name.unique())"
   ]
  },
  {
   "cell_type": "code",
   "execution_count": 127,
   "metadata": {
    "scrolled": true
   },
   "outputs": [
    {
     "data": {
      "text/plain": [
       "1288"
      ]
     },
     "execution_count": 127,
     "metadata": {},
     "output_type": "execute_result"
    }
   ],
   "source": [
    "len(train_set_df.category_name.unique())"
   ]
  },
  {
   "cell_type": "code",
   "execution_count": 149,
   "metadata": {},
   "outputs": [
    {
     "name": "stdout",
     "output_type": "stream",
     "text": [
      "1225273\n",
      "1482535\n",
      "1288\n"
     ]
    }
   ],
   "source": [
    "print(len(train_set_df.name.unique()))\n",
    "print(len(train_set_df))\n",
    "print(len(train_set_df.category_name.unique()))"
   ]
  },
  {
   "cell_type": "code",
   "execution_count": 141,
   "metadata": {},
   "outputs": [
    {
     "name": "stdout",
     "output_type": "stream",
     "text": [
      "11\n",
      "   train_id                                 name  item_condition_id  \\\n",
      "0         0  MLB Cincinnati Reds T Shirt Size XL                  3   \n",
      "1         1     Razer BlackWidow Chroma Keyboard                  3   \n",
      "2         2                       AVA-VIV Blouse                  1   \n",
      "3         3                Leather Horse Statues                  1   \n",
      "4         4                 24K GOLD plated rose                  1   \n",
      "\n",
      "                                       category_name brand_name  price  \\\n",
      "0                                  Men/Tops/T-shirts        NaN   10.0   \n",
      "1  Electronics/Computers & Tablets/Components & P...      Razer   52.0   \n",
      "2                        Women/Tops & Blouses/Blouse     Target   10.0   \n",
      "3                 Home/Home Décor/Home Décor Accents        NaN   35.0   \n",
      "4                            Women/Jewelry/Necklaces        NaN   44.0   \n",
      "\n",
      "   shipping                                   item_description  general_cat  \\\n",
      "0         1                                 No description yet          Men   \n",
      "1         0  This keyboard is in great condition and works ...  Electronics   \n",
      "2         1  Adorable top with a hint of lace and a key hol...        Women   \n",
      "3         1  New with tags. Leather horses. Retail for [rm]...         Home   \n",
      "4         0          Complete with certificate of authenticity        Women   \n",
      "\n",
      "              subcat_1            subcat_2  \n",
      "0                 Tops            T-shirts  \n",
      "1  Computers & Tablets  Components & Parts  \n",
      "2       Tops & Blouses              Blouse  \n",
      "3           Home Décor  Home Décor Accents  \n",
      "4              Jewelry           Necklaces  \n"
     ]
    }
   ],
   "source": [
    "def split_cat(text):\n",
    "    try:\n",
    "        return text.split(\"/\")\n",
    "    except:\n",
    "        return (\"No Label\", \"No Label\", \"No Label\")\n",
    "\n",
    "train_set_df['general_cat'], train_set_df['subcat_1'], train_set_df['subcat_2'] = \\\n",
    "    zip(*train_set_df['category_name'].apply(lambda x: split_cat(x)))\n",
    "print(len(train_set_df['general_cat'].unique()))\n",
    "\n",
    "print( train_set_df.head() )"
   ]
  },
  {
   "cell_type": "code",
   "execution_count": 151,
   "metadata": {},
   "outputs": [
    {
     "name": "stdout",
     "output_type": "stream",
     "text": [
      "[[0. 0. 0. 0. 0. 1. 0. 0. 0. 0. 0.]\n",
      " [0. 1. 0. 0. 0. 0. 0. 0. 0. 0. 0.]\n",
      " [0. 0. 0. 0. 0. 0. 0. 0. 0. 0. 1.]\n",
      " [0. 0. 0. 1. 0. 0. 0. 0. 0. 0. 0.]\n",
      " [0. 0. 0. 0. 0. 0. 0. 0. 0. 0. 1.]]\n",
      "(5, 11)\n"
     ]
    }
   ],
   "source": [
    "from sklearn.preprocessing import OneHotEncoder\n",
    "sub_df = train_set_df[['general_cat']]\n",
    "sub_df.head()\n",
    "enc  = OneHotEncoder().fit(sub_df)\n",
    "one_hot_df = enc.transform(sub_df)\n",
    "print(one_hot_df.A[:5,:])\n",
    "print(one_hot_df.A[:5,:].shape)"
   ]
  },
  {
   "cell_type": "code",
   "execution_count": 144,
   "metadata": {
    "scrolled": true
   },
   "outputs": [
    {
     "name": "stdout",
     "output_type": "stream",
     "text": [
      "   general_cat  shipping\n",
      "0          Men         1\n",
      "1  Electronics         0\n",
      "2        Women         1\n",
      "3         Home         1\n",
      "4        Women         0\n"
     ]
    }
   ],
   "source": [
    "print(sub_df.head())"
   ]
  },
  {
   "cell_type": "code",
   "execution_count": 146,
   "metadata": {},
   "outputs": [
    {
     "data": {
      "text/plain": [
       "array(['x0_Beauty', 'x0_Electronics', 'x0_Handmade', 'x0_Home', 'x0_Kids',\n",
       "       'x0_Men', 'x0_No Label', 'x0_Other', 'x0_Sports & Outdoors',\n",
       "       'x0_Vintage & Collectibles', 'x0_Women'], dtype=object)"
      ]
     },
     "execution_count": 146,
     "metadata": {},
     "output_type": "execute_result"
    }
   ],
   "source": [
    "enc.get_feature_names()"
   ]
  },
  {
   "cell_type": "code",
   "execution_count": 165,
   "metadata": {},
   "outputs": [
    {
     "name": "stderr",
     "output_type": "stream",
     "text": [
      "[nltk_data] Downloading package punkt to\n",
      "[nltk_data]     C:\\Users\\Matan\\AppData\\Roaming\\nltk_data...\n",
      "[nltk_data]   Package punkt is already up-to-date!\n"
     ]
    },
    {
     "ename": "ValueError",
     "evalue": "np.nan is an invalid document, expected byte or unicode string.",
     "output_type": "error",
     "traceback": [
      "\u001b[1;31m---------------------------------------------------------------------------\u001b[0m",
      "\u001b[1;31mValueError\u001b[0m                                Traceback (most recent call last)",
      "\u001b[1;32m<ipython-input-165-0f8799cdfaa2>\u001b[0m in \u001b[0;36m<module>\u001b[1;34m\u001b[0m\n\u001b[0;32m     32\u001b[0m                              ngram_range=(1, 2))\n\u001b[0;32m     33\u001b[0m \u001b[0mall_desc\u001b[0m \u001b[1;33m=\u001b[0m \u001b[0mtrain_set_df\u001b[0m\u001b[1;33m[\u001b[0m\u001b[1;34m'item_description'\u001b[0m\u001b[1;33m]\u001b[0m\u001b[1;33m.\u001b[0m\u001b[0mvalues\u001b[0m\u001b[1;33m\u001b[0m\u001b[1;33m\u001b[0m\u001b[0m\n\u001b[1;32m---> 34\u001b[1;33m \u001b[0mvz\u001b[0m \u001b[1;33m=\u001b[0m \u001b[0mvectorizer\u001b[0m\u001b[1;33m.\u001b[0m\u001b[0mfit_transform\u001b[0m\u001b[1;33m(\u001b[0m\u001b[0mlist\u001b[0m\u001b[1;33m(\u001b[0m\u001b[0mall_desc\u001b[0m\u001b[1;33m)\u001b[0m\u001b[1;33m)\u001b[0m\u001b[1;33m\u001b[0m\u001b[1;33m\u001b[0m\u001b[0m\n\u001b[0m\u001b[0;32m     35\u001b[0m \u001b[0mtfidf\u001b[0m \u001b[1;33m=\u001b[0m \u001b[0mdict\u001b[0m\u001b[1;33m(\u001b[0m\u001b[0mzip\u001b[0m\u001b[1;33m(\u001b[0m\u001b[0mvectorizer\u001b[0m\u001b[1;33m.\u001b[0m\u001b[0mget_feature_names\u001b[0m\u001b[1;33m(\u001b[0m\u001b[1;33m)\u001b[0m\u001b[1;33m,\u001b[0m \u001b[0mvectorizer\u001b[0m\u001b[1;33m.\u001b[0m\u001b[0midf_\u001b[0m\u001b[1;33m)\u001b[0m\u001b[1;33m)\u001b[0m\u001b[1;33m\u001b[0m\u001b[1;33m\u001b[0m\u001b[0m\n\u001b[0;32m     36\u001b[0m tfidf = pd.DataFrame(columns=['tfidf']).from_dict(\n",
      "\u001b[1;32m~\\anaconda3\\lib\\site-packages\\sklearn\\feature_extraction\\text.py\u001b[0m in \u001b[0;36mfit_transform\u001b[1;34m(self, raw_documents, y)\u001b[0m\n\u001b[0;32m   1857\u001b[0m         \"\"\"\n\u001b[0;32m   1858\u001b[0m         \u001b[0mself\u001b[0m\u001b[1;33m.\u001b[0m\u001b[0m_check_params\u001b[0m\u001b[1;33m(\u001b[0m\u001b[1;33m)\u001b[0m\u001b[1;33m\u001b[0m\u001b[1;33m\u001b[0m\u001b[0m\n\u001b[1;32m-> 1859\u001b[1;33m         \u001b[0mX\u001b[0m \u001b[1;33m=\u001b[0m \u001b[0msuper\u001b[0m\u001b[1;33m(\u001b[0m\u001b[1;33m)\u001b[0m\u001b[1;33m.\u001b[0m\u001b[0mfit_transform\u001b[0m\u001b[1;33m(\u001b[0m\u001b[0mraw_documents\u001b[0m\u001b[1;33m)\u001b[0m\u001b[1;33m\u001b[0m\u001b[1;33m\u001b[0m\u001b[0m\n\u001b[0m\u001b[0;32m   1860\u001b[0m         \u001b[0mself\u001b[0m\u001b[1;33m.\u001b[0m\u001b[0m_tfidf\u001b[0m\u001b[1;33m.\u001b[0m\u001b[0mfit\u001b[0m\u001b[1;33m(\u001b[0m\u001b[0mX\u001b[0m\u001b[1;33m)\u001b[0m\u001b[1;33m\u001b[0m\u001b[1;33m\u001b[0m\u001b[0m\n\u001b[0;32m   1861\u001b[0m         \u001b[1;31m# X is already a transformed view of raw_documents so\u001b[0m\u001b[1;33m\u001b[0m\u001b[1;33m\u001b[0m\u001b[1;33m\u001b[0m\u001b[0m\n",
      "\u001b[1;32m~\\anaconda3\\lib\\site-packages\\sklearn\\feature_extraction\\text.py\u001b[0m in \u001b[0;36mfit_transform\u001b[1;34m(self, raw_documents, y)\u001b[0m\n\u001b[0;32m   1218\u001b[0m \u001b[1;33m\u001b[0m\u001b[0m\n\u001b[0;32m   1219\u001b[0m         vocabulary, X = self._count_vocab(raw_documents,\n\u001b[1;32m-> 1220\u001b[1;33m                                           self.fixed_vocabulary_)\n\u001b[0m\u001b[0;32m   1221\u001b[0m \u001b[1;33m\u001b[0m\u001b[0m\n\u001b[0;32m   1222\u001b[0m         \u001b[1;32mif\u001b[0m \u001b[0mself\u001b[0m\u001b[1;33m.\u001b[0m\u001b[0mbinary\u001b[0m\u001b[1;33m:\u001b[0m\u001b[1;33m\u001b[0m\u001b[1;33m\u001b[0m\u001b[0m\n",
      "\u001b[1;32m~\\anaconda3\\lib\\site-packages\\sklearn\\feature_extraction\\text.py\u001b[0m in \u001b[0;36m_count_vocab\u001b[1;34m(self, raw_documents, fixed_vocab)\u001b[0m\n\u001b[0;32m   1129\u001b[0m         \u001b[1;32mfor\u001b[0m \u001b[0mdoc\u001b[0m \u001b[1;32min\u001b[0m \u001b[0mraw_documents\u001b[0m\u001b[1;33m:\u001b[0m\u001b[1;33m\u001b[0m\u001b[1;33m\u001b[0m\u001b[0m\n\u001b[0;32m   1130\u001b[0m             \u001b[0mfeature_counter\u001b[0m \u001b[1;33m=\u001b[0m \u001b[1;33m{\u001b[0m\u001b[1;33m}\u001b[0m\u001b[1;33m\u001b[0m\u001b[1;33m\u001b[0m\u001b[0m\n\u001b[1;32m-> 1131\u001b[1;33m             \u001b[1;32mfor\u001b[0m \u001b[0mfeature\u001b[0m \u001b[1;32min\u001b[0m \u001b[0manalyze\u001b[0m\u001b[1;33m(\u001b[0m\u001b[0mdoc\u001b[0m\u001b[1;33m)\u001b[0m\u001b[1;33m:\u001b[0m\u001b[1;33m\u001b[0m\u001b[1;33m\u001b[0m\u001b[0m\n\u001b[0m\u001b[0;32m   1132\u001b[0m                 \u001b[1;32mtry\u001b[0m\u001b[1;33m:\u001b[0m\u001b[1;33m\u001b[0m\u001b[1;33m\u001b[0m\u001b[0m\n\u001b[0;32m   1133\u001b[0m                     \u001b[0mfeature_idx\u001b[0m \u001b[1;33m=\u001b[0m \u001b[0mvocabulary\u001b[0m\u001b[1;33m[\u001b[0m\u001b[0mfeature\u001b[0m\u001b[1;33m]\u001b[0m\u001b[1;33m\u001b[0m\u001b[1;33m\u001b[0m\u001b[0m\n",
      "\u001b[1;32m~\\anaconda3\\lib\\site-packages\\sklearn\\feature_extraction\\text.py\u001b[0m in \u001b[0;36m_analyze\u001b[1;34m(doc, analyzer, tokenizer, ngrams, preprocessor, decoder, stop_words)\u001b[0m\n\u001b[0;32m     96\u001b[0m \u001b[1;33m\u001b[0m\u001b[0m\n\u001b[0;32m     97\u001b[0m     \u001b[1;32mif\u001b[0m \u001b[0mdecoder\u001b[0m \u001b[1;32mis\u001b[0m \u001b[1;32mnot\u001b[0m \u001b[1;32mNone\u001b[0m\u001b[1;33m:\u001b[0m\u001b[1;33m\u001b[0m\u001b[1;33m\u001b[0m\u001b[0m\n\u001b[1;32m---> 98\u001b[1;33m         \u001b[0mdoc\u001b[0m \u001b[1;33m=\u001b[0m \u001b[0mdecoder\u001b[0m\u001b[1;33m(\u001b[0m\u001b[0mdoc\u001b[0m\u001b[1;33m)\u001b[0m\u001b[1;33m\u001b[0m\u001b[1;33m\u001b[0m\u001b[0m\n\u001b[0m\u001b[0;32m     99\u001b[0m     \u001b[1;32mif\u001b[0m \u001b[0manalyzer\u001b[0m \u001b[1;32mis\u001b[0m \u001b[1;32mnot\u001b[0m \u001b[1;32mNone\u001b[0m\u001b[1;33m:\u001b[0m\u001b[1;33m\u001b[0m\u001b[1;33m\u001b[0m\u001b[0m\n\u001b[0;32m    100\u001b[0m         \u001b[0mdoc\u001b[0m \u001b[1;33m=\u001b[0m \u001b[0manalyzer\u001b[0m\u001b[1;33m(\u001b[0m\u001b[0mdoc\u001b[0m\u001b[1;33m)\u001b[0m\u001b[1;33m\u001b[0m\u001b[1;33m\u001b[0m\u001b[0m\n",
      "\u001b[1;32m~\\anaconda3\\lib\\site-packages\\sklearn\\feature_extraction\\text.py\u001b[0m in \u001b[0;36mdecode\u001b[1;34m(self, doc)\u001b[0m\n\u001b[0;32m    216\u001b[0m \u001b[1;33m\u001b[0m\u001b[0m\n\u001b[0;32m    217\u001b[0m         \u001b[1;32mif\u001b[0m \u001b[0mdoc\u001b[0m \u001b[1;32mis\u001b[0m \u001b[0mnp\u001b[0m\u001b[1;33m.\u001b[0m\u001b[0mnan\u001b[0m\u001b[1;33m:\u001b[0m\u001b[1;33m\u001b[0m\u001b[1;33m\u001b[0m\u001b[0m\n\u001b[1;32m--> 218\u001b[1;33m             raise ValueError(\"np.nan is an invalid document, expected byte or \"\n\u001b[0m\u001b[0;32m    219\u001b[0m                              \"unicode string.\")\n\u001b[0;32m    220\u001b[0m \u001b[1;33m\u001b[0m\u001b[0m\n",
      "\u001b[1;31mValueError\u001b[0m: np.nan is an invalid document, expected byte or unicode string."
     ]
    }
   ],
   "source": [
    "from sklearn.feature_extraction.text import TfidfVectorizer\n",
    "from sklearn.feature_extraction import stop_words\n",
    "import re, string\n",
    "import nltk\n",
    "nltk.download('punkt')\n",
    "from nltk.tokenize import sent_tokenize, word_tokenize\n",
    "\n",
    "def tokenize(text):\n",
    "    \"\"\"\n",
    "    sent_tokenize(): segment text into sentences\n",
    "    word_tokenize(): break sentences into words\n",
    "    \"\"\"\n",
    "    try: \n",
    "        regex = re.compile('[' +re.escape(string.punctuation) + '0-9\\\\r\\\\t\\\\n]')\n",
    "        text = regex.sub(\" \", text) # remove punctuation\n",
    "        \n",
    "        tokens_ = [word_tokenize(s) for s in sent_tokenize(text)]\n",
    "        tokens = []\n",
    "        for token_by_sent in tokens_:\n",
    "            tokens += token_by_sent\n",
    "        tokens = list(filter(lambda t: t.lower() not in stop, tokens))\n",
    "        filtered_tokens = [w for w in tokens if re.search('[a-zA-Z]', w)]\n",
    "        filtered_tokens = [w.lower() for w in filtered_tokens if len(w)>=3]\n",
    "        \n",
    "        return filtered_tokens\n",
    "            \n",
    "    except TypeError as e: print(text,e)\n",
    "stop = set(stop_words.ENGLISH_STOP_WORDS)\n",
    "vectorizer = TfidfVectorizer(min_df=10,\n",
    "                             max_features=180000,\n",
    "                             tokenizer=tokenize,\n",
    "                             ngram_range=(1, 2))\n",
    "all_desc = train_set_df['item_description'].values\n",
    "vz = vectorizer.fit_transform(list(all_desc))\n",
    "tfidf = dict(zip(vectorizer.get_feature_names(), vectorizer.idf_))\n",
    "tfidf = pd.DataFrame(columns=['tfidf']).from_dict(\n",
    "                    dict(tfidf), orient='index')\n",
    "tfidf.columns = ['tfidf']\n",
    "tfidf.sort_values(by=['tfidf'], ascending=True).head(10)\n"
   ]
  },
  {
   "cell_type": "code",
   "execution_count": 166,
   "metadata": {},
   "outputs": [
    {
     "name": "stdout",
     "output_type": "stream",
     "text": [
      "318\n"
     ]
    }
   ],
   "source": [
    "print(len(stop_words.ENGLISH_STOP_WORDS))"
   ]
  },
  {
   "cell_type": "code",
   "execution_count": null,
   "metadata": {},
   "outputs": [],
   "source": [
    "vectorizer = CountVectorizer(vocabulary = kws)\n",
    "X = vectorizer.fit_transform(corpus).toarray()"
   ]
  },
  {
   "cell_type": "code",
   "execution_count": 167,
   "metadata": {},
   "outputs": [],
   "source": [
    "lens= [ len(df) for n,df in train_set_df.groupby(\"name\")]\n",
    "    "
   ]
  },
  {
   "cell_type": "code",
   "execution_count": 170,
   "metadata": {
    "collapsed": true
   },
   "outputs": [
    {
     "data": {
      "text/plain": [
       "(array([0.00000000e+00, 9.32138756e-01, 3.99960168e-02, 1.16059542e-02,\n",
       "        5.12673173e-03, 2.84782153e-03, 1.78345945e-03, 1.21046699e-03,\n",
       "        8.85608013e-04, 6.70939895e-04, 5.41975779e-04, 3.89341034e-04,\n",
       "        3.33837491e-04, 2.65274290e-04, 2.26095318e-04, 1.96711089e-04,\n",
       "        1.53450974e-04, 1.54267202e-04, 1.25699202e-04, 1.22434287e-04,\n",
       "        9.14176013e-05, 8.65202298e-05, 8.24390869e-05, 7.50930297e-05,\n",
       "        5.22386293e-05, 5.87684580e-05, 4.81574864e-05, 5.38710865e-05,\n",
       "        3.75465148e-05, 4.08114292e-05, 3.67302862e-05, 3.34653719e-05,\n",
       "        3.26491433e-05, 2.69355432e-05, 2.69355432e-05, 2.44868575e-05,\n",
       "        2.28544003e-05, 2.28544003e-05, 1.79570288e-05, 1.55083431e-05,\n",
       "        1.87732574e-05, 1.63245717e-05, 1.63245717e-05, 1.55083431e-05,\n",
       "        9.79474300e-06, 1.22434287e-05, 1.06109716e-05, 8.16228583e-06,\n",
       "        9.79474300e-06, 5.71360008e-06, 8.16228583e-06, 1.30596573e-05,\n",
       "        4.89737150e-06, 4.08114292e-06, 8.16228583e-06, 6.52982867e-06,\n",
       "        6.52982867e-06, 1.06109716e-05, 7.34605725e-06, 4.89737150e-06,\n",
       "        7.34605725e-06, 1.06109716e-05, 2.44868575e-06, 4.89737150e-06,\n",
       "        8.16228583e-06, 5.71360008e-06, 8.16228583e-06, 4.89737150e-06,\n",
       "        4.08114292e-06, 1.63245717e-06, 4.08114292e-06, 3.26491433e-06,\n",
       "        2.44868575e-06, 2.44868575e-06, 4.08114292e-06, 3.26491433e-06,\n",
       "        9.79474300e-06, 2.44868575e-06, 2.44868575e-06, 3.26491433e-06,\n",
       "        3.26491433e-06, 4.89737150e-06, 3.26491433e-06, 4.08114292e-06,\n",
       "        2.44868575e-06, 8.16228583e-07, 5.71360008e-06, 2.44868575e-06,\n",
       "        1.63245717e-06, 2.44868575e-06, 8.16228583e-07, 3.26491433e-06,\n",
       "        1.63245717e-06, 0.00000000e+00, 8.16228583e-07, 1.63245717e-06,\n",
       "        8.16228583e-07, 1.63245717e-06, 3.26491433e-06]),\n",
       " array([ 0,  1,  2,  3,  4,  5,  6,  7,  8,  9, 10, 11, 12, 13, 14, 15, 16,\n",
       "        17, 18, 19, 20, 21, 22, 23, 24, 25, 26, 27, 28, 29, 30, 31, 32, 33,\n",
       "        34, 35, 36, 37, 38, 39, 40, 41, 42, 43, 44, 45, 46, 47, 48, 49, 50,\n",
       "        51, 52, 53, 54, 55, 56, 57, 58, 59, 60, 61, 62, 63, 64, 65, 66, 67,\n",
       "        68, 69, 70, 71, 72, 73, 74, 75, 76, 77, 78, 79, 80, 81, 82, 83, 84,\n",
       "        85, 86, 87, 88, 89, 90, 91, 92, 93, 94, 95, 96, 97, 98, 99]),\n",
       " <a list of 99 Patch objects>)"
      ]
     },
     "execution_count": 170,
     "metadata": {},
     "output_type": "execute_result"
    },
    {
     "data": {
      "image/png": "[encoded data removed]",
      "text/plain": [
       "<Figure size 432x288 with 1 Axes>"
      ]
     },
     "metadata": {
      "needs_background": "light"
     },
     "output_type": "display_data"
    }
   ],
   "source": [
    "plt.hist(lens, bins = np.arange(0,100), density=True)"
   ]
  },
  {
   "cell_type": "code",
   "execution_count": 175,
   "metadata": {},
   "outputs": [],
   "source": [
    "stds= [ df['price'].std() for n,df in train_set_df.groupby(\"category_name\")] \n"
   ]
  },
  {
   "cell_type": "code",
   "execution_count": 176,
   "metadata": {},
   "outputs": [
    {
     "data": {
      "text/plain": [
       "(array([0.00847458, 0.00423729, 0.01271186, 0.02118644, 0.03050847,\n",
       "        0.02288136, 0.03559322, 0.03813559, 0.04661017, 0.03898305,\n",
       "        0.04067797, 0.04915254, 0.0559322 , 0.04067797, 0.04067797,\n",
       "        0.03050847, 0.03898305, 0.02711864, 0.02457627, 0.01440678,\n",
       "        0.03050847, 0.03050847, 0.02033898, 0.01440678, 0.02288136,\n",
       "        0.02033898, 0.00932203, 0.01355932, 0.01440678, 0.01525424,\n",
       "        0.01101695, 0.01101695, 0.00677966, 0.00932203, 0.01016949,\n",
       "        0.00677966, 0.00847458, 0.00423729, 0.00762712, 0.00677966,\n",
       "        0.0059322 , 0.00677966, 0.00762712, 0.00762712, 0.00254237,\n",
       "        0.00338983, 0.00254237, 0.00338983, 0.00254237, 0.00254237,\n",
       "        0.00254237, 0.00254237, 0.00169492, 0.00423729, 0.00254237,\n",
       "        0.00338983, 0.00254237, 0.00169492, 0.00254237, 0.00084746,\n",
       "        0.00084746, 0.00084746, 0.00254237, 0.00084746, 0.00084746,\n",
       "        0.        , 0.        , 0.00169492, 0.00423729, 0.        ,\n",
       "        0.00169492, 0.        , 0.        , 0.00169492, 0.        ,\n",
       "        0.00084746, 0.00169492, 0.        , 0.        , 0.00169492,\n",
       "        0.        , 0.00254237, 0.00084746, 0.00169492, 0.00169492,\n",
       "        0.00254237, 0.        , 0.00084746, 0.00169492, 0.        ,\n",
       "        0.00169492, 0.        , 0.        , 0.        , 0.00084746,\n",
       "        0.        , 0.00084746, 0.        , 0.        ]),\n",
       " array([ 0,  1,  2,  3,  4,  5,  6,  7,  8,  9, 10, 11, 12, 13, 14, 15, 16,\n",
       "        17, 18, 19, 20, 21, 22, 23, 24, 25, 26, 27, 28, 29, 30, 31, 32, 33,\n",
       "        34, 35, 36, 37, 38, 39, 40, 41, 42, 43, 44, 45, 46, 47, 48, 49, 50,\n",
       "        51, 52, 53, 54, 55, 56, 57, 58, 59, 60, 61, 62, 63, 64, 65, 66, 67,\n",
       "        68, 69, 70, 71, 72, 73, 74, 75, 76, 77, 78, 79, 80, 81, 82, 83, 84,\n",
       "        85, 86, 87, 88, 89, 90, 91, 92, 93, 94, 95, 96, 97, 98, 99]),\n",
       " <a list of 99 Patch objects>)"
      ]
     },
     "execution_count": 176,
     "metadata": {},
     "output_type": "execute_result"
    },
    {
     "data": {
      "image/png": "[encoded data removed]",
      "text/plain": [
       "<Figure size 432x288 with 1 Axes>"
      ]
     },
     "metadata": {
      "needs_background": "light"
     },
     "output_type": "display_data"
    }
   ],
   "source": [
    "plt.hist(stds, bins = np.arange(0,100), density=True)"
   ]
  },
  {
   "cell_type": "code",
   "execution_count": 180,
   "metadata": {},
   "outputs": [
    {
     "data": {
      "text/plain": [
       "1287"
      ]
     },
     "execution_count": 180,
     "metadata": {},
     "output_type": "execute_result"
    }
   ],
   "source": [
    "len(stds)"
   ]
  },
  {
   "cell_type": "code",
   "execution_count": 181,
   "metadata": {},
   "outputs": [],
   "source": [
    "stds_cat_and_ship = [ df['price'].std() for n,df in train_set_df.groupby([\"category_name\", 'shipping'])] \n"
   ]
  },
  {
   "cell_type": "code",
   "execution_count": 182,
   "metadata": {},
   "outputs": [
    {
     "data": {
      "text/plain": [
       "2436"
      ]
     },
     "execution_count": 182,
     "metadata": {},
     "output_type": "execute_result"
    }
   ],
   "source": [
    "len(stds_cat_and_ship)"
   ]
  },
  {
   "cell_type": "code",
   "execution_count": 183,
   "metadata": {},
   "outputs": [
    {
     "data": {
      "text/plain": [
       "(array([0.00959342, 0.01096391, 0.02238465, 0.02740978, 0.03426222,\n",
       "        0.03426222, 0.03563271, 0.04568296, 0.03837369, 0.04339881,\n",
       "        0.04202832, 0.04202832, 0.04751028, 0.04157149, 0.03746003,\n",
       "        0.0370032 , 0.02603929, 0.01964367, 0.03015075, 0.02969392,\n",
       "        0.02055733, 0.01873001, 0.02329831, 0.01553221, 0.01964367,\n",
       "        0.01507538, 0.0169027 , 0.01279123, 0.00730927, 0.01370489,\n",
       "        0.01142074, 0.00959342, 0.00639561, 0.00822293, 0.00730927,\n",
       "        0.00730927, 0.00593878, 0.00593878, 0.00822293, 0.00502513,\n",
       "        0.00685244, 0.00319781, 0.00548196, 0.00502513, 0.0045683 ,\n",
       "        0.00548196, 0.00502513, 0.00365464, 0.00365464, 0.00091366,\n",
       "        0.00365464, 0.00137049, 0.00091366, 0.00411147, 0.00365464,\n",
       "        0.00274098, 0.00365464, 0.00137049, 0.00182732, 0.00137049,\n",
       "        0.00319781, 0.00228415, 0.00228415, 0.00045683, 0.00091366,\n",
       "        0.00091366, 0.00137049, 0.00319781, 0.00045683, 0.00274098,\n",
       "        0.        , 0.00091366, 0.00045683, 0.00091366, 0.        ,\n",
       "        0.00091366, 0.00045683, 0.00137049, 0.00045683, 0.00137049,\n",
       "        0.00045683, 0.00091366, 0.00091366, 0.00137049, 0.00228415,\n",
       "        0.00091366, 0.00045683, 0.00137049, 0.00045683, 0.        ,\n",
       "        0.00045683, 0.        , 0.00045683, 0.00091366, 0.00091366,\n",
       "        0.00045683, 0.00045683, 0.        , 0.        ]),\n",
       " array([ 0,  1,  2,  3,  4,  5,  6,  7,  8,  9, 10, 11, 12, 13, 14, 15, 16,\n",
       "        17, 18, 19, 20, 21, 22, 23, 24, 25, 26, 27, 28, 29, 30, 31, 32, 33,\n",
       "        34, 35, 36, 37, 38, 39, 40, 41, 42, 43, 44, 45, 46, 47, 48, 49, 50,\n",
       "        51, 52, 53, 54, 55, 56, 57, 58, 59, 60, 61, 62, 63, 64, 65, 66, 67,\n",
       "        68, 69, 70, 71, 72, 73, 74, 75, 76, 77, 78, 79, 80, 81, 82, 83, 84,\n",
       "        85, 86, 87, 88, 89, 90, 91, 92, 93, 94, 95, 96, 97, 98, 99]),\n",
       " <a list of 99 Patch objects>)"
      ]
     },
     "execution_count": 183,
     "metadata": {},
     "output_type": "execute_result"
    },
    {
     "data": {
      "image/png": "[encoded data removed]",
      "text/plain": [
       "<Figure size 432x288 with 1 Axes>"
      ]
     },
     "metadata": {
      "needs_background": "light"
     },
     "output_type": "display_data"
    }
   ],
   "source": [
    "plt.hist(stds_cat_and_ship, bins = np.arange(0,100), density=True)"
   ]
  },
  {
   "cell_type": "code",
   "execution_count": 186,
   "metadata": {},
   "outputs": [
    {
     "name": "stdout",
     "output_type": "stream",
     "text": [
      "('Beauty/Bath & Body/Bath', 0)\n",
      "('Beauty/Bath & Body/Bath', 1)\n",
      "('Beauty/Bath & Body/Bathing Accessories', 0)\n",
      "('Beauty/Bath & Body/Bathing Accessories', 1)\n",
      "('Beauty/Bath & Body/Cleansers', 0)\n",
      "('Beauty/Bath & Body/Cleansers', 1)\n",
      "('Beauty/Bath & Body/Other', 0)\n",
      "('Beauty/Bath & Body/Other', 1)\n",
      "('Beauty/Bath & Body/Scrubs & Body Treatments', 0)\n",
      "('Beauty/Bath & Body/Scrubs & Body Treatments', 1)\n",
      "('Beauty/Bath & Body/Sets', 0)\n",
      "('Beauty/Bath & Body/Sets', 1)\n",
      "('Beauty/Fragrance/Candles & Home Scents', 0)\n",
      "('Beauty/Fragrance/Candles & Home Scents', 1)\n",
      "('Beauty/Fragrance/Kids', 0)\n",
      "('Beauty/Fragrance/Kids', 1)\n",
      "('Beauty/Fragrance/Men', 0)\n",
      "('Beauty/Fragrance/Men', 1)\n",
      "('Beauty/Fragrance/Other', 0)\n",
      "('Beauty/Fragrance/Other', 1)\n",
      "('Beauty/Fragrance/Sets', 0)\n",
      "('Beauty/Fragrance/Sets', 1)\n",
      "('Beauty/Fragrance/Women', 0)\n",
      "('Beauty/Fragrance/Women', 1)\n",
      "('Beauty/Hair Care/Conditioners', 0)\n",
      "('Beauty/Hair Care/Conditioners', 1)\n",
      "('Beauty/Hair Care/Hair & Scalp Treatments', 0)\n",
      "('Beauty/Hair Care/Hair & Scalp Treatments', 1)\n",
      "('Beauty/Hair Care/Hair Color', 0)\n",
      "('Beauty/Hair Care/Hair Color', 1)\n",
      "('Beauty/Hair Care/Hair Loss Products', 0)\n",
      "('Beauty/Hair Care/Hair Loss Products', 1)\n",
      "('Beauty/Hair Care/Hair Perms & Texturizers', 0)\n",
      "('Beauty/Hair Care/Hair Relaxers', 0)\n",
      "('Beauty/Hair Care/Hair Relaxers', 1)\n",
      "('Beauty/Hair Care/Other', 0)\n",
      "('Beauty/Hair Care/Other', 1)\n",
      "('Beauty/Hair Care/Shampoo & Conditioner Sets', 0)\n",
      "('Beauty/Hair Care/Shampoo & Conditioner Sets', 1)\n",
      "('Beauty/Hair Care/Shampoo Plus Conditioner', 0)\n",
      "('Beauty/Hair Care/Shampoo Plus Conditioner', 1)\n",
      "('Beauty/Hair Care/Shampoos', 0)\n",
      "('Beauty/Hair Care/Shampoos', 1)\n",
      "('Beauty/Hair Care/Styling Products', 0)\n",
      "('Beauty/Hair Care/Styling Products', 1)\n",
      "('Beauty/Hair Care/Styling Tools', 0)\n",
      "('Beauty/Hair Care/Styling Tools', 1)\n",
      "('Beauty/Makeup/Body', 0)\n",
      "('Beauty/Makeup/Body', 1)\n",
      "('Beauty/Makeup/Brushes & Applicators', 0)\n",
      "('Beauty/Makeup/Brushes & Applicators', 1)\n",
      "('Beauty/Makeup/Eyes', 0)\n",
      "('Beauty/Makeup/Eyes', 1)\n",
      "('Beauty/Makeup/Face', 0)\n",
      "('Beauty/Makeup/Face', 1)\n",
      "('Beauty/Makeup/Lips', 0)\n",
      "('Beauty/Makeup/Lips', 1)\n",
      "('Beauty/Makeup/Makeup Palettes', 0)\n",
      "('Beauty/Makeup/Makeup Palettes', 1)\n",
      "('Beauty/Makeup/Makeup Remover', 0)\n",
      "('Beauty/Makeup/Makeup Remover', 1)\n",
      "('Beauty/Makeup/Makeup Sets', 0)\n",
      "('Beauty/Makeup/Makeup Sets', 1)\n",
      "('Beauty/Makeup/Nails', 0)\n",
      "('Beauty/Makeup/Nails', 1)\n",
      "('Beauty/Makeup/Other', 0)\n",
      "('Beauty/Makeup/Other', 1)\n",
      "('Beauty/Other/Other', 0)\n",
      "('Beauty/Other/Other', 1)\n",
      "('Beauty/Skin Care/Body', 0)\n",
      "('Beauty/Skin Care/Body', 1)\n",
      "('Beauty/Skin Care/Eyes', 0)\n",
      "('Beauty/Skin Care/Eyes', 1)\n",
      "('Beauty/Skin Care/Face', 0)\n",
      "('Beauty/Skin Care/Face', 1)\n",
      "('Beauty/Skin Care/Feet', 0)\n",
      "('Beauty/Skin Care/Feet', 1)\n",
      "('Beauty/Skin Care/Hands & Nails', 0)\n",
      "('Beauty/Skin Care/Hands & Nails', 1)\n",
      "('Beauty/Skin Care/Lips', 0)\n",
      "('Beauty/Skin Care/Lips', 1)\n",
      "('Beauty/Skin Care/Maternity', 0)\n",
      "('Beauty/Skin Care/Maternity', 1)\n",
      "('Beauty/Skin Care/Other', 0)\n",
      "('Beauty/Skin Care/Other', 1)\n",
      "('Beauty/Skin Care/Sets & Kits', 0)\n",
      "('Beauty/Skin Care/Sets & Kits', 1)\n",
      "('Beauty/Skin Care/Sun', 0)\n",
      "('Beauty/Skin Care/Sun', 1)\n",
      "('Beauty/Tools & Accessories/Bags & Cases', 0)\n",
      "('Beauty/Tools & Accessories/Bags & Cases', 1)\n",
      "('Beauty/Tools & Accessories/Bathing Accessories', 0)\n",
      "('Beauty/Tools & Accessories/Bathing Accessories', 1)\n",
      "('Beauty/Tools & Accessories/Cotton & Swabs', 0)\n",
      "('Beauty/Tools & Accessories/Cotton & Swabs', 1)\n",
      "('Beauty/Tools & Accessories/Epilators', 0)\n",
      "('Beauty/Tools & Accessories/Epilators', 1)\n",
      "('Beauty/Tools & Accessories/Hair Coloring Tools', 0)\n",
      "('Beauty/Tools & Accessories/Hair Coloring Tools', 1)\n",
      "('Beauty/Tools & Accessories/Hair Styling Tools', 0)\n",
      "('Beauty/Tools & Accessories/Hair Styling Tools', 1)\n",
      "('Beauty/Tools & Accessories/Makeup Brushes & Tools', 0)\n",
      "('Beauty/Tools & Accessories/Makeup Brushes & Tools', 1)\n",
      "('Beauty/Tools & Accessories/Mirrors', 0)\n",
      "('Beauty/Tools & Accessories/Mirrors', 1)\n",
      "('Beauty/Tools & Accessories/Nail Tools', 0)\n",
      "('Beauty/Tools & Accessories/Nail Tools', 1)\n",
      "('Beauty/Tools & Accessories/Other', 0)\n",
      "('Beauty/Tools & Accessories/Other', 1)\n",
      "('Beauty/Tools & Accessories/Toiletry Kits', 0)\n",
      "('Beauty/Tools & Accessories/Toiletry Kits', 1)\n",
      "('Beauty/Tools & Accessories/Tweezers', 0)\n",
      "('Beauty/Tools & Accessories/Tweezers', 1)\n",
      "('Beauty/Tools & Accessories/Waxing', 0)\n",
      "('Beauty/Tools & Accessories/Waxing', 1)\n",
      "('Electronics/Cameras & Photography/Binoculars & Telescopes', 0)\n",
      "('Electronics/Cameras & Photography/Binoculars & Telescopes', 1)\n",
      "('Electronics/Cameras & Photography/Camcorders', 0)\n",
      "('Electronics/Cameras & Photography/Camcorders', 1)\n",
      "('Electronics/Cameras & Photography/Camera & Photo Accessories', 0)\n",
      "('Electronics/Cameras & Photography/Camera & Photo Accessories', 1)\n",
      "('Electronics/Cameras & Photography/Digital Cameras', 0)\n",
      "('Electronics/Cameras & Photography/Digital Cameras', 1)\n",
      "('Electronics/Cameras & Photography/Film Photography', 0)\n",
      "('Electronics/Cameras & Photography/Film Photography', 1)\n",
      "('Electronics/Cameras & Photography/Flashes & Flash Accessories', 0)\n",
      "('Electronics/Cameras & Photography/Flashes & Flash Accessories', 1)\n",
      "('Electronics/Cameras & Photography/Lenses & Filters', 0)\n",
      "('Electronics/Cameras & Photography/Lenses & Filters', 1)\n",
      "('Electronics/Cameras & Photography/Lighting & Studio', 0)\n",
      "('Electronics/Cameras & Photography/Lighting & Studio', 1)\n",
      "('Electronics/Cameras & Photography/Other', 0)\n",
      "('Electronics/Cameras & Photography/Other', 1)\n",
      "('Electronics/Cameras & Photography/Tripods & Supports', 0)\n",
      "('Electronics/Cameras & Photography/Tripods & Supports', 1)\n",
      "('Electronics/Car Audio, Video & GPS/Car Security & Convenience', 0)\n",
      "('Electronics/Car Audio, Video & GPS/Car Security & Convenience', 1)\n",
      "('Electronics/Car Audio, Video & GPS/Car Speakers & Systems', 0)\n",
      "('Electronics/Car Audio, Video & GPS/Car Speakers & Systems', 1)\n",
      "('Electronics/Car Audio, Video & GPS/Car Stereos & Components', 0)\n",
      "('Electronics/Car Audio, Video & GPS/Car Stereos & Components', 1)\n",
      "('Electronics/Car Audio, Video & GPS/Car Subwoofers', 0)\n",
      "('Electronics/Car Audio, Video & GPS/Car Subwoofers', 1)\n",
      "('Electronics/Car Audio, Video & GPS/Car Video', 0)\n",
      "('Electronics/Car Audio, Video & GPS/Car Video', 1)\n",
      "('Electronics/Car Audio, Video & GPS/GPS Accessories & Mounts', 0)\n",
      "('Electronics/Car Audio, Video & GPS/GPS Accessories & Mounts', 1)\n",
      "('Electronics/Car Audio, Video & GPS/GPS Units & Equipment', 0)\n",
      "('Electronics/Car Audio, Video & GPS/GPS Units & Equipment', 1)\n",
      "('Electronics/Car Audio, Video & GPS/Other', 0)\n",
      "('Electronics/Car Audio, Video & GPS/Other', 1)\n",
      "('Electronics/Car Audio, Video & GPS/Other Accessories', 0)\n",
      "('Electronics/Car Audio, Video & GPS/Other Accessories', 1)\n",
      "('Electronics/Cell Phones & Accessories/Batteries', 0)\n",
      "('Electronics/Cell Phones & Accessories/Batteries', 1)\n",
      "('Electronics/Cell Phones & Accessories/Cables & Adapters', 0)\n",
      "('Electronics/Cell Phones & Accessories/Cables & Adapters', 1)\n",
      "('Electronics/Cell Phones & Accessories/Cases, Covers & Skins', 0)\n",
      "('Electronics/Cell Phones & Accessories/Cases, Covers & Skins', 1)\n",
      "('Electronics/Cell Phones & Accessories/Cell Phone Accessories', 0)\n",
      "('Electronics/Cell Phones & Accessories/Cell Phone Accessories', 1)\n",
      "('Electronics/Cell Phones & Accessories/Cell Phones & Smartphones', 0)\n",
      "('Electronics/Cell Phones & Accessories/Cell Phones & Smartphones', 1)\n",
      "('Electronics/Cell Phones & Accessories/Chargers & Cradles', 0)\n",
      "('Electronics/Cell Phones & Accessories/Chargers & Cradles', 1)\n",
      "('Electronics/Cell Phones & Accessories/Headsets', 0)\n",
      "('Electronics/Cell Phones & Accessories/Headsets', 1)\n",
      "('Electronics/Cell Phones & Accessories/Other', 0)\n",
      "('Electronics/Cell Phones & Accessories/Other', 1)\n",
      "('Electronics/Cell Phones & Accessories/Screen Protectors', 0)\n",
      "('Electronics/Cell Phones & Accessories/Screen Protectors', 1)\n",
      "('Electronics/Computers & Tablets/Components & Parts', 0)\n",
      "('Electronics/Computers & Tablets/Components & Parts', 1)\n",
      "('Electronics/Computers & Tablets/Desktops & All-In-Ones', 0)\n",
      "('Electronics/Computers & Tablets/Desktops & All-In-Ones', 1)\n",
      "('Electronics/Computers & Tablets/Drives, Storage & Media', 0)\n",
      "('Electronics/Computers & Tablets/Drives, Storage & Media', 1)\n",
      "('Electronics/Computers & Tablets/Laptops & Netbooks', 0)\n",
      "('Electronics/Computers & Tablets/Laptops & Netbooks', 1)\n",
      "('Electronics/Computers & Tablets/Networking & Connectivity', 0)\n",
      "('Electronics/Computers & Tablets/Networking & Connectivity', 1)\n",
      "('Electronics/Computers & Tablets/Other', 0)\n",
      "('Electronics/Computers & Tablets/Other', 1)\n",
      "('Electronics/Computers & Tablets/Printers, Scanners & Supplies', 0)\n",
      "('Electronics/Computers & Tablets/Printers, Scanners & Supplies', 1)\n",
      "('Electronics/Computers & Tablets/iPad/Tablet/eBook Access', 0)\n",
      "('Electronics/Computers & Tablets/iPad/Tablet/eBook Access', 1)\n",
      "('Electronics/Computers & Tablets/iPad/Tablet/eBook Readers', 0)\n",
      "('Electronics/Computers & Tablets/iPad/Tablet/eBook Readers', 1)\n",
      "('Electronics/Media/Blu-Ray', 0)\n",
      "('Electronics/Media/Blu-Ray', 1)\n",
      "('Electronics/Media/CD', 0)\n",
      "('Electronics/Media/CD', 1)\n",
      "('Electronics/Media/DVD', 0)\n",
      "('Electronics/Media/DVD', 1)\n",
      "('Electronics/Media/Other', 0)\n",
      "('Electronics/Media/Other', 1)\n",
      "('Electronics/Media/VHS', 0)\n",
      "('Electronics/Media/VHS', 1)\n",
      "('Electronics/Other/Other', 0)\n",
      "('Electronics/Other/Other', 1)\n",
      "('Electronics/TV, Audio & Surveillance/DVD & Blu-ray Players', 0)\n",
      "('Electronics/TV, Audio & Surveillance/DVD & Blu-ray Players', 1)\n",
      "('Electronics/TV, Audio & Surveillance/Gadgets', 0)\n",
      "('Electronics/TV, Audio & Surveillance/Gadgets', 1)\n",
      "('Electronics/TV, Audio & Surveillance/Headphones', 0)\n",
      "('Electronics/TV, Audio & Surveillance/Headphones', 1)\n",
      "('Electronics/TV, Audio & Surveillance/Home Audio', 0)\n",
      "('Electronics/TV, Audio & Surveillance/Home Audio', 1)\n",
      "('Electronics/TV, Audio & Surveillance/Home Speakers & Subwoofers', 0)\n",
      "('Electronics/TV, Audio & Surveillance/Home Speakers & Subwoofers', 1)\n",
      "('Electronics/TV, Audio & Surveillance/Home Surveillance', 0)\n",
      "('Electronics/TV, Audio & Surveillance/Home Surveillance', 1)\n",
      "('Electronics/TV, Audio & Surveillance/Other', 0)\n",
      "('Electronics/TV, Audio & Surveillance/Other', 1)\n",
      "('Electronics/TV, Audio & Surveillance/Portable Audio & Accessories', 0)\n",
      "('Electronics/TV, Audio & Surveillance/Portable Audio & Accessories', 1)\n",
      "('Electronics/TV, Audio & Surveillance/Televisions', 0)\n",
      "('Electronics/TV, Audio & Surveillance/Televisions', 1)\n",
      "('Electronics/Video Games & Consoles/Accessories', 0)\n",
      "('Electronics/Video Games & Consoles/Accessories', 1)\n",
      "('Electronics/Video Games & Consoles/Consoles', 0)\n",
      "('Electronics/Video Games & Consoles/Consoles', 1)\n",
      "('Electronics/Video Games & Consoles/Games', 0)\n",
      "('Electronics/Video Games & Consoles/Games', 1)\n",
      "('Electronics/Video Games & Consoles/Other', 0)\n",
      "('Electronics/Video Games & Consoles/Other', 1)\n",
      "('Electronics/Video Games & Consoles/Replacement Parts & Tools', 0)\n",
      "('Electronics/Video Games & Consoles/Replacement Parts & Tools', 1)\n",
      "('Electronics/Video Games & Consoles/Strategy Guides', 0)\n",
      "('Electronics/Video Games & Consoles/Strategy Guides', 1)\n",
      "('Electronics/Video Games & Consoles/Video Gaming Merchandise', 0)\n",
      "('Electronics/Video Games & Consoles/Video Gaming Merchandise', 1)\n",
      "('Handmade/Accessories/Apron', 0)\n",
      "('Handmade/Accessories/Apron', 1)\n",
      "('Handmade/Accessories/Belt', 1)\n",
      "('Handmade/Accessories/Case', 0)\n",
      "('Handmade/Accessories/Case', 1)\n",
      "('Handmade/Accessories/Charm', 0)\n",
      "('Handmade/Accessories/Charm', 1)\n",
      "('Handmade/Accessories/Cozy', 0)\n",
      "('Handmade/Accessories/Cuff', 0)\n",
      "('Handmade/Accessories/Eyewear', 0)\n",
      "('Handmade/Accessories/Eyewear', 1)\n",
      "('Handmade/Accessories/Gloves', 0)\n",
      "('Handmade/Accessories/Gloves', 1)\n",
      "('Handmade/Accessories/Hair', 0)\n",
      "('Handmade/Accessories/Hair', 1)\n",
      "('Handmade/Accessories/Hat', 0)\n",
      "('Handmade/Accessories/Hat', 1)\n",
      "('Handmade/Accessories/Keychain', 0)\n",
      "('Handmade/Accessories/Keychain', 1)\n",
      "('Handmade/Accessories/Lanyard', 0)\n",
      "('Handmade/Accessories/Lanyard', 1)\n",
      "('Handmade/Accessories/Leg Warmers', 0)\n",
      "('Handmade/Accessories/Leg Warmers', 1)\n",
      "('Handmade/Accessories/Men', 0)\n",
      "('Handmade/Accessories/Men', 1)\n",
      "('Handmade/Accessories/Mirror', 1)\n",
      "('Handmade/Accessories/Necktie', 0)\n",
      "('Handmade/Accessories/Necktie', 1)\n",
      "('Handmade/Accessories/Other', 0)\n",
      "('Handmade/Accessories/Other', 1)\n",
      "('Handmade/Accessories/Patch', 0)\n",
      "('Handmade/Accessories/Patch', 1)\n",
      "('Handmade/Accessories/Pin', 0)\n",
      "('Handmade/Accessories/Pin', 1)\n",
      "('Handmade/Accessories/Pinback Button', 0)\n",
      "('Handmade/Accessories/Pinback Button', 1)\n",
      "('Handmade/Accessories/Scarf', 0)\n",
      "('Handmade/Accessories/Scarf', 1)\n",
      "('Handmade/Accessories/Wallet', 0)\n",
      "('Handmade/Accessories/Wallet', 1)\n",
      "('Handmade/Accessories/Watch', 0)\n",
      "('Handmade/Accessories/Watch', 1)\n",
      "('Handmade/Accessories/Women', 0)\n",
      "('Handmade/Accessories/Women', 1)\n",
      "('Handmade/Art/Aceo', 0)\n",
      "('Handmade/Art/Collages', 0)\n",
      "('Handmade/Art/Collages', 1)\n",
      "('Handmade/Art/Drawings', 0)\n",
      "('Handmade/Art/Drawings', 1)\n",
      "('Handmade/Art/Illustration', 0)\n",
      "('Handmade/Art/Illustration', 1)\n",
      "('Handmade/Art/Mixed Media', 0)\n",
      "('Handmade/Art/Mixed Media', 1)\n",
      "('Handmade/Art/Other', 0)\n",
      "('Handmade/Art/Other', 1)\n",
      "('Handmade/Art/Painting', 0)\n",
      "('Handmade/Art/Painting', 1)\n",
      "('Handmade/Art/Photography', 0)\n",
      "('Handmade/Art/Photography', 1)\n",
      "('Handmade/Art/Print', 0)\n",
      "('Handmade/Art/Print', 1)\n",
      "('Handmade/Art/Printmaking', 0)\n",
      "('Handmade/Art/Printmaking', 1)\n",
      "('Handmade/Art/Sculptures', 0)\n",
      "('Handmade/Art/Sculptures', 1)\n",
      "('Handmade/Bags and Purses/Backpack', 0)\n",
      "('Handmade/Bags and Purses/Backpack', 1)\n",
      "('Handmade/Bags and Purses/Clutch', 0)\n",
      "('Handmade/Bags and Purses/Clutch', 1)\n",
      "('Handmade/Bags and Purses/Diaper Bag', 1)\n",
      "('Handmade/Bags and Purses/Hip Bag', 0)\n",
      "('Handmade/Bags and Purses/Hip Bag', 1)\n",
      "('Handmade/Bags and Purses/Laptop', 0)\n",
      "('Handmade/Bags and Purses/Laptop', 1)\n",
      "('Handmade/Bags and Purses/Novelty', 0)\n",
      "('Handmade/Bags and Purses/Novelty', 1)\n",
      "('Handmade/Bags and Purses/Other', 0)\n",
      "('Handmade/Bags and Purses/Pouch', 0)\n",
      "('Handmade/Bags and Purses/Pouch', 1)\n",
      "('Handmade/Bags and Purses/Purse', 0)\n",
      "('Handmade/Bags and Purses/Purse', 1)\n",
      "('Handmade/Bags and Purses/Tote', 0)\n",
      "('Handmade/Bags and Purses/Tote', 1)\n",
      "('Handmade/Bags and Purses/Wallet', 1)\n",
      "('Handmade/Bags and Purses/Wristlet', 0)\n",
      "('Handmade/Bags and Purses/Wristlet', 1)\n",
      "('Handmade/Books and Zines/Book', 0)\n",
      "('Handmade/Books and Zines/Book', 1)\n",
      "('Handmade/Books and Zines/Bookmark', 0)\n",
      "('Handmade/Books and Zines/Bookmark', 1)\n",
      "('Handmade/Books and Zines/Comic', 0)\n",
      "('Handmade/Books and Zines/Journal', 0)\n",
      "('Handmade/Books and Zines/Journal', 1)\n",
      "('Handmade/Books and Zines/Other', 0)\n",
      "('Handmade/Books and Zines/Other', 1)\n",
      "('Handmade/Candles/Other', 0)\n",
      "('Handmade/Candles/Other', 1)\n",
      "('Handmade/Candles/Scrapbooking', 0)\n",
      "('Handmade/Candles/Scrapbooking', 1)\n",
      "('Handmade/Candles/Stationery', 0)\n",
      "('Handmade/Candles/Sticker', 0)\n",
      "('Handmade/Candles/Sticker', 1)\n",
      "('Handmade/Ceramics and Pottery/Bowls', 0)\n",
      "('Handmade/Ceramics and Pottery/Bowls', 1)\n",
      "('Handmade/Ceramics and Pottery/Coasters', 0)\n",
      "('Handmade/Ceramics and Pottery/Coasters', 1)\n",
      "('Handmade/Ceramics and Pottery/Home Decor', 0)\n",
      "('Handmade/Ceramics and Pottery/Home Decor', 1)\n",
      "('Handmade/Ceramics and Pottery/Jewelry', 1)\n",
      "('Handmade/Ceramics and Pottery/Kitchen', 0)\n",
      "('Handmade/Ceramics and Pottery/Kitchen', 1)\n",
      "('Handmade/Ceramics and Pottery/Other', 0)\n",
      "('Handmade/Ceramics and Pottery/Other', 1)\n",
      "('Handmade/Ceramics and Pottery/Planters', 0)\n",
      "('Handmade/Ceramics and Pottery/Planters', 1)\n",
      "('Handmade/Ceramics and Pottery/Sculptures', 0)\n",
      "('Handmade/Ceramics and Pottery/Supplies', 0)\n",
      "('Handmade/Ceramics and Pottery/Supplies', 1)\n",
      "('Handmade/Ceramics and Pottery/Tiles', 0)\n",
      "('Handmade/Ceramics and Pottery/Vases', 0)\n",
      "('Handmade/Ceramics and Pottery/Vases', 1)\n",
      "('Handmade/Children/Accessories', 0)\n",
      "('Handmade/Children/Accessories', 1)\n",
      "('Handmade/Children/Art', 0)\n",
      "('Handmade/Children/Art', 1)\n",
      "('Handmade/Children/Baby', 0)\n",
      "('Handmade/Children/Baby', 1)\n",
      "('Handmade/Children/Clothing', 0)\n",
      "('Handmade/Children/Clothing', 1)\n",
      "('Handmade/Children/Furniture', 0)\n",
      "('Handmade/Children/Jewelry', 1)\n",
      "('Handmade/Children/Other', 0)\n",
      "('Handmade/Children/Other', 1)\n",
      "('Handmade/Children/Toddler', 0)\n",
      "('Handmade/Children/Toddler', 1)\n",
      "('Handmade/Children/Toy', 0)\n",
      "('Handmade/Children/Toy', 1)\n",
      "('Handmade/Clothing/Children', 0)\n",
      "('Handmade/Clothing/Children', 1)\n",
      "('Handmade/Clothing/Corset', 0)\n",
      "('Handmade/Clothing/Corset', 1)\n",
      "('Handmade/Clothing/Costume', 0)\n",
      "('Handmade/Clothing/Costume', 1)\n",
      "('Handmade/Clothing/Dress', 0)\n",
      "('Handmade/Clothing/Dress', 1)\n",
      "('Handmade/Clothing/Lingerie', 0)\n",
      "('Handmade/Clothing/Lingerie', 1)\n",
      "('Handmade/Clothing/Other', 0)\n",
      "('Handmade/Clothing/Other', 1)\n",
      "('Handmade/Clothing/Shirt', 0)\n",
      "('Handmade/Clothing/Shirt', 1)\n",
      "('Handmade/Clothing/Shoes', 0)\n",
      "('Handmade/Clothing/Tshirt', 0)\n",
      "('Handmade/Clothing/Tshirt', 1)\n",
      "('Handmade/Clothing/Women', 0)\n",
      "('Handmade/Clothing/Women', 1)\n",
      "('Handmade/Crochet/Accessories', 0)\n",
      "('Handmade/Crochet/Accessories', 1)\n",
      "('Handmade/Crochet/Afghan', 0)\n",
      "('Handmade/Crochet/Afghan', 1)\n",
      "('Handmade/Crochet/Bags and Purses', 0)\n",
      "('Handmade/Crochet/Bags and Purses', 1)\n",
      "('Handmade/Crochet/Clothing', 0)\n",
      "('Handmade/Crochet/Clothing', 1)\n",
      "('Handmade/Crochet/Doll', 0)\n",
      "('Handmade/Crochet/Doll', 1)\n",
      "('Handmade/Crochet/Hat', 0)\n",
      "('Handmade/Crochet/Hat', 1)\n",
      "('Handmade/Crochet/Housewares', 0)\n",
      "('Handmade/Crochet/Housewares', 1)\n",
      "('Handmade/Crochet/Other', 0)\n",
      "('Handmade/Crochet/Other', 1)\n",
      "('Handmade/Crochet/Scarf', 1)\n",
      "('Handmade/Crochet/Supplies', 0)\n",
      "('Handmade/Crochet/Supplies', 1)\n",
      "('Handmade/Dolls and Miniatures/Animals', 1)\n",
      "('Handmade/Dolls and Miniatures/Art Doll', 0)\n",
      "('Handmade/Dolls and Miniatures/Artist Bears', 1)\n",
      "('Handmade/Dolls and Miniatures/Child Friendly', 0)\n",
      "('Handmade/Dolls and Miniatures/Fantasy', 0)\n",
      "('Handmade/Dolls and Miniatures/Fashion Dolls Apparel', 0)\n",
      "('Handmade/Dolls and Miniatures/Figurines', 1)\n",
      "('Handmade/Dolls and Miniatures/Human Figure Doll', 0)\n",
      "('Handmade/Dolls and Miniatures/Miniature', 0)\n",
      "('Handmade/Dolls and Miniatures/Miniature', 1)\n",
      "('Handmade/Dolls and Miniatures/Other', 1)\n",
      "('Handmade/Dolls and Miniatures/Plush', 0)\n",
      "('Handmade/Dolls and Miniatures/Plush', 1)\n",
      "('Handmade/Dolls and Miniatures/Primitive', 0)\n",
      "('Handmade/Dolls and Miniatures/Scale Dollhouse Miniature', 0)\n",
      "('Handmade/Dolls and Miniatures/Scale Dollhouse Miniature', 1)\n",
      "('Handmade/Dolls and Miniatures/Scale Models', 0)\n",
      "('Handmade/Dolls and Miniatures/Scale Models', 1)\n",
      "('Handmade/Furniture/Fixture', 0)\n",
      "('Handmade/Furniture/Other', 0)\n",
      "('Handmade/Furniture/Shelf', 0)\n",
      "('Handmade/Geekery/Accessory', 0)\n",
      "('Handmade/Geekery/Accessory', 1)\n",
      "('Handmade/Geekery/Fantasy', 0)\n",
      "('Handmade/Geekery/Fantasy', 1)\n",
      "('Handmade/Geekery/Gadget', 0)\n",
      "('Handmade/Geekery/Gadget', 1)\n",
      "('Handmade/Geekery/Horror', 0)\n",
      "('Handmade/Geekery/Horror', 1)\n",
      "('Handmade/Geekery/Housewares', 0)\n",
      "('Handmade/Geekery/Humor', 0)\n",
      "('Handmade/Geekery/Humor', 1)\n",
      "('Handmade/Geekery/Jewelry', 0)\n",
      "('Handmade/Geekery/Jewelry', 1)\n",
      "('Handmade/Geekery/Magic', 0)\n",
      "('Handmade/Geekery/Magic', 1)\n",
      "('Handmade/Geekery/Other', 0)\n",
      "('Handmade/Geekery/Other', 1)\n",
      "('Handmade/Geekery/Science', 0)\n",
      "('Handmade/Geekery/Science', 1)\n",
      "('Handmade/Geekery/Toy', 0)\n",
      "('Handmade/Geekery/Toy', 1)\n",
      "('Handmade/Geekery/Videogame', 1)\n",
      "('Handmade/Glass/Beads', 0)\n",
      "('Handmade/Glass/Beads', 1)\n",
      "('Handmade/Glass/Bottles', 0)\n",
      "('Handmade/Glass/Bottles', 1)\n",
      "('Handmade/Glass/Bowls', 0)\n",
      "('Handmade/Glass/Bowls', 1)\n",
      "('Handmade/Glass/Dishes', 0)\n",
      "('Handmade/Glass/Dishes', 1)\n",
      "('Handmade/Glass/Glassware', 0)\n",
      "('Handmade/Glass/Glassware', 1)\n",
      "('Handmade/Glass/Home Decor', 0)\n",
      "('Handmade/Glass/Home Decor', 1)\n",
      "('Handmade/Glass/Jewelry', 0)\n",
      "('Handmade/Glass/Jewelry', 1)\n",
      "('Handmade/Glass/Mirrors', 1)\n",
      "('Handmade/Glass/Ornaments', 0)\n",
      "('Handmade/Glass/Ornaments', 1)\n",
      "('Handmade/Glass/Other', 0)\n",
      "('Handmade/Glass/Other', 1)\n",
      "('Handmade/Glass/Paperweights', 0)\n",
      "('Handmade/Glass/Paperweights', 1)\n",
      "('Handmade/Glass/Sculptures', 0)\n",
      "('Handmade/Glass/Sculptures', 1)\n",
      "('Handmade/Glass/Stained Glass', 0)\n",
      "('Handmade/Glass/Stained Glass', 1)\n",
      "('Handmade/Glass/Supplies', 0)\n",
      "('Handmade/Glass/Vases', 0)\n",
      "('Handmade/Holidays/Birthday', 0)\n",
      "('Handmade/Holidays/Birthday', 1)\n",
      "('Handmade/Holidays/Christmas', 0)\n",
      "('Handmade/Holidays/Christmas', 1)\n",
      "('Handmade/Holidays/Easter', 0)\n",
      "('Handmade/Holidays/Easter', 1)\n",
      "('Handmade/Holidays/Halloween', 0)\n",
      "('Handmade/Holidays/Halloween', 1)\n",
      "('Handmade/Holidays/New Years', 1)\n",
      "('Handmade/Holidays/Other', 0)\n",
      "('Handmade/Holidays/Other', 1)\n",
      "('Handmade/Holidays/Patriotic', 1)\n",
      "('Handmade/Holidays/St Patricks', 0)\n"
     ]
    },
    {
     "name": "stdout",
     "output_type": "stream",
     "text": [
      "('Handmade/Holidays/Thanksgiving', 1)\n",
      "('Handmade/Holidays/Valentine', 0)\n",
      "('Handmade/Holidays/Valentine', 1)\n",
      "('Handmade/Housewares/Bathroom', 0)\n",
      "('Handmade/Housewares/Cleaning', 0)\n",
      "('Handmade/Housewares/Entertaining/Serving', 0)\n",
      "('Handmade/Housewares/Entertaining/Serving', 1)\n",
      "('Handmade/Housewares/Home Decor', 0)\n",
      "('Handmade/Housewares/Home Decor', 1)\n",
      "('Handmade/Housewares/Kitchen', 0)\n",
      "('Handmade/Housewares/Kitchen', 1)\n",
      "('Handmade/Housewares/Lighting', 0)\n",
      "('Handmade/Housewares/Lighting', 1)\n",
      "('Handmade/Housewares/Magnets', 0)\n",
      "('Handmade/Housewares/Magnets', 1)\n",
      "('Handmade/Housewares/Office', 1)\n",
      "('Handmade/Housewares/Other', 0)\n",
      "('Handmade/Housewares/Other', 1)\n",
      "('Handmade/Housewares/Pillows', 0)\n",
      "('Handmade/Housewares/Pillows', 1)\n",
      "('Handmade/Housewares/Storage Solutions', 0)\n",
      "('Handmade/Housewares/Wall Decor', 0)\n",
      "('Handmade/Housewares/Wall Decor', 1)\n",
      "('Handmade/Jewelry/Books and Zines', 1)\n",
      "('Handmade/Jewelry/Clothing', 1)\n",
      "('Handmade/Jewelry/Jewelry', 0)\n",
      "('Handmade/Jewelry/Jewelry', 1)\n",
      "('Handmade/Jewelry/Music', 0)\n",
      "('Handmade/Jewelry/Music', 1)\n",
      "('Handmade/Jewelry/Other', 0)\n",
      "('Handmade/Jewelry/Other', 1)\n",
      "('Handmade/Knitting/Accessories', 0)\n",
      "('Handmade/Knitting/Accessories', 1)\n",
      "('Handmade/Knitting/Bags and Purses', 0)\n",
      "('Handmade/Knitting/Blanket', 0)\n",
      "('Handmade/Knitting/Blanket', 1)\n",
      "('Handmade/Knitting/Cozy', 0)\n",
      "('Handmade/Knitting/Doll', 1)\n",
      "('Handmade/Knitting/Hat', 0)\n",
      "('Handmade/Knitting/Hat', 1)\n",
      "('Handmade/Knitting/Knitting Supplies', 0)\n",
      "('Handmade/Knitting/Knitting Supplies', 1)\n",
      "('Handmade/Knitting/Other', 0)\n",
      "('Handmade/Knitting/Other', 1)\n",
      "('Handmade/Knitting/Scarf', 1)\n",
      "('Handmade/Knitting/Women', 1)\n",
      "('Handmade/Music/Equipment', 0)\n",
      "('Handmade/Music/Equipment', 1)\n",
      "('Handmade/Music/Instrument', 0)\n",
      "('Handmade/Music/Instrument', 1)\n",
      "('Handmade/Music/Other', 0)\n",
      "('Handmade/Music/Other', 1)\n",
      "('Handmade/Music/Poster', 0)\n",
      "('Handmade/Music/Poster', 1)\n",
      "('Handmade/Music/Tape', 0)\n",
      "('Handmade/Music/Tape', 1)\n",
      "('Handmade/Music/Vinyl', 0)\n",
      "('Handmade/Music/Vinyl', 1)\n",
      "('Handmade/Needlecraft/Accessories', 0)\n",
      "('Handmade/Needlecraft/Accessories', 1)\n",
      "('Handmade/Needlecraft/Clothing', 1)\n",
      "('Handmade/Needlecraft/Cross Stitch', 0)\n",
      "('Handmade/Needlecraft/Cross Stitch', 1)\n",
      "('Handmade/Needlecraft/Doll', 0)\n",
      "('Handmade/Needlecraft/Doll', 1)\n",
      "('Handmade/Needlecraft/Embroidery', 0)\n",
      "('Handmade/Needlecraft/Embroidery', 1)\n",
      "('Handmade/Needlecraft/Felted', 0)\n",
      "('Handmade/Needlecraft/Needlepoint', 0)\n",
      "('Handmade/Needlecraft/Needlepoint', 1)\n",
      "('Handmade/Needlecraft/Other', 0)\n",
      "('Handmade/Needlecraft/Other', 1)\n",
      "('Handmade/Needlecraft/Pattern', 0)\n",
      "('Handmade/Needlecraft/Pattern', 1)\n",
      "('Handmade/Needlecraft/Pillow', 1)\n",
      "('Handmade/Needlecraft/Supplies', 0)\n",
      "('Handmade/Needlecraft/Supplies', 1)\n",
      "('Handmade/Other/Other', 0)\n",
      "('Handmade/Other/Other', 1)\n",
      "('Handmade/Others/Custom', 0)\n",
      "('Handmade/Others/Custom', 1)\n",
      "('Handmade/Others/Educational', 1)\n",
      "('Handmade/Others/Graphic Design', 1)\n",
      "('Handmade/Others/Magic', 0)\n",
      "('Handmade/Others/Magic', 1)\n",
      "('Handmade/Others/Other', 0)\n",
      "('Handmade/Others/Other', 1)\n",
      "('Handmade/Others/Personalized', 0)\n",
      "('Handmade/Others/Personalized', 1)\n",
      "('Handmade/Others/Religious', 0)\n",
      "('Handmade/Others/Religious', 1)\n",
      "('Handmade/Paper Goods/Bookmark', 0)\n",
      "('Handmade/Paper Goods/Bookmark', 1)\n",
      "('Handmade/Paper Goods/Calendar', 0)\n",
      "('Handmade/Paper Goods/Calendar', 1)\n",
      "('Handmade/Paper Goods/Cards', 0)\n",
      "('Handmade/Paper Goods/Cards', 1)\n",
      "('Handmade/Paper Goods/Gift Wrap', 0)\n",
      "('Handmade/Paper Goods/Gift Wrap', 1)\n",
      "('Handmade/Paper Goods/Journal', 0)\n",
      "('Handmade/Paper Goods/Journal', 1)\n",
      "('Handmade/Paper Goods/Notebook', 0)\n",
      "('Handmade/Paper Goods/Notebook', 1)\n",
      "('Handmade/Paper Goods/Origami', 0)\n",
      "('Handmade/Paper Goods/Origami', 1)\n",
      "('Handmade/Paper Goods/Other', 0)\n",
      "('Handmade/Paper Goods/Other', 1)\n",
      "('Handmade/Paper Goods/Pad', 1)\n",
      "('Handmade/Paper Goods/Papermaking', 0)\n",
      "('Handmade/Paper Goods/Papermaking', 1)\n",
      "('Handmade/Paper Goods/Scrapbooking', 0)\n",
      "('Handmade/Paper Goods/Scrapbooking', 1)\n",
      "('Handmade/Paper Goods/Stationery', 0)\n",
      "('Handmade/Paper Goods/Stationery', 1)\n",
      "('Handmade/Paper Goods/Sticker', 0)\n",
      "('Handmade/Paper Goods/Sticker', 1)\n",
      "('Handmade/Paper Goods/Tag', 0)\n",
      "('Handmade/Paper Goods/Tag', 1)\n",
      "('Handmade/Patterns/Accessories', 0)\n",
      "('Handmade/Patterns/Baby', 0)\n",
      "('Handmade/Patterns/Beading', 0)\n",
      "('Handmade/Patterns/Beading', 1)\n",
      "('Handmade/Patterns/Crochet', 0)\n",
      "('Handmade/Patterns/Crochet', 1)\n",
      "('Handmade/Patterns/Cross Stitch', 0)\n",
      "('Handmade/Patterns/Doll Clothing', 0)\n",
      "('Handmade/Patterns/Doll Clothing', 1)\n",
      "('Handmade/Patterns/Embroidery', 1)\n",
      "('Handmade/Patterns/Handmade', 0)\n",
      "('Handmade/Patterns/Handmade', 1)\n",
      "('Handmade/Patterns/Knitting', 0)\n",
      "('Handmade/Patterns/Knitting', 1)\n",
      "('Handmade/Patterns/Other', 0)\n",
      "('Handmade/Patterns/Other', 1)\n",
      "('Handmade/Patterns/Painting', 0)\n",
      "('Handmade/Patterns/Quilt', 0)\n",
      "('Handmade/Patterns/Quilt', 1)\n",
      "('Handmade/Patterns/Sewing', 0)\n",
      "('Handmade/Patterns/Sewing', 1)\n",
      "('Handmade/Pets/Accessories', 0)\n",
      "('Handmade/Pets/Accessories', 1)\n",
      "('Handmade/Pets/Bed', 0)\n",
      "('Handmade/Pets/Bed', 1)\n",
      "('Handmade/Pets/Blanket', 0)\n",
      "('Handmade/Pets/Bowl', 0)\n",
      "('Handmade/Pets/Bowl', 1)\n",
      "('Handmade/Pets/Clothing', 0)\n",
      "('Handmade/Pets/Clothing', 1)\n",
      "('Handmade/Pets/Collar', 0)\n",
      "('Handmade/Pets/Collar', 1)\n",
      "('Handmade/Pets/Feeding', 0)\n",
      "('Handmade/Pets/Feeding', 1)\n",
      "('Handmade/Pets/Grooming', 0)\n",
      "('Handmade/Pets/Grooming', 1)\n",
      "('Handmade/Pets/House', 0)\n",
      "('Handmade/Pets/Leash', 0)\n",
      "('Handmade/Pets/Leash', 1)\n",
      "('Handmade/Pets/Other', 0)\n",
      "('Handmade/Pets/Other', 1)\n",
      "('Handmade/Pets/Pet Lover', 0)\n",
      "('Handmade/Pets/Pet Lover', 1)\n",
      "('Handmade/Pets/Small Animal', 0)\n",
      "('Handmade/Pets/Small Animal', 1)\n",
      "('Handmade/Pets/Tag', 1)\n",
      "('Handmade/Pets/Toy', 0)\n",
      "('Handmade/Pets/Toy', 1)\n",
      "('Handmade/Quilts/Baby', 0)\n",
      "('Handmade/Quilts/Bed', 1)\n",
      "('Handmade/Quilts/Fabric Postcard', 0)\n",
      "('Handmade/Quilts/Fabric Postcard', 1)\n",
      "('Handmade/Quilts/Other', 0)\n",
      "('Handmade/Quilts/Other', 1)\n",
      "('Handmade/Quilts/Patch', 1)\n",
      "('Handmade/Quilts/Patchwork', 1)\n",
      "('Handmade/Quilts/Pillow', 1)\n",
      "('Handmade/Quilts/Trim', 1)\n",
      "('Handmade/Quilts/Wall Hanging', 0)\n",
      "('Handmade/Toys/Bear', 0)\n",
      "('Handmade/Toys/Children', 0)\n",
      "('Handmade/Toys/Children', 1)\n",
      "('Handmade/Toys/Doll Clothes', 1)\n",
      "('Handmade/Toys/Food', 0)\n",
      "('Handmade/Toys/Food', 1)\n",
      "('Handmade/Toys/Game', 0)\n",
      "('Handmade/Toys/Game', 1)\n",
      "('Handmade/Toys/Other', 0)\n",
      "('Handmade/Toys/Other', 1)\n",
      "('Handmade/Toys/Plush', 0)\n",
      "('Handmade/Toys/Plush', 1)\n",
      "('Handmade/Toys/Sports', 0)\n",
      "('Handmade/Weddings/Accessories', 0)\n",
      "('Handmade/Weddings/Accessories', 1)\n",
      "('Handmade/Weddings/Bags and Purses', 1)\n",
      "('Handmade/Weddings/Bouquets', 0)\n",
      "('Handmade/Weddings/Bouquets', 1)\n",
      "('Handmade/Weddings/Cake Toppers', 0)\n",
      "('Handmade/Weddings/Cake Toppers', 1)\n",
      "('Handmade/Weddings/Candles', 0)\n",
      "('Handmade/Weddings/Candles', 1)\n",
      "('Handmade/Weddings/Cards', 0)\n",
      "('Handmade/Weddings/Cards', 1)\n",
      "('Handmade/Weddings/Clothing', 0)\n",
      "('Handmade/Weddings/Clothing', 1)\n",
      "('Handmade/Weddings/Decorations', 0)\n",
      "('Handmade/Weddings/Decorations', 1)\n",
      "('Handmade/Weddings/Favors', 0)\n",
      "('Handmade/Weddings/Favors', 1)\n",
      "('Handmade/Weddings/Frames', 0)\n",
      "('Handmade/Weddings/Guest Books', 0)\n",
      "('Handmade/Weddings/Guest Books', 1)\n",
      "('Handmade/Weddings/Invitations', 0)\n",
      "('Handmade/Weddings/Invitations', 1)\n",
      "('Handmade/Weddings/Jewelry', 0)\n",
      "('Handmade/Weddings/Jewelry', 1)\n",
      "('Handmade/Weddings/Just Married', 1)\n",
      "('Handmade/Weddings/Men', 0)\n",
      "('Handmade/Weddings/Men', 1)\n",
      "('Handmade/Weddings/Other', 0)\n",
      "('Handmade/Weddings/Other', 1)\n",
      "('Handmade/Weddings/Pillows', 0)\n",
      "('Handmade/Weddings/Pillows', 1)\n",
      "('Handmade/Weddings/Something Blue', 0)\n",
      "('Handmade/Woodworking/Accessories', 1)\n",
      "('Handmade/Woodworking/Boxes', 0)\n",
      "('Handmade/Woodworking/Boxes', 1)\n",
      "('Handmade/Woodworking/Burning', 0)\n",
      "('Handmade/Woodworking/Burning', 1)\n",
      "('Handmade/Woodworking/Carving', 0)\n",
      "('Handmade/Woodworking/Carving', 1)\n",
      "('Handmade/Woodworking/Home Decor', 0)\n",
      "('Handmade/Woodworking/Home Decor', 1)\n",
      "('Handmade/Woodworking/Jewelry', 0)\n",
      "('Handmade/Woodworking/Jewelry', 1)\n",
      "('Handmade/Woodworking/Other', 0)\n",
      "('Handmade/Woodworking/Other', 1)\n",
      "('Handmade/Woodworking/Outdoor', 0)\n",
      "('Handmade/Woodworking/Sculptures', 1)\n",
      "('Handmade/Woodworking/Seasonal', 0)\n",
      "('Handmade/Woodworking/Signs', 0)\n",
      "('Handmade/Woodworking/Signs', 1)\n",
      "('Handmade/Woodworking/Sports', 0)\n",
      "('Handmade/Woodworking/Supplies', 0)\n",
      "('Handmade/Woodworking/Toys', 0)\n",
      "('Handmade/Woodworking/Toys', 1)\n",
      "('Home/Artwork/Drawings', 0)\n",
      "('Home/Artwork/Drawings', 1)\n",
      "('Home/Artwork/Lithographs, Etchings & Woodcuts', 0)\n",
      "('Home/Artwork/Lithographs, Etchings & Woodcuts', 1)\n",
      "('Home/Artwork/Other', 0)\n",
      "('Home/Artwork/Other', 1)\n",
      "('Home/Artwork/Paintings', 0)\n",
      "('Home/Artwork/Paintings', 1)\n",
      "('Home/Artwork/Photographs', 0)\n",
      "('Home/Artwork/Photographs', 1)\n",
      "('Home/Artwork/Posters & Prints', 0)\n",
      "('Home/Artwork/Posters & Prints', 1)\n",
      "('Home/Bath/Bath Linen Sets', 0)\n",
      "('Home/Bath/Bath Linen Sets', 1)\n",
      "('Home/Bath/Bath Rugs', 0)\n",
      "('Home/Bath/Bath Rugs', 1)\n",
      "('Home/Bath/Bathroom Accessories', 0)\n",
      "('Home/Bath/Bathroom Accessories', 1)\n",
      "('Home/Bath/Bathroom Furniture Sets', 0)\n",
      "('Home/Bath/Bathroom Furniture Sets', 1)\n",
      "('Home/Bath/Bathroom Shelves', 1)\n",
      "('Home/Bath/Other', 0)\n",
      "('Home/Bath/Other', 1)\n",
      "('Home/Bath/Towels', 0)\n",
      "('Home/Bath/Towels', 1)\n",
      "('Home/Bedding/Bed Pillows', 0)\n",
      "('Home/Bedding/Bed Pillows', 1)\n",
      "('Home/Bedding/Bed in a Bag', 0)\n",
      "('Home/Bedding/Bed in a Bag', 1)\n",
      "('Home/Bedding/Bedspreads & Coverlets', 0)\n",
      "('Home/Bedding/Bedspreads & Coverlets', 1)\n",
      "('Home/Bedding/Blankets & Throws', 0)\n",
      "('Home/Bedding/Blankets & Throws', 1)\n",
      "('Home/Bedding/Comforters & Sets', 0)\n",
      "('Home/Bedding/Comforters & Sets', 1)\n",
      "('Home/Bedding/Decorative Pillows, Inserts & Covers', 0)\n",
      "('Home/Bedding/Decorative Pillows, Inserts & Covers', 1)\n",
      "('Home/Bedding/Duvet Covers & Sets', 0)\n",
      "('Home/Bedding/Duvet Covers & Sets', 1)\n",
      "('Home/Bedding/Feather Beds', 0)\n",
      "('Home/Bedding/Inflatable Beds', 0)\n",
      "('Home/Bedding/Inflatable Beds', 1)\n",
      "('Home/Bedding/Mattress Pads', 0)\n",
      "('Home/Bedding/Mattress Pads', 1)\n",
      "('Home/Bedding/Other', 0)\n",
      "('Home/Bedding/Other', 1)\n",
      "('Home/Bedding/Quilts', 0)\n",
      "('Home/Bedding/Quilts', 1)\n",
      "('Home/Bedding/Shams, Bed Skirts & Bed Frame Draperies', 0)\n",
      "('Home/Bedding/Shams, Bed Skirts & Bed Frame Draperies', 1)\n",
      "('Home/Bedding/Sheets & Pillowcases', 0)\n",
      "('Home/Bedding/Sheets & Pillowcases', 1)\n",
      "('Home/Cleaning Supplies/Air Fresheners', 0)\n",
      "('Home/Cleaning Supplies/Air Fresheners', 1)\n",
      "('Home/Cleaning Supplies/Brushes', 0)\n",
      "('Home/Cleaning Supplies/Brushes', 1)\n",
      "('Home/Cleaning Supplies/Dusting', 0)\n",
      "('Home/Cleaning Supplies/Dusting', 1)\n",
      "('Home/Cleaning Supplies/Gloves', 0)\n",
      "('Home/Cleaning Supplies/Gloves', 1)\n",
      "('Home/Cleaning Supplies/Household Cleaners', 0)\n",
      "('Home/Cleaning Supplies/Household Cleaners', 1)\n",
      "('Home/Cleaning Supplies/Jewelry Boxes & Organizers', 0)\n",
      "('Home/Cleaning Supplies/Jewelry Boxes & Organizers', 1)\n",
      "('Home/Cleaning Supplies/Mopping', 0)\n",
      "('Home/Cleaning Supplies/Mopping', 1)\n",
      "('Home/Cleaning Supplies/Other', 0)\n",
      "('Home/Cleaning Supplies/Other', 1)\n",
      "('Home/Cleaning Supplies/Paper Towels', 0)\n",
      "('Home/Cleaning Supplies/Paper Towels', 1)\n",
      "('Home/Cleaning Supplies/Sponges', 0)\n",
      "('Home/Cleaning Supplies/Sponges', 1)\n",
      "('Home/Cleaning Supplies/Sweeping', 0)\n",
      "('Home/Cleaning Supplies/Sweeping', 1)\n",
      "('Home/Cleaning Supplies/Trash Bags', 0)\n",
      "('Home/Cleaning Supplies/Trash Bags', 1)\n",
      "('Home/Furniture/Bathroom Furniture', 1)\n",
      "('Home/Furniture/Bedroom Furniture', 0)\n",
      "('Home/Furniture/Bedroom Furniture', 1)\n",
      "('Home/Furniture/Home Bar Furniture', 0)\n",
      "('Home/Furniture/Home Bar Furniture', 1)\n",
      "('Home/Furniture/Home Entertainment Furniture', 0)\n",
      "('Home/Furniture/Home Entertainment Furniture', 1)\n",
      "('Home/Furniture/Home Office Furniture', 0)\n",
      "('Home/Furniture/Home Office Furniture', 1)\n",
      "('Home/Furniture/Living Room Furniture', 0)\n",
      "('Home/Furniture/Living Room Furniture', 1)\n",
      "('Home/Furniture/Other', 0)\n",
      "('Home/Furniture/Other', 1)\n",
      "('Home/Furniture/Other Furniture', 0)\n",
      "('Home/Furniture/Other Furniture', 1)\n",
      "('Home/Furniture/Replacement Parts', 0)\n",
      "('Home/Furniture/Replacement Parts', 1)\n",
      "('Home/Home Appliances/Air Conditioners', 0)\n",
      "('Home/Home Appliances/Air Conditioners', 1)\n",
      "('Home/Home Appliances/Air Purifiers', 0)\n",
      "('Home/Home Appliances/Air Purifiers', 1)\n",
      "('Home/Home Appliances/Dehumidifiers', 0)\n",
      "('Home/Home Appliances/Dehumidifiers', 1)\n",
      "('Home/Home Appliances/Dishwashers', 1)\n",
      "('Home/Home Appliances/Fans', 0)\n",
      "('Home/Home Appliances/Fans', 1)\n",
      "('Home/Home Appliances/Freezers & Ice Makers', 0)\n",
      "('Home/Home Appliances/Freezers & Ice Makers', 1)\n",
      "('Home/Home Appliances/Garbage Disposals', 1)\n",
      "('Home/Home Appliances/Garment Steamers', 0)\n",
      "('Home/Home Appliances/Garment Steamers', 1)\n",
      "('Home/Home Appliances/Humidifiers', 0)\n",
      "('Home/Home Appliances/Humidifiers', 1)\n",
      "('Home/Home Appliances/Irons & Ironing Boards', 0)\n",
      "('Home/Home Appliances/Irons & Ironing Boards', 1)\n",
      "('Home/Home Appliances/Kitchen Appliances', 0)\n",
      "('Home/Home Appliances/Kitchen Appliances', 1)\n",
      "('Home/Home Appliances/Microwaves', 0)\n",
      "('Home/Home Appliances/Microwaves', 1)\n",
      "('Home/Home Appliances/Refrigerators', 0)\n",
      "('Home/Home Appliances/Refrigerators', 1)\n",
      "('Home/Home Appliances/Space Heaters', 0)\n",
      "('Home/Home Appliances/Space Heaters', 1)\n",
      "('Home/Home Appliances/Vacuums & Floor Care', 0)\n",
      "('Home/Home Appliances/Vacuums & Floor Care', 1)\n",
      "('Home/Home Appliances/Washers & Dryers', 0)\n",
      "('Home/Home Appliances/Washers & Dryers', 1)\n",
      "('Home/Home Appliances/Water Coolers & Filters', 0)\n",
      "('Home/Home Appliances/Water Coolers & Filters', 1)\n",
      "('Home/Home Appliances/Wine, Beer & Beverage Coolers', 0)\n",
      "('Home/Home Appliances/Wine, Beer & Beverage Coolers', 1)\n",
      "('Home/Home Décor/Area Rugs & Pads', 0)\n",
      "('Home/Home Décor/Area Rugs & Pads', 1)\n",
      "('Home/Home Décor/Baskets', 0)\n",
      "('Home/Home Décor/Baskets', 1)\n",
      "('Home/Home Décor/Candles & Holders', 0)\n",
      "('Home/Home Décor/Candles & Holders', 1)\n",
      "('Home/Home Décor/Clocks', 0)\n",
      "('Home/Home Décor/Clocks', 1)\n",
      "('Home/Home Décor/Decorative Pillows', 0)\n",
      "('Home/Home Décor/Decorative Pillows', 1)\n",
      "('Home/Home Décor/Doormats', 1)\n",
      "('Home/Home Décor/Doorstops', 1)\n",
      "('Home/Home Décor/Draft Stoppers', 0)\n",
      "('Home/Home Décor/Fireplaces & Accessories', 0)\n",
      "('Home/Home Décor/Fireplaces & Accessories', 1)\n",
      "('Home/Home Décor/Home Décor Accents', 0)\n",
      "('Home/Home Décor/Home Décor Accents', 1)\n",
      "('Home/Home Décor/Home Fragrance', 0)\n",
      "('Home/Home Décor/Home Fragrance', 1)\n",
      "('Home/Home Décor/Lamps& Accessories', 0)\n",
      "('Home/Home Décor/Lamps& Accessories', 1)\n",
      "('Home/Home Décor/Mirrors', 0)\n",
      "('Home/Home Décor/Mirrors', 1)\n",
      "('Home/Home Décor/Other', 0)\n",
      "('Home/Home Décor/Other', 1)\n",
      "('Home/Home Décor/Photo Albums & Frames', 0)\n",
      "('Home/Home Décor/Photo Albums & Frames', 1)\n",
      "('Home/Home Décor/Slipcovers', 0)\n",
      "('Home/Home Décor/Slipcovers', 1)\n",
      "('Home/Home Décor/Tapestries', 0)\n",
      "('Home/Home Décor/Tapestries', 1)\n",
      "('Home/Home Décor/Vases', 0)\n",
      "('Home/Home Décor/Vases', 1)\n",
      "('Home/Home Décor/Window Treatments', 0)\n",
      "('Home/Home Décor/Window Treatments', 1)\n",
      "(\"Home/Kids' Home Store/Kids' Bath\", 0)\n",
      "(\"Home/Kids' Home Store/Kids' Bath\", 1)\n",
      "(\"Home/Kids' Home Store/Kids' Bedding\", 0)\n",
      "(\"Home/Kids' Home Store/Kids' Bedding\", 1)\n",
      "(\"Home/Kids' Home Store/Kids' Flatware\", 0)\n",
      "(\"Home/Kids' Home Store/Kids' Furniture\", 0)\n",
      "(\"Home/Kids' Home Store/Kids' Furniture\", 1)\n",
      "(\"Home/Kids' Home Store/Kids' Room Décor\", 0)\n",
      "(\"Home/Kids' Home Store/Kids' Room Décor\", 1)\n",
      "(\"Home/Kids' Home Store/Nursery Bedding\", 0)\n",
      "(\"Home/Kids' Home Store/Nursery Bedding\", 1)\n",
      "(\"Home/Kids' Home Store/Nursery Décor\", 0)\n",
      "(\"Home/Kids' Home Store/Nursery Décor\", 1)\n",
      "(\"Home/Kids' Home Store/Nursery Furniture\", 0)\n",
      "(\"Home/Kids' Home Store/Other\", 0)\n",
      "(\"Home/Kids' Home Store/Other\", 1)\n",
      "('Home/Kitchen & Dining/Bakeware', 0)\n",
      "('Home/Kitchen & Dining/Bakeware', 1)\n",
      "('Home/Kitchen & Dining/Coffee & Tea Accessories', 0)\n",
      "('Home/Kitchen & Dining/Coffee & Tea Accessories', 1)\n",
      "('Home/Kitchen & Dining/Cookware', 0)\n",
      "('Home/Kitchen & Dining/Cookware', 1)\n",
      "('Home/Kitchen & Dining/Dining & Entertaining', 0)\n",
      "('Home/Kitchen & Dining/Dining & Entertaining', 1)\n",
      "('Home/Kitchen & Dining/Food Service Equipment & Supplies', 0)\n",
      "('Home/Kitchen & Dining/Food Service Equipment & Supplies', 1)\n",
      "('Home/Kitchen & Dining/Home Brewing & Wine Making', 0)\n",
      "('Home/Kitchen & Dining/Home Brewing & Wine Making', 1)\n",
      "('Home/Kitchen & Dining/Kitchen & Table Linens', 0)\n",
      "('Home/Kitchen & Dining/Kitchen & Table Linens', 1)\n",
      "('Home/Kitchen & Dining/Kitchen Knives & Cutlery Accessories', 0)\n",
      "('Home/Kitchen & Dining/Kitchen Knives & Cutlery Accessories', 1)\n",
      "('Home/Kitchen & Dining/Kitchen Utensils & Gadgets', 0)\n",
      "('Home/Kitchen & Dining/Kitchen Utensils & Gadgets', 1)\n",
      "('Home/Kitchen & Dining/Other', 0)\n",
      "('Home/Kitchen & Dining/Other', 1)\n",
      "('Home/Kitchen & Dining/Small Appliances', 0)\n",
      "('Home/Kitchen & Dining/Small Appliances', 1)\n",
      "('Home/Kitchen & Dining/Storage & Organization', 0)\n",
      "('Home/Kitchen & Dining/Storage & Organization', 1)\n",
      "('Home/Kitchen & Dining/Water Coolers & Filters', 0)\n",
      "('Home/Kitchen & Dining/Water Coolers & Filters', 1)\n",
      "('Home/Kitchen & Dining/Wine Accessories', 0)\n",
      "('Home/Kitchen & Dining/Wine Accessories', 1)\n",
      "('Home/Other/Other', 0)\n",
      "('Home/Other/Other', 1)\n",
      "('Home/Seasonal Décor/Birthday', 0)\n",
      "('Home/Seasonal Décor/Birthday', 1)\n",
      "('Home/Seasonal Décor/Christmas', 0)\n",
      "('Home/Seasonal Décor/Christmas', 1)\n",
      "('Home/Seasonal Décor/Day of the Dead', 0)\n",
      "('Home/Seasonal Décor/Day of the Dead', 1)\n",
      "('Home/Seasonal Décor/Easter', 0)\n",
      "('Home/Seasonal Décor/Easter', 1)\n",
      "('Home/Seasonal Décor/Halloween', 0)\n",
      "('Home/Seasonal Décor/Halloween', 1)\n",
      "('Home/Seasonal Décor/Hanukkah', 0)\n",
      "('Home/Seasonal Décor/Hanukkah', 1)\n",
      "(\"Home/Seasonal Décor/New Year's\", 0)\n",
      "(\"Home/Seasonal Décor/New Year's\", 1)\n",
      "('Home/Seasonal Décor/Other', 0)\n",
      "('Home/Seasonal Décor/Other', 1)\n",
      "('Home/Seasonal Décor/Patriotic', 0)\n",
      "('Home/Seasonal Décor/Patriotic', 1)\n",
      "(\"Home/Seasonal Décor/St Patrick's\", 0)\n",
      "(\"Home/Seasonal Décor/St Patrick's\", 1)\n",
      "('Home/Seasonal Décor/Thanksgiving', 0)\n",
      "('Home/Seasonal Décor/Thanksgiving', 1)\n",
      "('Home/Seasonal Décor/Valentine', 0)\n",
      "('Home/Seasonal Décor/Valentine', 1)\n",
      "('Home/Storage & Organization/Baskets & Bins', 0)\n",
      "('Home/Storage & Organization/Baskets & Bins', 1)\n",
      "('Home/Storage & Organization/Bathroom Storage & Organization', 0)\n",
      "('Home/Storage & Organization/Bathroom Storage & Organization', 1)\n",
      "('Home/Storage & Organization/Clothing & Closet Storage', 0)\n",
      "('Home/Storage & Organization/Clothing & Closet Storage', 1)\n",
      "('Home/Storage & Organization/Garage Storage & Organization', 0)\n",
      "('Home/Storage & Organization/Garage Storage & Organization', 1)\n",
      "('Home/Storage & Organization/Holiday Décor Storage', 0)\n",
      "('Home/Storage & Organization/Holiday Décor Storage', 1)\n",
      "('Home/Storage & Organization/Jewelry Boxes & Organizers', 0)\n",
      "('Home/Storage & Organization/Jewelry Boxes & Organizers', 1)\n",
      "('Home/Storage & Organization/Kitchen Storage & Organization', 0)\n",
      "('Home/Storage & Organization/Kitchen Storage & Organization', 1)\n",
      "('Home/Storage & Organization/Laundry Storage & Organization', 0)\n",
      "('Home/Storage & Organization/Laundry Storage & Organization', 1)\n",
      "('Home/Storage & Organization/Other', 0)\n",
      "('Home/Storage & Organization/Other', 1)\n",
      "('Home/Storage & Organization/Racks, Shelves & Drawers', 0)\n",
      "('Home/Storage & Organization/Racks, Shelves & Drawers', 1)\n",
      "('Home/Storage & Organization/Storage Cabinets', 0)\n",
      "('Home/Storage & Organization/Storage Cabinets', 1)\n",
      "('Home/Storage & Organization/Trash & Recycling', 0)\n",
      "('Home/Storage & Organization/Trash & Recycling', 1)\n",
      "('Kids/Bathing & Skin Care/Bathing Tubs & Seats', 0)\n",
      "('Kids/Bathing & Skin Care/Bathing Tubs & Seats', 1)\n",
      "('Kids/Bathing & Skin Care/Bathroom Safety', 0)\n",
      "('Kids/Bathing & Skin Care/Bathroom Safety', 1)\n",
      "('Kids/Bathing & Skin Care/Bubble Bath', 0)\n",
      "('Kids/Bathing & Skin Care/Bubble Bath', 1)\n",
      "('Kids/Bathing & Skin Care/Conditioners', 0)\n",
      "('Kids/Bathing & Skin Care/Grooming & Healthcare Kits', 0)\n",
      "('Kids/Bathing & Skin Care/Grooming & Healthcare Kits', 1)\n",
      "('Kids/Bathing & Skin Care/Non-Slip Bath Mats', 0)\n",
      "('Kids/Bathing & Skin Care/Other', 0)\n",
      "('Kids/Bathing & Skin Care/Other', 1)\n",
      "('Kids/Bathing & Skin Care/Shampoo', 0)\n",
      "('Kids/Bathing & Skin Care/Shampoo', 1)\n",
      "('Kids/Bathing & Skin Care/Skin Care', 0)\n",
      "('Kids/Bathing & Skin Care/Skin Care', 1)\n",
      "('Kids/Bathing & Skin Care/Soaps & Cleansers', 0)\n",
      "('Kids/Bathing & Skin Care/Soaps & Cleansers', 1)\n",
      "('Kids/Bathing & Skin Care/Travel Bathing Kits', 0)\n",
      "('Kids/Bathing & Skin Care/Travel Bathing Kits', 1)\n",
      "('Kids/Bathing & Skin Care/Washcloths & Towels', 0)\n",
      "('Kids/Bathing & Skin Care/Washcloths & Towels', 1)\n",
      "('Kids/Boys (4+)/Accessories', 0)\n"
     ]
    },
    {
     "name": "stdout",
     "output_type": "stream",
     "text": [
      "('Kids/Boys (4+)/Accessories', 1)\n",
      "('Kids/Boys (4+)/Bottoms', 0)\n",
      "('Kids/Boys (4+)/Bottoms', 1)\n",
      "('Kids/Boys (4+)/Coats & Jackets', 0)\n",
      "('Kids/Boys (4+)/Coats & Jackets', 1)\n",
      "('Kids/Boys (4+)/Other', 0)\n",
      "('Kids/Boys (4+)/Other', 1)\n",
      "('Kids/Boys (4+)/Shoes', 0)\n",
      "('Kids/Boys (4+)/Shoes', 1)\n",
      "('Kids/Boys (4+)/Swimwear', 0)\n",
      "('Kids/Boys (4+)/Swimwear', 1)\n",
      "('Kids/Boys (4+)/Top & T-shirts', 0)\n",
      "('Kids/Boys (4+)/Top & T-shirts', 1)\n",
      "('Kids/Boys 0-24 Mos/Accessories', 0)\n",
      "('Kids/Boys 0-24 Mos/Accessories', 1)\n",
      "('Kids/Boys 0-24 Mos/Bottoms', 0)\n",
      "('Kids/Boys 0-24 Mos/Bottoms', 1)\n",
      "('Kids/Boys 0-24 Mos/Coats & Jackets', 0)\n",
      "('Kids/Boys 0-24 Mos/Coats & Jackets', 1)\n",
      "('Kids/Boys 0-24 Mos/One-Pieces', 0)\n",
      "('Kids/Boys 0-24 Mos/One-Pieces', 1)\n",
      "('Kids/Boys 0-24 Mos/Other', 0)\n",
      "('Kids/Boys 0-24 Mos/Other', 1)\n",
      "('Kids/Boys 0-24 Mos/Shoes', 0)\n",
      "('Kids/Boys 0-24 Mos/Shoes', 1)\n",
      "('Kids/Boys 0-24 Mos/Swimwear', 0)\n",
      "('Kids/Boys 0-24 Mos/Swimwear', 1)\n",
      "('Kids/Boys 0-24 Mos/Tops & T-Shirts', 0)\n",
      "('Kids/Boys 0-24 Mos/Tops & T-Shirts', 1)\n",
      "('Kids/Boys 2T-5T/Accessories', 0)\n",
      "('Kids/Boys 2T-5T/Accessories', 1)\n",
      "('Kids/Boys 2T-5T/Bottoms', 0)\n",
      "('Kids/Boys 2T-5T/Bottoms', 1)\n",
      "('Kids/Boys 2T-5T/Coats & Jackets', 0)\n",
      "('Kids/Boys 2T-5T/Coats & Jackets', 1)\n",
      "('Kids/Boys 2T-5T/One-Pieces', 0)\n",
      "('Kids/Boys 2T-5T/One-Pieces', 1)\n",
      "('Kids/Boys 2T-5T/Other', 0)\n",
      "('Kids/Boys 2T-5T/Other', 1)\n",
      "('Kids/Boys 2T-5T/Shoes', 0)\n",
      "('Kids/Boys 2T-5T/Shoes', 1)\n",
      "('Kids/Boys 2T-5T/Swimwear', 0)\n",
      "('Kids/Boys 2T-5T/Swimwear', 1)\n",
      "('Kids/Boys 2T-5T/Tops & T-Shirts', 0)\n",
      "('Kids/Boys 2T-5T/Tops & T-Shirts', 1)\n",
      "('Kids/Car Seats & Accessories/Accessories', 0)\n",
      "('Kids/Car Seats & Accessories/Accessories', 1)\n",
      "('Kids/Car Seats & Accessories/Car Seats', 0)\n",
      "('Kids/Car Seats & Accessories/Car Seats', 1)\n",
      "('Kids/Car Seats & Accessories/Other', 0)\n",
      "('Kids/Car Seats & Accessories/Other', 1)\n",
      "('Kids/Diapering/Changing Kits', 0)\n",
      "('Kids/Diapering/Changing Kits', 1)\n",
      "('Kids/Diapering/Changing Pads & Covers', 0)\n",
      "('Kids/Diapering/Changing Pads & Covers', 1)\n",
      "('Kids/Diapering/Cloth Diapers', 0)\n",
      "('Kids/Diapering/Cloth Diapers', 1)\n",
      "('Kids/Diapering/Diaper Bags', 0)\n",
      "('Kids/Diapering/Diaper Bags', 1)\n",
      "('Kids/Diapering/Diaper Pails & Refills', 0)\n",
      "('Kids/Diapering/Diaper Pails & Refills', 1)\n",
      "('Kids/Diapering/Diaper Stackers & Caddies', 0)\n",
      "('Kids/Diapering/Diaper Stackers & Caddies', 1)\n",
      "('Kids/Diapering/Disposable Diapers', 0)\n",
      "('Kids/Diapering/Disposable Diapers', 1)\n",
      "('Kids/Diapering/Other', 0)\n",
      "('Kids/Diapering/Other', 1)\n",
      "('Kids/Diapering/Powders & Lotions', 0)\n",
      "('Kids/Diapering/Powders & Lotions', 1)\n",
      "('Kids/Diapering/Washcloths & Towels', 1)\n",
      "('Kids/Diapering/Wipes & Holders', 0)\n",
      "('Kids/Diapering/Wipes & Holders', 1)\n",
      "('Kids/Feeding/Bottle-Feeding', 0)\n",
      "('Kids/Feeding/Bottle-Feeding', 1)\n",
      "('Kids/Feeding/Breastfeeding', 0)\n",
      "('Kids/Feeding/Breastfeeding', 1)\n",
      "('Kids/Feeding/Gift Sets', 0)\n",
      "('Kids/Feeding/Gift Sets', 1)\n",
      "('Kids/Feeding/Highchairs & Booster Seats', 0)\n",
      "('Kids/Feeding/Highchairs & Booster Seats', 1)\n",
      "('Kids/Feeding/Other', 0)\n",
      "('Kids/Feeding/Other', 1)\n",
      "('Kids/Feeding/Pacifiers & Accessories', 0)\n",
      "('Kids/Feeding/Pacifiers & Accessories', 1)\n",
      "('Kids/Feeding/Pillows & Stools', 0)\n",
      "('Kids/Feeding/Pillows & Stools', 1)\n",
      "('Kids/Feeding/Storage & Containers', 0)\n",
      "('Kids/Feeding/Storage & Containers', 1)\n",
      "('Kids/Gear/Activity Centers & Entertainers', 0)\n",
      "('Kids/Gear/Activity Centers & Entertainers', 1)\n",
      "('Kids/Gear/Baby Gyms & Playmats', 0)\n",
      "('Kids/Gear/Baby Gyms & Playmats', 1)\n",
      "('Kids/Gear/Baby Seats', 0)\n",
      "('Kids/Gear/Baby Seats', 1)\n",
      "('Kids/Gear/Backpacks & Carriers', 0)\n",
      "('Kids/Gear/Backpacks & Carriers', 1)\n",
      "('Kids/Gear/Bicycle Child Seats & Trailers', 0)\n",
      "('Kids/Gear/Harnesses & Leashes', 0)\n",
      "('Kids/Gear/Harnesses & Leashes', 1)\n",
      "('Kids/Gear/Other', 0)\n",
      "('Kids/Gear/Other', 1)\n",
      "('Kids/Gear/Playard Bedding', 0)\n",
      "('Kids/Gear/Playards', 0)\n",
      "('Kids/Gear/Playards', 1)\n",
      "('Kids/Gear/Shopping Cart Covers', 0)\n",
      "('Kids/Gear/Shopping Cart Covers', 1)\n",
      "('Kids/Gear/Swings, Jumpers & Bouncers', 0)\n",
      "('Kids/Gear/Swings, Jumpers & Bouncers', 1)\n",
      "('Kids/Gear/Travel Beds', 0)\n",
      "('Kids/Gear/Travel Beds', 1)\n",
      "('Kids/Gear/Walkers', 0)\n",
      "('Kids/Gear/Walkers', 1)\n",
      "('Kids/Girls (4+)/Accessories', 0)\n",
      "('Kids/Girls (4+)/Accessories', 1)\n",
      "('Kids/Girls (4+)/Coats & Jackets', 0)\n",
      "('Kids/Girls (4+)/Coats & Jackets', 1)\n",
      "('Kids/Girls (4+)/Dresses', 0)\n",
      "('Kids/Girls (4+)/Dresses', 1)\n",
      "('Kids/Girls (4+)/Jeans', 0)\n",
      "('Kids/Girls (4+)/Jeans', 1)\n",
      "('Kids/Girls (4+)/Other', 0)\n",
      "('Kids/Girls (4+)/Other', 1)\n",
      "('Kids/Girls (4+)/Shoes', 0)\n",
      "('Kids/Girls (4+)/Shoes', 1)\n",
      "('Kids/Girls (4+)/Swimwear', 0)\n",
      "('Kids/Girls (4+)/Swimwear', 1)\n",
      "('Kids/Girls (4+)/Tops & T-Shirts', 0)\n",
      "('Kids/Girls (4+)/Tops & T-Shirts', 1)\n",
      "('Kids/Girls 0-24 Mos/Accessories', 0)\n",
      "('Kids/Girls 0-24 Mos/Accessories', 1)\n",
      "('Kids/Girls 0-24 Mos/Bottoms', 0)\n",
      "('Kids/Girls 0-24 Mos/Bottoms', 1)\n",
      "('Kids/Girls 0-24 Mos/Coats & Jackets', 0)\n",
      "('Kids/Girls 0-24 Mos/Coats & Jackets', 1)\n",
      "('Kids/Girls 0-24 Mos/Dresses', 0)\n",
      "('Kids/Girls 0-24 Mos/Dresses', 1)\n",
      "('Kids/Girls 0-24 Mos/One-Pieces', 0)\n",
      "('Kids/Girls 0-24 Mos/One-Pieces', 1)\n",
      "('Kids/Girls 0-24 Mos/Other', 0)\n",
      "('Kids/Girls 0-24 Mos/Other', 1)\n",
      "('Kids/Girls 0-24 Mos/Shoes', 0)\n",
      "('Kids/Girls 0-24 Mos/Shoes', 1)\n",
      "('Kids/Girls 0-24 Mos/Swimwear', 0)\n",
      "('Kids/Girls 0-24 Mos/Swimwear', 1)\n",
      "('Kids/Girls 0-24 Mos/Tops & T-Shirts', 0)\n",
      "('Kids/Girls 0-24 Mos/Tops & T-Shirts', 1)\n",
      "('Kids/Girls 2T-5T/Accessories', 0)\n",
      "('Kids/Girls 2T-5T/Accessories', 1)\n",
      "('Kids/Girls 2T-5T/Bottoms', 0)\n",
      "('Kids/Girls 2T-5T/Bottoms', 1)\n",
      "('Kids/Girls 2T-5T/Coats & Jackets', 0)\n",
      "('Kids/Girls 2T-5T/Coats & Jackets', 1)\n",
      "('Kids/Girls 2T-5T/Dresses', 0)\n",
      "('Kids/Girls 2T-5T/Dresses', 1)\n",
      "('Kids/Girls 2T-5T/One-Pieces', 0)\n",
      "('Kids/Girls 2T-5T/One-Pieces', 1)\n",
      "('Kids/Girls 2T-5T/Other', 0)\n",
      "('Kids/Girls 2T-5T/Other', 1)\n",
      "('Kids/Girls 2T-5T/Shoes', 0)\n",
      "('Kids/Girls 2T-5T/Shoes', 1)\n",
      "('Kids/Girls 2T-5T/Swimwear', 0)\n",
      "('Kids/Girls 2T-5T/Swimwear', 1)\n",
      "('Kids/Girls 2T-5T/Tops & T-Shirts', 0)\n",
      "('Kids/Girls 2T-5T/Tops & T-Shirts', 1)\n",
      "('Kids/Health & Baby Care/Humidifiers & Vaporizers', 0)\n",
      "('Kids/Health & Baby Care/Humidifiers & Vaporizers', 1)\n",
      "('Kids/Health & Baby Care/Nail Care', 0)\n",
      "('Kids/Health & Baby Care/Nail Care', 1)\n",
      "('Kids/Health & Baby Care/Nasal Aspirators', 0)\n",
      "('Kids/Health & Baby Care/Nasal Aspirators', 1)\n",
      "('Kids/Health & Baby Care/Other', 0)\n",
      "('Kids/Health & Baby Care/Other', 1)\n",
      "('Kids/Health & Baby Care/Sun Protection', 0)\n",
      "('Kids/Health & Baby Care/Sun Protection', 1)\n",
      "('Kids/Health & Baby Care/Teethers', 0)\n",
      "('Kids/Health & Baby Care/Teethers', 1)\n",
      "('Kids/Health & Baby Care/Teething Relief', 0)\n",
      "('Kids/Health & Baby Care/Teething Relief', 1)\n",
      "('Kids/Health & Baby Care/Thermometers', 0)\n",
      "('Kids/Health & Baby Care/Thermometers', 1)\n",
      "('Kids/Health & Baby Care/Toothbrushes', 0)\n",
      "('Kids/Health & Baby Care/Toothbrushes', 1)\n",
      "('Kids/Nursery/Bedding', 0)\n",
      "('Kids/Nursery/Bedding', 1)\n",
      "('Kids/Nursery/Furniture', 0)\n",
      "('Kids/Nursery/Furniture', 1)\n",
      "('Kids/Nursery/Nursery Décor', 0)\n",
      "('Kids/Nursery/Nursery Décor', 1)\n",
      "('Kids/Nursery/Other', 0)\n",
      "('Kids/Nursery/Other', 1)\n",
      "('Kids/Other/Other', 0)\n",
      "('Kids/Other/Other', 1)\n",
      "('Kids/Potty Training/Other', 0)\n",
      "('Kids/Potty Training/Other', 1)\n",
      "('Kids/Potty Training/Potties & Seats', 0)\n",
      "('Kids/Potty Training/Potties & Seats', 1)\n",
      "('Kids/Potty Training/Seat Covers', 0)\n",
      "('Kids/Potty Training/Step Stools', 0)\n",
      "('Kids/Potty Training/Training Pants', 0)\n",
      "('Kids/Potty Training/Training Pants', 1)\n",
      "('Kids/Pregnancy & Maternity/Breastfeeding Pillows & Stools', 0)\n",
      "('Kids/Pregnancy & Maternity/Breastfeeding Pillows & Stools', 1)\n",
      "('Kids/Pregnancy & Maternity/Family Planning Tests', 0)\n",
      "('Kids/Pregnancy & Maternity/Family Planning Tests', 1)\n",
      "('Kids/Pregnancy & Maternity/Maternity Pillows', 0)\n",
      "('Kids/Pregnancy & Maternity/Maternity Pillows', 1)\n",
      "('Kids/Pregnancy & Maternity/Other', 0)\n",
      "('Kids/Pregnancy & Maternity/Other', 1)\n",
      "('Kids/Pregnancy & Maternity/Prenatal Monitoring Devices', 0)\n",
      "('Kids/Pregnancy & Maternity/Prenatal Monitoring Devices', 1)\n",
      "('Kids/Safety/Bathroom Safety', 0)\n",
      "('Kids/Safety/Cabinet Locks & Straps', 0)\n",
      "('Kids/Safety/Cabinet Locks & Straps', 1)\n",
      "('Kids/Safety/Crib Netting', 1)\n",
      "('Kids/Safety/Edge & Corner Guards', 0)\n",
      "('Kids/Safety/Edge & Corner Guards', 1)\n",
      "('Kids/Safety/Electrical Safety', 0)\n",
      "('Kids/Safety/Electrical Safety', 1)\n",
      "('Kids/Safety/Gates & Doorways', 0)\n",
      "('Kids/Safety/Gates & Doorways', 1)\n",
      "('Kids/Safety/Harnesses & Leashes', 0)\n",
      "('Kids/Safety/Harnesses & Leashes', 1)\n",
      "('Kids/Safety/Kitchen Safety', 0)\n",
      "('Kids/Safety/Kitchen Safety', 1)\n",
      "('Kids/Safety/Monitors', 0)\n",
      "('Kids/Safety/Monitors', 1)\n",
      "('Kids/Safety/Other', 0)\n",
      "('Kids/Safety/Other', 1)\n",
      "('Kids/Safety/Outdoor Safety', 0)\n",
      "('Kids/Safety/Outdoor Safety', 1)\n",
      "('Kids/Safety/Safety Caps', 0)\n",
      "('Kids/Safety/Safety Caps', 1)\n",
      "('Kids/Safety/Sleep Positioners', 0)\n",
      "('Kids/Safety/Sleep Positioners', 1)\n",
      "('Kids/Strollers/Accessories', 0)\n",
      "('Kids/Strollers/Accessories', 1)\n",
      "('Kids/Strollers/Joggers', 0)\n",
      "('Kids/Strollers/Joggers', 1)\n",
      "('Kids/Strollers/Lightweight', 0)\n",
      "('Kids/Strollers/Lightweight', 1)\n",
      "('Kids/Strollers/Other', 0)\n",
      "('Kids/Strollers/Other', 1)\n",
      "('Kids/Strollers/Prams', 0)\n",
      "('Kids/Strollers/Prams', 1)\n",
      "('Kids/Strollers/Standard', 0)\n",
      "('Kids/Strollers/Standard', 1)\n",
      "('Kids/Strollers/Travel Systems', 0)\n",
      "('Kids/Strollers/Travel Systems', 1)\n",
      "('Kids/Toys/Action Figures & Statues', 0)\n",
      "('Kids/Toys/Action Figures & Statues', 1)\n",
      "('Kids/Toys/Arts & Crafts', 0)\n",
      "('Kids/Toys/Arts & Crafts', 1)\n",
      "('Kids/Toys/Baby & Toddler Toys', 0)\n",
      "('Kids/Toys/Baby & Toddler Toys', 1)\n",
      "('Kids/Toys/Building Toys', 0)\n",
      "('Kids/Toys/Building Toys', 1)\n",
      "('Kids/Toys/Dolls & Accessories', 0)\n",
      "('Kids/Toys/Dolls & Accessories', 1)\n",
      "('Kids/Toys/Dress Up & Pretend Play', 0)\n",
      "('Kids/Toys/Dress Up & Pretend Play', 1)\n",
      "('Kids/Toys/Electronics for Kids', 0)\n",
      "('Kids/Toys/Electronics for Kids', 1)\n",
      "('Kids/Toys/Games', 0)\n",
      "('Kids/Toys/Games', 1)\n",
      "('Kids/Toys/Hobbies', 0)\n",
      "('Kids/Toys/Hobbies', 1)\n",
      "(\"Kids/Toys/Kids' Furniture, Décor & Storage\", 0)\n",
      "(\"Kids/Toys/Kids' Furniture, Décor & Storage\", 1)\n",
      "('Kids/Toys/Learning & Education', 0)\n",
      "('Kids/Toys/Learning & Education', 1)\n",
      "('Kids/Toys/Novelty & Gag Toys', 0)\n",
      "('Kids/Toys/Novelty & Gag Toys', 1)\n",
      "('Kids/Toys/Other', 0)\n",
      "('Kids/Toys/Other', 1)\n",
      "('Kids/Toys/Party Supplies', 0)\n",
      "('Kids/Toys/Party Supplies', 1)\n",
      "('Kids/Toys/Puzzles', 0)\n",
      "('Kids/Toys/Puzzles', 1)\n",
      "('Kids/Toys/Sports & Outdoor Play', 0)\n",
      "('Kids/Toys/Sports & Outdoor Play', 1)\n",
      "('Kids/Toys/Stuffed Animals & Plush', 0)\n",
      "('Kids/Toys/Stuffed Animals & Plush', 1)\n",
      "('Kids/Toys/Toy Remote Control & Play Vehicles', 0)\n",
      "('Kids/Toys/Toy Remote Control & Play Vehicles', 1)\n",
      "('Kids/Toys/Tricycles, Scooters & Wagons', 0)\n",
      "('Kids/Toys/Tricycles, Scooters & Wagons', 1)\n",
      "('Men/Athletic Apparel/Competitive Swimwear', 0)\n",
      "('Men/Athletic Apparel/Competitive Swimwear', 1)\n",
      "('Men/Athletic Apparel/Jackets', 0)\n",
      "('Men/Athletic Apparel/Jackets', 1)\n",
      "('Men/Athletic Apparel/Jerseys', 0)\n",
      "('Men/Athletic Apparel/Jerseys', 1)\n",
      "('Men/Athletic Apparel/Other', 0)\n",
      "('Men/Athletic Apparel/Other', 1)\n",
      "('Men/Athletic Apparel/Pants', 0)\n",
      "('Men/Athletic Apparel/Pants', 1)\n",
      "('Men/Athletic Apparel/Shirts & Tops', 0)\n",
      "('Men/Athletic Apparel/Shirts & Tops', 1)\n",
      "('Men/Athletic Apparel/Shorts', 0)\n",
      "('Men/Athletic Apparel/Shorts', 1)\n",
      "('Men/Athletic Apparel/Snowsuits & Bibs', 0)\n",
      "('Men/Athletic Apparel/Snowsuits & Bibs', 1)\n",
      "('Men/Athletic Apparel/Socks', 0)\n",
      "('Men/Athletic Apparel/Socks', 1)\n",
      "('Men/Athletic Apparel/Tracksuits & Sweats', 0)\n",
      "('Men/Athletic Apparel/Tracksuits & Sweats', 1)\n",
      "('Men/Athletic Apparel/Vests', 0)\n",
      "('Men/Athletic Apparel/Vests', 1)\n",
      "('Men/Blazers & Sport Coats/Double Breasted', 0)\n",
      "('Men/Blazers & Sport Coats/One Button', 0)\n",
      "('Men/Blazers & Sport Coats/One Button', 1)\n",
      "('Men/Blazers & Sport Coats/Other', 0)\n",
      "('Men/Blazers & Sport Coats/Other', 1)\n",
      "('Men/Blazers & Sport Coats/Three Button', 0)\n",
      "('Men/Blazers & Sport Coats/Three Button', 1)\n",
      "('Men/Blazers & Sport Coats/Two Button', 0)\n",
      "('Men/Blazers & Sport Coats/Two Button', 1)\n",
      "('Men/Coats & Jackets/Fleece Jacket', 0)\n",
      "('Men/Coats & Jackets/Fleece Jacket', 1)\n",
      "('Men/Coats & Jackets/Flight/Bomber', 0)\n",
      "('Men/Coats & Jackets/Flight/Bomber', 1)\n",
      "('Men/Coats & Jackets/Jean Jacket', 0)\n",
      "('Men/Coats & Jackets/Jean Jacket', 1)\n",
      "('Men/Coats & Jackets/Military', 0)\n",
      "('Men/Coats & Jackets/Military', 1)\n",
      "('Men/Coats & Jackets/Motorcycle', 0)\n",
      "('Men/Coats & Jackets/Motorcycle', 1)\n",
      "('Men/Coats & Jackets/Other', 0)\n",
      "('Men/Coats & Jackets/Other', 1)\n",
      "('Men/Coats & Jackets/Parka', 0)\n",
      "('Men/Coats & Jackets/Parka', 1)\n",
      "('Men/Coats & Jackets/Peacoat', 0)\n",
      "('Men/Coats & Jackets/Peacoat', 1)\n",
      "('Men/Coats & Jackets/Poncho', 0)\n",
      "('Men/Coats & Jackets/Puffer', 0)\n",
      "('Men/Coats & Jackets/Puffer', 1)\n",
      "('Men/Coats & Jackets/Rainwear', 0)\n",
      "('Men/Coats & Jackets/Rainwear', 1)\n",
      "('Men/Coats & Jackets/Trench', 0)\n",
      "('Men/Coats & Jackets/Trench', 1)\n",
      "('Men/Coats & Jackets/Varsity/Baseball', 0)\n",
      "('Men/Coats & Jackets/Varsity/Baseball', 1)\n",
      "('Men/Coats & Jackets/Vest', 0)\n",
      "('Men/Coats & Jackets/Vest', 1)\n",
      "('Men/Coats & Jackets/Windbreaker', 0)\n",
      "('Men/Coats & Jackets/Windbreaker', 1)\n",
      "('Men/Coats & Jackets/Wool', 0)\n",
      "('Men/Coats & Jackets/Wool', 1)\n",
      "('Men/Jeans/Baggy, Loose', 0)\n",
      "('Men/Jeans/Baggy, Loose', 1)\n",
      "('Men/Jeans/Boot Cut', 0)\n",
      "('Men/Jeans/Boot Cut', 1)\n",
      "('Men/Jeans/Cargo', 0)\n",
      "('Men/Jeans/Cargo', 1)\n",
      "('Men/Jeans/Carpenter', 0)\n",
      "('Men/Jeans/Carpenter', 1)\n",
      "('Men/Jeans/Classic, Straight Leg', 0)\n",
      "('Men/Jeans/Classic, Straight Leg', 1)\n",
      "('Men/Jeans/Other', 0)\n",
      "('Men/Jeans/Other', 1)\n",
      "('Men/Jeans/Overalls', 0)\n",
      "('Men/Jeans/Overalls', 1)\n",
      "('Men/Jeans/Relaxed', 0)\n",
      "('Men/Jeans/Relaxed', 1)\n",
      "('Men/Jeans/Slim, Skinny', 0)\n",
      "('Men/Jeans/Slim, Skinny', 1)\n",
      "(\"Men/Men's Accessories/Backpacks, Bags & Briefcases\", 0)\n",
      "(\"Men/Men's Accessories/Backpacks, Bags & Briefcases\", 1)\n",
      "(\"Men/Men's Accessories/Belts\", 0)\n",
      "(\"Men/Men's Accessories/Belts\", 1)\n",
      "(\"Men/Men's Accessories/Hats\", 0)\n",
      "(\"Men/Men's Accessories/Hats\", 1)\n",
      "(\"Men/Men's Accessories/Other\", 0)\n",
      "(\"Men/Men's Accessories/Other\", 1)\n",
      "(\"Men/Men's Accessories/Sunglasses\", 0)\n",
      "(\"Men/Men's Accessories/Sunglasses\", 1)\n",
      "(\"Men/Men's Accessories/Ties\", 0)\n",
      "(\"Men/Men's Accessories/Ties\", 1)\n",
      "(\"Men/Men's Accessories/Wallets\", 0)\n",
      "(\"Men/Men's Accessories/Wallets\", 1)\n",
      "(\"Men/Men's Accessories/Watches\", 0)\n",
      "(\"Men/Men's Accessories/Watches\", 1)\n",
      "('Men/Other/Other', 0)\n",
      "('Men/Other/Other', 1)\n",
      "('Men/Pants/Cargo', 0)\n",
      "('Men/Pants/Cargo', 1)\n",
      "('Men/Pants/Carpenter', 0)\n",
      "('Men/Pants/Carpenter', 1)\n",
      "('Men/Pants/Casual Pants', 0)\n",
      "('Men/Pants/Casual Pants', 1)\n",
      "('Men/Pants/Corduroys', 0)\n",
      "('Men/Pants/Corduroys', 1)\n",
      "('Men/Pants/Dress - Flat Front', 0)\n",
      "('Men/Pants/Dress - Flat Front', 1)\n",
      "('Men/Pants/Dress - Pleat', 0)\n",
      "('Men/Pants/Dress - Pleat', 1)\n",
      "('Men/Pants/Khakis, Chinos', 0)\n",
      "('Men/Pants/Khakis, Chinos', 1)\n",
      "('Men/Pants/Other', 0)\n",
      "('Men/Pants/Other', 1)\n",
      "('Men/Shoes/Athletic', 0)\n",
      "('Men/Shoes/Athletic', 1)\n",
      "('Men/Shoes/Boots', 0)\n",
      "('Men/Shoes/Boots', 1)\n",
      "('Men/Shoes/Fashion Sneakers', 0)\n",
      "('Men/Shoes/Fashion Sneakers', 1)\n",
      "('Men/Shoes/Loafers & Slip-Ons', 0)\n",
      "('Men/Shoes/Loafers & Slip-Ons', 1)\n",
      "('Men/Shoes/Mules & Clogs', 0)\n",
      "('Men/Shoes/Mules & Clogs', 1)\n",
      "('Men/Shoes/Outdoor', 0)\n",
      "('Men/Shoes/Outdoor', 1)\n",
      "('Men/Shoes/Oxfords', 0)\n",
      "('Men/Shoes/Oxfords', 1)\n",
      "('Men/Shoes/Sandals', 0)\n",
      "('Men/Shoes/Sandals', 1)\n",
      "('Men/Shoes/Slippers', 0)\n",
      "('Men/Shoes/Slippers', 1)\n",
      "('Men/Shoes/Work & Safety', 0)\n",
      "('Men/Shoes/Work & Safety', 1)\n",
      "('Men/Shorts/Athletic', 0)\n",
      "('Men/Shorts/Athletic', 1)\n",
      "('Men/Shorts/Board, Surf', 0)\n",
      "('Men/Shorts/Board, Surf', 1)\n",
      "('Men/Shorts/Cargo', 0)\n",
      "('Men/Shorts/Cargo', 1)\n",
      "('Men/Shorts/Carpenter, Utility', 0)\n",
      "('Men/Shorts/Carpenter, Utility', 1)\n",
      "('Men/Shorts/Casual Shorts', 0)\n",
      "('Men/Shorts/Casual Shorts', 1)\n",
      "('Men/Shorts/Denim', 0)\n",
      "('Men/Shorts/Denim', 1)\n",
      "('Men/Shorts/Dress Shorts', 0)\n",
      "('Men/Shorts/Dress Shorts', 1)\n",
      "('Men/Shorts/Khakis, Chinos', 0)\n",
      "('Men/Shorts/Khakis, Chinos', 1)\n",
      "('Men/Shorts/Other', 0)\n",
      "('Men/Shorts/Other', 1)\n",
      "('Men/Suits/Four Button', 0)\n",
      "('Men/Suits/One Button', 0)\n",
      "('Men/Suits/Other', 0)\n",
      "('Men/Suits/Other', 1)\n",
      "('Men/Suits/Three Button', 0)\n",
      "('Men/Suits/Three Button', 1)\n",
      "('Men/Suits/Tuxedo', 0)\n",
      "('Men/Suits/Tuxedo', 1)\n",
      "('Men/Suits/Two Button', 0)\n",
      "('Men/Suits/Two Button', 1)\n",
      "('Men/Sweaters/Cardigan', 0)\n",
      "('Men/Sweaters/Cardigan', 1)\n",
      "('Men/Sweaters/Crewneck', 0)\n",
      "('Men/Sweaters/Crewneck', 1)\n",
      "('Men/Sweaters/Full Zip', 0)\n",
      "('Men/Sweaters/Full Zip', 1)\n",
      "('Men/Sweaters/Other', 0)\n",
      "('Men/Sweaters/Other', 1)\n",
      "('Men/Sweaters/Polo', 0)\n",
      "('Men/Sweaters/Polo', 1)\n",
      "('Men/Sweaters/Turtleneck', 0)\n",
      "('Men/Sweaters/Turtleneck', 1)\n",
      "('Men/Sweaters/V-Neck', 0)\n",
      "('Men/Sweaters/V-Neck', 1)\n",
      "('Men/Sweaters/Vest', 0)\n",
      "('Men/Sweaters/Vest', 1)\n",
      "('Men/Sweats & Hoodies/Hoodie', 0)\n",
      "('Men/Sweats & Hoodies/Hoodie', 1)\n",
      "('Men/Sweats & Hoodies/Other', 0)\n",
      "('Men/Sweats & Hoodies/Other', 1)\n",
      "('Men/Sweats & Hoodies/Sweatshirt, Pullover', 0)\n",
      "('Men/Sweats & Hoodies/Sweatshirt, Pullover', 1)\n",
      "('Men/Sweats & Hoodies/Track & Sweat Pants', 0)\n",
      "('Men/Sweats & Hoodies/Track & Sweat Pants', 1)\n",
      "('Men/Sweats & Hoodies/Track & Sweat Suits', 0)\n",
      "('Men/Sweats & Hoodies/Track & Sweat Suits', 1)\n",
      "('Men/Sweats & Hoodies/Track Jacket', 0)\n",
      "('Men/Sweats & Hoodies/Track Jacket', 1)\n",
      "('Men/Swimwear/Board Shorts', 0)\n",
      "('Men/Swimwear/Board Shorts', 1)\n",
      "('Men/Swimwear/Swim Briefs', 0)\n",
      "('Men/Swimwear/Swim Briefs', 1)\n",
      "('Men/Swimwear/Swim Trunks', 0)\n"
     ]
    },
    {
     "name": "stdout",
     "output_type": "stream",
     "text": [
      "('Men/Swimwear/Swim Trunks', 1)\n",
      "('Men/Tops/Button-Front', 0)\n",
      "('Men/Tops/Button-Front', 1)\n",
      "('Men/Tops/Dress Shirts', 0)\n",
      "('Men/Tops/Dress Shirts', 1)\n",
      "('Men/Tops/Hawaiian', 0)\n",
      "('Men/Tops/Hawaiian', 1)\n",
      "('Men/Tops/Henley', 0)\n",
      "('Men/Tops/Henley', 1)\n",
      "('Men/Tops/Other', 0)\n",
      "('Men/Tops/Other', 1)\n",
      "('Men/Tops/Polo, Rugby', 0)\n",
      "('Men/Tops/Polo, Rugby', 1)\n",
      "('Men/Tops/T-shirts', 0)\n",
      "('Men/Tops/T-shirts', 1)\n",
      "('Men/Tops/Tank', 0)\n",
      "('Men/Tops/Tank', 1)\n",
      "('Men/Tops/Turtleneck', 0)\n",
      "('Men/Tops/Turtleneck', 1)\n",
      "('Other/Automotive/Automotive Enthusiast Merchandise', 0)\n",
      "('Other/Automotive/Automotive Enthusiast Merchandise', 1)\n",
      "('Other/Automotive/Car Care', 0)\n",
      "('Other/Automotive/Car Care', 1)\n",
      "('Other/Automotive/Car Electronics & Accessories', 0)\n",
      "('Other/Automotive/Car Electronics & Accessories', 1)\n",
      "('Other/Automotive/Exterior Accessories', 0)\n",
      "('Other/Automotive/Exterior Accessories', 1)\n",
      "('Other/Automotive/Interior Accessories', 0)\n",
      "('Other/Automotive/Interior Accessories', 1)\n",
      "('Other/Automotive/Lights & Lighting Accessories', 0)\n",
      "('Other/Automotive/Lights & Lighting Accessories', 1)\n",
      "('Other/Automotive/Motorcycle & Powersports', 0)\n",
      "('Other/Automotive/Motorcycle & Powersports', 1)\n",
      "('Other/Automotive/Oils & Fluids', 0)\n",
      "('Other/Automotive/Oils & Fluids', 1)\n",
      "('Other/Automotive/Other', 0)\n",
      "('Other/Automotive/Other', 1)\n",
      "('Other/Automotive/Paint, Body & Trim', 0)\n",
      "('Other/Automotive/Paint, Body & Trim', 1)\n",
      "('Other/Automotive/Performance Parts & Accessories', 0)\n",
      "('Other/Automotive/Performance Parts & Accessories', 1)\n",
      "('Other/Automotive/RV Parts & Accessories', 1)\n",
      "('Other/Automotive/Replacement Parts', 0)\n",
      "('Other/Automotive/Replacement Parts', 1)\n",
      "('Other/Automotive/Tires & Wheels', 0)\n",
      "('Other/Automotive/Tires & Wheels', 1)\n",
      "('Other/Automotive/Tools & Equipment', 0)\n",
      "('Other/Automotive/Tools & Equipment', 1)\n",
      "('Other/Books/Arts & Photography', 0)\n",
      "('Other/Books/Arts & Photography', 1)\n",
      "('Other/Books/Biographies & Memoirs', 0)\n",
      "('Other/Books/Biographies & Memoirs', 1)\n",
      "('Other/Books/Business & Money', 0)\n",
      "('Other/Books/Business & Money', 1)\n",
      "(\"Other/Books/Children's Books\", 0)\n",
      "(\"Other/Books/Children's Books\", 1)\n",
      "('Other/Books/Christian Books & Bibles', 0)\n",
      "('Other/Books/Christian Books & Bibles', 1)\n",
      "('Other/Books/Education & Teaching', 0)\n",
      "('Other/Books/Education & Teaching', 1)\n",
      "('Other/Books/Engineering & Transportation', 0)\n",
      "('Other/Books/Engineering & Transportation', 1)\n",
      "('Other/Books/History', 0)\n",
      "('Other/Books/History', 1)\n",
      "('Other/Books/Literature & Fiction', 0)\n",
      "('Other/Books/Literature & Fiction', 1)\n",
      "('Other/Books/Medical Books', 0)\n",
      "('Other/Books/Medical Books', 1)\n",
      "('Other/Books/Other', 0)\n",
      "('Other/Books/Other', 1)\n",
      "('Other/Books/Politics & Social Sciences', 0)\n",
      "('Other/Books/Politics & Social Sciences', 1)\n",
      "('Other/Books/Reference', 0)\n",
      "('Other/Books/Reference', 1)\n",
      "('Other/Books/Religion & Spirituality', 0)\n",
      "('Other/Books/Religion & Spirituality', 1)\n",
      "('Other/Books/Science & Math', 0)\n",
      "('Other/Books/Science & Math', 1)\n",
      "('Other/Daily & Travel items/Baby & Child Care', 0)\n",
      "('Other/Daily & Travel items/Baby & Child Care', 1)\n",
      "('Other/Daily & Travel items/Health Care', 0)\n",
      "('Other/Daily & Travel items/Health Care', 1)\n",
      "('Other/Daily & Travel items/Household Supplies', 0)\n",
      "('Other/Daily & Travel items/Household Supplies', 1)\n",
      "('Other/Daily & Travel items/Medical Supplies & Equipment', 0)\n",
      "('Other/Daily & Travel items/Medical Supplies & Equipment', 1)\n",
      "('Other/Daily & Travel items/Other', 0)\n",
      "('Other/Daily & Travel items/Other', 1)\n",
      "('Other/Daily & Travel items/Personal Care', 0)\n",
      "('Other/Daily & Travel items/Personal Care', 1)\n",
      "('Other/Daily & Travel items/Sports Nutrition', 0)\n",
      "('Other/Daily & Travel items/Sports Nutrition', 1)\n",
      "('Other/Daily & Travel items/Stationery & Party Supplies', 0)\n",
      "('Other/Daily & Travel items/Stationery & Party Supplies', 1)\n",
      "('Other/Magazines/International Publications', 0)\n",
      "('Other/Magazines/Lifestyle & Cultures', 0)\n",
      "('Other/Magazines/Lifestyle & Cultures', 1)\n",
      "('Other/Magazines/Other', 0)\n",
      "('Other/Magazines/Other', 1)\n",
      "('Other/Musical instruments/Amplifiers & Effects', 0)\n",
      "('Other/Musical instruments/Amplifiers & Effects', 1)\n",
      "('Other/Musical instruments/Band & Orchestra', 0)\n",
      "('Other/Musical instruments/Band & Orchestra', 1)\n",
      "('Other/Musical instruments/Bass Guitars', 0)\n",
      "('Other/Musical instruments/Bass Guitars', 1)\n",
      "('Other/Musical instruments/Brass Instruments', 0)\n",
      "('Other/Musical instruments/Brass Instruments', 1)\n",
      "('Other/Musical instruments/DJ, Electronic Music & Karaoke', 0)\n",
      "('Other/Musical instruments/DJ, Electronic Music & Karaoke', 1)\n",
      "('Other/Musical instruments/Drums & Percussion', 0)\n",
      "('Other/Musical instruments/Drums & Percussion', 1)\n",
      "('Other/Musical instruments/Guitars', 0)\n",
      "('Other/Musical instruments/Guitars', 1)\n",
      "('Other/Musical instruments/Instrument Accessories', 0)\n",
      "('Other/Musical instruments/Instrument Accessories', 1)\n",
      "('Other/Musical instruments/Keyboards', 0)\n",
      "('Other/Musical instruments/Keyboards', 1)\n",
      "('Other/Musical instruments/Live Sound & Stage', 0)\n",
      "('Other/Musical instruments/Live Sound & Stage', 1)\n",
      "('Other/Musical instruments/Microphones & Accessories', 0)\n",
      "('Other/Musical instruments/Microphones & Accessories', 1)\n",
      "('Other/Musical instruments/Other', 0)\n",
      "('Other/Musical instruments/Other', 1)\n",
      "('Other/Musical instruments/Stringed Instruments', 0)\n",
      "('Other/Musical instruments/Stringed Instruments', 1)\n",
      "('Other/Musical instruments/Studio Recording Equipment', 0)\n",
      "('Other/Musical instruments/Studio Recording Equipment', 1)\n",
      "('Other/Musical instruments/Wind & Woodwind Instruments', 0)\n",
      "('Other/Musical instruments/Wind & Woodwind Instruments', 1)\n",
      "('Other/Office supplies/Basic Supplies', 0)\n",
      "('Other/Office supplies/Basic Supplies', 1)\n",
      "('Other/Office supplies/Calendars', 0)\n",
      "('Other/Office supplies/Calendars', 1)\n",
      "('Other/Office supplies/Electronics', 0)\n",
      "('Other/Office supplies/Electronics', 1)\n",
      "('Other/Office supplies/Furniture', 0)\n",
      "('Other/Office supplies/Furniture', 1)\n",
      "('Other/Office supplies/Ink & Toner', 0)\n",
      "('Other/Office supplies/Ink & Toner', 1)\n",
      "('Other/Office supplies/Organization', 0)\n",
      "('Other/Office supplies/Organization', 1)\n",
      "('Other/Office supplies/Other', 0)\n",
      "('Other/Office supplies/Other', 1)\n",
      "('Other/Office supplies/Paper', 0)\n",
      "('Other/Office supplies/Paper', 1)\n",
      "('Other/Office supplies/Presentation', 0)\n",
      "('Other/Office supplies/Presentation', 1)\n",
      "('Other/Office supplies/School Supplies', 0)\n",
      "('Other/Office supplies/School Supplies', 1)\n",
      "('Other/Office supplies/Shipping Supplies', 0)\n",
      "('Other/Office supplies/Shipping Supplies', 1)\n",
      "('Other/Office supplies/Writing', 0)\n",
      "('Other/Office supplies/Writing', 1)\n",
      "('Other/Other/Other', 0)\n",
      "('Other/Other/Other', 1)\n",
      "('Other/Pet Supplies/Cage', 0)\n",
      "('Other/Pet Supplies/Cage', 1)\n",
      "('Other/Pet Supplies/Dogs', 0)\n",
      "('Other/Pet Supplies/Dogs', 1)\n",
      "('Other/Pet Supplies/Others', 0)\n",
      "('Other/Pet Supplies/Others', 1)\n",
      "('Other/Pet Supplies/Pet Food', 0)\n",
      "('Sports & Outdoors/Apparel/Accessories', 0)\n",
      "('Sports & Outdoors/Apparel/Accessories', 1)\n",
      "('Sports & Outdoors/Apparel/Boys', 0)\n",
      "('Sports & Outdoors/Apparel/Boys', 1)\n",
      "('Sports & Outdoors/Apparel/Girls', 0)\n",
      "('Sports & Outdoors/Apparel/Girls', 1)\n",
      "('Sports & Outdoors/Apparel/Men', 0)\n",
      "('Sports & Outdoors/Apparel/Men', 1)\n",
      "('Sports & Outdoors/Apparel/Other', 0)\n",
      "('Sports & Outdoors/Apparel/Other', 1)\n",
      "('Sports & Outdoors/Apparel/Women', 0)\n",
      "('Sports & Outdoors/Apparel/Women', 1)\n",
      "('Sports & Outdoors/Exercise/Athletic Training', 0)\n",
      "('Sports & Outdoors/Exercise/Athletic Training', 1)\n",
      "('Sports & Outdoors/Exercise/Bowling', 0)\n",
      "('Sports & Outdoors/Exercise/Bowling', 1)\n",
      "('Sports & Outdoors/Exercise/Boxing & MMA', 0)\n",
      "('Sports & Outdoors/Exercise/Boxing & MMA', 1)\n",
      "('Sports & Outdoors/Exercise/Dance/Ballet', 0)\n",
      "('Sports & Outdoors/Exercise/Dance/Ballet', 1)\n",
      "('Sports & Outdoors/Exercise/Fitness accessories', 0)\n",
      "('Sports & Outdoors/Exercise/Fitness accessories', 1)\n",
      "('Sports & Outdoors/Exercise/Fitness technology', 0)\n",
      "('Sports & Outdoors/Exercise/Fitness technology', 1)\n",
      "('Sports & Outdoors/Exercise/Other', 0)\n",
      "('Sports & Outdoors/Exercise/Other', 1)\n",
      "('Sports & Outdoors/Exercise/Strength training', 0)\n",
      "('Sports & Outdoors/Exercise/Strength training', 1)\n",
      "('Sports & Outdoors/Exercise/Track & Field', 0)\n",
      "('Sports & Outdoors/Exercise/Track & Field', 1)\n",
      "('Sports & Outdoors/Exercise/Yoga & Pilates', 0)\n",
      "('Sports & Outdoors/Exercise/Yoga & Pilates', 1)\n",
      "('Sports & Outdoors/Fan Shop/MLB', 0)\n",
      "('Sports & Outdoors/Fan Shop/MLB', 1)\n",
      "('Sports & Outdoors/Fan Shop/NBA', 0)\n",
      "('Sports & Outdoors/Fan Shop/NBA', 1)\n",
      "('Sports & Outdoors/Fan Shop/NCAA', 0)\n",
      "('Sports & Outdoors/Fan Shop/NCAA', 1)\n",
      "('Sports & Outdoors/Fan Shop/NFL', 0)\n",
      "('Sports & Outdoors/Fan Shop/NFL', 1)\n",
      "('Sports & Outdoors/Fan Shop/NHL', 0)\n",
      "('Sports & Outdoors/Fan Shop/NHL', 1)\n",
      "('Sports & Outdoors/Fan Shop/Other', 0)\n",
      "('Sports & Outdoors/Fan Shop/Other', 1)\n",
      "('Sports & Outdoors/Footwear/Cleats', 0)\n",
      "('Sports & Outdoors/Footwear/Cleats', 1)\n",
      "('Sports & Outdoors/Footwear/Kids', 0)\n",
      "('Sports & Outdoors/Footwear/Kids', 1)\n",
      "('Sports & Outdoors/Footwear/Men', 0)\n",
      "('Sports & Outdoors/Footwear/Men', 1)\n",
      "('Sports & Outdoors/Footwear/Other', 0)\n",
      "('Sports & Outdoors/Footwear/Other', 1)\n",
      "('Sports & Outdoors/Footwear/Women', 0)\n",
      "('Sports & Outdoors/Footwear/Women', 1)\n",
      "('Sports & Outdoors/Golf/Electronics', 0)\n",
      "('Sports & Outdoors/Golf/Electronics', 1)\n",
      "('Sports & Outdoors/Golf/Golf Apparel', 0)\n",
      "('Sports & Outdoors/Golf/Golf Apparel', 1)\n",
      "('Sports & Outdoors/Golf/Golf Bags', 0)\n",
      "('Sports & Outdoors/Golf/Golf Bags', 1)\n",
      "('Sports & Outdoors/Golf/Golf Balls', 0)\n",
      "('Sports & Outdoors/Golf/Golf Balls', 1)\n",
      "('Sports & Outdoors/Golf/Golf Shoes', 0)\n",
      "('Sports & Outdoors/Golf/Golf Shoes', 1)\n",
      "(\"Sports & Outdoors/Golf/Men's Golf Clubs\", 0)\n",
      "(\"Sports & Outdoors/Golf/Men's Golf Clubs\", 1)\n",
      "('Sports & Outdoors/Golf/Other', 0)\n",
      "('Sports & Outdoors/Golf/Other', 1)\n",
      "(\"Sports & Outdoors/Golf/Women's Golf Clubs\", 0)\n",
      "('Sports & Outdoors/Other/Other', 0)\n",
      "('Sports & Outdoors/Other/Other', 1)\n",
      "('Sports & Outdoors/Outdoors/Bike & Skate', 0)\n",
      "('Sports & Outdoors/Outdoors/Bike & Skate', 1)\n",
      "('Sports & Outdoors/Outdoors/Boating', 0)\n",
      "('Sports & Outdoors/Outdoors/Boating', 1)\n",
      "('Sports & Outdoors/Outdoors/Fishing', 0)\n",
      "('Sports & Outdoors/Outdoors/Fishing', 1)\n",
      "('Sports & Outdoors/Outdoors/Hiking & Camping', 0)\n",
      "('Sports & Outdoors/Outdoors/Hiking & Camping', 1)\n",
      "('Sports & Outdoors/Outdoors/Indoor/Outdoor Games', 0)\n",
      "('Sports & Outdoors/Outdoors/Indoor/Outdoor Games', 1)\n",
      "('Sports & Outdoors/Outdoors/Other', 0)\n",
      "('Sports & Outdoors/Outdoors/Other', 1)\n",
      "('Sports & Outdoors/Outdoors/Skateboard', 0)\n",
      "('Sports & Outdoors/Outdoors/Skateboard', 1)\n",
      "('Sports & Outdoors/Outdoors/Snowboard', 0)\n",
      "('Sports & Outdoors/Outdoors/Snowboard', 1)\n",
      "('Sports & Outdoors/Outdoors/Water Sports', 0)\n",
      "('Sports & Outdoors/Outdoors/Water Sports', 1)\n",
      "('Sports & Outdoors/Team Sports/All Other Sports', 0)\n",
      "('Sports & Outdoors/Team Sports/All Other Sports', 1)\n",
      "('Sports & Outdoors/Team Sports/Badminton', 0)\n",
      "('Sports & Outdoors/Team Sports/Baseball & Softball', 0)\n",
      "('Sports & Outdoors/Team Sports/Baseball & Softball', 1)\n",
      "('Sports & Outdoors/Team Sports/Basketball', 0)\n",
      "('Sports & Outdoors/Team Sports/Basketball', 1)\n",
      "('Sports & Outdoors/Team Sports/Football', 0)\n",
      "('Sports & Outdoors/Team Sports/Football', 1)\n",
      "('Sports & Outdoors/Team Sports/Hockey', 0)\n",
      "('Sports & Outdoors/Team Sports/Hockey', 1)\n",
      "('Sports & Outdoors/Team Sports/Lacrosse', 0)\n",
      "('Sports & Outdoors/Team Sports/Lacrosse', 1)\n",
      "('Sports & Outdoors/Team Sports/Soccer', 0)\n",
      "('Sports & Outdoors/Team Sports/Soccer', 1)\n",
      "('Sports & Outdoors/Team Sports/Tennis & Racquets', 0)\n",
      "('Sports & Outdoors/Team Sports/Tennis & Racquets', 1)\n",
      "('Sports & Outdoors/Team Sports/Volleyball', 0)\n",
      "('Sports & Outdoors/Team Sports/Volleyball', 1)\n",
      "('Vintage & Collectibles/Accessories/Apron', 0)\n",
      "('Vintage & Collectibles/Accessories/Apron', 1)\n",
      "('Vintage & Collectibles/Accessories/Belt', 0)\n",
      "('Vintage & Collectibles/Accessories/Belt', 1)\n",
      "('Vintage & Collectibles/Accessories/Brooch', 0)\n",
      "('Vintage & Collectibles/Accessories/Brooch', 1)\n",
      "('Vintage & Collectibles/Accessories/Buckle', 0)\n",
      "('Vintage & Collectibles/Accessories/Buckle', 1)\n",
      "('Vintage & Collectibles/Accessories/Compact', 0)\n",
      "('Vintage & Collectibles/Accessories/Compact', 1)\n",
      "('Vintage & Collectibles/Accessories/Cuff Links', 0)\n",
      "('Vintage & Collectibles/Accessories/Cuff Links', 1)\n",
      "('Vintage & Collectibles/Accessories/Eyewear', 0)\n",
      "('Vintage & Collectibles/Accessories/Eyewear', 1)\n",
      "('Vintage & Collectibles/Accessories/Gloves', 0)\n",
      "('Vintage & Collectibles/Accessories/Gloves', 1)\n",
      "('Vintage & Collectibles/Accessories/Handkerchief', 0)\n",
      "('Vintage & Collectibles/Accessories/Handkerchief', 1)\n",
      "('Vintage & Collectibles/Accessories/Hat', 0)\n",
      "('Vintage & Collectibles/Accessories/Hat', 1)\n",
      "('Vintage & Collectibles/Accessories/Keychain', 0)\n",
      "('Vintage & Collectibles/Accessories/Keychain', 1)\n",
      "('Vintage & Collectibles/Accessories/Necktie', 1)\n",
      "('Vintage & Collectibles/Accessories/Other', 0)\n",
      "('Vintage & Collectibles/Accessories/Other', 1)\n",
      "('Vintage & Collectibles/Accessories/Scarf', 0)\n",
      "('Vintage & Collectibles/Accessories/Scarf', 1)\n",
      "('Vintage & Collectibles/Accessories/Shoes', 0)\n",
      "('Vintage & Collectibles/Accessories/Shoes', 1)\n",
      "('Vintage & Collectibles/Accessories/Wallet', 0)\n",
      "('Vintage & Collectibles/Accessories/Wallet', 1)\n",
      "('Vintage & Collectibles/Antique/100 Years or Older', 0)\n",
      "('Vintage & Collectibles/Antique/100 Years or Older', 1)\n",
      "('Vintage & Collectibles/Antique/50 To 75 Years', 0)\n",
      "('Vintage & Collectibles/Antique/50 To 75 Years', 1)\n",
      "('Vintage & Collectibles/Antique/75 To 100 Years', 0)\n",
      "('Vintage & Collectibles/Antique/75 To 100 Years', 1)\n",
      "('Vintage & Collectibles/Antique/Accessories', 0)\n",
      "('Vintage & Collectibles/Antique/Accessories', 1)\n",
      "('Vintage & Collectibles/Antique/Bags and Purses', 0)\n",
      "('Vintage & Collectibles/Antique/Bags and Purses', 1)\n",
      "('Vintage & Collectibles/Antique/Book', 0)\n",
      "('Vintage & Collectibles/Antique/Book', 1)\n",
      "('Vintage & Collectibles/Antique/Collectibles', 0)\n",
      "('Vintage & Collectibles/Antique/Collectibles', 1)\n",
      "('Vintage & Collectibles/Antique/Electronics', 0)\n",
      "('Vintage & Collectibles/Antique/Electronics', 1)\n",
      "('Vintage & Collectibles/Antique/Furniture', 1)\n",
      "('Vintage & Collectibles/Antique/Home Decor', 0)\n",
      "('Vintage & Collectibles/Antique/Home Decor', 1)\n",
      "('Vintage & Collectibles/Antique/Housewares', 0)\n",
      "('Vintage & Collectibles/Antique/Housewares', 1)\n",
      "('Vintage & Collectibles/Antique/Jewelry', 0)\n",
      "('Vintage & Collectibles/Antique/Jewelry', 1)\n",
      "('Vintage & Collectibles/Antique/Other', 0)\n",
      "('Vintage & Collectibles/Antique/Other', 1)\n",
      "('Vintage & Collectibles/Antique/Paper Ephemera', 0)\n",
      "('Vintage & Collectibles/Antique/Paper Ephemera', 1)\n",
      "('Vintage & Collectibles/Antique/Serving', 0)\n",
      "('Vintage & Collectibles/Antique/Supplies', 0)\n",
      "('Vintage & Collectibles/Antique/Supplies', 1)\n",
      "('Vintage & Collectibles/Antique/Toy', 0)\n",
      "('Vintage & Collectibles/Antique/Toy', 1)\n",
      "('Vintage & Collectibles/Bags and Purses/Case', 0)\n",
      "('Vintage & Collectibles/Bags and Purses/Case', 1)\n",
      "('Vintage & Collectibles/Bags and Purses/Change Purse', 0)\n",
      "('Vintage & Collectibles/Bags and Purses/Change Purse', 1)\n",
      "('Vintage & Collectibles/Bags and Purses/Clutch', 0)\n",
      "('Vintage & Collectibles/Bags and Purses/Clutch', 1)\n",
      "('Vintage & Collectibles/Bags and Purses/Diaper Bag', 0)\n",
      "('Vintage & Collectibles/Bags and Purses/Diaper Bag', 1)\n",
      "('Vintage & Collectibles/Bags and Purses/Formal', 0)\n",
      "('Vintage & Collectibles/Bags and Purses/Formal', 1)\n",
      "('Vintage & Collectibles/Bags and Purses/Handbag', 0)\n",
      "('Vintage & Collectibles/Bags and Purses/Handbag', 1)\n",
      "('Vintage & Collectibles/Bags and Purses/Leather', 0)\n",
      "('Vintage & Collectibles/Bags and Purses/Leather', 1)\n",
      "('Vintage & Collectibles/Bags and Purses/Luggage', 0)\n",
      "('Vintage & Collectibles/Bags and Purses/Luggage', 1)\n",
      "('Vintage & Collectibles/Bags and Purses/Other', 0)\n",
      "('Vintage & Collectibles/Bags and Purses/Other', 1)\n",
      "('Vintage & Collectibles/Bags and Purses/Pouch', 0)\n",
      "('Vintage & Collectibles/Bags and Purses/Pouch', 1)\n",
      "('Vintage & Collectibles/Bags and Purses/Purse', 0)\n",
      "('Vintage & Collectibles/Bags and Purses/Purse', 1)\n",
      "('Vintage & Collectibles/Bags and Purses/Tote', 0)\n",
      "('Vintage & Collectibles/Bags and Purses/Tote', 1)\n",
      "('Vintage & Collectibles/Bags and Purses/Wallet', 0)\n",
      "('Vintage & Collectibles/Book/Art', 0)\n",
      "('Vintage & Collectibles/Book/Art', 1)\n",
      "('Vintage & Collectibles/Book/Biography', 0)\n",
      "('Vintage & Collectibles/Book/Biography', 1)\n",
      "('Vintage & Collectibles/Book/Children', 0)\n",
      "('Vintage & Collectibles/Book/Children', 1)\n",
      "('Vintage & Collectibles/Book/Comics', 0)\n",
      "('Vintage & Collectibles/Book/Comics', 1)\n",
      "('Vintage & Collectibles/Book/Cookbook', 0)\n",
      "('Vintage & Collectibles/Book/Cookbook', 1)\n",
      "('Vintage & Collectibles/Book/Crafting', 0)\n",
      "('Vintage & Collectibles/Book/Crafting', 1)\n",
      "('Vintage & Collectibles/Book/Decorating', 0)\n",
      "('Vintage & Collectibles/Book/Fiction', 0)\n",
      "('Vintage & Collectibles/Book/Fiction', 1)\n",
      "('Vintage & Collectibles/Book/Health', 0)\n",
      "('Vintage & Collectibles/Book/Health', 1)\n",
      "('Vintage & Collectibles/Book/History', 0)\n",
      "('Vintage & Collectibles/Book/History', 1)\n",
      "('Vintage & Collectibles/Book/How to', 0)\n",
      "('Vintage & Collectibles/Book/How to', 1)\n",
      "('Vintage & Collectibles/Book/Illustrated', 0)\n",
      "('Vintage & Collectibles/Book/Illustrated', 1)\n",
      "('Vintage & Collectibles/Book/Instructional', 0)\n",
      "('Vintage & Collectibles/Book/Instructional', 1)\n",
      "('Vintage & Collectibles/Book/Nonfiction', 0)\n",
      "('Vintage & Collectibles/Book/Nonfiction', 1)\n",
      "('Vintage & Collectibles/Book/Other', 0)\n",
      "('Vintage & Collectibles/Book/Other', 1)\n",
      "('Vintage & Collectibles/Book/Poetry', 0)\n",
      "('Vintage & Collectibles/Book/Poetry', 1)\n",
      "('Vintage & Collectibles/Book/Reference', 0)\n",
      "('Vintage & Collectibles/Book/Reference', 1)\n",
      "('Vintage & Collectibles/Book/Religion', 0)\n",
      "('Vintage & Collectibles/Book/Religion', 1)\n",
      "('Vintage & Collectibles/Book/Science', 0)\n",
      "('Vintage & Collectibles/Book/Science', 1)\n",
      "('Vintage & Collectibles/Book/Scifi', 1)\n",
      "('Vintage & Collectibles/Clothing/Baby', 0)\n",
      "('Vintage & Collectibles/Clothing/Baby', 1)\n",
      "('Vintage & Collectibles/Clothing/Blouse', 0)\n",
      "('Vintage & Collectibles/Clothing/Blouse', 1)\n",
      "('Vintage & Collectibles/Clothing/Children', 0)\n",
      "('Vintage & Collectibles/Clothing/Children', 1)\n",
      "('Vintage & Collectibles/Clothing/Corset', 0)\n",
      "('Vintage & Collectibles/Clothing/Corset', 1)\n",
      "('Vintage & Collectibles/Clothing/Dress', 0)\n",
      "('Vintage & Collectibles/Clothing/Dress', 1)\n",
      "('Vintage & Collectibles/Clothing/Jacket', 0)\n",
      "('Vintage & Collectibles/Clothing/Jacket', 1)\n",
      "('Vintage & Collectibles/Clothing/Other', 0)\n",
      "('Vintage & Collectibles/Clothing/Other', 1)\n",
      "('Vintage & Collectibles/Clothing/Outerwear', 0)\n",
      "('Vintage & Collectibles/Clothing/Outerwear', 1)\n",
      "('Vintage & Collectibles/Clothing/Pants', 0)\n",
      "('Vintage & Collectibles/Clothing/Pants', 1)\n",
      "('Vintage & Collectibles/Clothing/Shawl', 0)\n",
      "('Vintage & Collectibles/Clothing/Shawl', 1)\n",
      "('Vintage & Collectibles/Clothing/Shirt', 0)\n",
      "('Vintage & Collectibles/Clothing/Shirt', 1)\n",
      "('Vintage & Collectibles/Clothing/Shorts', 0)\n",
      "('Vintage & Collectibles/Clothing/Shorts', 1)\n",
      "('Vintage & Collectibles/Clothing/Skirt', 0)\n",
      "('Vintage & Collectibles/Clothing/Skirt', 1)\n",
      "('Vintage & Collectibles/Clothing/Sweater', 0)\n",
      "('Vintage & Collectibles/Clothing/Sweater', 1)\n",
      "('Vintage & Collectibles/Clothing/Swimwear', 0)\n",
      "('Vintage & Collectibles/Clothing/Swimwear', 1)\n",
      "('Vintage & Collectibles/Clothing/Tank', 0)\n",
      "('Vintage & Collectibles/Clothing/Tank', 1)\n",
      "('Vintage & Collectibles/Clothing/Tshirt', 0)\n",
      "('Vintage & Collectibles/Clothing/Tshirt', 1)\n",
      "('Vintage & Collectibles/Collectibles/Doll', 0)\n",
      "('Vintage & Collectibles/Collectibles/Doll', 1)\n",
      "('Vintage & Collectibles/Collectibles/Figurine', 0)\n",
      "('Vintage & Collectibles/Collectibles/Figurine', 1)\n",
      "('Vintage & Collectibles/Collectibles/Glass', 0)\n",
      "('Vintage & Collectibles/Collectibles/Glass', 1)\n",
      "('Vintage & Collectibles/Collectibles/Other', 0)\n",
      "('Vintage & Collectibles/Collectibles/Other', 1)\n",
      "('Vintage & Collectibles/Collectibles/Porcelain', 0)\n",
      "('Vintage & Collectibles/Collectibles/Porcelain', 1)\n",
      "('Vintage & Collectibles/Collectibles/Souvenir', 0)\n",
      "('Vintage & Collectibles/Collectibles/Souvenir', 1)\n",
      "('Vintage & Collectibles/Electronics/Camera', 0)\n",
      "('Vintage & Collectibles/Electronics/Camera', 1)\n",
      "('Vintage & Collectibles/Electronics/Clock', 0)\n",
      "('Vintage & Collectibles/Electronics/Clock', 1)\n",
      "('Vintage & Collectibles/Electronics/Game', 0)\n",
      "('Vintage & Collectibles/Electronics/Game', 1)\n",
      "('Vintage & Collectibles/Electronics/Other', 0)\n",
      "('Vintage & Collectibles/Electronics/Other', 1)\n",
      "('Vintage & Collectibles/Electronics/Radio', 0)\n",
      "('Vintage & Collectibles/Electronics/Radio', 1)\n",
      "('Vintage & Collectibles/Electronics/Telephone', 0)\n",
      "('Vintage & Collectibles/Electronics/Telephone', 1)\n",
      "('Vintage & Collectibles/Electronics/Television', 0)\n",
      "('Vintage & Collectibles/Electronics/Television', 1)\n",
      "('Vintage & Collectibles/Electronics/Video Game', 0)\n",
      "('Vintage & Collectibles/Electronics/Video Game', 1)\n",
      "('Vintage & Collectibles/Furniture/Chair', 0)\n",
      "('Vintage & Collectibles/Furniture/Entertainment', 0)\n",
      "('Vintage & Collectibles/Furniture/Fixture', 0)\n",
      "('Vintage & Collectibles/Furniture/Fixture', 1)\n",
      "('Vintage & Collectibles/Furniture/Other', 0)\n",
      "('Vintage & Collectibles/Furniture/Shelf', 0)\n",
      "('Vintage & Collectibles/Furniture/Storage', 0)\n",
      "('Vintage & Collectibles/Home Decor/Basket', 0)\n",
      "('Vintage & Collectibles/Home Decor/Basket', 1)\n",
      "('Vintage & Collectibles/Home Decor/Bedding', 0)\n",
      "('Vintage & Collectibles/Home Decor/Box', 0)\n",
      "('Vintage & Collectibles/Home Decor/Box', 1)\n",
      "('Vintage & Collectibles/Home Decor/Candle Holder', 0)\n",
      "('Vintage & Collectibles/Home Decor/Candle Holder', 1)\n",
      "('Vintage & Collectibles/Home Decor/Frame', 0)\n",
      "('Vintage & Collectibles/Home Decor/Frame', 1)\n",
      "('Vintage & Collectibles/Home Decor/Lighting', 0)\n",
      "('Vintage & Collectibles/Home Decor/Lighting', 1)\n",
      "('Vintage & Collectibles/Home Decor/Linens', 0)\n",
      "('Vintage & Collectibles/Home Decor/Linens', 1)\n",
      "('Vintage & Collectibles/Home Decor/Other', 0)\n",
      "('Vintage & Collectibles/Home Decor/Other', 1)\n",
      "('Vintage & Collectibles/Home Decor/Pillow', 0)\n",
      "('Vintage & Collectibles/Home Decor/Pillow', 1)\n",
      "('Vintage & Collectibles/Home Decor/Planter', 0)\n",
      "('Vintage & Collectibles/Home Decor/Planter', 1)\n",
      "('Vintage & Collectibles/Home Decor/Tray', 0)\n",
      "('Vintage & Collectibles/Home Decor/Tray', 1)\n",
      "('Vintage & Collectibles/Home Decor/Vase', 0)\n",
      "('Vintage & Collectibles/Home Decor/Vase', 1)\n",
      "('Vintage & Collectibles/Home Decor/Wall Hanging', 0)\n",
      "('Vintage & Collectibles/Home Decor/Wall Hanging', 1)\n",
      "('Vintage & Collectibles/Housewares/Bowl', 0)\n",
      "('Vintage & Collectibles/Housewares/Bowl', 1)\n",
      "('Vintage & Collectibles/Housewares/Box', 0)\n",
      "('Vintage & Collectibles/Housewares/Box', 1)\n",
      "('Vintage & Collectibles/Housewares/Ceramic', 0)\n",
      "('Vintage & Collectibles/Housewares/Ceramic', 1)\n",
      "('Vintage & Collectibles/Housewares/Coaster', 0)\n",
      "('Vintage & Collectibles/Housewares/Coaster', 1)\n",
      "('Vintage & Collectibles/Housewares/Cup', 0)\n",
      "('Vintage & Collectibles/Housewares/Cup', 1)\n",
      "('Vintage & Collectibles/Housewares/Glass', 0)\n",
      "('Vintage & Collectibles/Housewares/Glass', 1)\n",
      "('Vintage & Collectibles/Housewares/Light', 0)\n",
      "('Vintage & Collectibles/Housewares/Light', 1)\n",
      "('Vintage & Collectibles/Housewares/Magnet', 0)\n",
      "('Vintage & Collectibles/Housewares/Magnet', 1)\n",
      "('Vintage & Collectibles/Housewares/Other', 0)\n",
      "('Vintage & Collectibles/Housewares/Other', 1)\n",
      "('Vintage & Collectibles/Housewares/Plate', 0)\n",
      "('Vintage & Collectibles/Housewares/Plate', 1)\n",
      "('Vintage & Collectibles/Housewares/Pot Holder', 0)\n",
      "('Vintage & Collectibles/Housewares/Pot Holder', 1)\n",
      "('Vintage & Collectibles/Housewares/Table', 1)\n",
      "('Vintage & Collectibles/Housewares/Towel', 0)\n",
      "('Vintage & Collectibles/Housewares/Tray', 0)\n",
      "('Vintage & Collectibles/Housewares/Tray', 1)\n",
      "('Vintage & Collectibles/Jewelry/Bracelet', 0)\n",
      "('Vintage & Collectibles/Jewelry/Bracelet', 1)\n",
      "('Vintage & Collectibles/Jewelry/Brooch', 0)\n",
      "('Vintage & Collectibles/Jewelry/Brooch', 1)\n",
      "('Vintage & Collectibles/Jewelry/Earrings', 0)\n",
      "('Vintage & Collectibles/Jewelry/Earrings', 1)\n",
      "('Vintage & Collectibles/Jewelry/Necklace', 0)\n",
      "('Vintage & Collectibles/Jewelry/Necklace', 1)\n",
      "('Vintage & Collectibles/Jewelry/Other', 0)\n",
      "('Vintage & Collectibles/Jewelry/Other', 1)\n",
      "('Vintage & Collectibles/Jewelry/Pendant', 0)\n",
      "('Vintage & Collectibles/Jewelry/Pendant', 1)\n",
      "('Vintage & Collectibles/Jewelry/Ring', 0)\n",
      "('Vintage & Collectibles/Jewelry/Ring', 1)\n",
      "('Vintage & Collectibles/Jewelry/Watch', 0)\n",
      "('Vintage & Collectibles/Jewelry/Watch', 1)\n",
      "('Vintage & Collectibles/Other/Other', 0)\n",
      "('Vintage & Collectibles/Other/Other', 1)\n",
      "('Vintage & Collectibles/Paper Ephemera/Advertisement', 1)\n",
      "('Vintage & Collectibles/Paper Ephemera/Game', 0)\n",
      "('Vintage & Collectibles/Paper Ephemera/Map', 0)\n",
      "('Vintage & Collectibles/Paper Ephemera/Other', 0)\n",
      "('Vintage & Collectibles/Paper Ephemera/Other', 1)\n",
      "('Vintage & Collectibles/Paper Ephemera/Postcard', 0)\n",
      "('Vintage & Collectibles/Paper Ephemera/Postcard', 1)\n",
      "('Vintage & Collectibles/Paper Ephemera/Stamps', 0)\n",
      "('Vintage & Collectibles/Paper Ephemera/Stamps', 1)\n",
      "('Vintage & Collectibles/Serving/Bowl', 0)\n",
      "('Vintage & Collectibles/Serving/Butter Dish', 0)\n",
      "('Vintage & Collectibles/Serving/Casserole', 0)\n",
      "('Vintage & Collectibles/Serving/Casserole', 1)\n",
      "('Vintage & Collectibles/Serving/Cream and Sugar Set', 0)\n",
      "('Vintage & Collectibles/Serving/Cream and Sugar Set', 1)\n",
      "('Vintage & Collectibles/Serving/Dinnerware Set', 0)\n",
      "('Vintage & Collectibles/Serving/Dinnerware Set', 1)\n",
      "('Vintage & Collectibles/Serving/Flatware', 0)\n",
      "('Vintage & Collectibles/Serving/Flatware', 1)\n",
      "('Vintage & Collectibles/Serving/Glassware', 0)\n",
      "('Vintage & Collectibles/Serving/Glassware', 1)\n",
      "('Vintage & Collectibles/Serving/Mug', 0)\n",
      "('Vintage & Collectibles/Serving/Mug', 1)\n",
      "('Vintage & Collectibles/Serving/Other', 0)\n",
      "('Vintage & Collectibles/Serving/Other', 1)\n",
      "('Vintage & Collectibles/Serving/Pitcher', 0)\n",
      "('Vintage & Collectibles/Serving/Pitcher', 1)\n",
      "('Vintage & Collectibles/Serving/Plate', 0)\n",
      "('Vintage & Collectibles/Serving/Plate', 1)\n",
      "('Vintage & Collectibles/Serving/Platter', 0)\n",
      "('Vintage & Collectibles/Serving/Salt and Pepper Shakers', 0)\n",
      "('Vintage & Collectibles/Serving/Salt and Pepper Shakers', 1)\n",
      "('Vintage & Collectibles/Serving/Teacup', 0)\n",
      "('Vintage & Collectibles/Serving/Teacup', 1)\n",
      "('Vintage & Collectibles/Serving/Teapot', 0)\n",
      "('Vintage & Collectibles/Serving/Teapot', 1)\n",
      "('Vintage & Collectibles/Serving/Tray', 0)\n",
      "('Vintage & Collectibles/Serving/Tumbler', 0)\n",
      "('Vintage & Collectibles/Serving/Tumbler', 1)\n",
      "('Vintage & Collectibles/Supplies/Bead', 0)\n",
      "('Vintage & Collectibles/Supplies/Bead', 1)\n",
      "('Vintage & Collectibles/Supplies/Button', 0)\n",
      "('Vintage & Collectibles/Supplies/Button', 1)\n",
      "('Vintage & Collectibles/Supplies/Cabochon', 0)\n",
      "('Vintage & Collectibles/Supplies/Cabochon', 1)\n",
      "('Vintage & Collectibles/Supplies/Chain', 0)\n"
     ]
    },
    {
     "name": "stdout",
     "output_type": "stream",
     "text": [
      "('Vintage & Collectibles/Supplies/Chain', 1)\n",
      "('Vintage & Collectibles/Supplies/Charm', 0)\n",
      "('Vintage & Collectibles/Supplies/Charm', 1)\n",
      "('Vintage & Collectibles/Supplies/Ephemera', 1)\n",
      "('Vintage & Collectibles/Supplies/Fabric', 0)\n",
      "('Vintage & Collectibles/Supplies/Fabric', 1)\n",
      "('Vintage & Collectibles/Supplies/Finding', 0)\n",
      "('Vintage & Collectibles/Supplies/Finding', 1)\n",
      "('Vintage & Collectibles/Supplies/Other', 0)\n",
      "('Vintage & Collectibles/Supplies/Other', 1)\n",
      "('Vintage & Collectibles/Supplies/Pattern', 0)\n",
      "('Vintage & Collectibles/Supplies/Pattern', 1)\n",
      "('Vintage & Collectibles/Supplies/Trim', 0)\n",
      "('Vintage & Collectibles/Supplies/Trim', 1)\n",
      "('Vintage & Collectibles/Supplies/Yarn', 0)\n",
      "('Vintage & Collectibles/Supplies/Yarn', 1)\n",
      "('Vintage & Collectibles/Supplies/Zipper', 0)\n",
      "('Vintage & Collectibles/Toy/Action Figure', 0)\n",
      "('Vintage & Collectibles/Toy/Action Figure', 1)\n",
      "('Vintage & Collectibles/Toy/Animal', 0)\n",
      "('Vintage & Collectibles/Toy/Animal', 1)\n",
      "('Vintage & Collectibles/Toy/Block', 0)\n",
      "('Vintage & Collectibles/Toy/Block', 1)\n",
      "('Vintage & Collectibles/Toy/Car', 0)\n",
      "('Vintage & Collectibles/Toy/Car', 1)\n",
      "('Vintage & Collectibles/Toy/Children', 0)\n",
      "('Vintage & Collectibles/Toy/Children', 1)\n",
      "('Vintage & Collectibles/Toy/Doll', 0)\n",
      "('Vintage & Collectibles/Toy/Doll', 1)\n",
      "('Vintage & Collectibles/Toy/Electronic', 0)\n",
      "('Vintage & Collectibles/Toy/Electronic', 1)\n",
      "('Vintage & Collectibles/Toy/Game', 0)\n",
      "('Vintage & Collectibles/Toy/Game', 1)\n",
      "('Vintage & Collectibles/Toy/Other', 0)\n",
      "('Vintage & Collectibles/Toy/Other', 1)\n",
      "('Vintage & Collectibles/Toy/Puzzle', 0)\n",
      "('Vintage & Collectibles/Toy/Puzzle', 1)\n",
      "('Vintage & Collectibles/Toy/Sport', 0)\n",
      "('Vintage & Collectibles/Toy/Sport', 1)\n",
      "('Vintage & Collectibles/Trading Cards/Action, Adventure', 0)\n",
      "('Vintage & Collectibles/Trading Cards/Action, Adventure', 1)\n",
      "('Vintage & Collectibles/Trading Cards/Animation', 0)\n",
      "('Vintage & Collectibles/Trading Cards/Animation', 1)\n",
      "('Vintage & Collectibles/Trading Cards/Comic', 0)\n",
      "('Vintage & Collectibles/Trading Cards/Comic', 1)\n",
      "('Vintage & Collectibles/Trading Cards/Historical, Military', 0)\n",
      "('Vintage & Collectibles/Trading Cards/Historical, Military', 1)\n",
      "('Vintage & Collectibles/Trading Cards/Other', 0)\n",
      "('Vintage & Collectibles/Trading Cards/Other', 1)\n",
      "('Vintage & Collectibles/Trading Cards/Price Guides & Publications', 1)\n",
      "('Vintage & Collectibles/Trading Cards/Sci-Fi, Fantasy', 0)\n",
      "('Vintage & Collectibles/Trading Cards/Sci-Fi, Fantasy', 1)\n",
      "('Vintage & Collectibles/Trading Cards/Sports', 0)\n",
      "('Vintage & Collectibles/Trading Cards/Sports', 1)\n",
      "('Vintage & Collectibles/Trading Cards/Vintage', 0)\n",
      "('Vintage & Collectibles/Trading Cards/Vintage', 1)\n",
      "('Women/Athletic Apparel/Jackets', 0)\n",
      "('Women/Athletic Apparel/Jackets', 1)\n",
      "('Women/Athletic Apparel/Jerseys', 0)\n",
      "('Women/Athletic Apparel/Jerseys', 1)\n",
      "('Women/Athletic Apparel/Other', 0)\n",
      "('Women/Athletic Apparel/Other', 1)\n",
      "('Women/Athletic Apparel/Pants, Tights, Leggings', 0)\n",
      "('Women/Athletic Apparel/Pants, Tights, Leggings', 1)\n",
      "('Women/Athletic Apparel/Shirts & Tops', 0)\n",
      "('Women/Athletic Apparel/Shirts & Tops', 1)\n",
      "('Women/Athletic Apparel/Shorts', 0)\n",
      "('Women/Athletic Apparel/Shorts', 1)\n",
      "('Women/Athletic Apparel/Skirts, Skorts & Dresses', 0)\n",
      "('Women/Athletic Apparel/Skirts, Skorts & Dresses', 1)\n",
      "('Women/Athletic Apparel/Snowsuits & Bibs', 0)\n",
      "('Women/Athletic Apparel/Snowsuits & Bibs', 1)\n",
      "('Women/Athletic Apparel/Socks', 0)\n",
      "('Women/Athletic Apparel/Socks', 1)\n",
      "('Women/Athletic Apparel/Sports Bras', 0)\n",
      "('Women/Athletic Apparel/Sports Bras', 1)\n",
      "('Women/Athletic Apparel/Tracksuits & Sweats', 0)\n",
      "('Women/Athletic Apparel/Tracksuits & Sweats', 1)\n",
      "('Women/Athletic Apparel/Vests', 0)\n",
      "('Women/Athletic Apparel/Vests', 1)\n",
      "('Women/Coats & Jackets/Cape', 0)\n",
      "('Women/Coats & Jackets/Cape', 1)\n",
      "('Women/Coats & Jackets/Fleece Jacket', 0)\n",
      "('Women/Coats & Jackets/Fleece Jacket', 1)\n",
      "('Women/Coats & Jackets/Jean Jacket', 0)\n",
      "('Women/Coats & Jackets/Jean Jacket', 1)\n",
      "('Women/Coats & Jackets/Military', 0)\n",
      "('Women/Coats & Jackets/Military', 1)\n",
      "('Women/Coats & Jackets/Motorcycle', 0)\n",
      "('Women/Coats & Jackets/Motorcycle', 1)\n",
      "('Women/Coats & Jackets/Other', 0)\n",
      "('Women/Coats & Jackets/Other', 1)\n",
      "('Women/Coats & Jackets/Parka', 0)\n",
      "('Women/Coats & Jackets/Parka', 1)\n",
      "('Women/Coats & Jackets/Peacoat', 0)\n",
      "('Women/Coats & Jackets/Peacoat', 1)\n",
      "('Women/Coats & Jackets/Poncho', 0)\n",
      "('Women/Coats & Jackets/Poncho', 1)\n",
      "('Women/Coats & Jackets/Puffer', 0)\n",
      "('Women/Coats & Jackets/Puffer', 1)\n",
      "('Women/Coats & Jackets/Raincoat', 0)\n",
      "('Women/Coats & Jackets/Raincoat', 1)\n",
      "('Women/Coats & Jackets/Trench', 0)\n",
      "('Women/Coats & Jackets/Trench', 1)\n",
      "('Women/Coats & Jackets/Vest', 0)\n",
      "('Women/Coats & Jackets/Vest', 1)\n",
      "('Women/Coats & Jackets/Windbreaker', 0)\n",
      "('Women/Coats & Jackets/Windbreaker', 1)\n",
      "('Women/Coats & Jackets/Wool', 0)\n",
      "('Women/Coats & Jackets/Wool', 1)\n",
      "('Women/Dresses/Above Knee, Mini', 0)\n",
      "('Women/Dresses/Above Knee, Mini', 1)\n",
      "('Women/Dresses/Asymmetrical Hem', 0)\n",
      "('Women/Dresses/Asymmetrical Hem', 1)\n",
      "('Women/Dresses/Full-Length', 0)\n",
      "('Women/Dresses/Full-Length', 1)\n",
      "('Women/Dresses/Knee-Length', 0)\n",
      "('Women/Dresses/Knee-Length', 1)\n",
      "('Women/Dresses/Mid-Calf', 0)\n",
      "('Women/Dresses/Mid-Calf', 1)\n",
      "('Women/Dresses/Other', 0)\n",
      "('Women/Dresses/Other', 1)\n",
      "('Women/Jeans/Boot Cut', 0)\n",
      "('Women/Jeans/Boot Cut', 1)\n",
      "('Women/Jeans/Boyfriend', 0)\n",
      "('Women/Jeans/Boyfriend', 1)\n",
      "('Women/Jeans/Capri, Cropped', 0)\n",
      "('Women/Jeans/Capri, Cropped', 1)\n",
      "('Women/Jeans/Cargo', 0)\n",
      "('Women/Jeans/Cargo', 1)\n",
      "('Women/Jeans/Flare', 0)\n",
      "('Women/Jeans/Flare', 1)\n",
      "('Women/Jeans/Leggings', 0)\n",
      "('Women/Jeans/Leggings', 1)\n",
      "('Women/Jeans/Other', 0)\n",
      "('Women/Jeans/Other', 1)\n",
      "('Women/Jeans/Overalls', 0)\n",
      "('Women/Jeans/Overalls', 1)\n",
      "('Women/Jeans/Relaxed', 0)\n",
      "('Women/Jeans/Relaxed', 1)\n",
      "('Women/Jeans/Slim, Skinny', 0)\n",
      "('Women/Jeans/Slim, Skinny', 1)\n",
      "('Women/Jeans/Straight Leg', 0)\n",
      "('Women/Jeans/Straight Leg', 1)\n",
      "('Women/Jeans/Wide Leg', 0)\n",
      "('Women/Jeans/Wide Leg', 1)\n",
      "('Women/Jewelry/Bracelets', 0)\n",
      "('Women/Jewelry/Bracelets', 1)\n",
      "('Women/Jewelry/Earrings', 0)\n",
      "('Women/Jewelry/Earrings', 1)\n",
      "('Women/Jewelry/Necklaces', 0)\n",
      "('Women/Jewelry/Necklaces', 1)\n",
      "('Women/Jewelry/Rings', 0)\n",
      "('Women/Jewelry/Rings', 1)\n",
      "('Women/Maternity/Athletic Apparel', 0)\n",
      "('Women/Maternity/Athletic Apparel', 1)\n",
      "('Women/Maternity/Coats & Jackets', 0)\n",
      "('Women/Maternity/Coats & Jackets', 1)\n",
      "('Women/Maternity/Dresses', 0)\n",
      "('Women/Maternity/Dresses', 1)\n",
      "('Women/Maternity/Jeans', 0)\n",
      "('Women/Maternity/Jeans', 1)\n",
      "('Women/Maternity/Other', 0)\n",
      "('Women/Maternity/Other', 1)\n",
      "('Women/Maternity/Pants', 0)\n",
      "('Women/Maternity/Pants', 1)\n",
      "('Women/Maternity/Skirts', 0)\n",
      "('Women/Maternity/Skirts', 1)\n",
      "('Women/Maternity/Suits & Blazers', 1)\n",
      "('Women/Maternity/Sweaters', 0)\n",
      "('Women/Maternity/Sweaters', 1)\n",
      "('Women/Maternity/Tops & Blouses', 0)\n",
      "('Women/Maternity/Tops & Blouses', 1)\n",
      "('Women/Other/Other', 0)\n",
      "('Women/Other/Other', 1)\n",
      "('Women/Pants/Capris, Cropped', 0)\n",
      "('Women/Pants/Capris, Cropped', 1)\n",
      "('Women/Pants/Cargo', 0)\n",
      "('Women/Pants/Cargo', 1)\n",
      "('Women/Pants/Casual Pants', 0)\n",
      "('Women/Pants/Casual Pants', 1)\n",
      "('Women/Pants/Corduroys', 0)\n",
      "('Women/Pants/Corduroys', 1)\n",
      "('Women/Pants/Dress Pants', 0)\n",
      "('Women/Pants/Dress Pants', 1)\n",
      "('Women/Pants/Khakis, Chinos', 0)\n",
      "('Women/Pants/Khakis, Chinos', 1)\n",
      "('Women/Pants/Leather', 0)\n",
      "('Women/Pants/Leather', 1)\n",
      "('Women/Pants/Linen', 0)\n",
      "('Women/Pants/Linen', 1)\n",
      "('Women/Pants/Other', 0)\n",
      "('Women/Pants/Other', 1)\n",
      "('Women/Shoes/Athletic', 0)\n",
      "('Women/Shoes/Athletic', 1)\n",
      "('Women/Shoes/Boots', 0)\n",
      "('Women/Shoes/Boots', 1)\n",
      "('Women/Shoes/Fashion Sneakers', 0)\n",
      "('Women/Shoes/Fashion Sneakers', 1)\n",
      "('Women/Shoes/Flats', 0)\n",
      "('Women/Shoes/Flats', 1)\n",
      "('Women/Shoes/Loafers & Slip-Ons', 0)\n",
      "('Women/Shoes/Loafers & Slip-Ons', 1)\n",
      "('Women/Shoes/Mules & Clogs', 0)\n",
      "('Women/Shoes/Mules & Clogs', 1)\n",
      "('Women/Shoes/Other', 0)\n",
      "('Women/Shoes/Other', 1)\n",
      "('Women/Shoes/Outdoor', 0)\n",
      "('Women/Shoes/Outdoor', 1)\n",
      "('Women/Shoes/Oxfords', 0)\n",
      "('Women/Shoes/Oxfords', 1)\n",
      "('Women/Shoes/Pumps', 0)\n",
      "('Women/Shoes/Pumps', 1)\n",
      "('Women/Shoes/Sandals', 0)\n",
      "('Women/Shoes/Sandals', 1)\n",
      "('Women/Shoes/Slippers', 0)\n",
      "('Women/Shoes/Slippers', 1)\n",
      "('Women/Shoes/Work & Safety', 0)\n",
      "('Women/Shoes/Work & Safety', 1)\n",
      "('Women/Skirts/A-Line', 0)\n",
      "('Women/Skirts/A-Line', 1)\n",
      "('Women/Skirts/Asymmetrical', 0)\n",
      "('Women/Skirts/Asymmetrical', 1)\n",
      "('Women/Skirts/Bubble', 0)\n",
      "('Women/Skirts/Bubble', 1)\n",
      "('Women/Skirts/Full Skirt', 0)\n",
      "('Women/Skirts/Full Skirt', 1)\n",
      "('Women/Skirts/Maxi', 0)\n",
      "('Women/Skirts/Maxi', 1)\n",
      "('Women/Skirts/Mini', 0)\n",
      "('Women/Skirts/Mini', 1)\n",
      "('Women/Skirts/Other', 0)\n",
      "('Women/Skirts/Other', 1)\n",
      "('Women/Skirts/Peasant', 0)\n",
      "('Women/Skirts/Peasant', 1)\n",
      "('Women/Skirts/Pleated', 0)\n",
      "('Women/Skirts/Pleated', 1)\n",
      "('Women/Skirts/Straight, Pencil', 0)\n",
      "('Women/Skirts/Straight, Pencil', 1)\n",
      "('Women/Skirts/Tiered', 0)\n",
      "('Women/Skirts/Tiered', 1)\n",
      "('Women/Skirts/Wrap', 0)\n",
      "('Women/Skirts/Wrap', 1)\n",
      "('Women/Suits & Blazers/Blazer', 0)\n",
      "('Women/Suits & Blazers/Blazer', 1)\n",
      "('Women/Suits & Blazers/Dress Suit', 0)\n",
      "('Women/Suits & Blazers/Dress Suit', 1)\n",
      "('Women/Suits & Blazers/Other', 0)\n",
      "('Women/Suits & Blazers/Other', 1)\n",
      "('Women/Suits & Blazers/Pant Suit', 0)\n",
      "('Women/Suits & Blazers/Pant Suit', 1)\n",
      "('Women/Suits & Blazers/Skirt Suit', 0)\n",
      "('Women/Suits & Blazers/Skirt Suit', 1)\n",
      "('Women/Sweaters/Cardigan', 0)\n",
      "('Women/Sweaters/Cardigan', 1)\n",
      "('Women/Sweaters/Collared', 0)\n",
      "('Women/Sweaters/Collared', 1)\n",
      "('Women/Sweaters/Cowl Neck', 0)\n",
      "('Women/Sweaters/Cowl Neck', 1)\n",
      "('Women/Sweaters/Crewneck', 0)\n",
      "('Women/Sweaters/Crewneck', 1)\n",
      "('Women/Sweaters/Full Zip', 0)\n",
      "('Women/Sweaters/Full Zip', 1)\n",
      "('Women/Sweaters/Henley', 0)\n",
      "('Women/Sweaters/Henley', 1)\n",
      "('Women/Sweaters/Hooded', 0)\n",
      "('Women/Sweaters/Hooded', 1)\n",
      "('Women/Sweaters/Other', 0)\n",
      "('Women/Sweaters/Other', 1)\n",
      "('Women/Sweaters/Poncho', 0)\n",
      "('Women/Sweaters/Poncho', 1)\n",
      "('Women/Sweaters/Scoop Neck', 0)\n",
      "('Women/Sweaters/Scoop Neck', 1)\n",
      "('Women/Sweaters/Shrug', 0)\n",
      "('Women/Sweaters/Shrug', 1)\n",
      "('Women/Sweaters/Sweatercoat', 0)\n",
      "('Women/Sweaters/Sweatercoat', 1)\n",
      "('Women/Sweaters/Tunic', 0)\n",
      "('Women/Sweaters/Tunic', 1)\n",
      "('Women/Sweaters/Turtleneck, Mock', 0)\n",
      "('Women/Sweaters/Turtleneck, Mock', 1)\n",
      "('Women/Sweaters/V-Neck', 0)\n",
      "('Women/Sweaters/V-Neck', 1)\n",
      "('Women/Sweaters/Vest, Sleeveless', 0)\n",
      "('Women/Sweaters/Vest, Sleeveless', 1)\n",
      "('Women/Sweaters/Wrap', 0)\n",
      "('Women/Sweaters/Wrap', 1)\n",
      "('Women/Swimwear/Beach Accessories', 0)\n",
      "('Women/Swimwear/Beach Accessories', 1)\n",
      "('Women/Swimwear/Cover-Ups', 0)\n",
      "('Women/Swimwear/Cover-Ups', 1)\n",
      "('Women/Swimwear/One-Piece', 0)\n",
      "('Women/Swimwear/One-Piece', 1)\n",
      "('Women/Swimwear/Two-Piece', 0)\n",
      "('Women/Swimwear/Two-Piece', 1)\n",
      "('Women/Tops & Blouses/Blouse', 0)\n",
      "('Women/Tops & Blouses/Blouse', 1)\n",
      "('Women/Tops & Blouses/Button Down Shirt', 0)\n",
      "('Women/Tops & Blouses/Button Down Shirt', 1)\n",
      "('Women/Tops & Blouses/Halter', 0)\n",
      "('Women/Tops & Blouses/Halter', 1)\n",
      "('Women/Tops & Blouses/Knit Top', 0)\n",
      "('Women/Tops & Blouses/Knit Top', 1)\n",
      "('Women/Tops & Blouses/Other', 0)\n",
      "('Women/Tops & Blouses/Other', 1)\n",
      "('Women/Tops & Blouses/Polo Shirt', 0)\n",
      "('Women/Tops & Blouses/Polo Shirt', 1)\n",
      "('Women/Tops & Blouses/T-Shirts', 0)\n",
      "('Women/Tops & Blouses/T-Shirts', 1)\n",
      "('Women/Tops & Blouses/Tank, Cami', 0)\n",
      "('Women/Tops & Blouses/Tank, Cami', 1)\n",
      "('Women/Tops & Blouses/Tunic', 0)\n",
      "('Women/Tops & Blouses/Tunic', 1)\n",
      "('Women/Tops & Blouses/Turtleneck', 0)\n",
      "('Women/Tops & Blouses/Turtleneck', 1)\n",
      "('Women/Tops & Blouses/Wrap', 0)\n",
      "('Women/Tops & Blouses/Wrap', 1)\n",
      "('Women/Underwear/Bras', 0)\n",
      "('Women/Underwear/Bras', 1)\n",
      "('Women/Underwear/G-Strings & Thongs', 0)\n",
      "('Women/Underwear/G-Strings & Thongs', 1)\n",
      "('Women/Underwear/Other', 0)\n",
      "('Women/Underwear/Other', 1)\n",
      "('Women/Underwear/Panties', 0)\n",
      "('Women/Underwear/Panties', 1)\n",
      "('Women/Underwear/Thermal Underwear', 0)\n",
      "('Women/Underwear/Thermal Underwear', 1)\n",
      "(\"Women/Women's Accessories/Belts\", 0)\n",
      "(\"Women/Women's Accessories/Belts\", 1)\n",
      "(\"Women/Women's Accessories/Hair Accessories\", 0)\n",
      "(\"Women/Women's Accessories/Hair Accessories\", 1)\n",
      "(\"Women/Women's Accessories/Hats\", 0)\n",
      "(\"Women/Women's Accessories/Hats\", 1)\n",
      "(\"Women/Women's Accessories/Other\", 0)\n",
      "(\"Women/Women's Accessories/Other\", 1)\n",
      "(\"Women/Women's Accessories/Scarves & Wraps\", 0)\n",
      "(\"Women/Women's Accessories/Scarves & Wraps\", 1)\n",
      "(\"Women/Women's Accessories/Sunglasses\", 0)\n",
      "(\"Women/Women's Accessories/Sunglasses\", 1)\n",
      "(\"Women/Women's Accessories/Wallets\", 0)\n",
      "(\"Women/Women's Accessories/Wallets\", 1)\n",
      "(\"Women/Women's Accessories/Watches\", 0)\n",
      "(\"Women/Women's Accessories/Watches\", 1)\n",
      "(\"Women/Women's Handbags/Backpack Style\", 0)\n",
      "(\"Women/Women's Handbags/Backpack Style\", 1)\n",
      "(\"Women/Women's Handbags/Baguette\", 0)\n",
      "(\"Women/Women's Handbags/Baguette\", 1)\n",
      "(\"Women/Women's Handbags/Cosmetic Bags\", 0)\n",
      "(\"Women/Women's Handbags/Cosmetic Bags\", 1)\n",
      "(\"Women/Women's Handbags/Hobo\", 0)\n",
      "(\"Women/Women's Handbags/Hobo\", 1)\n",
      "(\"Women/Women's Handbags/Messenger & Crossbody\", 0)\n",
      "(\"Women/Women's Handbags/Messenger & Crossbody\", 1)\n",
      "(\"Women/Women's Handbags/Other\", 0)\n",
      "(\"Women/Women's Handbags/Other\", 1)\n",
      "(\"Women/Women's Handbags/Satchel\", 0)\n",
      "(\"Women/Women's Handbags/Satchel\", 1)\n",
      "(\"Women/Women's Handbags/Shoulder Bag\", 0)\n",
      "(\"Women/Women's Handbags/Shoulder Bag\", 1)\n",
      "(\"Women/Women's Handbags/Totes & Shoppers\", 0)\n",
      "(\"Women/Women's Handbags/Totes & Shoppers\", 1)\n"
     ]
    }
   ],
   "source": [
    "for name, df in train_set_df.groupby([\"category_name\", 'shipping']):\n",
    "    print(name)"
   ]
  },
  {
   "cell_type": "code",
   "execution_count": 189,
   "metadata": {},
   "outputs": [
    {
     "data": {
      "text/plain": [
       "False"
      ]
     },
     "execution_count": 189,
     "metadata": {},
     "output_type": "execute_result"
    }
   ],
   "source": [
    "zip(train_set_df[[\"category_name\", 'shipping']]) == ('Beauty/Fragrance/Other', 0)"
   ]
  },
  {
   "cell_type": "code",
   "execution_count": 191,
   "metadata": {},
   "outputs": [],
   "source": [
    "tmp = train_set_df.set_index([\"category_name\", 'shipping'])"
   ]
  },
  {
   "cell_type": "code",
   "execution_count": 195,
   "metadata": {},
   "outputs": [
    {
     "data": {
      "text/plain": [
       "array(['Men', 'Electronics', 'Women', ..., 'Sports & Outdoors', 'Home',\n",
       "       'Women'], dtype=object)"
      ]
     },
     "execution_count": 195,
     "metadata": {},
     "output_type": "execute_result"
    }
   ],
   "source": [
    "tmp.set_index('train_id')['general_cat'].values"
   ]
  },
  {
   "cell_type": "code",
   "execution_count": 192,
   "metadata": {
    "scrolled": true
   },
   "outputs": [
    {
     "name": "stderr",
     "output_type": "stream",
     "text": [
      "C:\\Users\\Matan\\anaconda3\\lib\\site-packages\\ipykernel_launcher.py:1: PerformanceWarning: indexing past lexsort depth may impact performance.\n",
      "  \"\"\"Entry point for launching an IPython kernel.\n"
     ]
    },
    {
     "data": {
      "text/html": [
       "<div>\n",
       "<style scoped>\n",
       "    .dataframe tbody tr th:only-of-type {\n",
       "        vertical-align: middle;\n",
       "    }\n",
       "\n",
       "    .dataframe tbody tr th {\n",
       "        vertical-align: top;\n",
       "    }\n",
       "\n",
       "    .dataframe thead th {\n",
       "        text-align: right;\n",
       "    }\n",
       "</style>\n",
       "<table border=\"1\" class=\"dataframe\">\n",
       "  <thead>\n",
       "    <tr style=\"text-align: right;\">\n",
       "      <th></th>\n",
       "      <th></th>\n",
       "      <th>train_id</th>\n",
       "      <th>name</th>\n",
       "      <th>item_condition_id</th>\n",
       "      <th>brand_name</th>\n",
       "      <th>price</th>\n",
       "      <th>item_description</th>\n",
       "      <th>general_cat</th>\n",
       "      <th>subcat_1</th>\n",
       "      <th>subcat_2</th>\n",
       "    </tr>\n",
       "    <tr>\n",
       "      <th>category_name</th>\n",
       "      <th>shipping</th>\n",
       "      <th></th>\n",
       "      <th></th>\n",
       "      <th></th>\n",
       "      <th></th>\n",
       "      <th></th>\n",
       "      <th></th>\n",
       "      <th></th>\n",
       "      <th></th>\n",
       "      <th></th>\n",
       "    </tr>\n",
       "  </thead>\n",
       "  <tbody>\n",
       "    <tr>\n",
       "      <th rowspan=\"16\" valign=\"top\">Beauty/Fragrance/Other</th>\n",
       "      <th>0</th>\n",
       "      <td>139247</td>\n",
       "      <td>31 EMPTY Young Living Bottle / RESERVED!</td>\n",
       "      <td>3</td>\n",
       "      <td>NaN</td>\n",
       "      <td>28.0</td>\n",
       "      <td>31 Empty bottles, 5 ml and 15 ml, for sale. Al...</td>\n",
       "      <td>Beauty</td>\n",
       "      <td>Fragrance</td>\n",
       "      <td>Other</td>\n",
       "    </tr>\n",
       "    <tr>\n",
       "      <th>0</th>\n",
       "      <td>163602</td>\n",
       "      <td>Lush Snowcake Perfume</td>\n",
       "      <td>3</td>\n",
       "      <td>Lush</td>\n",
       "      <td>74.0</td>\n",
       "      <td>Lush Snowcake liquid perfume. Marzipan scented...</td>\n",
       "      <td>Beauty</td>\n",
       "      <td>Fragrance</td>\n",
       "      <td>Other</td>\n",
       "    </tr>\n",
       "    <tr>\n",
       "      <th>0</th>\n",
       "      <td>274408</td>\n",
       "      <td>Empty Young living bottles</td>\n",
       "      <td>3</td>\n",
       "      <td>Bath &amp; Body Works</td>\n",
       "      <td>16.0</td>\n",
       "      <td>All empty, various sizes and oils</td>\n",
       "      <td>Beauty</td>\n",
       "      <td>Fragrance</td>\n",
       "      <td>Other</td>\n",
       "    </tr>\n",
       "    <tr>\n",
       "      <th>0</th>\n",
       "      <td>347877</td>\n",
       "      <td>Jo Malone</td>\n",
       "      <td>3</td>\n",
       "      <td>NaN</td>\n",
       "      <td>39.0</td>\n",
       "      <td>On hold</td>\n",
       "      <td>Beauty</td>\n",
       "      <td>Fragrance</td>\n",
       "      <td>Other</td>\n",
       "    </tr>\n",
       "    <tr>\n",
       "      <th>0</th>\n",
       "      <td>581783</td>\n",
       "      <td>Bergamot tea tree and lemon oils</td>\n",
       "      <td>2</td>\n",
       "      <td>NaN</td>\n",
       "      <td>24.0</td>\n",
       "      <td>Bergamot Used once for two drops Tea tree and ...</td>\n",
       "      <td>Beauty</td>\n",
       "      <td>Fragrance</td>\n",
       "      <td>Other</td>\n",
       "    </tr>\n",
       "    <tr>\n",
       "      <th>0</th>\n",
       "      <td>670897</td>\n",
       "      <td>Kaigirl</td>\n",
       "      <td>3</td>\n",
       "      <td>NaN</td>\n",
       "      <td>89.0</td>\n",
       "      <td>JM Black Vetyver Café DOI 5ml decant</td>\n",
       "      <td>Beauty</td>\n",
       "      <td>Fragrance</td>\n",
       "      <td>Other</td>\n",
       "    </tr>\n",
       "    <tr>\n",
       "      <th>0</th>\n",
       "      <td>788815</td>\n",
       "      <td>Lush Olive Branch Solid Perfume</td>\n",
       "      <td>3</td>\n",
       "      <td>NaN</td>\n",
       "      <td>24.0</td>\n",
       "      <td>Lush Olive branch Solid Perfume in twist and p...</td>\n",
       "      <td>Beauty</td>\n",
       "      <td>Fragrance</td>\n",
       "      <td>Other</td>\n",
       "    </tr>\n",
       "    <tr>\n",
       "      <th>0</th>\n",
       "      <td>928061</td>\n",
       "      <td>Fluffy slime</td>\n",
       "      <td>1</td>\n",
       "      <td>NaN</td>\n",
       "      <td>8.0</td>\n",
       "      <td>Light purple, fluffy slime!!!! Very stretchy. ...</td>\n",
       "      <td>Beauty</td>\n",
       "      <td>Fragrance</td>\n",
       "      <td>Other</td>\n",
       "    </tr>\n",
       "    <tr>\n",
       "      <th>0</th>\n",
       "      <td>946203</td>\n",
       "      <td>Jo Malone Amber &amp; Lavender Cologne</td>\n",
       "      <td>2</td>\n",
       "      <td>NaN</td>\n",
       "      <td>18.0</td>\n",
       "      <td>Classic male perfumery, refined. French lavend...</td>\n",
       "      <td>Beauty</td>\n",
       "      <td>Fragrance</td>\n",
       "      <td>Other</td>\n",
       "    </tr>\n",
       "    <tr>\n",
       "      <th>0</th>\n",
       "      <td>1235692</td>\n",
       "      <td>Calvin Klein One</td>\n",
       "      <td>1</td>\n",
       "      <td>NaN</td>\n",
       "      <td>26.0</td>\n",
       "      <td>Brand new for men and women</td>\n",
       "      <td>Beauty</td>\n",
       "      <td>Fragrance</td>\n",
       "      <td>Other</td>\n",
       "    </tr>\n",
       "    <tr>\n",
       "      <th>0</th>\n",
       "      <td>1241035</td>\n",
       "      <td>Green Apple Crunchy Slime</td>\n",
       "      <td>1</td>\n",
       "      <td>NaN</td>\n",
       "      <td>8.0</td>\n",
       "      <td>A 4oz bubbly/crispy slime perfect for Saint Pa...</td>\n",
       "      <td>Beauty</td>\n",
       "      <td>Fragrance</td>\n",
       "      <td>Other</td>\n",
       "    </tr>\n",
       "    <tr>\n",
       "      <th>0</th>\n",
       "      <td>1298632</td>\n",
       "      <td>Large Eau de Parfum Diptyque Tam Dao New</td>\n",
       "      <td>2</td>\n",
       "      <td>NaN</td>\n",
       "      <td>89.0</td>\n",
       "      <td>Sprayed once to test. Originally [rm]. 2.5 oz ...</td>\n",
       "      <td>Beauty</td>\n",
       "      <td>Fragrance</td>\n",
       "      <td>Other</td>\n",
       "    </tr>\n",
       "    <tr>\n",
       "      <th>0</th>\n",
       "      <td>1310050</td>\n",
       "      <td>Beautiful Day Fine Fragrance Mist</td>\n",
       "      <td>3</td>\n",
       "      <td>Bath &amp; Body Works</td>\n",
       "      <td>10.0</td>\n",
       "      <td>[rm] and you pay shipping ([rm]) in very good ...</td>\n",
       "      <td>Beauty</td>\n",
       "      <td>Fragrance</td>\n",
       "      <td>Other</td>\n",
       "    </tr>\n",
       "    <tr>\n",
       "      <th>0</th>\n",
       "      <td>1400641</td>\n",
       "      <td>Twilight Body Spray</td>\n",
       "      <td>1</td>\n",
       "      <td>NaN</td>\n",
       "      <td>88.0</td>\n",
       "      <td>This is a Brand New Lush Fresh Handmade Cosmet...</td>\n",
       "      <td>Beauty</td>\n",
       "      <td>Fragrance</td>\n",
       "      <td>Other</td>\n",
       "    </tr>\n",
       "    <tr>\n",
       "      <th>0</th>\n",
       "      <td>1425742</td>\n",
       "      <td>Young Living Essential Oils Bundle</td>\n",
       "      <td>1</td>\n",
       "      <td>NaN</td>\n",
       "      <td>24.0</td>\n",
       "      <td>Young Living Essential Oils Bundle! -1 New (5m...</td>\n",
       "      <td>Beauty</td>\n",
       "      <td>Fragrance</td>\n",
       "      <td>Other</td>\n",
       "    </tr>\n",
       "    <tr>\n",
       "      <th>0</th>\n",
       "      <td>1429614</td>\n",
       "      <td>Kenneth Cole black perfume</td>\n",
       "      <td>1</td>\n",
       "      <td>Sephora</td>\n",
       "      <td>16.0</td>\n",
       "      <td>Brand new in box Smells so great!</td>\n",
       "      <td>Beauty</td>\n",
       "      <td>Fragrance</td>\n",
       "      <td>Other</td>\n",
       "    </tr>\n",
       "  </tbody>\n",
       "</table>\n",
       "</div>"
      ],
      "text/plain": [
       "                                 train_id  \\\n",
       "category_name          shipping             \n",
       "Beauty/Fragrance/Other 0           139247   \n",
       "                       0           163602   \n",
       "                       0           274408   \n",
       "                       0           347877   \n",
       "                       0           581783   \n",
       "                       0           670897   \n",
       "                       0           788815   \n",
       "                       0           928061   \n",
       "                       0           946203   \n",
       "                       0          1235692   \n",
       "                       0          1241035   \n",
       "                       0          1298632   \n",
       "                       0          1310050   \n",
       "                       0          1400641   \n",
       "                       0          1425742   \n",
       "                       0          1429614   \n",
       "\n",
       "                                                                     name  \\\n",
       "category_name          shipping                                             \n",
       "Beauty/Fragrance/Other 0         31 EMPTY Young Living Bottle / RESERVED!   \n",
       "                       0                            Lush Snowcake Perfume   \n",
       "                       0                       Empty Young living bottles   \n",
       "                       0                                        Jo Malone   \n",
       "                       0                 Bergamot tea tree and lemon oils   \n",
       "                       0                                          Kaigirl   \n",
       "                       0                  Lush Olive Branch Solid Perfume   \n",
       "                       0                                     Fluffy slime   \n",
       "                       0               Jo Malone Amber & Lavender Cologne   \n",
       "                       0                                 Calvin Klein One   \n",
       "                       0                        Green Apple Crunchy Slime   \n",
       "                       0         Large Eau de Parfum Diptyque Tam Dao New   \n",
       "                       0                Beautiful Day Fine Fragrance Mist   \n",
       "                       0                              Twilight Body Spray   \n",
       "                       0               Young Living Essential Oils Bundle   \n",
       "                       0                       Kenneth Cole black perfume   \n",
       "\n",
       "                                 item_condition_id         brand_name  price  \\\n",
       "category_name          shipping                                                \n",
       "Beauty/Fragrance/Other 0                         3                NaN   28.0   \n",
       "                       0                         3               Lush   74.0   \n",
       "                       0                         3  Bath & Body Works   16.0   \n",
       "                       0                         3                NaN   39.0   \n",
       "                       0                         2                NaN   24.0   \n",
       "                       0                         3                NaN   89.0   \n",
       "                       0                         3                NaN   24.0   \n",
       "                       0                         1                NaN    8.0   \n",
       "                       0                         2                NaN   18.0   \n",
       "                       0                         1                NaN   26.0   \n",
       "                       0                         1                NaN    8.0   \n",
       "                       0                         2                NaN   89.0   \n",
       "                       0                         3  Bath & Body Works   10.0   \n",
       "                       0                         1                NaN   88.0   \n",
       "                       0                         1                NaN   24.0   \n",
       "                       0                         1            Sephora   16.0   \n",
       "\n",
       "                                                                  item_description  \\\n",
       "category_name          shipping                                                      \n",
       "Beauty/Fragrance/Other 0         31 Empty bottles, 5 ml and 15 ml, for sale. Al...   \n",
       "                       0         Lush Snowcake liquid perfume. Marzipan scented...   \n",
       "                       0                         All empty, various sizes and oils   \n",
       "                       0                                                   On hold   \n",
       "                       0         Bergamot Used once for two drops Tea tree and ...   \n",
       "                       0                      JM Black Vetyver Café DOI 5ml decant   \n",
       "                       0         Lush Olive branch Solid Perfume in twist and p...   \n",
       "                       0         Light purple, fluffy slime!!!! Very stretchy. ...   \n",
       "                       0         Classic male perfumery, refined. French lavend...   \n",
       "                       0                               Brand new for men and women   \n",
       "                       0         A 4oz bubbly/crispy slime perfect for Saint Pa...   \n",
       "                       0         Sprayed once to test. Originally [rm]. 2.5 oz ...   \n",
       "                       0         [rm] and you pay shipping ([rm]) in very good ...   \n",
       "                       0         This is a Brand New Lush Fresh Handmade Cosmet...   \n",
       "                       0         Young Living Essential Oils Bundle! -1 New (5m...   \n",
       "                       0                         Brand new in box Smells so great!   \n",
       "\n",
       "                                general_cat   subcat_1 subcat_2  \n",
       "category_name          shipping                                  \n",
       "Beauty/Fragrance/Other 0             Beauty  Fragrance    Other  \n",
       "                       0             Beauty  Fragrance    Other  \n",
       "                       0             Beauty  Fragrance    Other  \n",
       "                       0             Beauty  Fragrance    Other  \n",
       "                       0             Beauty  Fragrance    Other  \n",
       "                       0             Beauty  Fragrance    Other  \n",
       "                       0             Beauty  Fragrance    Other  \n",
       "                       0             Beauty  Fragrance    Other  \n",
       "                       0             Beauty  Fragrance    Other  \n",
       "                       0             Beauty  Fragrance    Other  \n",
       "                       0             Beauty  Fragrance    Other  \n",
       "                       0             Beauty  Fragrance    Other  \n",
       "                       0             Beauty  Fragrance    Other  \n",
       "                       0             Beauty  Fragrance    Other  \n",
       "                       0             Beauty  Fragrance    Other  \n",
       "                       0             Beauty  Fragrance    Other  "
      ]
     },
     "execution_count": 192,
     "metadata": {},
     "output_type": "execute_result"
    }
   ],
   "source": [
    "tmp.loc[('Beauty/Fragrance/Other', 0)]"
   ]
  },
  {
   "cell_type": "code",
   "execution_count": 199,
   "metadata": {},
   "outputs": [
    {
     "data": {
      "text/plain": [
       "2.3"
      ]
     },
     "execution_count": 199,
     "metadata": {},
     "output_type": "execute_result"
    }
   ],
   "source": [
    "max(1, 2.3)"
   ]
  },
  {
   "cell_type": "code",
   "execution_count": 104,
   "metadata": {},
   "outputs": [
    {
     "data": {
      "text/plain": [
       "(array([[[45, 27, 42],\n",
       "         [ 7, 36, 19]],\n",
       " \n",
       "        [[ 3, 11, 46],\n",
       "         [40, 60,  6]],\n",
       " \n",
       "        [[34, 31, 42],\n",
       "         [38, 27, 39]],\n",
       " \n",
       "        [[73, 57,  3],\n",
       "         [62, 67,  1]],\n",
       " \n",
       "        [[15, 98,  6],\n",
       "         [66, 88, 99]]]),\n",
       " array([[[ 3, 99, 56],\n",
       "         [72, 46, 70]],\n",
       " \n",
       "        [[68, 25,  5],\n",
       "         [91, 72, 34]],\n",
       " \n",
       "        [[12, 53,  2],\n",
       "         [14,  7, 69]],\n",
       " \n",
       "        [[89, 47, 13],\n",
       "         [30,  4, 17]],\n",
       " \n",
       "        [[47, 86, 28],\n",
       "         [63, 80, 18]]]))"
      ]
     },
     "execution_count": 104,
     "metadata": {},
     "output_type": "execute_result"
    }
   ],
   "source": [
    "m, mm"
   ]
  },
  {
   "cell_type": "code",
   "execution_count": 107,
   "metadata": {},
   "outputs": [
    {
     "data": {
      "text/plain": [
       "array([[[ 135, 2673, 2352],\n",
       "        [ 504, 1656, 1330]],\n",
       "\n",
       "       [[ 204,  275,  230],\n",
       "        [3640, 4320,  204]],\n",
       "\n",
       "       [[ 408, 1643,   84],\n",
       "        [ 532,  189, 2691]],\n",
       "\n",
       "       [[6497, 2679,   39],\n",
       "        [1860,  268,   17]],\n",
       "\n",
       "       [[ 705, 8428,  168],\n",
       "        [4158, 7040, 1782]]])"
      ]
     },
     "execution_count": 107,
     "metadata": {},
     "output_type": "execute_result"
    }
   ],
   "source": [
    "m*mm\n"
   ]
  },
  {
   "cell_type": "code",
   "execution_count": 109,
   "metadata": {},
   "outputs": [
    {
     "data": {
      "text/plain": [
       "array([[6497, 8428, 2352],\n",
       "       [4158, 7040, 2691]])"
      ]
     },
     "execution_count": 109,
     "metadata": {},
     "output_type": "execute_result"
    }
   ],
   "source": [
    "np.max(m*mm, axis=0)"
   ]
  },
  {
   "cell_type": "code",
   "execution_count": 102,
   "metadata": {},
   "outputs": [],
   "source": [
    "import numpy as np\n",
    "# import np.random\n",
    "m = np.random.randint(0, 100, size=(5, 2, 3))\n",
    "mm = np.random.randint(0, 100, size=(5, 2, 3))"
   ]
  },
  {
   "cell_type": "code",
   "execution_count": 112,
   "metadata": {},
   "outputs": [
    {
     "data": {
      "text/plain": [
       "array([[1, 2, 3],\n",
       "       [4, 5, 6],\n",
       "       [7, 8, 9],\n",
       "       [1, 1, 1],\n",
       "       [2, 2, 2]])"
      ]
     },
     "execution_count": 112,
     "metadata": {},
     "output_type": "execute_result"
    }
   ],
   "source": [
    "A = np.array([[1,2,3], [4,5,6], [7,8,9], [1,1,1],[2,2,2]])\n",
    "A"
   ]
  },
  {
   "cell_type": "code",
   "execution_count": 113,
   "metadata": {},
   "outputs": [
    {
     "data": {
      "text/plain": [
       "array([[[45, 27, 42],\n",
       "        [ 7, 36, 19]],\n",
       "\n",
       "       [[ 3, 11, 46],\n",
       "        [40, 60,  6]],\n",
       "\n",
       "       [[34, 31, 42],\n",
       "        [38, 27, 39]],\n",
       "\n",
       "       [[73, 57,  3],\n",
       "        [62, 67,  1]],\n",
       "\n",
       "       [[15, 98,  6],\n",
       "        [66, 88, 99]]])"
      ]
     },
     "execution_count": 113,
     "metadata": {},
     "output_type": "execute_result"
    }
   ],
   "source": [
    "m"
   ]
  },
  {
   "cell_type": "code",
   "execution_count": 116,
   "metadata": {},
   "outputs": [
    {
     "data": {
      "text/plain": [
       "array([[[45,  3, 42],\n",
       "        [ 7, 36, 19]],\n",
       "\n",
       "       [[ 3,  6, 46],\n",
       "        [40, 60,  6]],\n",
       "\n",
       "       [[34,  9, 42],\n",
       "        [38, 27, 39]],\n",
       "\n",
       "       [[73,  1,  3],\n",
       "        [62, 67,  1]],\n",
       "\n",
       "       [[15,  2,  6],\n",
       "        [66, 88, 99]]])"
      ]
     },
     "execution_count": 116,
     "metadata": {},
     "output_type": "execute_result"
    }
   ],
   "source": [
    "m[:,0,1] = np.array[A[:,2], A[:,1], A[:0], A[:1]]\n",
    "m"
   ]
  },
  {
   "cell_type": "code",
   "execution_count": 120,
   "metadata": {},
   "outputs": [
    {
     "data": {
      "text/plain": [
       "array([array([3, 6, 9, 1, 2]), array([2, 5, 8, 1, 2]),\n",
       "       array([1, 4, 7, 1, 2]), array([[1, 2, 3]])], dtype=object)"
      ]
     },
     "execution_count": 120,
     "metadata": {},
     "output_type": "execute_result"
    }
   ],
   "source": [
    "np.array([A[:,2], A[:,1], A[:,0], A[:1]])\n"
   ]
  },
  {
   "cell_type": "code",
   "execution_count": 121,
   "metadata": {},
   "outputs": [
    {
     "data": {
      "text/plain": [
       "array([[1, 2, 3],\n",
       "       [4, 5, 6],\n",
       "       [7, 8, 9],\n",
       "       [1, 1, 1],\n",
       "       [2, 2, 2]])"
      ]
     },
     "execution_count": 121,
     "metadata": {},
     "output_type": "execute_result"
    }
   ],
   "source": [
    "A"
   ]
  },
  {
   "cell_type": "code",
   "execution_count": 123,
   "metadata": {},
   "outputs": [
    {
     "data": {
      "text/plain": [
       "array([[1, 2, 3],\n",
       "       [4, 5, 6],\n",
       "       [7, 8, 9],\n",
       "       [1, 1, 1],\n",
       "       [2, 2, 2]])"
      ]
     },
     "execution_count": 123,
     "metadata": {},
     "output_type": "execute_result"
    }
   ],
   "source": [
    "B = np.copy(A)\n",
    "B"
   ]
  },
  {
   "cell_type": "code",
   "execution_count": 124,
   "metadata": {},
   "outputs": [
    {
     "data": {
      "text/plain": [
       "array([[7, 2, 3],\n",
       "       [4, 5, 6],\n",
       "       [7, 8, 9],\n",
       "       [1, 1, 1],\n",
       "       [2, 2, 2]])"
      ]
     },
     "execution_count": 124,
     "metadata": {},
     "output_type": "execute_result"
    }
   ],
   "source": [
    "B[0,0] = 7\n",
    "B"
   ]
  },
  {
   "cell_type": "code",
   "execution_count": 125,
   "metadata": {},
   "outputs": [
    {
     "data": {
      "text/plain": [
       "array([[1, 2, 3],\n",
       "       [4, 5, 6],\n",
       "       [7, 8, 9],\n",
       "       [1, 1, 1],\n",
       "       [2, 2, 2]])"
      ]
     },
     "execution_count": 125,
     "metadata": {},
     "output_type": "execute_result"
    }
   ],
   "source": [
    "A"
   ]
  },
  {
   "cell_type": "code",
   "execution_count": 126,
   "metadata": {},
   "outputs": [],
   "source": [
    "C = A"
   ]
  },
  {
   "cell_type": "code",
   "execution_count": 127,
   "metadata": {},
   "outputs": [
    {
     "data": {
      "text/plain": [
       "array([[9, 2, 3],\n",
       "       [4, 5, 6],\n",
       "       [7, 8, 9],\n",
       "       [1, 1, 1],\n",
       "       [2, 2, 2]])"
      ]
     },
     "execution_count": 127,
     "metadata": {},
     "output_type": "execute_result"
    }
   ],
   "source": [
    "C[0,0] = 9\n",
    "A"
   ]
  },
  {
   "cell_type": "code",
   "execution_count": 70,
   "metadata": {},
   "outputs": [
    {
     "data": {
      "text/plain": [
       "array([0.01, 0.02, 0.03, 0.04, 0.05, 0.06, 0.07, 0.08, 0.09, 0.1 ])"
      ]
     },
     "execution_count": 70,
     "metadata": {},
     "output_type": "execute_result"
    }
   ],
   "source": [
    "kernel\n"
   ]
  },
  {
   "cell_type": "code",
   "execution_count": 72,
   "metadata": {},
   "outputs": [
    {
     "data": {
      "text/plain": [
       "array([0.05, 0.04, 0.03, 0.02, 0.01])"
      ]
     },
     "execution_count": 72,
     "metadata": {},
     "output_type": "execute_result"
    }
   ],
   "source": [
    "np.arange(5,0,-1)/100"
   ]
  },
  {
   "cell_type": "code",
   "execution_count": 85,
   "metadata": {},
   "outputs": [
    {
     "name": "stdout",
     "output_type": "stream",
     "text": [
      "[[0.05 0.1  0.15 0.2  0.25]\n",
      " [0.04 0.08 0.12 0.16 0.2 ]\n",
      " [0.03 0.06 0.09 0.12 0.15]\n",
      " [0.02 0.04 0.06 0.08 0.1 ]\n",
      " [0.01 0.02 0.03 0.04 0.05]]\n"
     ]
    },
    {
     "data": {
      "text/plain": [
       "array([0.15, 0.3 , 0.45, 0.6 , 0.75])"
      ]
     },
     "execution_count": 85,
     "metadata": {},
     "output_type": "execute_result"
    }
   ],
   "source": [
    "kernel = np.arange(5,0,-1)/100\n",
    "temp = kernel[:, np.newaxis].dot(np.arange(1,6)[np.newaxis, :])\n",
    "print(temp)\n",
    "temp.sum(axis=0)"
   ]
  },
  {
   "cell_type": "code",
   "execution_count": 78,
   "metadata": {},
   "outputs": [
    {
     "data": {
      "text/plain": [
       "array([[0.05],\n",
       "       [0.04],\n",
       "       [0.03],\n",
       "       [0.02],\n",
       "       [0.01]])"
      ]
     },
     "execution_count": 78,
     "metadata": {},
     "output_type": "execute_result"
    }
   ],
   "source": [
    "kernel[:, np.newaxis]"
   ]
  },
  {
   "cell_type": "code",
   "execution_count": 80,
   "metadata": {},
   "outputs": [
    {
     "data": {
      "text/plain": [
       "(1, 5)"
      ]
     },
     "execution_count": 80,
     "metadata": {},
     "output_type": "execute_result"
    }
   ],
   "source": [
    "np.arange(1,6)[np.newaxis, :].shape"
   ]
  },
  {
   "cell_type": "code",
   "execution_count": 128,
   "metadata": {},
   "outputs": [
    {
     "data": {
      "text/plain": [
       "array([[9, 2, 3],\n",
       "       [4, 5, 6],\n",
       "       [7, 8, 9],\n",
       "       [1, 1, 1],\n",
       "       [2, 2, 2]])"
      ]
     },
     "execution_count": 128,
     "metadata": {},
     "output_type": "execute_result"
    }
   ],
   "source": [
    "A"
   ]
  },
  {
   "cell_type": "code",
   "execution_count": 130,
   "metadata": {},
   "outputs": [
    {
     "data": {
      "text/plain": [
       "(5, 3, 1)"
      ]
     },
     "execution_count": 130,
     "metadata": {},
     "output_type": "execute_result"
    }
   ],
   "source": [
    "A[:,:,None].shape"
   ]
  },
  {
   "cell_type": "code",
   "execution_count": 89,
   "metadata": {},
   "outputs": [
    {
     "data": {
      "text/plain": [
       "[array([[1],\n",
       "        [2],\n",
       "        [3]]),\n",
       " array([[1],\n",
       "        [2],\n",
       "        [3]]),\n",
       " array([[1],\n",
       "        [2],\n",
       "        [3]])]"
      ]
     },
     "execution_count": 89,
     "metadata": {},
     "output_type": "execute_result"
    }
   ],
   "source": [
    "b= [a]*3"
   ]
  },
  {
   "cell_type": "code",
   "execution_count": 133,
   "metadata": {},
   "outputs": [
    {
     "data": {
      "text/plain": [
       "array([[0.08210182, 0.81018534],\n",
       "       [0.50012392, 0.65938366],\n",
       "       [0.91461112, 0.35879139],\n",
       "       [0.82010446, 0.37834646],\n",
       "       [0.34617954, 0.78813178]])"
      ]
     },
     "execution_count": 133,
     "metadata": {},
     "output_type": "execute_result"
    }
   ],
   "source": [
    "m = np.random.uniform( size=(5, 2))\n",
    "m"
   ]
  },
  {
   "cell_type": "code",
   "execution_count": 135,
   "metadata": {},
   "outputs": [
    {
     "data": {
      "text/plain": [
       "array([0.08210182, 0.35879139, 0.37834646, 0.34617954])"
      ]
     },
     "execution_count": 135,
     "metadata": {},
     "output_type": "execute_result"
    }
   ],
   "source": [
    "m[m < 0.5]"
   ]
  },
  {
   "cell_type": "code",
   "execution_count": 138,
   "metadata": {},
   "outputs": [],
   "source": [
    "tmp = np.array([1,2,3,4,5])"
   ]
  },
  {
   "cell_type": "code",
   "execution_count": 142,
   "metadata": {},
   "outputs": [
    {
     "data": {
      "text/plain": [
       "array([3, 3, 3, 4, 5])"
      ]
     },
     "execution_count": 142,
     "metadata": {},
     "output_type": "execute_result"
    }
   ],
   "source": [
    "np.maximum(tmp,3)"
   ]
  },
  {
   "cell_type": "code",
   "execution_count": 205,
   "metadata": {},
   "outputs": [
    {
     "data": {
      "text/plain": [
       "1.5"
      ]
     },
     "execution_count": 205,
     "metadata": {},
     "output_type": "execute_result"
    }
   ],
   "source": [
    "np.mean(list(range(4)))"
   ]
  },
  {
   "cell_type": "code",
   "execution_count": 207,
   "metadata": {},
   "outputs": [],
   "source": [
    "a = [1, 2, np.nan, 3, np.nan]"
   ]
  },
  {
   "cell_type": "code",
   "execution_count": 209,
   "metadata": {},
   "outputs": [
    {
     "data": {
      "text/plain": [
       "array([1., 2., 0., 3., 0.])"
      ]
     },
     "execution_count": 209,
     "metadata": {},
     "output_type": "execute_result"
    }
   ],
   "source": [
    "np.nan_to_num(a)"
   ]
  },
  {
   "cell_type": "code",
   "execution_count": 210,
   "metadata": {},
   "outputs": [],
   "source": [
    "A = np.array([[0.2,3.3],[4.1, 7.2]])"
   ]
  },
  {
   "cell_type": "code",
   "execution_count": 211,
   "metadata": {},
   "outputs": [
    {
     "data": {
      "text/plain": [
       "array([[0.2, 3.3],\n",
       "       [4.1, 7.2]])"
      ]
     },
     "execution_count": 211,
     "metadata": {},
     "output_type": "execute_result"
    }
   ],
   "source": [
    "A"
   ]
  },
  {
   "cell_type": "code",
   "execution_count": 212,
   "metadata": {},
   "outputs": [
    {
     "ename": "TypeError",
     "evalue": "No loop matching the specified signature and casting was found for ufunc ceil",
     "output_type": "error",
     "traceback": [
      "\u001b[1;31m---------------------------------------------------------------------------\u001b[0m",
      "\u001b[1;31mTypeError\u001b[0m                                 Traceback (most recent call last)",
      "\u001b[1;32m<ipython-input-212-6c64a5229f7c>\u001b[0m in \u001b[0;36m<module>\u001b[1;34m\u001b[0m\n\u001b[1;32m----> 1\u001b[1;33m \u001b[0mnp\u001b[0m\u001b[1;33m.\u001b[0m\u001b[0mceil\u001b[0m\u001b[1;33m(\u001b[0m\u001b[0mA\u001b[0m\u001b[1;33m,\u001b[0m \u001b[0mdtype\u001b[0m\u001b[1;33m=\u001b[0m\u001b[0mint\u001b[0m\u001b[1;33m)\u001b[0m\u001b[1;33m\u001b[0m\u001b[1;33m\u001b[0m\u001b[0m\n\u001b[0m",
      "\u001b[1;31mTypeError\u001b[0m: No loop matching the specified signature and casting was found for ufunc ceil"
     ]
    }
   ],
   "source": [
    "np.ceil(A, dtype=int)"
   ]
  },
  {
   "cell_type": "code",
   "execution_count": null,
   "metadata": {},
   "outputs": [],
   "source": []
  }
 ],
 "metadata": {
  "kernelspec": {
   "display_name": "Python 3",
   "language": "python",
   "name": "python3"
  },
  "language_info": {
   "codemirror_mode": {
    "name": "ipython",
    "version": 3
   },
   "file_extension": ".py",
   "mimetype": "text/x-python",
   "name": "python",
   "nbconvert_exporter": "python",
   "pygments_lexer": "ipython3",
   "version": "3.7.6"
  }
 },
 "nbformat": 4,
 "nbformat_minor": 4
}
