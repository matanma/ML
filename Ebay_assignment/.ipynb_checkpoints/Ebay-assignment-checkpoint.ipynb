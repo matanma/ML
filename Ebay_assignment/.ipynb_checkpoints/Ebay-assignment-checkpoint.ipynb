{
 "cells": [
  {
   "cell_type": "code",
   "execution_count": 5,
   "metadata": {},
   "outputs": [],
   "source": [
    "import pandas as pd\n",
    "import sklearn\n",
    "from sklearn.linear_model import LinearRegression\n",
    "import numpy as np\n",
    "from pandas_summary import DataFrameSummary\n",
    "import pandas_profiling as pp\n",
    "import matplotlib.pyplot as plt\n",
    "from sklearn.linear_model import LogisticRegressionCV\n",
    "from sklearn import preprocessing\n",
    "from sklearn.metrics import classification_report, confusion_matrix\n",
    "from sklearn.model_selection import train_test_split\n",
    "import random\n",
    "%matplotlib inline\n",
    "from IPython.core.debugger import set_trace #!!TODO: remove this"
   ]
  },
  {
   "cell_type": "code",
   "execution_count": 4,
   "metadata": {},
   "outputs": [
    {
     "data": {
      "text/plain": [
       "array([[0, 4, 0],\n",
       "       [2, 1, 4]])"
      ]
     },
     "execution_count": 4,
     "metadata": {},
     "output_type": "execute_result"
    }
   ],
   "source": [
    "np.random.randint(0, high=5, size=(2,3))"
   ]
  },
  {
   "cell_type": "code",
   "execution_count": 106,
   "metadata": {},
   "outputs": [
    {
     "data": {
      "text/plain": [
       "array([[0.        , 0.        , 0.        , 0.        ],\n",
       "       [0.        , 0.        , 0.41824435, 0.52377017],\n",
       "       [0.88570544, 0.        , 0.17882353, 0.        ]])"
      ]
     },
     "execution_count": 106,
     "metadata": {},
     "output_type": "execute_result"
    }
   ],
   "source": [
    "import scipy\n",
    "S = scipy.sparse.random(3, 4, density=0.35)\n",
    "tmp = S.A\n",
    "tmp\n"
   ]
  },
  {
   "cell_type": "code",
   "execution_count": 50,
   "metadata": {},
   "outputs": [
    {
     "data": {
      "text/plain": [
       "array([[False,  True, False, False],\n",
       "       [False, False,  True,  True],\n",
       "       [False,  True, False, False]])"
      ]
     },
     "execution_count": 50,
     "metadata": {},
     "output_type": "execute_result"
    }
   ],
   "source": [
    "tmp_int = np.ceil(tmp*6)-1\n",
    "scored_inds = tmp_int >= 0\n",
    "scored_inds"
   ]
  },
  {
   "cell_type": "code",
   "execution_count": 109,
   "metadata": {},
   "outputs": [
    {
     "data": {
      "text/plain": [
       "array([[-1.,  0., -1., -1.],\n",
       "       [-1., -1.,  2.,  5.],\n",
       "       [-1.,  5., -1., -1.]])"
      ]
     },
     "execution_count": 109,
     "metadata": {},
     "output_type": "execute_result"
    }
   ],
   "source": [
    "tmp_int"
   ]
  },
  {
   "cell_type": "code",
   "execution_count": 110,
   "metadata": {},
   "outputs": [
    {
     "data": {
      "text/plain": [
       "array([[0.36315619, 0.25742299, 0.88980521],\n",
       "       [0.83652955, 0.16315537, 0.67623867]])"
      ]
     },
     "execution_count": 110,
     "metadata": {},
     "output_type": "execute_result"
    }
   ],
   "source": [
    "np.random.rand(2,3)"
   ]
  },
  {
   "cell_type": "code",
   "execution_count": 122,
   "metadata": {},
   "outputs": [
    {
     "data": {
      "text/plain": [
       "array([[-1.],\n",
       "       [ 0.],\n",
       "       [-1.],\n",
       "       [-1.],\n",
       "       [-1.],\n",
       "       [-1.],\n",
       "       [ 2.],\n",
       "       [ 5.],\n",
       "       [-1.],\n",
       "       [ 5.],\n",
       "       [-1.],\n",
       "       [-1.]])"
      ]
     },
     "execution_count": 122,
     "metadata": {},
     "output_type": "execute_result"
    }
   ],
   "source": [
    "tmp_int.reshape(12,1)"
   ]
  },
  {
   "cell_type": "code",
   "execution_count": 114,
   "metadata": {},
   "outputs": [
    {
     "data": {
      "text/plain": [
       "array([[ 1.,  0.,  1.,  1.],\n",
       "       [ 1.,  1.,  4., 25.],\n",
       "       [ 1., 25.,  1.,  1.]])"
      ]
     },
     "execution_count": 114,
     "metadata": {},
     "output_type": "execute_result"
    }
   ],
   "source": [
    "tmp_int**2"
   ]
  },
  {
   "cell_type": "code",
   "execution_count": 66,
   "metadata": {
    "scrolled": true
   },
   "outputs": [
    {
     "name": "stdout",
     "output_type": "stream",
     "text": [
      "[[-1.  0. -1. -1.]\n",
      " [-1. -1.  2.  5.]\n",
      " [-1.  5. -1. -1.]]\n",
      "[[False  True False False]\n",
      " [False False  True  True]\n",
      " [False  True False False]]\n",
      "[[1 0 2 0]\n",
      " [0 1 0 0]\n",
      " [0 0 0 1]]\n"
     ]
    }
   ],
   "source": [
    "Y = tmp_int\n",
    "R = tmp_int >= 0\n",
    "X = np.array([[1,0,2,0], [0,1,0,0], [0,0,0,1]])\n",
    "print(Y)\n",
    "print(R)\n",
    "print(X)"
   ]
  },
  {
   "cell_type": "code",
   "execution_count": 112,
   "metadata": {},
   "outputs": [
    {
     "data": {
      "text/plain": [
       "21"
      ]
     },
     "execution_count": 112,
     "metadata": {},
     "output_type": "execute_result"
    }
   ],
   "source": [
    "np.array([1,2,3,4,5,6]).reshape(2,3).sum()"
   ]
  },
  {
   "cell_type": "code",
   "execution_count": 108,
   "metadata": {},
   "outputs": [
    {
     "data": {
      "text/plain": [
       "5"
      ]
     },
     "execution_count": 108,
     "metadata": {},
     "output_type": "execute_result"
    }
   ],
   "source": [
    "zz = (0,5)\n",
    "zz[-1]"
   ]
  },
  {
   "cell_type": "code",
   "execution_count": 67,
   "metadata": {},
   "outputs": [
    {
     "name": "stdout",
     "output_type": "stream",
     "text": [
      "[[0 0 0 0]\n",
      " [0 0 0 0]\n",
      " [0 0 0 0]]\n"
     ]
    }
   ],
   "source": [
    "print(X*R)"
   ]
  },
  {
   "cell_type": "code",
   "execution_count": 60,
   "metadata": {},
   "outputs": [
    {
     "data": {
      "text/plain": [
       "array([[0.  ],\n",
       "       [1.75],\n",
       "       [1.25]])"
      ]
     },
     "execution_count": 60,
     "metadata": {},
     "output_type": "execute_result"
    }
   ],
   "source": [
    "np.mean(Y*R, axis=1)[:, np.newaxis]"
   ]
  },
  {
   "cell_type": "code",
   "execution_count": 62,
   "metadata": {},
   "outputs": [
    {
     "data": {
      "text/plain": [
       "array([[-1.  ,  0.  , -1.  , -1.  ],\n",
       "       [-2.75, -2.75,  0.25,  3.25],\n",
       "       [-2.25,  3.75, -2.25, -2.25]])"
      ]
     },
     "execution_count": 62,
     "metadata": {},
     "output_type": "execute_result"
    }
   ],
   "source": [
    "Y_minus_products_means = Y-np.mean(Y*R, axis=1)[:, np.newaxis]\n",
    "Y_minus_products_means"
   ]
  },
  {
   "cell_type": "code",
   "execution_count": 92,
   "metadata": {},
   "outputs": [
    {
     "name": "stdout",
     "output_type": "stream",
     "text": [
      "[[0.75392934 0.93363804 0.02310552 0.91782992]\n",
      " [0.36086434 0.62629728 0.60468062 0.03171122]\n",
      " [0.04300634 0.10552932 0.0841582  0.07343448]]\n"
     ]
    }
   ],
   "source": [
    "XX = np.random.rand(*X.shape)\n",
    "from sklearn.linear_model import LinearRegression\n",
    "lr = LinearRegression(fit_intercept=False).fit(XX, Y_minus_products_means)\n",
    "print(XX)"
   ]
  },
  {
   "cell_type": "code",
   "execution_count": 93,
   "metadata": {},
   "outputs": [
    {
     "data": {
      "text/plain": [
       "array([[-1.00000000e+00, -2.13162821e-14, -1.00000000e+00,\n",
       "        -1.00000000e+00],\n",
       "       [-2.75000000e+00, -2.75000000e+00,  2.50000000e-01,\n",
       "         3.25000000e+00],\n",
       "       [-2.25000000e+00,  3.75000000e+00, -2.25000000e+00,\n",
       "        -2.25000000e+00]])"
      ]
     },
     "execution_count": 93,
     "metadata": {},
     "output_type": "execute_result"
    }
   ],
   "source": [
    "lr.predict(XX)"
   ]
  },
  {
   "cell_type": "code",
   "execution_count": 94,
   "metadata": {},
   "outputs": [
    {
     "data": {
      "text/plain": [
       "array([[ 27.29645222,   1.62660233, -21.23096314, -24.63168963],\n",
       "       [-59.13887079,  -8.01825022,  36.12259427,  55.82520372],\n",
       "       [ 32.22330904,   3.59626662, -20.93231102, -30.68984468],\n",
       "       [ 37.15016585,   5.56593091, -20.63365891, -36.74799973]])"
      ]
     },
     "execution_count": 94,
     "metadata": {},
     "output_type": "execute_result"
    }
   ],
   "source": [
    "lr.coef_"
   ]
  },
  {
   "cell_type": "code",
   "execution_count": 97,
   "metadata": {},
   "outputs": [
    {
     "data": {
      "text/plain": [
       "array([[-1.00000000e+00, -2.13162821e-14, -1.00000000e+00,\n",
       "        -1.00000000e+00],\n",
       "       [-2.75000000e+00, -2.75000000e+00,  2.50000000e-01,\n",
       "         3.25000000e+00],\n",
       "       [-2.25000000e+00,  3.75000000e+00, -2.25000000e+00,\n",
       "        -2.25000000e+00]])"
      ]
     },
     "execution_count": 97,
     "metadata": {},
     "output_type": "execute_result"
    }
   ],
   "source": [
    "XX.dot(lr.coef_.T) "
   ]
  },
  {
   "cell_type": "code",
   "execution_count": 98,
   "metadata": {},
   "outputs": [
    {
     "data": {
      "text/plain": [
       "array([[0.75392934, 0.93363804, 0.02310552, 0.91782992],\n",
       "       [0.36086434, 0.62629728, 0.60468062, 0.03171122],\n",
       "       [0.04300634, 0.10552932, 0.0841582 , 0.07343448]])"
      ]
     },
     "execution_count": 98,
     "metadata": {},
     "output_type": "execute_result"
    }
   ],
   "source": [
    "XX"
   ]
  },
  {
   "cell_type": "code",
   "execution_count": 99,
   "metadata": {},
   "outputs": [
    {
     "data": {
      "text/plain": [
       "array([[False,  True, False, False],\n",
       "       [False, False,  True,  True],\n",
       "       [False,  True, False, False]])"
      ]
     },
     "execution_count": 99,
     "metadata": {},
     "output_type": "execute_result"
    }
   ],
   "source": [
    "R"
   ]
  },
  {
   "cell_type": "code",
   "execution_count": 100,
   "metadata": {},
   "outputs": [
    {
     "data": {
      "text/plain": [
       "array([[0.        , 0.93363804, 0.        , 0.        ],\n",
       "       [0.        , 0.        , 0.60468062, 0.03171122],\n",
       "       [0.        , 0.10552932, 0.        , 0.        ]])"
      ]
     },
     "execution_count": 100,
     "metadata": {},
     "output_type": "execute_result"
    }
   ],
   "source": [
    "XX*R"
   ]
  },
  {
   "cell_type": "code",
   "execution_count": 101,
   "metadata": {},
   "outputs": [],
   "source": [
    "lr_filt = LinearRegression(fit_intercept=False).fit(XX*R, Y_minus_products_means*R)"
   ]
  },
  {
   "cell_type": "code",
   "execution_count": 103,
   "metadata": {},
   "outputs": [
    {
     "data": {
      "text/plain": [
       "array([[0.        , 0.        , 0.        , 0.        ],\n",
       "       [0.        , 0.44826412, 0.        , 0.        ],\n",
       "       [0.        , 0.        , 0.41230744, 0.02162261],\n",
       "       [0.        , 0.        , 5.35999677, 0.28109388]])"
      ]
     },
     "execution_count": 103,
     "metadata": {},
     "output_type": "execute_result"
    }
   ],
   "source": [
    "lr_filt.coef_"
   ]
  },
  {
   "cell_type": "code",
   "execution_count": 85,
   "metadata": {},
   "outputs": [],
   "source": [
    "X1d = np.array([1,2.5,3,7.6,10.2,15])[:,np.newaxis]\n",
    "y1d = 3 + 2*X1d\n",
    "lr1d = LinearRegression().fit(X1d,y1d)"
   ]
  },
  {
   "cell_type": "code",
   "execution_count": 87,
   "metadata": {},
   "outputs": [
    {
     "data": {
      "text/plain": [
       "(array([[2.]]), array([3.]))"
      ]
     },
     "execution_count": 87,
     "metadata": {},
     "output_type": "execute_result"
    }
   ],
   "source": [
    "lr1d.coef_, lr1d.intercept_"
   ]
  },
  {
   "cell_type": "code",
   "execution_count": null,
   "metadata": {},
   "outputs": [],
   "source": []
  },
  {
   "cell_type": "code",
   "execution_count": null,
   "metadata": {},
   "outputs": [],
   "source": []
  },
  {
   "cell_type": "code",
   "execution_count": 35,
   "metadata": {},
   "outputs": [
    {
     "data": {
      "text/plain": [
       "array([[       nan,        nan,        nan,        nan],\n",
       "       [       nan,        nan,        nan, 0.33919088],\n",
       "       [       nan,        nan, 0.98279623, 0.66437247]])"
      ]
     },
     "execution_count": 35,
     "metadata": {},
     "output_type": "execute_result"
    }
   ],
   "source": [
    "tmp[~scored_inds] = np.nan\n",
    "tmp"
   ]
  },
  {
   "cell_type": "code",
   "execution_count": 42,
   "metadata": {},
   "outputs": [
    {
     "data": {
      "text/plain": [
       "array([[0.9209042 , 0.51099245, 0.15265583, 0.21024998],\n",
       "       [0.53781806, 0.75405935, 0.00155555, 0.25793837],\n",
       "       [0.78496357, 0.33826438, 0.11142428, 0.64792235]])"
      ]
     },
     "execution_count": 42,
     "metadata": {},
     "output_type": "execute_result"
    }
   ],
   "source": [
    "theta = np.random.rand(*tmp.shape)\n",
    "theta"
   ]
  },
  {
   "cell_type": "code",
   "execution_count": null,
   "metadata": {},
   "outputs": [],
   "source": [
    "Y = S.A"
   ]
  },
  {
   "cell_type": "code",
   "execution_count": null,
   "metadata": {},
   "outputs": [],
   "source": []
  },
  {
   "cell_type": "code",
   "execution_count": 12,
   "metadata": {},
   "outputs": [
    {
     "data": {
      "text/plain": [
       "3.0"
      ]
     },
     "execution_count": 12,
     "metadata": {},
     "output_type": "execute_result"
    }
   ],
   "source": [
    "np.mean([1,2,3,4,5])"
   ]
  },
  {
   "cell_type": "code",
   "execution_count": 123,
   "metadata": {},
   "outputs": [],
   "source": [
    "train_set_df = pd.read_csv(\"mercari-price-suggestion-challenge/train.tsv\", sep='\\t' )"
   ]
  },
  {
   "cell_type": "code",
   "execution_count": 31,
   "metadata": {},
   "outputs": [],
   "source": [
    "train_set_df.iloc[0:200, :].to_csv(\"mercari-price-suggestion-challenge/train_small.csv\", sep=',' )"
   ]
  },
  {
   "cell_type": "code",
   "execution_count": 34,
   "metadata": {},
   "outputs": [
    {
     "data": {
      "text/plain": [
       "200"
      ]
     },
     "execution_count": 34,
     "metadata": {},
     "output_type": "execute_result"
    }
   ],
   "source": [
    "len(train_set_df.iloc[0:200, :]['name'].unique())"
   ]
  },
  {
   "cell_type": "code",
   "execution_count": 17,
   "metadata": {},
   "outputs": [
    {
     "data": {
      "text/plain": [
       "1288"
      ]
     },
     "execution_count": 17,
     "metadata": {},
     "output_type": "execute_result"
    }
   ],
   "source": [
    "len(train_set_df.category_name.unique())"
   ]
  },
  {
   "cell_type": "code",
   "execution_count": 127,
   "metadata": {
    "scrolled": true
   },
   "outputs": [
    {
     "data": {
      "text/plain": [
       "1288"
      ]
     },
     "execution_count": 127,
     "metadata": {},
     "output_type": "execute_result"
    }
   ],
   "source": [
    "len(train_set_df.category_name.unique())"
   ]
  },
  {
   "cell_type": "code",
   "execution_count": 149,
   "metadata": {},
   "outputs": [
    {
     "name": "stdout",
     "output_type": "stream",
     "text": [
      "1225273\n",
      "1482535\n",
      "1288\n"
     ]
    }
   ],
   "source": [
    "print(len(train_set_df.name.unique()))\n",
    "print(len(train_set_df))\n",
    "print(len(train_set_df.category_name.unique()))"
   ]
  },
  {
   "cell_type": "code",
   "execution_count": 141,
   "metadata": {},
   "outputs": [
    {
     "name": "stdout",
     "output_type": "stream",
     "text": [
      "11\n",
      "   train_id                                 name  item_condition_id  \\\n",
      "0         0  MLB Cincinnati Reds T Shirt Size XL                  3   \n",
      "1         1     Razer BlackWidow Chroma Keyboard                  3   \n",
      "2         2                       AVA-VIV Blouse                  1   \n",
      "3         3                Leather Horse Statues                  1   \n",
      "4         4                 24K GOLD plated rose                  1   \n",
      "\n",
      "                                       category_name brand_name  price  \\\n",
      "0                                  Men/Tops/T-shirts        NaN   10.0   \n",
      "1  Electronics/Computers & Tablets/Components & P...      Razer   52.0   \n",
      "2                        Women/Tops & Blouses/Blouse     Target   10.0   \n",
      "3                 Home/Home Décor/Home Décor Accents        NaN   35.0   \n",
      "4                            Women/Jewelry/Necklaces        NaN   44.0   \n",
      "\n",
      "   shipping                                   item_description  general_cat  \\\n",
      "0         1                                 No description yet          Men   \n",
      "1         0  This keyboard is in great condition and works ...  Electronics   \n",
      "2         1  Adorable top with a hint of lace and a key hol...        Women   \n",
      "3         1  New with tags. Leather horses. Retail for [rm]...         Home   \n",
      "4         0          Complete with certificate of authenticity        Women   \n",
      "\n",
      "              subcat_1            subcat_2  \n",
      "0                 Tops            T-shirts  \n",
      "1  Computers & Tablets  Components & Parts  \n",
      "2       Tops & Blouses              Blouse  \n",
      "3           Home Décor  Home Décor Accents  \n",
      "4              Jewelry           Necklaces  \n"
     ]
    }
   ],
   "source": [
    "def split_cat(text):\n",
    "    try:\n",
    "        return text.split(\"/\")\n",
    "    except:\n",
    "        return (\"No Label\", \"No Label\", \"No Label\")\n",
    "\n",
    "train_set_df['general_cat'], train_set_df['subcat_1'], train_set_df['subcat_2'] = \\\n",
    "    zip(*train_set_df['category_name'].apply(lambda x: split_cat(x)))\n",
    "print(len(train_set_df['general_cat'].unique()))\n",
    "\n",
    "print( train_set_df.head() )"
   ]
  },
  {
   "cell_type": "code",
   "execution_count": 151,
   "metadata": {},
   "outputs": [
    {
     "name": "stdout",
     "output_type": "stream",
     "text": [
      "[[0. 0. 0. 0. 0. 1. 0. 0. 0. 0. 0.]\n",
      " [0. 1. 0. 0. 0. 0. 0. 0. 0. 0. 0.]\n",
      " [0. 0. 0. 0. 0. 0. 0. 0. 0. 0. 1.]\n",
      " [0. 0. 0. 1. 0. 0. 0. 0. 0. 0. 0.]\n",
      " [0. 0. 0. 0. 0. 0. 0. 0. 0. 0. 1.]]\n",
      "(5, 11)\n"
     ]
    }
   ],
   "source": [
    "from sklearn.preprocessing import OneHotEncoder\n",
    "sub_df = train_set_df[['general_cat']]\n",
    "sub_df.head()\n",
    "enc  = OneHotEncoder().fit(sub_df)\n",
    "one_hot_df = enc.transform(sub_df)\n",
    "print(one_hot_df.A[:5,:])\n",
    "print(one_hot_df.A[:5,:].shape)"
   ]
  },
  {
   "cell_type": "code",
   "execution_count": 144,
   "metadata": {
    "scrolled": true
   },
   "outputs": [
    {
     "name": "stdout",
     "output_type": "stream",
     "text": [
      "   general_cat  shipping\n",
      "0          Men         1\n",
      "1  Electronics         0\n",
      "2        Women         1\n",
      "3         Home         1\n",
      "4        Women         0\n"
     ]
    }
   ],
   "source": [
    "print(sub_df.head())"
   ]
  },
  {
   "cell_type": "code",
   "execution_count": 146,
   "metadata": {},
   "outputs": [
    {
     "data": {
      "text/plain": [
       "array(['x0_Beauty', 'x0_Electronics', 'x0_Handmade', 'x0_Home', 'x0_Kids',\n",
       "       'x0_Men', 'x0_No Label', 'x0_Other', 'x0_Sports & Outdoors',\n",
       "       'x0_Vintage & Collectibles', 'x0_Women'], dtype=object)"
      ]
     },
     "execution_count": 146,
     "metadata": {},
     "output_type": "execute_result"
    }
   ],
   "source": [
    "enc.get_feature_names()"
   ]
  },
  {
   "cell_type": "code",
   "execution_count": 102,
   "metadata": {},
   "outputs": [],
   "source": [
    "import numpy as np\n",
    "# import np.random\n",
    "m = np.random.randint(0, 100, size=(5, 2, 3))\n",
    "mm = np.random.randint(0, 100, size=(5, 2, 3))"
   ]
  },
  {
   "cell_type": "code",
   "execution_count": 104,
   "metadata": {},
   "outputs": [
    {
     "data": {
      "text/plain": [
       "(array([[[45, 27, 42],\n",
       "         [ 7, 36, 19]],\n",
       " \n",
       "        [[ 3, 11, 46],\n",
       "         [40, 60,  6]],\n",
       " \n",
       "        [[34, 31, 42],\n",
       "         [38, 27, 39]],\n",
       " \n",
       "        [[73, 57,  3],\n",
       "         [62, 67,  1]],\n",
       " \n",
       "        [[15, 98,  6],\n",
       "         [66, 88, 99]]]),\n",
       " array([[[ 3, 99, 56],\n",
       "         [72, 46, 70]],\n",
       " \n",
       "        [[68, 25,  5],\n",
       "         [91, 72, 34]],\n",
       " \n",
       "        [[12, 53,  2],\n",
       "         [14,  7, 69]],\n",
       " \n",
       "        [[89, 47, 13],\n",
       "         [30,  4, 17]],\n",
       " \n",
       "        [[47, 86, 28],\n",
       "         [63, 80, 18]]]))"
      ]
     },
     "execution_count": 104,
     "metadata": {},
     "output_type": "execute_result"
    }
   ],
   "source": [
    "m, mm"
   ]
  },
  {
   "cell_type": "code",
   "execution_count": 107,
   "metadata": {},
   "outputs": [
    {
     "data": {
      "text/plain": [
       "array([[[ 135, 2673, 2352],\n",
       "        [ 504, 1656, 1330]],\n",
       "\n",
       "       [[ 204,  275,  230],\n",
       "        [3640, 4320,  204]],\n",
       "\n",
       "       [[ 408, 1643,   84],\n",
       "        [ 532,  189, 2691]],\n",
       "\n",
       "       [[6497, 2679,   39],\n",
       "        [1860,  268,   17]],\n",
       "\n",
       "       [[ 705, 8428,  168],\n",
       "        [4158, 7040, 1782]]])"
      ]
     },
     "execution_count": 107,
     "metadata": {},
     "output_type": "execute_result"
    }
   ],
   "source": [
    "m*mm\n"
   ]
  },
  {
   "cell_type": "code",
   "execution_count": 109,
   "metadata": {},
   "outputs": [
    {
     "data": {
      "text/plain": [
       "array([[6497, 8428, 2352],\n",
       "       [4158, 7040, 2691]])"
      ]
     },
     "execution_count": 109,
     "metadata": {},
     "output_type": "execute_result"
    }
   ],
   "source": [
    "np.max(m*mm, axis=0)"
   ]
  },
  {
   "cell_type": "code",
   "execution_count": 112,
   "metadata": {},
   "outputs": [
    {
     "data": {
      "text/plain": [
       "array([[1, 2, 3],\n",
       "       [4, 5, 6],\n",
       "       [7, 8, 9],\n",
       "       [1, 1, 1],\n",
       "       [2, 2, 2]])"
      ]
     },
     "execution_count": 112,
     "metadata": {},
     "output_type": "execute_result"
    }
   ],
   "source": [
    "A = np.array([[1,2,3], [4,5,6], [7,8,9], [1,1,1],[2,2,2]])\n",
    "A"
   ]
  },
  {
   "cell_type": "code",
   "execution_count": 113,
   "metadata": {},
   "outputs": [
    {
     "data": {
      "text/plain": [
       "array([[[45, 27, 42],\n",
       "        [ 7, 36, 19]],\n",
       "\n",
       "       [[ 3, 11, 46],\n",
       "        [40, 60,  6]],\n",
       "\n",
       "       [[34, 31, 42],\n",
       "        [38, 27, 39]],\n",
       "\n",
       "       [[73, 57,  3],\n",
       "        [62, 67,  1]],\n",
       "\n",
       "       [[15, 98,  6],\n",
       "        [66, 88, 99]]])"
      ]
     },
     "execution_count": 113,
     "metadata": {},
     "output_type": "execute_result"
    }
   ],
   "source": [
    "m"
   ]
  },
  {
   "cell_type": "code",
   "execution_count": 116,
   "metadata": {},
   "outputs": [
    {
     "data": {
      "text/plain": [
       "array([[[45,  3, 42],\n",
       "        [ 7, 36, 19]],\n",
       "\n",
       "       [[ 3,  6, 46],\n",
       "        [40, 60,  6]],\n",
       "\n",
       "       [[34,  9, 42],\n",
       "        [38, 27, 39]],\n",
       "\n",
       "       [[73,  1,  3],\n",
       "        [62, 67,  1]],\n",
       "\n",
       "       [[15,  2,  6],\n",
       "        [66, 88, 99]]])"
      ]
     },
     "execution_count": 116,
     "metadata": {},
     "output_type": "execute_result"
    }
   ],
   "source": [
    "m[:,0,1] = np.array[A[:,2], A[:,1], A[:0], A[:1]]\n",
    "m"
   ]
  },
  {
   "cell_type": "code",
   "execution_count": 120,
   "metadata": {},
   "outputs": [
    {
     "data": {
      "text/plain": [
       "array([array([3, 6, 9, 1, 2]), array([2, 5, 8, 1, 2]),\n",
       "       array([1, 4, 7, 1, 2]), array([[1, 2, 3]])], dtype=object)"
      ]
     },
     "execution_count": 120,
     "metadata": {},
     "output_type": "execute_result"
    }
   ],
   "source": [
    "np.array([A[:,2], A[:,1], A[:,0], A[:1]])\n"
   ]
  },
  {
   "cell_type": "code",
   "execution_count": 121,
   "metadata": {},
   "outputs": [
    {
     "data": {
      "text/plain": [
       "array([[1, 2, 3],\n",
       "       [4, 5, 6],\n",
       "       [7, 8, 9],\n",
       "       [1, 1, 1],\n",
       "       [2, 2, 2]])"
      ]
     },
     "execution_count": 121,
     "metadata": {},
     "output_type": "execute_result"
    }
   ],
   "source": [
    "A"
   ]
  },
  {
   "cell_type": "code",
   "execution_count": 123,
   "metadata": {},
   "outputs": [
    {
     "data": {
      "text/plain": [
       "array([[1, 2, 3],\n",
       "       [4, 5, 6],\n",
       "       [7, 8, 9],\n",
       "       [1, 1, 1],\n",
       "       [2, 2, 2]])"
      ]
     },
     "execution_count": 123,
     "metadata": {},
     "output_type": "execute_result"
    }
   ],
   "source": [
    "B = np.copy(A)\n",
    "B"
   ]
  },
  {
   "cell_type": "code",
   "execution_count": 124,
   "metadata": {},
   "outputs": [
    {
     "data": {
      "text/plain": [
       "array([[7, 2, 3],\n",
       "       [4, 5, 6],\n",
       "       [7, 8, 9],\n",
       "       [1, 1, 1],\n",
       "       [2, 2, 2]])"
      ]
     },
     "execution_count": 124,
     "metadata": {},
     "output_type": "execute_result"
    }
   ],
   "source": [
    "B[0,0] = 7\n",
    "B"
   ]
  },
  {
   "cell_type": "code",
   "execution_count": 125,
   "metadata": {},
   "outputs": [
    {
     "data": {
      "text/plain": [
       "array([[1, 2, 3],\n",
       "       [4, 5, 6],\n",
       "       [7, 8, 9],\n",
       "       [1, 1, 1],\n",
       "       [2, 2, 2]])"
      ]
     },
     "execution_count": 125,
     "metadata": {},
     "output_type": "execute_result"
    }
   ],
   "source": [
    "A"
   ]
  },
  {
   "cell_type": "code",
   "execution_count": 126,
   "metadata": {},
   "outputs": [],
   "source": [
    "C = A"
   ]
  },
  {
   "cell_type": "code",
   "execution_count": 127,
   "metadata": {},
   "outputs": [
    {
     "data": {
      "text/plain": [
       "array([[9, 2, 3],\n",
       "       [4, 5, 6],\n",
       "       [7, 8, 9],\n",
       "       [1, 1, 1],\n",
       "       [2, 2, 2]])"
      ]
     },
     "execution_count": 127,
     "metadata": {},
     "output_type": "execute_result"
    }
   ],
   "source": [
    "C[0,0] = 9\n",
    "A"
   ]
  },
  {
   "cell_type": "code",
   "execution_count": 70,
   "metadata": {},
   "outputs": [
    {
     "data": {
      "text/plain": [
       "array([0.01, 0.02, 0.03, 0.04, 0.05, 0.06, 0.07, 0.08, 0.09, 0.1 ])"
      ]
     },
     "execution_count": 70,
     "metadata": {},
     "output_type": "execute_result"
    }
   ],
   "source": [
    "kernel\n"
   ]
  },
  {
   "cell_type": "code",
   "execution_count": 72,
   "metadata": {},
   "outputs": [
    {
     "data": {
      "text/plain": [
       "array([0.05, 0.04, 0.03, 0.02, 0.01])"
      ]
     },
     "execution_count": 72,
     "metadata": {},
     "output_type": "execute_result"
    }
   ],
   "source": [
    "np.arange(5,0,-1)/100"
   ]
  },
  {
   "cell_type": "code",
   "execution_count": 85,
   "metadata": {},
   "outputs": [
    {
     "name": "stdout",
     "output_type": "stream",
     "text": [
      "[[0.05 0.1  0.15 0.2  0.25]\n",
      " [0.04 0.08 0.12 0.16 0.2 ]\n",
      " [0.03 0.06 0.09 0.12 0.15]\n",
      " [0.02 0.04 0.06 0.08 0.1 ]\n",
      " [0.01 0.02 0.03 0.04 0.05]]\n"
     ]
    },
    {
     "data": {
      "text/plain": [
       "array([0.15, 0.3 , 0.45, 0.6 , 0.75])"
      ]
     },
     "execution_count": 85,
     "metadata": {},
     "output_type": "execute_result"
    }
   ],
   "source": [
    "kernel = np.arange(5,0,-1)/100\n",
    "temp = kernel[:, np.newaxis].dot(np.arange(1,6)[np.newaxis, :])\n",
    "print(temp)\n",
    "temp.sum(axis=0)"
   ]
  },
  {
   "cell_type": "code",
   "execution_count": 78,
   "metadata": {},
   "outputs": [
    {
     "data": {
      "text/plain": [
       "array([[0.05],\n",
       "       [0.04],\n",
       "       [0.03],\n",
       "       [0.02],\n",
       "       [0.01]])"
      ]
     },
     "execution_count": 78,
     "metadata": {},
     "output_type": "execute_result"
    }
   ],
   "source": [
    "kernel[:, np.newaxis]"
   ]
  },
  {
   "cell_type": "code",
   "execution_count": 80,
   "metadata": {},
   "outputs": [
    {
     "data": {
      "text/plain": [
       "(1, 5)"
      ]
     },
     "execution_count": 80,
     "metadata": {},
     "output_type": "execute_result"
    }
   ],
   "source": [
    "np.arange(1,6)[np.newaxis, :].shape"
   ]
  },
  {
   "cell_type": "code",
   "execution_count": 128,
   "metadata": {},
   "outputs": [
    {
     "data": {
      "text/plain": [
       "array([[9, 2, 3],\n",
       "       [4, 5, 6],\n",
       "       [7, 8, 9],\n",
       "       [1, 1, 1],\n",
       "       [2, 2, 2]])"
      ]
     },
     "execution_count": 128,
     "metadata": {},
     "output_type": "execute_result"
    }
   ],
   "source": [
    "A"
   ]
  },
  {
   "cell_type": "code",
   "execution_count": 130,
   "metadata": {},
   "outputs": [
    {
     "data": {
      "text/plain": [
       "(5, 3, 1)"
      ]
     },
     "execution_count": 130,
     "metadata": {},
     "output_type": "execute_result"
    }
   ],
   "source": [
    "A[:,:,None].shape"
   ]
  },
  {
   "cell_type": "code",
   "execution_count": 89,
   "metadata": {},
   "outputs": [
    {
     "data": {
      "text/plain": [
       "[array([[1],\n",
       "        [2],\n",
       "        [3]]),\n",
       " array([[1],\n",
       "        [2],\n",
       "        [3]]),\n",
       " array([[1],\n",
       "        [2],\n",
       "        [3]])]"
      ]
     },
     "execution_count": 89,
     "metadata": {},
     "output_type": "execute_result"
    }
   ],
   "source": [
    "b= [a]*3"
   ]
  },
  {
   "cell_type": "code",
   "execution_count": 133,
   "metadata": {},
   "outputs": [
    {
     "data": {
      "text/plain": [
       "array([[0.08210182, 0.81018534],\n",
       "       [0.50012392, 0.65938366],\n",
       "       [0.91461112, 0.35879139],\n",
       "       [0.82010446, 0.37834646],\n",
       "       [0.34617954, 0.78813178]])"
      ]
     },
     "execution_count": 133,
     "metadata": {},
     "output_type": "execute_result"
    }
   ],
   "source": [
    "m = np.random.uniform( size=(5, 2))\n",
    "m"
   ]
  },
  {
   "cell_type": "code",
   "execution_count": 135,
   "metadata": {},
   "outputs": [
    {
     "data": {
      "text/plain": [
       "array([0.08210182, 0.35879139, 0.37834646, 0.34617954])"
      ]
     },
     "execution_count": 135,
     "metadata": {},
     "output_type": "execute_result"
    }
   ],
   "source": [
    "m[m < 0.5]"
   ]
  },
  {
   "cell_type": "code",
   "execution_count": 138,
   "metadata": {},
   "outputs": [],
   "source": [
    "tmp = np.array([1,2,3,4,5])"
   ]
  },
  {
   "cell_type": "code",
   "execution_count": 142,
   "metadata": {},
   "outputs": [
    {
     "data": {
      "text/plain": [
       "array([3, 3, 3, 4, 5])"
      ]
     },
     "execution_count": 142,
     "metadata": {},
     "output_type": "execute_result"
    }
   ],
   "source": [
    "np.maximum(tmp,3)"
   ]
  },
  {
   "cell_type": "code",
   "execution_count": null,
   "metadata": {},
   "outputs": [],
   "source": [
    "np"
   ]
  }
 ],
 "metadata": {
  "kernelspec": {
   "display_name": "Python 3",
   "language": "python",
   "name": "python3"
  },
  "language_info": {
   "codemirror_mode": {
    "name": "ipython",
    "version": 3
   },
   "file_extension": ".py",
   "mimetype": "text/x-python",
   "name": "python",
   "nbconvert_exporter": "python",
   "pygments_lexer": "ipython3",
   "version": "3.7.6"
  }
 },
 "nbformat": 4,
 "nbformat_minor": 4
}
