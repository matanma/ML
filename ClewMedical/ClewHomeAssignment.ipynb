{
 "cells": [
  {
   "cell_type": "code",
   "execution_count": 62,
   "metadata": {
    "scrolled": true
   },
   "outputs": [],
   "source": [
    "import pandas as pd\n",
    "import sklearn\n",
    "from sklearn.linear_model import LinearRegression\n",
    "import numpy as np\n",
    "from pandas_summary import DataFrameSummary\n",
    "import pandas_profiling as pp\n",
    "import matplotlib.pyplot as plt\n",
    "from sklearn.linear_model import LogisticRegressionCV\n",
    "from sklearn import preprocessing\n",
    "from sklearn.metrics import classification_report, confusion_matrix\n",
    "from sklearn.model_selection import train_test_split\n",
    "import random\n",
    "from sklearn.svm import SVC\n",
    "from IPython.core.debugger import set_trace\n",
    "from sklearn.model_selection import GridSearchCV\n",
    "from sklearn.neighbors import KNeighborsClassifier\n",
    "from sklearn.tree import DecisionTreeClassifier\n",
    "%matplotlib inline\n",
    "from IPython.core.debugger import set_trace #!!TODO: remove this"
   ]
  },
  {
   "cell_type": "code",
   "execution_count": 10,
   "metadata": {},
   "outputs": [],
   "source": [
    "from dateutil.parser import parse\n",
    "train_set_df = pd.read_csv(\"train_set.csv\", parse_dates = ['timestamp'], date_parser = parse )\n",
    "test_set_df = pd.read_csv(\"test_set.csv\", parse_dates = ['timestamp'], date_parser = parse )"
   ]
  },
  {
   "cell_type": "code",
   "execution_count": 11,
   "metadata": {},
   "outputs": [],
   "source": [
    "y_train_raw = train_set_df.label\n",
    "train_set_grouped_by_patients = train_set_df.groupby('patient_id')\n",
    "\n"
   ]
  },
  {
   "cell_type": "code",
   "execution_count": null,
   "metadata": {},
   "outputs": [],
   "source": []
  },
  {
   "cell_type": "markdown",
   "metadata": {},
   "source": [
    "# EDA"
   ]
  },
  {
   "cell_type": "markdown",
   "metadata": {},
   "source": [
    "**Initial examination of the raw data**"
   ]
  },
  {
   "cell_type": "code",
   "execution_count": 4,
   "metadata": {},
   "outputs": [
    {
     "data": {
      "text/html": [
       "<div>\n",
       "<style scoped>\n",
       "    .dataframe tbody tr th:only-of-type {\n",
       "        vertical-align: middle;\n",
       "    }\n",
       "\n",
       "    .dataframe tbody tr th {\n",
       "        vertical-align: top;\n",
       "    }\n",
       "\n",
       "    .dataframe thead th {\n",
       "        text-align: right;\n",
       "    }\n",
       "</style>\n",
       "<table border=\"1\" class=\"dataframe\">\n",
       "  <thead>\n",
       "    <tr style=\"text-align: right;\">\n",
       "      <th></th>\n",
       "      <th>_temporary_index_column</th>\n",
       "      <th>patient_id</th>\n",
       "      <th>measurement_x</th>\n",
       "      <th>measurement_y</th>\n",
       "      <th>measurement_z</th>\n",
       "      <th>label</th>\n",
       "    </tr>\n",
       "  </thead>\n",
       "  <tbody>\n",
       "    <tr>\n",
       "      <th>count</th>\n",
       "      <td>799999.000000</td>\n",
       "      <td>799999.000000</td>\n",
       "      <td>799999.000000</td>\n",
       "      <td>799999.000000</td>\n",
       "      <td>799999.000000</td>\n",
       "      <td>799999.000000</td>\n",
       "    </tr>\n",
       "    <tr>\n",
       "      <th>mean</th>\n",
       "      <td>400000.000000</td>\n",
       "      <td>12848.728287</td>\n",
       "      <td>0.652244</td>\n",
       "      <td>0.148045</td>\n",
       "      <td>0.073163</td>\n",
       "      <td>0.439943</td>\n",
       "    </tr>\n",
       "    <tr>\n",
       "      <th>std</th>\n",
       "      <td>230939.963337</td>\n",
       "      <td>7418.937484</td>\n",
       "      <td>0.241065</td>\n",
       "      <td>0.204066</td>\n",
       "      <td>0.059840</td>\n",
       "      <td>0.691995</td>\n",
       "    </tr>\n",
       "    <tr>\n",
       "      <th>min</th>\n",
       "      <td>1.000000</td>\n",
       "      <td>0.000000</td>\n",
       "      <td>-0.621091</td>\n",
       "      <td>-1.045211</td>\n",
       "      <td>-0.004350</td>\n",
       "      <td>0.000000</td>\n",
       "    </tr>\n",
       "    <tr>\n",
       "      <th>25%</th>\n",
       "      <td>200000.500000</td>\n",
       "      <td>6378.000000</td>\n",
       "      <td>0.478952</td>\n",
       "      <td>0.016042</td>\n",
       "      <td>0.033487</td>\n",
       "      <td>0.000000</td>\n",
       "    </tr>\n",
       "    <tr>\n",
       "      <th>50%</th>\n",
       "      <td>400000.000000</td>\n",
       "      <td>12830.000000</td>\n",
       "      <td>0.611564</td>\n",
       "      <td>0.128319</td>\n",
       "      <td>0.058148</td>\n",
       "      <td>0.000000</td>\n",
       "    </tr>\n",
       "    <tr>\n",
       "      <th>75%</th>\n",
       "      <td>599999.500000</td>\n",
       "      <td>19275.000000</td>\n",
       "      <td>0.797053</td>\n",
       "      <td>0.252838</td>\n",
       "      <td>0.094124</td>\n",
       "      <td>1.000000</td>\n",
       "    </tr>\n",
       "    <tr>\n",
       "      <th>max</th>\n",
       "      <td>799999.000000</td>\n",
       "      <td>25705.000000</td>\n",
       "      <td>1.905430</td>\n",
       "      <td>1.506080</td>\n",
       "      <td>0.478850</td>\n",
       "      <td>2.000000</td>\n",
       "    </tr>\n",
       "  </tbody>\n",
       "</table>\n",
       "</div>"
      ],
      "text/plain": [
       "       _temporary_index_column     patient_id  measurement_x  measurement_y  \\\n",
       "count            799999.000000  799999.000000  799999.000000  799999.000000   \n",
       "mean             400000.000000   12848.728287       0.652244       0.148045   \n",
       "std              230939.963337    7418.937484       0.241065       0.204066   \n",
       "min                   1.000000       0.000000      -0.621091      -1.045211   \n",
       "25%              200000.500000    6378.000000       0.478952       0.016042   \n",
       "50%              400000.000000   12830.000000       0.611564       0.128319   \n",
       "75%              599999.500000   19275.000000       0.797053       0.252838   \n",
       "max              799999.000000   25705.000000       1.905430       1.506080   \n",
       "\n",
       "       measurement_z          label  \n",
       "count  799999.000000  799999.000000  \n",
       "mean        0.073163       0.439943  \n",
       "std         0.059840       0.691995  \n",
       "min        -0.004350       0.000000  \n",
       "25%         0.033487       0.000000  \n",
       "50%         0.058148       0.000000  \n",
       "75%         0.094124       1.000000  \n",
       "max         0.478850       2.000000  "
      ]
     },
     "execution_count": 4,
     "metadata": {},
     "output_type": "execute_result"
    }
   ],
   "source": [
    "train_set_df.describe()"
   ]
  },
  {
   "cell_type": "code",
   "execution_count": 5,
   "metadata": {},
   "outputs": [
    {
     "ename": "AttributeError",
     "evalue": "module 'pandas.core.common' has no attribute 'is_numeric_dtype'",
     "output_type": "error",
     "traceback": [
      "\u001b[1;31m---------------------------------------------------------------------------\u001b[0m",
      "\u001b[1;31mAttributeError\u001b[0m                            Traceback (most recent call last)",
      "\u001b[1;32m<ipython-input-5-10140002acb0>\u001b[0m in \u001b[0;36m<module>\u001b[1;34m\u001b[0m\n\u001b[1;32m----> 1\u001b[1;33m \u001b[0mdfs\u001b[0m \u001b[1;33m=\u001b[0m \u001b[0mDataFrameSummary\u001b[0m\u001b[1;33m(\u001b[0m\u001b[0mtrain_set_df\u001b[0m\u001b[1;33m)\u001b[0m\u001b[1;33m\u001b[0m\u001b[1;33m\u001b[0m\u001b[0m\n\u001b[0m",
      "\u001b[1;32m~\\anaconda3\\lib\\site-packages\\pandas_summary\\__init__.py\u001b[0m in \u001b[0;36m__init__\u001b[1;34m(self, df)\u001b[0m\n\u001b[0;32m     25\u001b[0m         \u001b[0mself\u001b[0m\u001b[1;33m.\u001b[0m\u001b[0mdf\u001b[0m \u001b[1;33m=\u001b[0m \u001b[0mdf\u001b[0m\u001b[1;33m\u001b[0m\u001b[1;33m\u001b[0m\u001b[0m\n\u001b[0;32m     26\u001b[0m         \u001b[0mself\u001b[0m\u001b[1;33m.\u001b[0m\u001b[0mlength\u001b[0m \u001b[1;33m=\u001b[0m \u001b[0mlen\u001b[0m\u001b[1;33m(\u001b[0m\u001b[0mdf\u001b[0m\u001b[1;33m)\u001b[0m\u001b[1;33m\u001b[0m\u001b[1;33m\u001b[0m\u001b[0m\n\u001b[1;32m---> 27\u001b[1;33m         \u001b[0mself\u001b[0m\u001b[1;33m.\u001b[0m\u001b[0mcolumns_stats\u001b[0m \u001b[1;33m=\u001b[0m \u001b[0mself\u001b[0m\u001b[1;33m.\u001b[0m\u001b[0m_get_stats\u001b[0m\u001b[1;33m(\u001b[0m\u001b[1;33m)\u001b[0m\u001b[1;33m\u001b[0m\u001b[1;33m\u001b[0m\u001b[0m\n\u001b[0m\u001b[0;32m     28\u001b[0m         \u001b[0mself\u001b[0m\u001b[1;33m.\u001b[0m\u001b[0mcorr\u001b[0m \u001b[1;33m=\u001b[0m \u001b[0mdf\u001b[0m\u001b[1;33m.\u001b[0m\u001b[0mcorr\u001b[0m\u001b[1;33m(\u001b[0m\u001b[1;33m)\u001b[0m\u001b[1;33m\u001b[0m\u001b[1;33m\u001b[0m\u001b[0m\n\u001b[0;32m     29\u001b[0m \u001b[1;33m\u001b[0m\u001b[0m\n",
      "\u001b[1;32m~\\anaconda3\\lib\\site-packages\\pandas_summary\\__init__.py\u001b[0m in \u001b[0;36m_get_stats\u001b[1;34m(self)\u001b[0m\n\u001b[0;32m     87\u001b[0m         \u001b[1;31m# settings types\u001b[0m\u001b[1;33m\u001b[0m\u001b[1;33m\u001b[0m\u001b[1;33m\u001b[0m\u001b[0m\n\u001b[0;32m     88\u001b[0m         \u001b[0mstats\u001b[0m\u001b[1;33m[\u001b[0m\u001b[1;34m'types'\u001b[0m\u001b[1;33m]\u001b[0m \u001b[1;33m=\u001b[0m \u001b[1;34m''\u001b[0m\u001b[1;33m\u001b[0m\u001b[1;33m\u001b[0m\u001b[0m\n\u001b[1;32m---> 89\u001b[1;33m         \u001b[0mcolumns_info\u001b[0m \u001b[1;33m=\u001b[0m \u001b[0mself\u001b[0m\u001b[1;33m.\u001b[0m\u001b[0m_get_columns_info\u001b[0m\u001b[1;33m(\u001b[0m\u001b[0mstats\u001b[0m\u001b[1;33m)\u001b[0m\u001b[1;33m\u001b[0m\u001b[1;33m\u001b[0m\u001b[0m\n\u001b[0m\u001b[0;32m     90\u001b[0m         \u001b[1;32mfor\u001b[0m \u001b[0mctype\u001b[0m\u001b[1;33m,\u001b[0m \u001b[0mcolumns\u001b[0m \u001b[1;32min\u001b[0m \u001b[0mcolumns_info\u001b[0m\u001b[1;33m.\u001b[0m\u001b[0mitems\u001b[0m\u001b[1;33m(\u001b[0m\u001b[1;33m)\u001b[0m\u001b[1;33m:\u001b[0m\u001b[1;33m\u001b[0m\u001b[1;33m\u001b[0m\u001b[0m\n\u001b[0;32m     91\u001b[0m             \u001b[0mstats\u001b[0m\u001b[1;33m.\u001b[0m\u001b[0mix\u001b[0m\u001b[1;33m[\u001b[0m\u001b[0mcolumns\u001b[0m\u001b[1;33m,\u001b[0m \u001b[1;34m'types'\u001b[0m\u001b[1;33m]\u001b[0m \u001b[1;33m=\u001b[0m \u001b[0mctype\u001b[0m\u001b[1;33m\u001b[0m\u001b[1;33m\u001b[0m\u001b[0m\n",
      "\u001b[1;32m~\\anaconda3\\lib\\site-packages\\pandas_summary\\__init__.py\u001b[0m in \u001b[0;36m_get_columns_info\u001b[1;34m(self, stats)\u001b[0m\n\u001b[0;32m    109\u001b[0m                                         \u001b[0mself\u001b[0m\u001b[1;33m.\u001b[0m\u001b[0mEXCLUDE\u001b[0m\u001b[1;33m,\u001b[0m\u001b[1;33m\u001b[0m\u001b[1;33m\u001b[0m\u001b[0m\n\u001b[0;32m    110\u001b[0m                                         column_info['constant'].union(column_info['bool']))\n\u001b[1;32m--> 111\u001b[1;33m         column_info[self.TYPE_NUMERIC] = pd.Index([c for c in rest_columns\n\u001b[0m\u001b[0;32m    112\u001b[0m                                                    if common.is_numeric_dtype(self.df[c])])\n\u001b[0;32m    113\u001b[0m         \u001b[0mrest_columns\u001b[0m \u001b[1;33m=\u001b[0m \u001b[0mself\u001b[0m\u001b[1;33m.\u001b[0m\u001b[0mget_columns\u001b[0m\u001b[1;33m(\u001b[0m\u001b[0mself\u001b[0m\u001b[1;33m.\u001b[0m\u001b[0mdf\u001b[0m\u001b[1;33m[\u001b[0m\u001b[0mrest_columns\u001b[0m\u001b[1;33m]\u001b[0m\u001b[1;33m,\u001b[0m \u001b[0mself\u001b[0m\u001b[1;33m.\u001b[0m\u001b[0mEXCLUDE\u001b[0m\u001b[1;33m,\u001b[0m \u001b[0mcolumn_info\u001b[0m\u001b[1;33m[\u001b[0m\u001b[1;34m'numeric'\u001b[0m\u001b[1;33m]\u001b[0m\u001b[1;33m)\u001b[0m\u001b[1;33m\u001b[0m\u001b[1;33m\u001b[0m\u001b[0m\n",
      "\u001b[1;32m~\\anaconda3\\lib\\site-packages\\pandas_summary\\__init__.py\u001b[0m in \u001b[0;36m<listcomp>\u001b[1;34m(.0)\u001b[0m\n\u001b[0;32m    110\u001b[0m                                         column_info['constant'].union(column_info['bool']))\n\u001b[0;32m    111\u001b[0m         column_info[self.TYPE_NUMERIC] = pd.Index([c for c in rest_columns\n\u001b[1;32m--> 112\u001b[1;33m                                                    if common.is_numeric_dtype(self.df[c])])\n\u001b[0m\u001b[0;32m    113\u001b[0m         \u001b[0mrest_columns\u001b[0m \u001b[1;33m=\u001b[0m \u001b[0mself\u001b[0m\u001b[1;33m.\u001b[0m\u001b[0mget_columns\u001b[0m\u001b[1;33m(\u001b[0m\u001b[0mself\u001b[0m\u001b[1;33m.\u001b[0m\u001b[0mdf\u001b[0m\u001b[1;33m[\u001b[0m\u001b[0mrest_columns\u001b[0m\u001b[1;33m]\u001b[0m\u001b[1;33m,\u001b[0m \u001b[0mself\u001b[0m\u001b[1;33m.\u001b[0m\u001b[0mEXCLUDE\u001b[0m\u001b[1;33m,\u001b[0m \u001b[0mcolumn_info\u001b[0m\u001b[1;33m[\u001b[0m\u001b[1;34m'numeric'\u001b[0m\u001b[1;33m]\u001b[0m\u001b[1;33m)\u001b[0m\u001b[1;33m\u001b[0m\u001b[1;33m\u001b[0m\u001b[0m\n\u001b[0;32m    114\u001b[0m         column_info[self.TYPE_DATE] = pd.Index([c for c in rest_columns\n",
      "\u001b[1;31mAttributeError\u001b[0m: module 'pandas.core.common' has no attribute 'is_numeric_dtype'"
     ]
    }
   ],
   "source": [
    "dfs = DataFrameSummary(train_set_df)"
   ]
  },
  {
   "cell_type": "code",
   "execution_count": null,
   "metadata": {},
   "outputs": [],
   "source": [
    "pp.ProfileReport(train_set_df)"
   ]
  },
  {
   "cell_type": "code",
   "execution_count": null,
   "metadata": {},
   "outputs": [],
   "source": []
  },
  {
   "cell_type": "markdown",
   "metadata": {},
   "source": [
    "**The distribution of labels over the raw data is approx: 68% - class 0, 20% - class 1, and 12% - class 2**"
   ]
  },
  {
   "cell_type": "code",
   "execution_count": 6,
   "metadata": {
    "scrolled": true
   },
   "outputs": [
    {
     "data": {
      "image/png": "[encoded data removed]",
      "text/plain": [
       "<Figure size 432x288 with 1 Axes>"
      ]
     },
     "metadata": {
      "needs_background": "light"
     },
     "output_type": "display_data"
    }
   ],
   "source": [
    "# tmp = train_set_df.label.hist(bins = [0,1,2,3])\n",
    "tmp = plt.hist(y_train_raw, bins =  [0,1,2,3] )"
   ]
  },
  {
   "cell_type": "code",
   "execution_count": 7,
   "metadata": {},
   "outputs": [
    {
     "data": {
      "text/plain": [
       "(array([541030., 165984.,  92985.]),\n",
       " array([0, 1, 2, 3]),\n",
       " <a list of 3 Patch objects>)"
      ]
     },
     "execution_count": 7,
     "metadata": {},
     "output_type": "execute_result"
    }
   ],
   "source": [
    "tmp"
   ]
  },
  {
   "cell_type": "code",
   "execution_count": 8,
   "metadata": {},
   "outputs": [
    {
     "data": {
      "text/plain": [
       "array([0.67628835, 0.20748026, 0.1162314 ])"
      ]
     },
     "execution_count": 8,
     "metadata": {},
     "output_type": "execute_result"
    }
   ],
   "source": [
    "tmp[0]/sum(tmp[0])"
   ]
  },
  {
   "cell_type": "markdown",
   "metadata": {},
   "source": [
    "**The labels are attributes of patients, not of specific samples (all patient's samples have the same label )** "
   ]
  },
  {
   "cell_type": "code",
   "execution_count": 9,
   "metadata": {},
   "outputs": [],
   "source": [
    "inds_0 = y_train_raw==0\n",
    "inds_1 = y_train_raw==1\n",
    "inds_2 = y_train_raw==2"
   ]
  },
  {
   "cell_type": "code",
   "execution_count": 10,
   "metadata": {},
   "outputs": [],
   "source": [
    "patiends_0_set = set(train_set_df[inds_0]['patient_id'])\n",
    "patiends_1_set = set(train_set_df[inds_1]['patient_id'])\n",
    "patiends_2_set = set(train_set_df[inds_2]['patient_id'])"
   ]
  },
  {
   "cell_type": "code",
   "execution_count": 11,
   "metadata": {},
   "outputs": [
    {
     "data": {
      "text/plain": [
       "set()"
      ]
     },
     "execution_count": 11,
     "metadata": {},
     "output_type": "execute_result"
    }
   ],
   "source": [
    "patiends_0_set.intersection(patiends_1_set)"
   ]
  },
  {
   "cell_type": "code",
   "execution_count": 12,
   "metadata": {},
   "outputs": [
    {
     "data": {
      "text/plain": [
       "set()"
      ]
     },
     "execution_count": 12,
     "metadata": {},
     "output_type": "execute_result"
    }
   ],
   "source": [
    "patiends_0_set.intersection(patiends_2_set)"
   ]
  },
  {
   "cell_type": "code",
   "execution_count": 13,
   "metadata": {},
   "outputs": [
    {
     "data": {
      "text/plain": [
       "set()"
      ]
     },
     "execution_count": 13,
     "metadata": {},
     "output_type": "execute_result"
    }
   ],
   "source": [
    "patiends_1_set.intersection(patiends_2_set)"
   ]
  },
  {
   "cell_type": "code",
   "execution_count": null,
   "metadata": {},
   "outputs": [],
   "source": []
  },
  {
   "cell_type": "markdown",
   "metadata": {},
   "source": [
    "**Each patient's data consists of 3 time series. The number of samples in these series across the patients varies between 1 (single sample) and nearly 100**"
   ]
  },
  {
   "cell_type": "code",
   "execution_count": 14,
   "metadata": {},
   "outputs": [
    {
     "data": {
      "image/png": "[encoded data removed]",
      "text/plain": [
       "<Figure size 432x288 with 1 Axes>"
      ]
     },
     "metadata": {
      "needs_background": "light"
     },
     "output_type": "display_data"
    }
   ],
   "source": [
    "train_set_samples_sizes = [len(pdf[1]) for pdf in train_set_grouped_by_patients]\n",
    "plt.hist(train_set_samples_sizes, bins = np.arange(0,100));\n",
    "plt.title(\"Train set - #samples per patient\");\n",
    "plt.xlabel(\"#samples\");\n",
    "plt.ylabel(\"#patients\");"
   ]
  },
  {
   "cell_type": "markdown",
   "metadata": {},
   "source": [
    "**The test set has similar distribution, which means, in particular, that we'll need to predict labels of series consisting of a single time sample**"
   ]
  },
  {
   "cell_type": "code",
   "execution_count": 15,
   "metadata": {},
   "outputs": [
    {
     "data": {
      "image/png": "[encoded data removed]",
      "text/plain": [
       "<Figure size 432x288 with 1 Axes>"
      ]
     },
     "metadata": {
      "needs_background": "light"
     },
     "output_type": "display_data"
    }
   ],
   "source": [
    "test_set_samples_sizes = [len(pdf[1]) for pdf in test_set_df.groupby('patient_id')]\n",
    "plt.hist(test_set_samples_sizes, bins = np.arange(0,100));\n",
    "plt.title(\"Test set - #samples per patient\");\n",
    "plt.xlabel(\"#samples\");\n",
    "plt.ylabel(\"#patients\");"
   ]
  },
  {
   "cell_type": "code",
   "execution_count": null,
   "metadata": {},
   "outputs": [],
   "source": []
  },
  {
   "cell_type": "markdown",
   "metadata": {},
   "source": [
    "**Since the timedelta between each sample is 50ms, the corresponding series durations vary between 0 sec (single sample) to nearly 5 sec (100 samples)** "
   ]
  },
  {
   "cell_type": "code",
   "execution_count": 16,
   "metadata": {},
   "outputs": [
    {
     "data": {
      "image/png": "[encoded data removed]",
      "text/plain": [
       "<Figure size 432x288 with 1 Axes>"
      ]
     },
     "metadata": {
      "needs_background": "light"
     },
     "output_type": "display_data"
    }
   ],
   "source": [
    "train_set_samples_durations = [(pdf[1]['timestamp'].iloc[-1] - pdf[1]['timestamp'].iloc[0]).total_seconds() for pdf in train_set_grouped_by_patients]\n",
    "plt.hist(train_set_samples_durations, density=True, bins = np.arange(0, 5, 0.1));\n",
    "plt.title(\"Patients timeseries duration (seconds) \");\n",
    "plt.xlabel(\"series duration\");\n",
    "plt.ylabel(\"density\");"
   ]
  },
  {
   "cell_type": "markdown",
   "metadata": {},
   "source": [
    "**Some series are inconsistent in terms of their sizes and durations. Below we see some series with 5 samples (corresponding to 0.2 sec), whose duration is less than 0.2 sec** "
   ]
  },
  {
   "cell_type": "code",
   "execution_count": 17,
   "metadata": {},
   "outputs": [
    {
     "data": {
      "text/plain": [
       "array([0.2 , 0.2 , 0.2 , 0.2 , 0.2 , 0.2 , 0.2 , 0.2 , 0.2 , 0.2 , 0.2 ,\n",
       "       0.2 , 0.2 , 0.2 , 0.2 , 0.2 , 0.2 , 0.2 , 0.2 , 0.2 , 0.2 , 0.2 ,\n",
       "       0.2 , 0.15, 0.2 , 0.2 , 0.2 , 0.2 , 0.2 , 0.2 , 0.2 , 0.2 , 0.2 ,\n",
       "       0.2 , 0.2 , 0.2 , 0.2 , 0.2 , 0.2 , 0.2 , 0.2 , 0.2 , 0.15, 0.15,\n",
       "       0.2 , 0.2 , 0.2 , 0.2 , 0.2 , 0.2 , 0.2 , 0.15, 0.2 , 0.2 , 0.2 ,\n",
       "       0.2 , 0.2 , 0.2 , 0.2 , 0.2 , 0.2 , 0.2 , 0.2 , 0.2 , 0.15, 0.2 ,\n",
       "       0.2 , 0.2 , 0.2 , 0.2 , 0.2 , 0.2 , 0.2 , 0.2 , 0.2 , 0.2 , 0.2 ,\n",
       "       0.2 , 0.2 , 0.15, 0.2 , 0.2 , 0.2 , 0.2 , 0.2 , 0.2 , 0.2 , 0.2 ,\n",
       "       0.2 , 0.2 , 0.2 , 0.2 , 0.2 , 0.2 , 0.2 , 0.2 , 0.2 , 0.2 , 0.2 ,\n",
       "       0.2 , 0.2 , 0.2 , 0.2 , 0.2 , 0.2 , 0.2 , 0.2 , 0.2 , 0.2 , 0.2 ,\n",
       "       0.2 , 0.2 , 0.2 , 0.2 , 0.2 , 0.2 , 0.2 , 0.2 , 0.2 , 0.2 , 0.2 ,\n",
       "       0.2 , 0.2 , 0.  , 0.2 , 0.2 , 0.2 , 0.2 , 0.2 , 0.2 , 0.2 , 0.2 ,\n",
       "       0.2 , 0.2 , 0.15, 0.2 , 0.2 , 0.2 , 0.2 , 0.2 , 0.2 , 0.2 , 0.2 ,\n",
       "       0.2 , 0.2 , 0.2 , 0.2 , 0.2 , 0.2 , 0.2 , 0.2 , 0.2 , 0.2 , 0.2 ,\n",
       "       0.2 , 0.2 , 0.2 , 0.2 , 0.2 , 0.2 , 0.2 , 0.1 , 0.2 , 0.2 , 0.2 ,\n",
       "       0.2 , 0.2 , 0.2 , 0.15, 0.2 , 0.2 , 0.2 , 0.2 , 0.2 , 0.2 , 0.2 ,\n",
       "       0.15, 0.2 , 0.2 , 0.2 , 0.2 , 0.2 , 0.2 ])"
      ]
     },
     "execution_count": 17,
     "metadata": {},
     "output_type": "execute_result"
    }
   ],
   "source": [
    "np.array(train_set_samples_durations)[np.array(train_set_samples_sizes)==5]"
   ]
  },
  {
   "cell_type": "markdown",
   "metadata": {},
   "source": [
    "**Let's find the one with duration 0**"
   ]
  },
  {
   "cell_type": "code",
   "execution_count": 18,
   "metadata": {},
   "outputs": [
    {
     "data": {
      "text/plain": [
       "18186"
      ]
     },
     "execution_count": 18,
     "metadata": {},
     "output_type": "execute_result"
    }
   ],
   "source": [
    "np.argmax((np.array(train_set_samples_sizes)==5) & (np.array(train_set_samples_durations) < 0.05))"
   ]
  },
  {
   "cell_type": "code",
   "execution_count": 19,
   "metadata": {},
   "outputs": [
    {
     "data": {
      "text/html": [
       "<div>\n",
       "<style scoped>\n",
       "    .dataframe tbody tr th:only-of-type {\n",
       "        vertical-align: middle;\n",
       "    }\n",
       "\n",
       "    .dataframe tbody tr th {\n",
       "        vertical-align: top;\n",
       "    }\n",
       "\n",
       "    .dataframe thead th {\n",
       "        text-align: right;\n",
       "    }\n",
       "</style>\n",
       "<table border=\"1\" class=\"dataframe\">\n",
       "  <thead>\n",
       "    <tr style=\"text-align: right;\">\n",
       "      <th></th>\n",
       "      <th>_temporary_index_column</th>\n",
       "      <th>patient_id</th>\n",
       "      <th>timestamp</th>\n",
       "      <th>measurement_x</th>\n",
       "      <th>measurement_y</th>\n",
       "      <th>measurement_z</th>\n",
       "      <th>label</th>\n",
       "    </tr>\n",
       "  </thead>\n",
       "  <tbody>\n",
       "    <tr>\n",
       "      <th>566557</th>\n",
       "      <td>566558</td>\n",
       "      <td>18186</td>\n",
       "      <td>2015-01-02 09:08:28.683331</td>\n",
       "      <td>0.925543</td>\n",
       "      <td>-0.028669</td>\n",
       "      <td>0.097464</td>\n",
       "      <td>1</td>\n",
       "    </tr>\n",
       "    <tr>\n",
       "      <th>566558</th>\n",
       "      <td>566559</td>\n",
       "      <td>18186</td>\n",
       "      <td>2015-01-02 09:08:28.683331</td>\n",
       "      <td>0.928349</td>\n",
       "      <td>-0.038518</td>\n",
       "      <td>0.101493</td>\n",
       "      <td>1</td>\n",
       "    </tr>\n",
       "    <tr>\n",
       "      <th>566559</th>\n",
       "      <td>566560</td>\n",
       "      <td>18186</td>\n",
       "      <td>2015-01-02 09:08:28.683331</td>\n",
       "      <td>0.931236</td>\n",
       "      <td>-0.048345</td>\n",
       "      <td>0.104182</td>\n",
       "      <td>1</td>\n",
       "    </tr>\n",
       "    <tr>\n",
       "      <th>566560</th>\n",
       "      <td>566561</td>\n",
       "      <td>18186</td>\n",
       "      <td>2015-01-02 09:08:28.683331</td>\n",
       "      <td>0.934203</td>\n",
       "      <td>-0.058147</td>\n",
       "      <td>0.107254</td>\n",
       "      <td>1</td>\n",
       "    </tr>\n",
       "    <tr>\n",
       "      <th>566561</th>\n",
       "      <td>566562</td>\n",
       "      <td>18186</td>\n",
       "      <td>2015-01-02 09:08:28.683331</td>\n",
       "      <td>0.937251</td>\n",
       "      <td>-0.067925</td>\n",
       "      <td>0.110500</td>\n",
       "      <td>1</td>\n",
       "    </tr>\n",
       "  </tbody>\n",
       "</table>\n",
       "</div>"
      ],
      "text/plain": [
       "        _temporary_index_column  patient_id                  timestamp  \\\n",
       "566557                   566558       18186 2015-01-02 09:08:28.683331   \n",
       "566558                   566559       18186 2015-01-02 09:08:28.683331   \n",
       "566559                   566560       18186 2015-01-02 09:08:28.683331   \n",
       "566560                   566561       18186 2015-01-02 09:08:28.683331   \n",
       "566561                   566562       18186 2015-01-02 09:08:28.683331   \n",
       "\n",
       "        measurement_x  measurement_y  measurement_z  label  \n",
       "566557       0.925543      -0.028669       0.097464      1  \n",
       "566558       0.928349      -0.038518       0.101493      1  \n",
       "566559       0.931236      -0.048345       0.104182      1  \n",
       "566560       0.934203      -0.058147       0.107254      1  \n",
       "566561       0.937251      -0.067925       0.110500      1  "
      ]
     },
     "execution_count": 19,
     "metadata": {},
     "output_type": "execute_result"
    }
   ],
   "source": [
    "train_set_grouped_by_patients.get_group(18186)"
   ]
  },
  {
   "cell_type": "markdown",
   "metadata": {},
   "source": [
    "**Seems that the samples behave properly (they are not constant), so it seems like a bug in the timestamps registration. We can either remove such samples as outliers or fix their timestamps based on their number of samples**"
   ]
  },
  {
   "cell_type": "markdown",
   "metadata": {},
   "source": [
    "**Here's another example:**"
   ]
  },
  {
   "cell_type": "code",
   "execution_count": 20,
   "metadata": {},
   "outputs": [
    {
     "data": {
      "text/html": [
       "<div>\n",
       "<style scoped>\n",
       "    .dataframe tbody tr th:only-of-type {\n",
       "        vertical-align: middle;\n",
       "    }\n",
       "\n",
       "    .dataframe tbody tr th {\n",
       "        vertical-align: top;\n",
       "    }\n",
       "\n",
       "    .dataframe thead th {\n",
       "        text-align: right;\n",
       "    }\n",
       "</style>\n",
       "<table border=\"1\" class=\"dataframe\">\n",
       "  <thead>\n",
       "    <tr style=\"text-align: right;\">\n",
       "      <th></th>\n",
       "      <th>_temporary_index_column</th>\n",
       "      <th>patient_id</th>\n",
       "      <th>timestamp</th>\n",
       "      <th>measurement_x</th>\n",
       "      <th>measurement_y</th>\n",
       "      <th>measurement_z</th>\n",
       "      <th>label</th>\n",
       "    </tr>\n",
       "  </thead>\n",
       "  <tbody>\n",
       "    <tr>\n",
       "      <th>691313</th>\n",
       "      <td>691314</td>\n",
       "      <td>22201</td>\n",
       "      <td>2013-08-20 16:42:45.478373</td>\n",
       "      <td>0.934248</td>\n",
       "      <td>0.226638</td>\n",
       "      <td>0.053605</td>\n",
       "      <td>1</td>\n",
       "    </tr>\n",
       "    <tr>\n",
       "      <th>691314</th>\n",
       "      <td>691315</td>\n",
       "      <td>22201</td>\n",
       "      <td>2013-08-20 16:42:45.478373</td>\n",
       "      <td>0.937080</td>\n",
       "      <td>0.233343</td>\n",
       "      <td>0.057909</td>\n",
       "      <td>1</td>\n",
       "    </tr>\n",
       "    <tr>\n",
       "      <th>691315</th>\n",
       "      <td>691316</td>\n",
       "      <td>22201</td>\n",
       "      <td>2013-08-20 16:42:45.578373</td>\n",
       "      <td>0.939844</td>\n",
       "      <td>0.240076</td>\n",
       "      <td>0.058216</td>\n",
       "      <td>1</td>\n",
       "    </tr>\n",
       "    <tr>\n",
       "      <th>691316</th>\n",
       "      <td>691317</td>\n",
       "      <td>22201</td>\n",
       "      <td>2013-08-20 16:42:45.578373</td>\n",
       "      <td>0.942538</td>\n",
       "      <td>0.246837</td>\n",
       "      <td>0.060546</td>\n",
       "      <td>1</td>\n",
       "    </tr>\n",
       "    <tr>\n",
       "      <th>691317</th>\n",
       "      <td>691318</td>\n",
       "      <td>22201</td>\n",
       "      <td>2013-08-20 16:42:45.578373</td>\n",
       "      <td>0.945163</td>\n",
       "      <td>0.253626</td>\n",
       "      <td>0.064965</td>\n",
       "      <td>1</td>\n",
       "    </tr>\n",
       "  </tbody>\n",
       "</table>\n",
       "</div>"
      ],
      "text/plain": [
       "        _temporary_index_column  patient_id                  timestamp  \\\n",
       "691313                   691314       22201 2013-08-20 16:42:45.478373   \n",
       "691314                   691315       22201 2013-08-20 16:42:45.478373   \n",
       "691315                   691316       22201 2013-08-20 16:42:45.578373   \n",
       "691316                   691317       22201 2013-08-20 16:42:45.578373   \n",
       "691317                   691318       22201 2013-08-20 16:42:45.578373   \n",
       "\n",
       "        measurement_x  measurement_y  measurement_z  label  \n",
       "691313       0.934248       0.226638       0.053605      1  \n",
       "691314       0.937080       0.233343       0.057909      1  \n",
       "691315       0.939844       0.240076       0.058216      1  \n",
       "691316       0.942538       0.246837       0.060546      1  \n",
       "691317       0.945163       0.253626       0.064965      1  "
      ]
     },
     "execution_count": 20,
     "metadata": {},
     "output_type": "execute_result"
    }
   ],
   "source": [
    "train_set_grouped_by_patients.get_group(np.argmax((np.array(train_set_samples_sizes)==5) & (np.array(train_set_samples_durations) == 0.1)))"
   ]
  },
  {
   "cell_type": "markdown",
   "metadata": {},
   "source": [
    "\n",
    "## TimeSeries - acquaintance "
   ]
  },
  {
   "cell_type": "markdown",
   "metadata": {},
   "source": [
    "Since the class is a property of the patient, let's examine the per-patient classes. The classes proportions remain the same as when counting the raw samples. "
   ]
  },
  {
   "cell_type": "code",
   "execution_count": 12,
   "metadata": {},
   "outputs": [
    {
     "name": "stdout",
     "output_type": "stream",
     "text": [
      "there are 25706 patients altogether\n"
     ]
    },
    {
     "data": {
      "image/png": "[encoded data removed]",
      "text/plain": [
       "<Figure size 432x288 with 1 Axes>"
      ]
     },
     "metadata": {
      "needs_background": "light"
     },
     "output_type": "display_data"
    }
   ],
   "source": [
    "patients_classes_df = train_set_grouped_by_patients.nth(0)['label']\n",
    "print(f\"there are {len(patients_classes_df)} patients altogether\")\n",
    "patients_classes_df.hist(bins=[0,1,2,3], density=True);\n",
    "y_per_patient = patients_classes_df.values"
   ]
  },
  {
   "cell_type": "code",
   "execution_count": 13,
   "metadata": {},
   "outputs": [],
   "source": [
    "#Plot a patient timeseries, optionally with the regressed approximations superimposed (this comes later on)\n",
    "def plot_patient_lines(patient_id, extracted_features = None, plot_ax = None):\n",
    "    if plot_ax is None:\n",
    "        fig_p, ax_p = plt.subplots()\n",
    "    else:\n",
    "        ax_p = plot_ax\n",
    "    \n",
    "    curr_patient_df = train_set_grouped_by_patients.get_group(patient_id)\n",
    "    first_timestamp = curr_patient_df['timestamp'].iloc[0]\n",
    "    curr_patient_df.index = list(map(lambda ts : (ts -first_timestamp).total_seconds()*1000, curr_patient_df['timestamp']))\n",
    "    curr_patient_df[['measurement_x', 'measurement_y', 'measurement_z']].plot(ax=ax_p)\n",
    "    if extracted_features is not None:\n",
    "        coefs = extracted_features.reshape(3,3).T\n",
    "        x_regr = curr_patient_df.index.values\n",
    "        x_mat = np.array([np.ones(len(x_regr)), x_regr, x_regr*x_regr ]).T\n",
    "        curr_patient_df_approx = pd.DataFrame( x_mat.dot(coefs), \n",
    "                                              columns = ['measurement_x_regr', 'measurement_y_regr', 'measurement_z_regr'], \n",
    "                                                index = curr_patient_df.index\n",
    "                                             )\n",
    "        curr_patient_df_approx[['measurement_x_regr', 'measurement_y_regr', 'measurement_z_regr']].plot(ax=ax_p, style='--')\n",
    "    ax_p.set_title(f\"Patient {patient_id} timeseries\")\n",
    "    ax_p.set_xlabel(\"time from first timestamp (ms)\")\n",
    "    return len(curr_patient_df), ax_p\n",
    "\n",
    "#Choose n_patient random patients of class patient_class\n",
    "def choose_rand_patients( n_patients, patient_class ):\n",
    "    if patient_class not in [0,1,2]:\n",
    "        raise Exception(\"Specified patient_class is not in existing classes set: [0,1,2]\")\n",
    "    patient_class_inds = y_per_patient==patient_class\n",
    "    num_class_patients = sum(patient_class_inds)\n",
    "    if n_patients > num_class_patients:\n",
    "        raise Exception(\"Specified num samples {} exceeds the number of patients of requested class {}\".format(n_patients, patient_class))\n",
    "    selected_class_inds = random.sample(range(0, num_class_patients), n_patients)\n",
    "    selected_patients = patients_classes_df[patient_class_inds].index[selected_class_inds]\n",
    "    return selected_patients.values\n",
    "\n"
   ]
  },
  {
   "cell_type": "markdown",
   "metadata": {},
   "source": [
    "**Let's view some timeseries of each of the classes**"
   ]
  },
  {
   "cell_type": "code",
   "execution_count": 23,
   "metadata": {
    "scrolled": true
   },
   "outputs": [
    {
     "data": {
      "text/plain": [
       "(54, <matplotlib.axes._subplots.AxesSubplot at 0x2604e47508>)"
      ]
     },
     "execution_count": 23,
     "metadata": {},
     "output_type": "execute_result"
    },
    {
     "data": {
      "image/png": "[encoded data removed]",
      "text/plain": [
       "<Figure size 432x288 with 1 Axes>"
      ]
     },
     "metadata": {
      "needs_background": "light"
     },
     "output_type": "display_data"
    }
   ],
   "source": [
    "patients_ids = choose_rand_patients(1,1)\n",
    "\n",
    "plot_patient_lines(patients_ids[0])"
   ]
  },
  {
   "cell_type": "markdown",
   "metadata": {},
   "source": [
    "**Typical and less typical classes timeseries**\n",
    "\n",
    "Based on sproradic visual inspection of the timelines. Left images are the more typical, right ones seems less typical to each class.  "
   ]
  },
  {
   "cell_type": "code",
   "execution_count": 14,
   "metadata": {},
   "outputs": [
    {
     "data": {
      "image/png": "[encoded data removed]",
      "text/plain": [
       "<Figure size 432x288 with 2 Axes>"
      ]
     },
     "metadata": {
      "needs_background": "light"
     },
     "output_type": "display_data"
    },
    {
     "data": {
      "image/png": "[encoded data removed]",
      "text/plain": [
       "<Figure size 432x288 with 2 Axes>"
      ]
     },
     "metadata": {
      "needs_background": "light"
     },
     "output_type": "display_data"
    },
    {
     "data": {
      "image/png": "[encoded data removed]",
      "text/plain": [
       "<Figure size 432x288 with 2 Axes>"
      ]
     },
     "metadata": {
      "needs_background": "light"
     },
     "output_type": "display_data"
    }
   ],
   "source": [
    "# plt.rcParams['figure.figsize'] = [12, 3]\n",
    "fig_0, (ax_0_typical, ax_0_non_typical) = plt.subplots(1,2)\n",
    "plot_patient_lines(20072, plot_ax=ax_0_typical)\n",
    "plot_patient_lines(15179, plot_ax=ax_0_non_typical)\n",
    "fig_0.suptitle(\"Class 0 timeline - typical and less typical \\n\")\n",
    "plt.tight_layout()\n",
    "\n",
    "fig_1, (ax_1_typical, ax_1_non_typical) = plt.subplots(1,2)\n",
    "plot_patient_lines(9400, plot_ax=ax_1_typical)\n",
    "plot_patient_lines(13166, plot_ax=ax_1_non_typical)\n",
    "fig_1.suptitle(\"Class 1 timeline - typical and less typical \\n\")\n",
    "plt.tight_layout()\n",
    "\n",
    "\n",
    "fig_2, (ax_2_typical, ax_2_non_typical) = plt.subplots(1,2)\n",
    "fig_2.suptitle(\"Class 2 timeline - typical and less typical \\n\")\n",
    "plot_patient_lines(8345, plot_ax=ax_2_typical)\n",
    "plot_patient_lines(3520, plot_ax=ax_2_non_typical) \n",
    "plt.tight_layout()\n"
   ]
  },
  {
   "cell_type": "markdown",
   "metadata": {},
   "source": [
    "**Intermediate summary**\n",
    "\n",
    "- Each patient is characterized by his/her 3 timeseries.  \n",
    "- Visual inspection indicates that each class has a typical footprint in terms of its signals and their mutual configuration.\n",
    "- A reasonable direction would be to represent each signal as a 1st or 2nd order polynomial, and use the coefficient as the features set for each patient.\n",
    "- We can possibly add more features - e.g. whether or not signals intersect (typical to class 2), the average distance between signals (typically the y and z signals in class 1 are close)"
   ]
  },
  {
   "cell_type": "markdown",
   "metadata": {},
   "source": [
    "# Features engineering"
   ]
  },
  {
   "cell_type": "code",
   "execution_count": 15,
   "metadata": {},
   "outputs": [],
   "source": [
    "#Possible additional schemes: whether or not the x and y signals interserct. \n",
    "extraction_schemes = ['parabola']\n",
    "\n",
    "def extract_signals_params(signals_df, extraction_scheme):\n",
    "   \n",
    "    timestamps = signals_df.loc[:, 'timestamp']\n",
    "   \n",
    "    first_timestamp =  timestamps.iloc[0]\n",
    "    x = np.array(list(map(lambda ts : (ts -first_timestamp).total_seconds()*1000, timestamps)))\n",
    "    x = np.array([x, x*x]).T #When the extraction_schemt is 'parabole', actually.\n",
    "    sigs =  signals_df.loc[:, ['measurement_x', 'measurement_y', 'measurement_z']].values\n",
    "    #Regress each signal to a 2nd order polynomial\n",
    "    reg = LinearRegression().fit(x, sigs )\n",
    "    #Add the initial value of each signal, and flatten to a single list.\n",
    "    #Explicitly adding the intial value is redundant, since x starts at 0, hence the intercept is just this initial value\n",
    "    return list(np.concatenate((np.array([reg.intercept_]).T, reg.coef_), axis=1).reshape(1,-1)[0])\n",
    "    \n",
    "    \n",
    "def extract_single_patient_features( patient_df, extraction_scheme ):\n",
    "    patient_id = patient_df['patient_id'].iloc[0]\n",
    "    patient_features = []\n",
    "    curr_line_params = extract_signals_params(patient_df, extraction_scheme)\n",
    "    patient_features += curr_line_params\n",
    "    return patient_features\n",
    "        \n",
    "    \n",
    "def extract_features(in_df, extraction_scheme='parabola'):\n",
    "    #TODO: input sanity checks\n",
    "    X = []\n",
    "    y = []\n",
    "    for _,patient_df in in_df.groupby('patient_id'):\n",
    "        extracted_features = extract_single_patient_features( patient_df, extraction_scheme )\n",
    "        X.append(extracted_features )\n",
    "        if 'label' in patient_df:\n",
    "            y.append(patient_df['label'].iloc[0])\n",
    "    return np.array(X), np.array(y)\n",
    "\n",
    "\n",
    "\n"
   ]
  },
  {
   "cell_type": "code",
   "execution_count": 16,
   "metadata": {},
   "outputs": [],
   "source": [
    "X, y = extract_features(train_set_df)\n",
    "X_t, _ = extract_features(test_set_df)"
   ]
  },
  {
   "cell_type": "markdown",
   "metadata": {},
   "source": [
    "Let's check how well this model encodes the timeseries"
   ]
  },
  {
   "cell_type": "code",
   "execution_count": 17,
   "metadata": {},
   "outputs": [
    {
     "data": {
      "image/png": "[encoded data removed]",
      "text/plain": [
       "<Figure size 432x288 with 1 Axes>"
      ]
     },
     "metadata": {
      "needs_background": "light"
     },
     "output_type": "display_data"
    }
   ],
   "source": [
    "plot_patient_lines(8345, X[8345,:]);"
   ]
  },
  {
   "cell_type": "markdown",
   "metadata": {},
   "source": [
    "Plot $X|y$, just to get a feeling of how well the features are seperable."
   ]
  },
  {
   "cell_type": "code",
   "execution_count": 31,
   "metadata": {},
   "outputs": [
    {
     "data": {
      "image/png": "[encoded data removed]",
      "text/plain": [
       "<Figure size 432x288 with 1 Axes>"
      ]
     },
     "metadata": {
      "needs_background": "light"
     },
     "output_type": "display_data"
    }
   ],
   "source": [
    "x_0 = X[ y==0, :]\n",
    "x_1 = X[ y==1, :]\n",
    "x_2 = X[ y==2, :]\n",
    "# len(x_0)\n",
    "fig_x_given_y, ax_x_given_y = plt.subplots()\n",
    "bins_f8 = np.arange(-0.0000001, 0.00000001, 0.000000001)\n",
    "bins_f0 = np.arange(0, 1.5, 0.01)\n",
    "bins_f2 = np.arange(-0.00000004, 0.00000004, 0.000000001)\n",
    "bins_f3 = np.arange(-0.2, 0.6, 0.01)\n",
    "ax_x_given_y.hist(x_0[:,0], bins=bins_f0);\n",
    "ax_x_given_y.hist(x_1[:,0], bins=bins_f0);\n",
    "ax_x_given_y.hist(x_2[:,0], bins=bins_f0);\n",
    "\n"
   ]
  },
  {
   "cell_type": "code",
   "execution_count": 32,
   "metadata": {},
   "outputs": [
    {
     "data": {
      "text/plain": [
       "<matplotlib.legend.Legend at 0x2608ed96c8>"
      ]
     },
     "execution_count": 32,
     "metadata": {},
     "output_type": "execute_result"
    },
    {
     "data": {
      "image/png": "[encoded data removed]",
      "text/plain": [
       "<Figure size 216x216 with 1 Axes>"
      ]
     },
     "metadata": {
      "needs_background": "light"
     },
     "output_type": "display_data"
    }
   ],
   "source": [
    "# %matplotlib qt\n",
    "plt.rcParams['figure.figsize'] = [3, 3]\n",
    "i=1\n",
    "j=4\n",
    "fig_x_given_y_2d, ax_x_given_y_3d = plt.subplots()\n",
    "x_0_2_features = zip(x_0[:,i], x_0[:,j])\n",
    "ax_x_given_y_3d.scatter(x_0[:,i], x_0[:,j], c='b', label='class 0')\n",
    "ax_x_given_y_3d.scatter(x_1[:,i], x_1[:,j], c='y', marker='+', label='class 1')\n",
    "ax_x_given_y_3d.scatter(x_2[:,i], x_2[:,j], c='r', marker='*', label='class 2')\n",
    "plt.legend()\n",
    "#     ax.scatter(X_1[:,0], X_1[:,1], c='b')\n"
   ]
  },
  {
   "cell_type": "code",
   "execution_count": null,
   "metadata": {},
   "outputs": [],
   "source": [
    "np.argmax(X[:,3]<0 )"
   ]
  },
  {
   "cell_type": "code",
   "execution_count": null,
   "metadata": {},
   "outputs": [],
   "source": [
    "X[0,:]"
   ]
  },
  {
   "cell_type": "code",
   "execution_count": null,
   "metadata": {},
   "outputs": [],
   "source": [
    "X[0,:].reshape(3,3)"
   ]
  },
  {
   "cell_type": "code",
   "execution_count": null,
   "metadata": {},
   "outputs": [],
   "source": [
    "len_patient_df, ax_patient_df = plot_patient_lines(90, X[90,:]);\n",
    "# x_test = np.arange(0, len_patient_df)\n",
    "# ax_patient_df.plot(x_test, X[0,0] + X[0,1]*x_test + X[0,2]*x_test*x_test, 'k+')"
   ]
  },
  {
   "cell_type": "code",
   "execution_count": null,
   "metadata": {},
   "outputs": [],
   "source": [
    "len(X)"
   ]
  },
  {
   "cell_type": "markdown",
   "metadata": {},
   "source": [
    "# Classification"
   ]
  },
  {
   "cell_type": "code",
   "execution_count": 44,
   "metadata": {},
   "outputs": [],
   "source": [
    "X_train, X_test, y_train, y_test, inds_train, inds_test = train_test_split(X, y, np.arange(len(y)), test_size = 0.2)\n",
    "scaler = preprocessing.StandardScaler().fit(X_train)\n",
    "X_train_scaled = scaler.transform(X_train)\n",
    "X_test_scaled = scaler.transform(X_test)"
   ]
  },
  {
   "cell_type": "code",
   "execution_count": null,
   "metadata": {},
   "outputs": [],
   "source": [
    "############################## Logistic Regression ########################\n",
    "\n",
    "# X_train, X_test, y_train, y_test = train_test_split(X, y, test_size = 0.2)\n",
    "# scaler = preprocessing.StandardScaler().fit(X_train)\n",
    "# X_logit = scaler.transform(X_train)\n",
    "# X_logit_test = scaler.transform(X_test)\n",
    "clf = LogisticRegressionCV(cv=5, random_state=4, max_iter = 1000).fit(X_train_scaled, y_train)\n",
    "y_hat = clf.predict(X_test_scaled)\n",
    "# X_test_predicted_0 = X_test[y_hat==0]\n",
    "# X_test_predicted_1 = X_test[y_hat==1]\n",
    "# plt.scatter(X_test_predicted_0[:,0], X_test_predicted_0[:,1], c='y')\n",
    "# plt.scatter(X_test_predicted_1[:,0], X_test_predicted_1[:,1], c='b')\n",
    "\n",
    "cnf_matrix = confusion_matrix(y_test, y_hat, labels=[0, 1, 2])\n",
    "print(cnf_matrix.T)\n",
    "print(classification_report(y_test, y_hat))"
   ]
  },
  {
   "cell_type": "code",
   "execution_count": null,
   "metadata": {},
   "outputs": [],
   "source": [
    "len(X_train_scaled)"
   ]
  },
  {
   "cell_type": "code",
   "execution_count": null,
   "metadata": {},
   "outputs": [],
   "source": [
    "#################### SVM ####################\n",
    "from sklearn.svm import SVC\n",
    "from IPython.core.debugger import set_trace\n",
    "# SVM with gaussian kernel\n",
    "\n",
    "\n",
    "from sklearn.model_selection import GridSearchCV\n",
    "# Set the parameters by cross-validation\n",
    "tuned_parameters = [{'kernel': ['rbf'], 'gamma': [0.01, 0.03, 0.1, 0.3, 1, 3, 10, 30],\n",
    "                     'C': [0.01, 0.03, 0.1, 0.3, 1, 3, 10, 30]},\n",
    "                    {'kernel': ['linear'], 'C': [0.01, 0.03, 0.1, 0.3, 1, 3, 10, 30]}]\n",
    "\n",
    "\n",
    "\n",
    "scores = ['f1']\n",
    "\n",
    "for score in scores:\n",
    "    print(\"# Tuning hyper-parameters for %s\" % score)\n",
    "    print()\n",
    "\n",
    "    clf = GridSearchCV(\n",
    "       SVC(), tuned_parameters, scoring='%s_macro' % score\n",
    "    )\n",
    "    clf.fit(X_train_scaled, y_train)\n",
    "\n",
    "    print(\"Best parameters set found on development set:\")\n",
    "    print()\n",
    "    print(clf.best_params_)\n",
    "    print()\n",
    "    print(\"Grid scores on development set:\")\n",
    "    print()\n",
    "    means = clf.cv_results_['mean_test_score']\n",
    "    stds = clf.cv_results_['std_test_score']\n",
    "    for mean, std, params in zip(means, stds, clf.cv_results_['params']):\n",
    "        print(\"%0.3f (+/-%0.03f) for %r\"\n",
    "              % (mean, std * 2, params))\n",
    "    print()\n",
    "\n",
    "    print(\"Detailed classification report:\")\n",
    "    print()\n",
    "    print(\"The model is trained on the full development set.\")\n",
    "    print(\"The scores are computed on the full evaluation set.\")\n",
    "    print()\n",
    "    y_true, y_pred = y_test, clf.predict(X_test_scaled)\n",
    "    print(classification_report(y_true, y_pred))\n",
    "    print()"
   ]
  },
  {
   "cell_type": "code",
   "execution_count": 102,
   "metadata": {},
   "outputs": [
    {
     "name": "stdout",
     "output_type": "stream",
     "text": [
      "# Tuning hyper-parameters for f1\n",
      "\n",
      "Best parameters set found on development set:\n",
      "\n",
      "{'C': 1000, 'gamma': 1, 'kernel': 'rbf'}\n",
      "\n",
      "Grid scores on development set:\n",
      "\n",
      "0.984 (+/-0.005) for {'C': 300, 'gamma': 1, 'kernel': 'rbf'}\n",
      "0.984 (+/-0.006) for {'C': 500, 'gamma': 1, 'kernel': 'rbf'}\n",
      "0.984 (+/-0.005) for {'C': 800, 'gamma': 1, 'kernel': 'rbf'}\n",
      "0.984 (+/-0.006) for {'C': 1000, 'gamma': 1, 'kernel': 'rbf'}\n",
      "0.984 (+/-0.005) for {'C': 1500, 'gamma': 1, 'kernel': 'rbf'}\n",
      "\n",
      "Detailed classification report:\n",
      "\n",
      "The model is trained on the full development set.\n",
      "The scores are computed on the full evaluation set.\n",
      "\n",
      "              precision    recall  f1-score   support\n",
      "\n",
      "           0       0.99      1.00      1.00      3574\n",
      "           1       0.99      0.99      0.99      1226\n",
      "           2       1.00      0.98      0.99       342\n",
      "\n",
      "    accuracy                           0.99      5142\n",
      "   macro avg       0.99      0.99      0.99      5142\n",
      "weighted avg       0.99      0.99      0.99      5142\n",
      "\n",
      "[[3564   18    2]\n",
      " [  10 1208    4]\n",
      " [   0    0  336]]\n",
      "\n"
     ]
    }
   ],
   "source": [
    "#################### SVM ####################\n",
    "from sklearn.svm import SVC\n",
    "from IPython.core.debugger import set_trace\n",
    "# SVM with gaussian kernel\n",
    "\n",
    "\n",
    "from sklearn.model_selection import GridSearchCV\n",
    "# Set the parameters by cross-validation\n",
    "tuned_parameters = [{'kernel': ['rbf'], 'gamma': [  1],\n",
    "                     'C': [300, 500, 800, 1000, 1500]}\n",
    "                    ]\n",
    "\n",
    "\n",
    "\n",
    "scores = ['f1']\n",
    "\n",
    "for score in scores:\n",
    "    print(\"# Tuning hyper-parameters for %s\" % score)\n",
    "    print()\n",
    "\n",
    "    clf = GridSearchCV(\n",
    "       SVC(), tuned_parameters, scoring='%s_macro' % score\n",
    "    )\n",
    "    clf.fit(X_train_scaled, y_train)\n",
    "\n",
    "    print(\"Best parameters set found on development set:\")\n",
    "    print()\n",
    "    print(clf.best_params_)\n",
    "    print()\n",
    "    print(\"Grid scores on development set:\")\n",
    "    print()\n",
    "    means = clf.cv_results_['mean_test_score']\n",
    "    stds = clf.cv_results_['std_test_score']\n",
    "    for mean, std, params in zip(means, stds, clf.cv_results_['params']):\n",
    "        print(\"%0.3f (+/-%0.03f) for %r\"\n",
    "              % (mean, std * 2, params))\n",
    "    print()\n",
    "\n",
    "    print(\"Detailed classification report:\")\n",
    "    print()\n",
    "    print(\"The model is trained on the full development set.\")\n",
    "    print(\"The scores are computed on the full evaluation set.\")\n",
    "    print()\n",
    "    y_true, y_pred = y_test, clf.predict(X_test_scaled)\n",
    "    print(classification_report(y_true, y_pred))\n",
    "    print(confusion_matrix(y_true, y_pred, labels=[0,1,2]).T)\n",
    "    print()"
   ]
  },
  {
   "cell_type": "code",
   "execution_count": 121,
   "metadata": {},
   "outputs": [
    {
     "data": {
      "text/plain": [
       "(20564, 9)"
      ]
     },
     "execution_count": 121,
     "metadata": {},
     "output_type": "execute_result"
    }
   ],
   "source": [
    "X_train_scaled.shape"
   ]
  },
  {
   "cell_type": "code",
   "execution_count": 103,
   "metadata": {},
   "outputs": [
    {
     "data": {
      "text/plain": [
       "0.9824561403508771"
      ]
     },
     "execution_count": 103,
     "metadata": {},
     "output_type": "execute_result"
    }
   ],
   "source": [
    "336/(342)"
   ]
  },
  {
   "cell_type": "code",
   "execution_count": 81,
   "metadata": {},
   "outputs": [
    {
     "name": "stdout",
     "output_type": "stream",
     "text": [
      "[[3491   13    0]\n",
      " [  12 1252    5]\n",
      " [   0    0  369]]\n"
     ]
    }
   ],
   "source": [
    "print(confusion_matrix(y_true, y_pred).T)"
   ]
  },
  {
   "cell_type": "code",
   "execution_count": 82,
   "metadata": {},
   "outputs": [
    {
     "data": {
      "text/plain": [
       "[554, 892, 1194, 3037, 4470]"
      ]
     },
     "execution_count": 82,
     "metadata": {},
     "output_type": "execute_result"
    }
   ],
   "source": [
    "[ i for i,val in enumerate((y_true == 2) & (y_pred == 1)) if val]"
   ]
  },
  {
   "cell_type": "code",
   "execution_count": 93,
   "metadata": {},
   "outputs": [
    {
     "data": {
      "text/plain": [
       "24602"
      ]
     },
     "execution_count": 93,
     "metadata": {},
     "output_type": "execute_result"
    }
   ],
   "source": [
    "inds_test[1194]"
   ]
  },
  {
   "cell_type": "code",
   "execution_count": 94,
   "metadata": {},
   "outputs": [
    {
     "data": {
      "text/plain": [
       "(60, <matplotlib.axes._subplots.AxesSubplot at 0x26166c5ec8>)"
      ]
     },
     "execution_count": 94,
     "metadata": {},
     "output_type": "execute_result"
    },
    {
     "data": {
      "image/png": "[encoded data removed]",
      "text/plain": [
       "<Figure size 216x216 with 1 Axes>"
      ]
     },
     "metadata": {
      "needs_background": "light"
     },
     "output_type": "display_data"
    }
   ],
   "source": [
    "X_test[240,:]\n",
    "plot_patient_lines(24602, X[24602,:] )"
   ]
  },
  {
   "cell_type": "markdown",
   "metadata": {},
   "source": [
    "## More classifiers"
   ]
  },
  {
   "cell_type": "code",
   "execution_count": 23,
   "metadata": {},
   "outputs": [
    {
     "name": "stdout",
     "output_type": "stream",
     "text": [
      "# Tuning hyper-parameters for f1\n",
      "\n",
      "Best parameters set found on development set:\n",
      "\n",
      "{'n_neighbors': 2}\n",
      "\n",
      "Grid scores on development set:\n",
      "\n",
      "0.966 (+/-0.007) for {'n_neighbors': 2}\n",
      "0.959 (+/-0.009) for {'n_neighbors': 3}\n",
      "0.931 (+/-0.022) for {'n_neighbors': 4}\n",
      "\n",
      "Detailed classification report:\n",
      "\n",
      "The model is trained on the full development set.\n",
      "The scores are computed on the full evaluation set.\n",
      "\n",
      "              precision    recall  f1-score   support\n",
      "\n",
      "           0       0.99      1.00      0.99      3563\n",
      "           1       0.97      0.97      0.97      1205\n",
      "           2       0.98      0.91      0.94       374\n",
      "\n",
      "    accuracy                           0.99      5142\n",
      "   macro avg       0.98      0.96      0.97      5142\n",
      "weighted avg       0.99      0.99      0.99      5142\n",
      "\n",
      "[[3556   25    5]\n",
      " [   7 1174   30]\n",
      " [   0    6  339]]\n",
      "\n"
     ]
    }
   ],
   "source": [
    "# classifiers = {\n",
    "#     \"LogisiticRegression\": LogisticRegression(),\n",
    "#     \"KNearest\": KNeighborsClassifier(),\n",
    "#     \"Support Vector Classifier\": SVC(),\n",
    "#     \"DecisionTreeClassifier\": DecisionTreeClassifier()\n",
    "# }\n",
    "\n",
    "tuned_parameters = [{  'n_neighbors': [2, 3, 4]}\n",
    "                    ]\n",
    "\n",
    "\n",
    "\n",
    "scores = ['f1']\n",
    "\n",
    "for score in scores:\n",
    "    print(\"# Tuning hyper-parameters for %s\" % score)\n",
    "    print()\n",
    "\n",
    "    clf = GridSearchCV(\n",
    "       KNeighborsClassifier(), tuned_parameters, scoring='%s_macro' % score, cv=7\n",
    "    )\n",
    "    clf.fit(X_train_scaled, y_train)\n",
    "\n",
    "    print(\"Best parameters set found on development set:\")\n",
    "    print()\n",
    "    print(clf.best_params_)\n",
    "    print()\n",
    "    print(\"Grid scores on development set:\")\n",
    "    print()\n",
    "    means = clf.cv_results_['mean_test_score']\n",
    "    stds = clf.cv_results_['std_test_score']\n",
    "    for mean, std, params in zip(means, stds, clf.cv_results_['params']):\n",
    "        print(\"%0.3f (+/-%0.03f) for %r\"\n",
    "              % (mean, std * 2, params))\n",
    "    print()\n",
    "\n",
    "    print(\"Detailed classification report:\")\n",
    "    print()\n",
    "    print(\"The model is trained on the full development set.\")\n",
    "    print(\"The scores are computed on the full evaluation set.\")\n",
    "    print()\n",
    "    y_true, y_pred = y_test, clf.predict(X_test_scaled)\n",
    "    print(classification_report(y_true, y_pred))\n",
    "    print(confusion_matrix(y_true, y_pred, labels=[0,1,2]).T)\n",
    "    print()"
   ]
  },
  {
   "cell_type": "code",
   "execution_count": 65,
   "metadata": {},
   "outputs": [
    {
     "name": "stdout",
     "output_type": "stream",
     "text": [
      "# Tuning hyper-parameters for f1\n",
      "\n",
      "Best parameters set found on development set:\n",
      "\n",
      "{'class_weight': 'balanced', 'max_depth': 50}\n",
      "\n",
      "Grid scores on development set:\n",
      "\n",
      "0.935 (+/-0.009) for {'class_weight': 'balanced', 'max_depth': 10}\n",
      "0.960 (+/-0.007) for {'class_weight': 'balanced', 'max_depth': 20}\n",
      "0.961 (+/-0.006) for {'class_weight': 'balanced', 'max_depth': 30}\n",
      "0.961 (+/-0.006) for {'class_weight': 'balanced', 'max_depth': 40}\n",
      "0.962 (+/-0.003) for {'class_weight': 'balanced', 'max_depth': 50}\n",
      "0.962 (+/-0.005) for {'class_weight': 'balanced', 'max_depth': 60}\n",
      "\n",
      "Detailed classification report:\n",
      "\n",
      "The model is trained on the full development set.\n",
      "The scores are computed on the full evaluation set.\n",
      "\n",
      "              precision    recall  f1-score   support\n",
      "\n",
      "           0       0.99      0.99      0.99      3491\n",
      "           1       0.97      0.96      0.96      1251\n",
      "           2       0.95      0.95      0.95       400\n",
      "\n",
      "    accuracy                           0.98      5142\n",
      "   macro avg       0.97      0.97      0.97      5142\n",
      "weighted avg       0.98      0.98      0.98      5142\n",
      "\n",
      "[[3461   36    3]\n",
      " [  27 1198   15]\n",
      " [   3   17  382]]\n",
      "\n"
     ]
    }
   ],
   "source": [
    "tuned_parameters = [{  'max_depth': [ 10, 20, 30, 40, 50, 60], \n",
    "                       'class_weight' :['balanced']\n",
    "                    }\n",
    "                    ]\n",
    "\n",
    "\n",
    "\n",
    "scores = ['f1']\n",
    "\n",
    "for score in scores:\n",
    "    print(\"# Tuning hyper-parameters for %s\" % score)\n",
    "    print()\n",
    "\n",
    "    clf = GridSearchCV(\n",
    "       DecisionTreeClassifier(), tuned_parameters, scoring='%s_macro' % score\n",
    "    )\n",
    "    clf.fit(X_train_scaled, y_train)\n",
    "\n",
    "    print(\"Best parameters set found on development set:\")\n",
    "    print()\n",
    "    print(clf.best_params_)\n",
    "    print()\n",
    "    print(\"Grid scores on development set:\")\n",
    "    print()\n",
    "    means = clf.cv_results_['mean_test_score']\n",
    "    stds = clf.cv_results_['std_test_score']\n",
    "    for mean, std, params in zip(means, stds, clf.cv_results_['params']):\n",
    "        print(\"%0.3f (+/-%0.03f) for %r\"\n",
    "              % (mean, std * 2, params))\n",
    "    print()\n",
    "\n",
    "    print(\"Detailed classification report:\")\n",
    "    print()\n",
    "    print(\"The model is trained on the full development set.\")\n",
    "    print(\"The scores are computed on the full evaluation set.\")\n",
    "    print()\n",
    "    y_true, y_pred = y_test, clf.predict(X_test_scaled)\n",
    "    print(classification_report(y_true, y_pred))\n",
    "    print(confusion_matrix(y_true, y_pred, labels=[0,1,2]).T)\n",
    "    print()"
   ]
  },
  {
   "cell_type": "code",
   "execution_count": 67,
   "metadata": {},
   "outputs": [
    {
     "name": "stdout",
     "output_type": "stream",
     "text": [
      "# Tuning hyper-parameters for f1\n",
      "\n",
      "Best parameters set found on development set:\n",
      "\n",
      "{'class_weight': 'balanced', 'max_depth': 10}\n",
      "\n",
      "Grid scores on development set:\n",
      "\n",
      "0.737 (+/-0.089) for {'class_weight': 'balanced', 'max_depth': 4}\n",
      "0.795 (+/-0.062) for {'class_weight': 'balanced', 'max_depth': 5}\n",
      "0.841 (+/-0.072) for {'class_weight': 'balanced', 'max_depth': 6}\n",
      "0.878 (+/-0.038) for {'class_weight': 'balanced', 'max_depth': 10}\n",
      "0.874 (+/-0.037) for {'class_weight': 'balanced', 'max_depth': 20}\n",
      "0.875 (+/-0.033) for {'class_weight': 'balanced', 'max_depth': 30}\n",
      "0.873 (+/-0.033) for {'class_weight': 'balanced', 'max_depth': 40}\n",
      "0.877 (+/-0.033) for {'class_weight': 'balanced', 'max_depth': 50}\n",
      "0.875 (+/-0.035) for {'class_weight': 'balanced', 'max_depth': 60}\n",
      "\n",
      "Detailed classification report:\n",
      "\n",
      "The model is trained on the full development set.\n",
      "The scores are computed on the full evaluation set.\n",
      "\n"
     ]
    }
   ],
   "source": [
    "tuned_parameters = [{  'max_depth': [ 4,5, 6, 10, 20, 30, 40, 50, 60], \n",
    "                       'class_weight' :['balanced']\n",
    "                    }\n",
    "                    ]\n",
    "\n",
    "\n",
    "\n",
    "scores = ['f1']\n",
    "\n",
    "for score in scores:\n",
    "    print(\"# Tuning hyper-parameters for %s\" % score)\n",
    "    print()\n",
    "\n",
    "    clf = GridSearchCV(\n",
    "       DecisionTreeClassifier(), tuned_parameters, scoring='%s_macro' % score\n",
    "    )\n",
    "    clf.fit(X_scaled, y)\n",
    "\n",
    "    print(\"Best parameters set found on development set:\")\n",
    "    print()\n",
    "    print(clf.best_params_)\n",
    "    print()\n",
    "    print(\"Grid scores on development set:\")\n",
    "    print()\n",
    "    means = clf.cv_results_['mean_test_score']\n",
    "    stds = clf.cv_results_['std_test_score']\n",
    "    for mean, std, params in zip(means, stds, clf.cv_results_['params']):\n",
    "        print(\"%0.3f (+/-%0.03f) for %r\"\n",
    "              % (mean, std * 2, params))\n",
    "    print()\n",
    "\n",
    "    print(\"Detailed classification report:\")\n",
    "    print()\n",
    "    print(\"The model is trained on the full development set.\")\n",
    "    print(\"The scores are computed on the full evaluation set.\")\n",
    "    print()\n",
    "#     y_true, y_pred = y_test, clf.predict(X_test_scaled)\n",
    "#     print(classification_report(y_true, y_pred))\n",
    "#     print(confusion_matrix(y_true, y_pred, labels=[0,1,2]).T)\n",
    "#     print()\n",
    "\n",
    "# clf.fit(, y)"
   ]
  },
  {
   "cell_type": "code",
   "execution_count": 26,
   "metadata": {},
   "outputs": [
    {
     "data": {
      "text/html": [
       "<div>\n",
       "<style scoped>\n",
       "    .dataframe tbody tr th:only-of-type {\n",
       "        vertical-align: middle;\n",
       "    }\n",
       "\n",
       "    .dataframe tbody tr th {\n",
       "        vertical-align: top;\n",
       "    }\n",
       "\n",
       "    .dataframe thead th {\n",
       "        text-align: right;\n",
       "    }\n",
       "</style>\n",
       "<table border=\"1\" class=\"dataframe\">\n",
       "  <thead>\n",
       "    <tr style=\"text-align: right;\">\n",
       "      <th></th>\n",
       "      <th>mean_fit_time</th>\n",
       "      <th>std_fit_time</th>\n",
       "      <th>mean_score_time</th>\n",
       "      <th>std_score_time</th>\n",
       "      <th>param_n_neighbors</th>\n",
       "      <th>params</th>\n",
       "      <th>split0_test_score</th>\n",
       "      <th>split1_test_score</th>\n",
       "      <th>split2_test_score</th>\n",
       "      <th>split3_test_score</th>\n",
       "      <th>split4_test_score</th>\n",
       "      <th>split5_test_score</th>\n",
       "      <th>split6_test_score</th>\n",
       "      <th>mean_test_score</th>\n",
       "      <th>std_test_score</th>\n",
       "      <th>rank_test_score</th>\n",
       "    </tr>\n",
       "  </thead>\n",
       "  <tbody>\n",
       "    <tr>\n",
       "      <th>0</th>\n",
       "      <td>0.050183</td>\n",
       "      <td>0.004455</td>\n",
       "      <td>0.284960</td>\n",
       "      <td>0.013753</td>\n",
       "      <td>2</td>\n",
       "      <td>{'n_neighbors': 2}</td>\n",
       "      <td>0.966726</td>\n",
       "      <td>0.963912</td>\n",
       "      <td>0.966025</td>\n",
       "      <td>0.962688</td>\n",
       "      <td>0.969723</td>\n",
       "      <td>0.959696</td>\n",
       "      <td>0.971299</td>\n",
       "      <td>0.965724</td>\n",
       "      <td>0.003722</td>\n",
       "      <td>1</td>\n",
       "    </tr>\n",
       "    <tr>\n",
       "      <th>1</th>\n",
       "      <td>0.048885</td>\n",
       "      <td>0.000634</td>\n",
       "      <td>0.388589</td>\n",
       "      <td>0.017650</td>\n",
       "      <td>3</td>\n",
       "      <td>{'n_neighbors': 3}</td>\n",
       "      <td>0.958121</td>\n",
       "      <td>0.959660</td>\n",
       "      <td>0.963305</td>\n",
       "      <td>0.952734</td>\n",
       "      <td>0.963531</td>\n",
       "      <td>0.951671</td>\n",
       "      <td>0.961462</td>\n",
       "      <td>0.958641</td>\n",
       "      <td>0.004447</td>\n",
       "      <td>2</td>\n",
       "    </tr>\n",
       "    <tr>\n",
       "      <th>2</th>\n",
       "      <td>0.048608</td>\n",
       "      <td>0.000724</td>\n",
       "      <td>0.448460</td>\n",
       "      <td>0.024227</td>\n",
       "      <td>4</td>\n",
       "      <td>{'n_neighbors': 4}</td>\n",
       "      <td>0.944256</td>\n",
       "      <td>0.932865</td>\n",
       "      <td>0.944289</td>\n",
       "      <td>0.912658</td>\n",
       "      <td>0.931230</td>\n",
       "      <td>0.918653</td>\n",
       "      <td>0.934170</td>\n",
       "      <td>0.931160</td>\n",
       "      <td>0.011049</td>\n",
       "      <td>3</td>\n",
       "    </tr>\n",
       "  </tbody>\n",
       "</table>\n",
       "</div>"
      ],
      "text/plain": [
       "   mean_fit_time  std_fit_time  mean_score_time  std_score_time  \\\n",
       "0       0.050183      0.004455         0.284960        0.013753   \n",
       "1       0.048885      0.000634         0.388589        0.017650   \n",
       "2       0.048608      0.000724         0.448460        0.024227   \n",
       "\n",
       "  param_n_neighbors              params  split0_test_score  split1_test_score  \\\n",
       "0                 2  {'n_neighbors': 2}           0.966726           0.963912   \n",
       "1                 3  {'n_neighbors': 3}           0.958121           0.959660   \n",
       "2                 4  {'n_neighbors': 4}           0.944256           0.932865   \n",
       "\n",
       "   split2_test_score  split3_test_score  split4_test_score  split5_test_score  \\\n",
       "0           0.966025           0.962688           0.969723           0.959696   \n",
       "1           0.963305           0.952734           0.963531           0.951671   \n",
       "2           0.944289           0.912658           0.931230           0.918653   \n",
       "\n",
       "   split6_test_score  mean_test_score  std_test_score  rank_test_score  \n",
       "0           0.971299         0.965724        0.003722                1  \n",
       "1           0.961462         0.958641        0.004447                2  \n",
       "2           0.934170         0.931160        0.011049                3  "
      ]
     },
     "execution_count": 26,
     "metadata": {},
     "output_type": "execute_result"
    }
   ],
   "source": [
    "dfcv = pd.DataFrame(clf.cv_results_)\n",
    "dfcv"
   ]
  },
  {
   "cell_type": "code",
   "execution_count": 29,
   "metadata": {},
   "outputs": [
    {
     "data": {
      "text/plain": [
       "0    0.965724\n",
       "1    0.958641\n",
       "2    0.931160\n",
       "dtype: float64"
      ]
     },
     "execution_count": 29,
     "metadata": {},
     "output_type": "execute_result"
    }
   ],
   "source": [
    "dfcv[[\"split{}_test_score\".format(j) for j in range(7)]].mean(axis=1)"
   ]
  },
  {
   "cell_type": "markdown",
   "metadata": {},
   "source": [
    "# Submission"
   ]
  },
  {
   "cell_type": "markdown",
   "metadata": {},
   "source": [
    "**Use the entire training set to train the submission classifier**"
   ]
  },
  {
   "cell_type": "code",
   "execution_count": 137,
   "metadata": {},
   "outputs": [
    {
     "name": "stdout",
     "output_type": "stream",
     "text": [
      "# Tuning hyper-parameters for f1\n",
      "\n",
      "Best parameters set found on development set:\n",
      "\n",
      "{'C': 1000, 'gamma': 0.03, 'kernel': 'rbf'}\n",
      "\n",
      "Grid scores on development set:\n",
      "\n",
      "0.856 (+/-0.039) for {'C': 1, 'gamma': 0.01, 'kernel': 'rbf'}\n",
      "0.868 (+/-0.037) for {'C': 1, 'gamma': 0.03, 'kernel': 'rbf'}\n",
      "0.880 (+/-0.033) for {'C': 1, 'gamma': 0.1, 'kernel': 'rbf'}\n",
      "0.890 (+/-0.027) for {'C': 1, 'gamma': 0.3, 'kernel': 'rbf'}\n",
      "0.866 (+/-0.033) for {'C': 1, 'gamma': 1, 'kernel': 'rbf'}\n",
      "0.791 (+/-0.027) for {'C': 1, 'gamma': 3, 'kernel': 'rbf'}\n",
      "0.530 (+/-0.027) for {'C': 1, 'gamma': 10, 'kernel': 'rbf'}\n",
      "0.298 (+/-0.012) for {'C': 1, 'gamma': 30, 'kernel': 'rbf'}\n",
      "0.878 (+/-0.027) for {'C': 30, 'gamma': 0.01, 'kernel': 'rbf'}\n",
      "0.903 (+/-0.027) for {'C': 30, 'gamma': 0.03, 'kernel': 'rbf'}\n",
      "0.920 (+/-0.027) for {'C': 30, 'gamma': 0.1, 'kernel': 'rbf'}\n",
      "0.907 (+/-0.032) for {'C': 30, 'gamma': 0.3, 'kernel': 'rbf'}\n",
      "0.850 (+/-0.032) for {'C': 30, 'gamma': 1, 'kernel': 'rbf'}\n",
      "0.781 (+/-0.022) for {'C': 30, 'gamma': 3, 'kernel': 'rbf'}\n",
      "0.532 (+/-0.030) for {'C': 30, 'gamma': 10, 'kernel': 'rbf'}\n",
      "0.301 (+/-0.011) for {'C': 30, 'gamma': 30, 'kernel': 'rbf'}\n",
      "0.890 (+/-0.015) for {'C': 100, 'gamma': 0.01, 'kernel': 'rbf'}\n",
      "0.916 (+/-0.028) for {'C': 100, 'gamma': 0.03, 'kernel': 'rbf'}\n",
      "0.922 (+/-0.017) for {'C': 100, 'gamma': 0.1, 'kernel': 'rbf'}\n",
      "0.900 (+/-0.028) for {'C': 100, 'gamma': 0.3, 'kernel': 'rbf'}\n",
      "0.846 (+/-0.033) for {'C': 100, 'gamma': 1, 'kernel': 'rbf'}\n",
      "0.781 (+/-0.022) for {'C': 100, 'gamma': 3, 'kernel': 'rbf'}\n",
      "0.532 (+/-0.030) for {'C': 100, 'gamma': 10, 'kernel': 'rbf'}\n",
      "0.301 (+/-0.011) for {'C': 100, 'gamma': 30, 'kernel': 'rbf'}\n",
      "0.905 (+/-0.028) for {'C': 300, 'gamma': 0.01, 'kernel': 'rbf'}\n",
      "0.923 (+/-0.024) for {'C': 300, 'gamma': 0.03, 'kernel': 'rbf'}\n",
      "0.921 (+/-0.022) for {'C': 300, 'gamma': 0.1, 'kernel': 'rbf'}\n",
      "0.894 (+/-0.029) for {'C': 300, 'gamma': 0.3, 'kernel': 'rbf'}\n",
      "0.847 (+/-0.037) for {'C': 300, 'gamma': 1, 'kernel': 'rbf'}\n",
      "0.781 (+/-0.022) for {'C': 300, 'gamma': 3, 'kernel': 'rbf'}\n",
      "0.532 (+/-0.030) for {'C': 300, 'gamma': 10, 'kernel': 'rbf'}\n",
      "0.301 (+/-0.011) for {'C': 300, 'gamma': 30, 'kernel': 'rbf'}\n",
      "0.910 (+/-0.031) for {'C': 500, 'gamma': 0.01, 'kernel': 'rbf'}\n",
      "0.923 (+/-0.024) for {'C': 500, 'gamma': 0.03, 'kernel': 'rbf'}\n",
      "0.919 (+/-0.022) for {'C': 500, 'gamma': 0.1, 'kernel': 'rbf'}\n",
      "0.892 (+/-0.025) for {'C': 500, 'gamma': 0.3, 'kernel': 'rbf'}\n",
      "0.847 (+/-0.037) for {'C': 500, 'gamma': 1, 'kernel': 'rbf'}\n",
      "0.781 (+/-0.022) for {'C': 500, 'gamma': 3, 'kernel': 'rbf'}\n",
      "0.532 (+/-0.030) for {'C': 500, 'gamma': 10, 'kernel': 'rbf'}\n",
      "0.301 (+/-0.011) for {'C': 500, 'gamma': 30, 'kernel': 'rbf'}\n",
      "0.911 (+/-0.030) for {'C': 800, 'gamma': 0.01, 'kernel': 'rbf'}\n",
      "0.924 (+/-0.025) for {'C': 800, 'gamma': 0.03, 'kernel': 'rbf'}\n",
      "0.920 (+/-0.027) for {'C': 800, 'gamma': 0.1, 'kernel': 'rbf'}\n",
      "0.890 (+/-0.023) for {'C': 800, 'gamma': 0.3, 'kernel': 'rbf'}\n",
      "0.846 (+/-0.038) for {'C': 800, 'gamma': 1, 'kernel': 'rbf'}\n",
      "0.781 (+/-0.022) for {'C': 800, 'gamma': 3, 'kernel': 'rbf'}\n",
      "0.532 (+/-0.030) for {'C': 800, 'gamma': 10, 'kernel': 'rbf'}\n",
      "0.301 (+/-0.011) for {'C': 800, 'gamma': 30, 'kernel': 'rbf'}\n",
      "0.912 (+/-0.029) for {'C': 1000, 'gamma': 0.01, 'kernel': 'rbf'}\n",
      "0.925 (+/-0.024) for {'C': 1000, 'gamma': 0.03, 'kernel': 'rbf'}\n",
      "0.919 (+/-0.027) for {'C': 1000, 'gamma': 0.1, 'kernel': 'rbf'}\n",
      "0.889 (+/-0.025) for {'C': 1000, 'gamma': 0.3, 'kernel': 'rbf'}\n",
      "0.846 (+/-0.038) for {'C': 1000, 'gamma': 1, 'kernel': 'rbf'}\n",
      "0.781 (+/-0.022) for {'C': 1000, 'gamma': 3, 'kernel': 'rbf'}\n",
      "0.532 (+/-0.030) for {'C': 1000, 'gamma': 10, 'kernel': 'rbf'}\n",
      "0.301 (+/-0.011) for {'C': 1000, 'gamma': 30, 'kernel': 'rbf'}\n",
      "0.916 (+/-0.029) for {'C': 1500, 'gamma': 0.01, 'kernel': 'rbf'}\n",
      "0.924 (+/-0.019) for {'C': 1500, 'gamma': 0.03, 'kernel': 'rbf'}\n",
      "0.919 (+/-0.022) for {'C': 1500, 'gamma': 0.1, 'kernel': 'rbf'}\n",
      "0.890 (+/-0.025) for {'C': 1500, 'gamma': 0.3, 'kernel': 'rbf'}\n",
      "0.846 (+/-0.038) for {'C': 1500, 'gamma': 1, 'kernel': 'rbf'}\n",
      "0.781 (+/-0.022) for {'C': 1500, 'gamma': 3, 'kernel': 'rbf'}\n",
      "0.532 (+/-0.030) for {'C': 1500, 'gamma': 10, 'kernel': 'rbf'}\n",
      "0.301 (+/-0.011) for {'C': 1500, 'gamma': 30, 'kernel': 'rbf'}\n",
      "\n",
      "Detailed classification report:\n",
      "\n",
      "The model is trained on the full development set.\n",
      "The scores are computed on the full evaluation set.\n"
     ]
    }
   ],
   "source": [
    "scaler = preprocessing.StandardScaler().fit(X)\n",
    "X_scaled = scaler.transform(X)\n",
    "X_test_scaled = scaler.transform(X_t)\n",
    "\n",
    "# Set the parameters by cross-validation\n",
    "tuned_parameters = [{'kernel': ['rbf'], 'gamma': [0.01, 0.03, 0.1, 0.3, 1, 3, 10, 30],\n",
    "                     'C': [1, 30, 100 ,300, 500, 800, 1000, 1500]}\n",
    "                   ]\n",
    "scores = ['f1']\n",
    "\n",
    "for score in scores:\n",
    "    print(\"# Tuning hyper-parameters for %s\" % score)\n",
    "    print()\n",
    "    clf = GridSearchCV(\n",
    "       SVC(), tuned_parameters, scoring='%s_macro' % score\n",
    "    )\n",
    "    clf.fit(X_scaled, y)\n",
    "\n",
    "    print(\"Best parameters set found on development set:\")\n",
    "    print()\n",
    "    print(clf.best_params_)\n",
    "    print()\n",
    "    print(\"Grid scores on development set:\")\n",
    "    print()\n",
    "    means = clf.cv_results_['mean_test_score']\n",
    "    stds = clf.cv_results_['std_test_score']\n",
    "    for mean, std, params in zip(means, stds, clf.cv_results_['params']):\n",
    "        print(\"%0.3f (+/-%0.03f) for %r\"\n",
    "              % (mean, std * 2, params))\n",
    "    print()\n",
    "\n",
    "    print(\"Detailed classification report:\")\n",
    "    print()\n",
    "    print(\"The model is trained on the full development set.\")\n",
    "    print(\"The scores are computed on the full evaluation set.\")\n",
    "    \n",
    "# Now apply on provided test set.\n",
    "y_test_hat = clf.predict(X_test_scaled)\n",
    "res_df = pd.DataFrame( { 'label' : y_test_hat, 'patient_id' : test_set_df.groupby('patient_id').nth(0).index.values})\n",
    "res_df.to_csv(\"clew_assignment_submission_matan.csv\")"
   ]
  },
  {
   "cell_type": "code",
   "execution_count": 42,
   "metadata": {},
   "outputs": [],
   "source": [
    "clf_svc_partial_train = SVC(C=1000, kernel='rbf', gamma=1)\n",
    "clf_svc_full_train = SVC(C=1000, kernel='rbf', gamma=0.03)\n",
    "scaler = preprocessing.StandardScaler().fit(X)\n",
    "X_scaled = scaler.transform(X)\n",
    "X_test_raw_scaled = scaler.transform(X_t)"
   ]
  },
  {
   "cell_type": "code",
   "execution_count": 69,
   "metadata": {},
   "outputs": [],
   "source": [
    "clf_svc_partial_train.fit(X_train_scaled, y_train)\n",
    "y_hat_partial = clf_svc_partial_train.predict(X_test_scaled)"
   ]
  },
  {
   "cell_type": "code",
   "execution_count": 70,
   "metadata": {},
   "outputs": [
    {
     "name": "stdout",
     "output_type": "stream",
     "text": [
      "              precision    recall  f1-score   support\n",
      "\n",
      "           0       1.00      0.99      1.00      3491\n",
      "           1       0.98      0.99      0.99      1251\n",
      "           2       1.00      0.99      0.99       400\n",
      "\n",
      "    accuracy                           0.99      5142\n",
      "   macro avg       0.99      0.99      0.99      5142\n",
      "weighted avg       0.99      0.99      0.99      5142\n",
      "\n"
     ]
    }
   ],
   "source": [
    "print(classification_report(y_test, y_hat_partial))"
   ]
  },
  {
   "cell_type": "code",
   "execution_count": 71,
   "metadata": {},
   "outputs": [],
   "source": [
    "clf_svc_full_train.fit(X_scaled, y)\n",
    "y_hat_full = clf_svc_full_train.predict(X_test_scaled)"
   ]
  },
  {
   "cell_type": "code",
   "execution_count": 72,
   "metadata": {},
   "outputs": [
    {
     "name": "stdout",
     "output_type": "stream",
     "text": [
      "              precision    recall  f1-score   support\n",
      "\n",
      "           0       0.97      0.98      0.97      3491\n",
      "           1       0.93      0.91      0.92      1251\n",
      "           2       0.99      0.98      0.99       400\n",
      "\n",
      "    accuracy                           0.96      5142\n",
      "   macro avg       0.96      0.96      0.96      5142\n",
      "weighted avg       0.96      0.96      0.96      5142\n",
      "\n"
     ]
    }
   ],
   "source": [
    "print(classification_report(y_test, y_hat_full))"
   ]
  },
  {
   "cell_type": "code",
   "execution_count": 134,
   "metadata": {},
   "outputs": [
    {
     "data": {
      "text/plain": [
       "Int64Index([25705, 25706, 25707, 25708, 25709, 25710, 25711, 25712, 25713,\n",
       "            25714,\n",
       "            ...\n",
       "            32046, 32047, 32048, 32049, 32050, 32051, 32052, 32053, 32054,\n",
       "            32055],\n",
       "           dtype='int64', name='patient_id', length=6351)"
      ]
     },
     "execution_count": 134,
     "metadata": {},
     "output_type": "execute_result"
    }
   ],
   "source": [
    "test_set_df.groupby('patient_id').nth(0).index"
   ]
  },
  {
   "cell_type": "code",
   "execution_count": 136,
   "metadata": {},
   "outputs": [],
   "source": [
    "res_df = pd.DataFrame( { 'label' : y_test_hat, 'patient_id' : test_set_df.groupby('patient_id').nth(0).index.values})\n",
    "res_df.to_csv(\"clew_assignment_submission_matan.csv\")"
   ]
  },
  {
   "cell_type": "code",
   "execution_count": 89,
   "metadata": {},
   "outputs": [
    {
     "data": {
      "text/plain": [
       "array([0, 1, 2], dtype=int64)"
      ]
     },
     "execution_count": 89,
     "metadata": {},
     "output_type": "execute_result"
    }
   ],
   "source": [
    "np.unique(y_pred)"
   ]
  },
  {
   "cell_type": "code",
   "execution_count": 90,
   "metadata": {},
   "outputs": [
    {
     "name": "stdout",
     "output_type": "stream",
     "text": [
      "[0 1]\n",
      "              precision    recall  f1-score   support\n",
      "\n",
      "           0       1.00      1.00      1.00      4768\n",
      "           1       1.00      0.99      0.99       374\n",
      "\n",
      "    accuracy                           1.00      5142\n",
      "   macro avg       1.00      0.99      1.00      5142\n",
      "weighted avg       1.00      1.00      1.00      5142\n",
      "\n",
      "[[4768    5]\n",
      " [   0  369]]\n",
      "[[4768    5    0]\n",
      " [   0  369    0]\n",
      " [   0    0    0]]\n"
     ]
    }
   ],
   "source": [
    "y_true_binary = y_true\n",
    "y_true_binary[y_true_binary == 1] = 0\n",
    "y_true_binary[y_true_binary == 2] = 1\n",
    "np.unique(y_true_binary)\n",
    "print(np.unique(y_true))\n",
    "y_pred_binary = y_pred\n",
    "y_pred_binary[y_pred_binary == 1] = 0\n",
    "y_pred_binary[y_pred_binary == 2] = 1\n",
    "np.unique(y_pred_binary)\n",
    "all((y_pred_binary==1) == (y_pred == 2))\n",
    "# sklearn.metrics.f1_score(y_true_binary, y_pred_binary) \n",
    "print(classification_report(y_true_binary, y_pred_binary))\n",
    "print(confusion_matrix(y_true_binary, y_pred_binary, labels=[0, 1]).T)\n",
    "print(confusion_matrix(y_true, y_pred, labels=[0, 1,2]).T)"
   ]
  },
  {
   "cell_type": "code",
   "execution_count": 92,
   "metadata": {},
   "outputs": [
    {
     "data": {
      "text/plain": [
       "array([0, 1], dtype=int64)"
      ]
     },
     "execution_count": 92,
     "metadata": {},
     "output_type": "execute_result"
    }
   ],
   "source": [
    "np.unique(y_true)"
   ]
  },
  {
   "cell_type": "markdown",
   "metadata": {},
   "source": [
    "TODO:\n",
    "* Weigh signals based on their duration (a signal of 4 timestamps is less indicative than a 30 samples one). Additionally - apply classification on only the subset of signals with more than M timestamp and show scores over this set. \n",
    "* More features: do lines intersect? what's the average distane between two lines?\n",
    "* Beautify code: add parameters types, sanity tests and comments, remove debug printouts.\n",
    "* Add ROC\n",
    "* If possible - use these fancy auto analysis pandas tools.\n",
    "\n",
    "Theoretical:\n",
    "* squared v.s. abs regularization\n",
    "* Trees v.s. LR v.s. SVM - which one will be better under which circumstances? "
   ]
  },
  {
   "cell_type": "code",
   "execution_count": null,
   "metadata": {},
   "outputs": [],
   "source": [
    "from sklearn.linear_model import LinearRegression\n",
    "patient_df = train_set_df[train_set_df['patient_id'] == 0 ]\n",
    "\n",
    "x = np.arange(0,len(patient_df))*50\n",
    "plt.plot(x, patient_df.loc[:,[ 'measurement_x', 'measurement_y', 'measurement_z']])\n",
    "xx = np.array([x, x*x]).T\n",
    "examined_sig = patient_df.loc[:,[ 'measurement_x', 'measurement_y', 'measurement_z']].values\n",
    "# print(xx)\n",
    "reg = LinearRegression().fit(xx, examined_sig )\n",
    "print(reg.coef_)\n",
    "print( reg.intercept_)\n",
    "plt.plot(x, reg.intercept_[0] + reg.coef_[0][0]*x + reg.coef_[0][1]*x*x, '+')\n",
    "plt.plot(x, reg.intercept_[1] + reg.coef_[1][0]*x + reg.coef_[1][1]*x*x, '+')\n",
    "plt.plot(x, reg.intercept_[2] + reg.coef_[2][0]*x + reg.coef_[2][1]*x*x, '+')"
   ]
  },
  {
   "cell_type": "markdown",
   "metadata": {},
   "source": [
    "Interesting examples:\n",
    "* 15175, 15176 - two examples of 2 class which are quite different\n",
    "* 15178, 15179 - two examples of 0 class which seem identical, and also typical to type 2 class. More typical 0 ones: 1903\n"
   ]
  },
  {
   "cell_type": "code",
   "execution_count": null,
   "metadata": {},
   "outputs": [],
   "source": [
    "plot_patient_lines(15175)"
   ]
  },
  {
   "cell_type": "code",
   "execution_count": null,
   "metadata": {},
   "outputs": [],
   "source": [
    "print(examined_sig[1,:])\n",
    "print(np.concatenate((np.array([examined_sig[1,:], reg.intercept_]).T, reg.coef_), axis=1))\n",
    "print(list(np.concatenate((np.array([examined_sig[1,:], reg.intercept_]).T, reg.coef_), axis=1).reshape(1,-1)[0]))"
   ]
  },
  {
   "cell_type": "code",
   "execution_count": null,
   "metadata": {},
   "outputs": [],
   "source": [
    "tmp = []\n",
    "tmp.append([1,2,3])\n",
    "tmp.append([4,5,6])\n",
    "print(np.array(tmp))"
   ]
  },
  {
   "cell_type": "code",
   "execution_count": null,
   "metadata": {},
   "outputs": [],
   "source": [
    "tmp = [1]\n",
    "tmp += [4,5,6]\n",
    "tmp"
   ]
  },
  {
   "cell_type": "code",
   "execution_count": null,
   "metadata": {},
   "outputs": [],
   "source": [
    "np.array(list(map(lambda x : x*x, [1,2,3])))"
   ]
  },
  {
   "cell_type": "code",
   "execution_count": null,
   "metadata": {},
   "outputs": [],
   "source": [
    "patients_grouped = train_set_df.groupby('patient_id')\n",
    "patients_grouped.first()"
   ]
  },
  {
   "cell_type": "code",
   "execution_count": null,
   "metadata": {},
   "outputs": [],
   "source": [
    "df = pd.DataFrame()"
   ]
  },
  {
   "cell_type": "code",
   "execution_count": null,
   "metadata": {},
   "outputs": [],
   "source": [
    "df = pd.DataFrame(np.array([[1,2,3],[4,5,6]]).T, columns=['a','b'])"
   ]
  },
  {
   "cell_type": "code",
   "execution_count": null,
   "metadata": {},
   "outputs": [],
   "source": [
    "np.argmax(np.array([0,0,1,1,0]))"
   ]
  },
  {
   "cell_type": "code",
   "execution_count": 30,
   "metadata": {},
   "outputs": [
    {
     "data": {
      "text/plain": [
       "[6.0, 4.0]"
      ]
     },
     "execution_count": 30,
     "metadata": {},
     "output_type": "execute_result"
    }
   ],
   "source": [
    "plt.rcParams['figure.figsize']"
   ]
  },
  {
   "cell_type": "code",
   "execution_count": 96,
   "metadata": {},
   "outputs": [
    {
     "name": "stdout",
     "output_type": "stream",
     "text": [
      "              precision    recall  f1-score   support\n",
      "\n",
      "           0       0.86      0.75      0.80         8\n",
      "           1       0.50      0.50      0.50         4\n",
      "           2       0.50      0.67      0.57         3\n",
      "\n",
      "    accuracy                           0.67        15\n",
      "   macro avg       0.62      0.64      0.62        15\n",
      "weighted avg       0.69      0.67      0.67        15\n",
      "\n",
      "[[6 1 0]\n",
      " [1 2 1]\n",
      " [1 1 2]]\n"
     ]
    }
   ],
   "source": [
    "y_true_fab = [ 0,0,0,0,0,0,0,0, 1,1,1, 1, 2, 2, 2]\n",
    "y_hat_fab = [ 0,0,0,0,0,0,1,2, 1,1,0, 2, 1, 2, 2]\n",
    "print(classification_report(y_true_fab, y_hat_fab, labels=[0,1,2]))\n",
    "print(confusion_matrix(y_true_fab, y_hat_fab).T)"
   ]
  },
  {
   "cell_type": "code",
   "execution_count": 100,
   "metadata": {},
   "outputs": [
    {
     "data": {
      "text/plain": [
       "0.8571428571428571"
      ]
     },
     "execution_count": 100,
     "metadata": {},
     "output_type": "execute_result"
    }
   ],
   "source": [
    "6/7"
   ]
  },
  {
   "cell_type": "code",
   "execution_count": null,
   "metadata": {},
   "outputs": [],
   "source": []
  }
 ],
 "metadata": {
  "kernelspec": {
   "display_name": "Python 3",
   "language": "python",
   "name": "python3"
  },
  "language_info": {
   "codemirror_mode": {
    "name": "ipython",
    "version": 3
   },
   "file_extension": ".py",
   "mimetype": "text/x-python",
   "name": "python",
   "nbconvert_exporter": "python",
   "pygments_lexer": "ipython3",
   "version": "3.7.6"
  }
 },
 "nbformat": 4,
 "nbformat_minor": 4
}
