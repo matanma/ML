{
 "cells": [
  {
   "cell_type": "markdown",
   "metadata": {},
   "source": [
    "Random forest "
   ]
  },
  {
   "cell_type": "code",
   "execution_count": 2,
   "metadata": {},
   "outputs": [
    {
     "data": {
      "text/plain": [
       "RandomForestClassifier(bootstrap=True, ccp_alpha=0.0, class_weight=None,\n",
       "                       criterion='gini', max_depth=None, max_features='auto',\n",
       "                       max_leaf_nodes=None, max_samples=None,\n",
       "                       min_impurity_decrease=0.0, min_impurity_split=None,\n",
       "                       min_samples_leaf=1, min_samples_split=2,\n",
       "                       min_weight_fraction_leaf=0.0, n_estimators=10,\n",
       "                       n_jobs=None, oob_score=False, random_state=None,\n",
       "                       verbose=0, warm_start=False)"
      ]
     },
     "execution_count": 2,
     "metadata": {},
     "output_type": "execute_result"
    }
   ],
   "source": [
    "from sklearn.ensemble import RandomForestClassifier\n",
    "X = [[0, 0], [1, 1]]\n",
    "Y = [0, 1]\n",
    "clf = RandomForestClassifier(n_estimators=10)\n",
    "clf = clf.fit(X, Y)\n",
    "clf"
   ]
  },
  {
   "cell_type": "markdown",
   "metadata": {},
   "source": [
    "Ada boost"
   ]
  },
  {
   "cell_type": "code",
   "execution_count": 12,
   "metadata": {},
   "outputs": [
    {
     "data": {
      "text/plain": [
       "0.9466666666666665"
      ]
     },
     "execution_count": 12,
     "metadata": {},
     "output_type": "execute_result"
    }
   ],
   "source": [
    "from sklearn.model_selection import cross_val_score\n",
    "from sklearn.datasets import load_iris\n",
    "from sklearn.ensemble import AdaBoostClassifier\n",
    "\n",
    "X, y = load_iris(return_X_y=True)\n",
    "clf = AdaBoostClassifier(n_estimators=100)\n",
    "scores = cross_val_score(clf, X, y, cv=5)\n",
    "scores.mean()\n"
   ]
  },
  {
   "cell_type": "code",
   "execution_count": 13,
   "metadata": {},
   "outputs": [
    {
     "data": {
      "text/plain": [
       "0.983"
      ]
     },
     "execution_count": 13,
     "metadata": {},
     "output_type": "execute_result"
    }
   ],
   "source": [
    "from sklearn.ensemble import AdaBoostClassifier\n",
    "from sklearn.datasets import make_classification\n",
    "X, y = make_classification(n_samples=1000, n_features=4,\n",
    "                           n_informative=2, n_redundant=0,\n",
    "                           random_state=0, shuffle=False)\n",
    "clf = AdaBoostClassifier(n_estimators=100, random_state=0)\n",
    "clf.fit(X, y)\n",
    "\n",
    "clf.predict([[0, 0, 0, 0]])\n",
    "\n",
    "clf.score(X, y)"
   ]
  },
  {
   "cell_type": "code",
   "execution_count": 28,
   "metadata": {},
   "outputs": [
    {
     "data": {
      "text/plain": [
       "array([0.053     , 0.37102495, 0.2845312 , 0.44332093, 0.40529044,\n",
       "       0.41090694, 0.43909849, 0.40573241, 0.37334302, 0.44067483,\n",
       "       0.41852863, 0.40391385, 0.43877004, 0.43041032, 0.41094377,\n",
       "       0.39315272, 0.41324691, 0.47264675, 0.44447992, 0.44477485,\n",
       "       0.41421234, 0.40765913, 0.41167105, 0.4164737 , 0.42619453,\n",
       "       0.46961939, 0.44304906, 0.42756563, 0.44420278, 0.4424474 ,\n",
       "       0.44099943, 0.47072167, 0.4664001 , 0.44293224, 0.42168181,\n",
       "       0.41315745, 0.43672821, 0.42935707, 0.42634595, 0.44071302,\n",
       "       0.48586271, 0.46335292, 0.47642947, 0.46025866, 0.4449312 ,\n",
       "       0.43637319, 0.42921993, 0.47796517, 0.43743707, 0.43242691,\n",
       "       0.46749551, 0.48495619, 0.46886431, 0.44134127, 0.48790129,\n",
       "       0.48309343, 0.47087734, 0.48138548, 0.47670344, 0.48612502,\n",
       "       0.4835491 , 0.45914316, 0.44895611, 0.43667919, 0.47219907,\n",
       "       0.48383908, 0.48383908, 0.47976369, 0.4694685 , 0.4539771 ,\n",
       "       0.45386945, 0.47029218, 0.46993332, 0.45461341, 0.46744208,\n",
       "       0.44428541, 0.43261945, 0.44016714, 0.42261104, 0.45721283,\n",
       "       0.44475758, 0.44110217, 0.48668071, 0.47431956, 0.47650499,\n",
       "       0.44172805, 0.47938101, 0.44863161, 0.452493  , 0.44192298,\n",
       "       0.44212522, 0.44944137, 0.46919651, 0.472169  , 0.44800159,\n",
       "       0.45636956, 0.46986154, 0.47309991, 0.45335503, 0.48178274])"
      ]
     },
     "execution_count": 28,
     "metadata": {},
     "output_type": "execute_result"
    }
   ],
   "source": [
    "clf.estimator_errors_"
   ]
  },
  {
   "cell_type": "code",
   "execution_count": null,
   "metadata": {},
   "outputs": [],
   "source": []
  }
 ],
 "metadata": {
  "kernelspec": {
   "display_name": "Python 3",
   "language": "python",
   "name": "python3"
  },
  "language_info": {
   "codemirror_mode": {
    "name": "ipython",
    "version": 3
   },
   "file_extension": ".py",
   "mimetype": "text/x-python",
   "name": "python",
   "nbconvert_exporter": "python",
   "pygments_lexer": "ipython3",
   "version": "3.7.6"
  }
 },
 "nbformat": 4,
 "nbformat_minor": 4
}
