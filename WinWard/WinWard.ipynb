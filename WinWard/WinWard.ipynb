{
 "cells": [
  {
   "cell_type": "code",
   "execution_count": 22,
   "metadata": {},
   "outputs": [
    {
     "data": {
      "text/html": [
       "        <script type=\"text/javascript\">\n",
       "        window.PlotlyConfig = {MathJaxConfig: 'local'};\n",
       "        if (window.MathJax) {MathJax.Hub.Config({SVG: {font: \"STIX-Web\"}});}\n",
       "        if (typeof require !== 'undefined') {\n",
       "        require.undef(\"plotly\");\n",
       "        requirejs.config({\n",
       "            paths: {\n",
       "                'plotly': ['https://cdn.plot.ly/plotly-latest.min']\n",
       "            }\n",
       "        });\n",
       "        require(['plotly'], function(Plotly) {\n",
       "            window._Plotly = Plotly;\n",
       "        });\n",
       "        }\n",
       "        </script>\n",
       "        "
      ]
     },
     "metadata": {},
     "output_type": "display_data"
    }
   ],
   "source": [
    "import pandas as pd\n",
    "import sklearn\n",
    "from sklearn.linear_model import LinearRegression\n",
    "import numpy as np\n",
    "from pandas_summary import DataFrameSummary\n",
    "import pandas_profiling as pp\n",
    "import matplotlib.pyplot as plt\n",
    "from sklearn.linear_model import LogisticRegressionCV, LogisticRegression\n",
    "from sklearn import preprocessing\n",
    "from sklearn.metrics import classification_report, confusion_matrix\n",
    "from sklearn.model_selection import train_test_split\n",
    "import random\n",
    "from sklearn.svm import SVC\n",
    "from sklearn.model_selection import GridSearchCV, RandomizedSearchCV\n",
    "from sklearn.neighbors import KNeighborsClassifier\n",
    "from sklearn.tree import DecisionTreeClassifier\n",
    "import plotly.graph_objs as go\n",
    "from plotly.offline import iplot, init_notebook_mode\n",
    "init_notebook_mode(connected=True)\n",
    "from sklearn.ensemble import RandomForestClassifier\n",
    "from sklearn.metrics import f1_score\n",
    "import xgboost as xgb\n",
    "import graphviz \n",
    "from sklearn.neural_network import MLPClassifier\n",
    "from sklearn import tree\n",
    "from pandas.util import hash_pandas_object\n",
    "from sklearn.metrics import plot_confusion_matrix\n",
    "from sklearn.metrics import fbeta_score, make_scorer\n",
    "from sklearn.model_selection import RepeatedKFold, RepeatedStratifiedKFold, StratifiedKFold, cross_val_score\n",
    "import imblearn\n",
    "from imblearn.over_sampling import SMOTE\n",
    "from imblearn.under_sampling import RandomUnderSampler\n",
    "from imblearn.pipeline import Pipeline\n",
    "%matplotlib inline\n",
    "from IPython.core.debugger import set_trace\n",
    "from dateutil.parser import parse\n",
    "from collections import defaultdict"
   ]
  },
  {
   "cell_type": "code",
   "execution_count": 2,
   "metadata": {},
   "outputs": [],
   "source": [
    "import os\n",
    "# os.getcwd()\n",
    "train_set_df_orig = pd.read_csv(\"port_visits_train.csv\", parse_dates = ['start_time'], date_parser = parse )\n",
    "train_vessels_labels_orig = pd.read_csv(\"vessels_labels_train.csv\", index_col='vessel_id' )\n",
    "\n",
    "# test_set_df = pd.read_csv(\"test_set.csv\", parse_dates = ['timestamp'], date_parser = parse )"
   ]
  },
  {
   "cell_type": "code",
   "execution_count": 11,
   "metadata": {},
   "outputs": [
    {
     "data": {
      "text/html": [
       "<div>\n",
       "<style scoped>\n",
       "    .dataframe tbody tr th:only-of-type {\n",
       "        vertical-align: middle;\n",
       "    }\n",
       "\n",
       "    .dataframe tbody tr th {\n",
       "        vertical-align: top;\n",
       "    }\n",
       "\n",
       "    .dataframe thead th {\n",
       "        text-align: right;\n",
       "    }\n",
       "</style>\n",
       "<table border=\"1\" class=\"dataframe\">\n",
       "  <thead>\n",
       "    <tr style=\"text-align: right;\">\n",
       "      <th></th>\n",
       "      <th>ves_id</th>\n",
       "      <th>start_time</th>\n",
       "      <th>duration_min</th>\n",
       "      <th>port_id</th>\n",
       "      <th>country</th>\n",
       "      <th>Lat</th>\n",
       "      <th>Long</th>\n",
       "      <th>port_name</th>\n",
       "    </tr>\n",
       "  </thead>\n",
       "  <tbody>\n",
       "    <tr>\n",
       "      <th>0</th>\n",
       "      <td>56db7bf5e4b087b8d90a9d5e</td>\n",
       "      <td>2016-03-10 07:55:05</td>\n",
       "      <td>1641</td>\n",
       "      <td>57ce88b62e4e5fe35e7b3008</td>\n",
       "      <td>Indonesia</td>\n",
       "      <td>1.042</td>\n",
       "      <td>103.325</td>\n",
       "      <td>PT</td>\n",
       "    </tr>\n",
       "    <tr>\n",
       "      <th>1</th>\n",
       "      <td>56d88f20e4b0e60539c699ca</td>\n",
       "      <td>2016-03-31 07:37:35</td>\n",
       "      <td>730</td>\n",
       "      <td>5358fc78b68ca120a07dbca5</td>\n",
       "      <td>China</td>\n",
       "      <td>34.664</td>\n",
       "      <td>119.519</td>\n",
       "      <td>Lianyungang</td>\n",
       "    </tr>\n",
       "    <tr>\n",
       "      <th>2</th>\n",
       "      <td>56d96b7be4b0cdbda2acd645</td>\n",
       "      <td>2016-06-16 07:24:58</td>\n",
       "      <td>141</td>\n",
       "      <td>5358fc78b68ca120a07dbb33</td>\n",
       "      <td>Netherlands</td>\n",
       "      <td>51.689</td>\n",
       "      <td>4.590</td>\n",
       "      <td>Moerdijk</td>\n",
       "    </tr>\n",
       "    <tr>\n",
       "      <th>3</th>\n",
       "      <td>56d88f20e4b0e60539c699ca</td>\n",
       "      <td>2016-03-10 05:28:48</td>\n",
       "      <td>931</td>\n",
       "      <td>53720b4f57b2d3980edf9bfa</td>\n",
       "      <td>China</td>\n",
       "      <td>36.016</td>\n",
       "      <td>120.233</td>\n",
       "      <td>Qingdao</td>\n",
       "    </tr>\n",
       "    <tr>\n",
       "      <th>4</th>\n",
       "      <td>56d835ace4b09b379252ab21</td>\n",
       "      <td>2016-04-26 18:12:19</td>\n",
       "      <td>1</td>\n",
       "      <td>5358fc77b68ca120a07db099</td>\n",
       "      <td>France</td>\n",
       "      <td>47.276</td>\n",
       "      <td>-1.885</td>\n",
       "      <td>Cordemais</td>\n",
       "    </tr>\n",
       "    <tr>\n",
       "      <th>...</th>\n",
       "      <td>...</td>\n",
       "      <td>...</td>\n",
       "      <td>...</td>\n",
       "      <td>...</td>\n",
       "      <td>...</td>\n",
       "      <td>...</td>\n",
       "      <td>...</td>\n",
       "      <td>...</td>\n",
       "    </tr>\n",
       "    <tr>\n",
       "      <th>732479</th>\n",
       "      <td>56d88f20e4b0e60539c699ca</td>\n",
       "      <td>2016-03-20 23:59:11</td>\n",
       "      <td>10516</td>\n",
       "      <td>53749f7d8925ee691cb9b4ea</td>\n",
       "      <td>China</td>\n",
       "      <td>31.363</td>\n",
       "      <td>121.714</td>\n",
       "      <td>Chanxingdao</td>\n",
       "    </tr>\n",
       "    <tr>\n",
       "      <th>732480</th>\n",
       "      <td>56d96d97e4b0d1ae1fbebd6b</td>\n",
       "      <td>2016-06-13 06:10:45</td>\n",
       "      <td>1625</td>\n",
       "      <td>562cc82a8c0e57be50751ec1</td>\n",
       "      <td>India</td>\n",
       "      <td>18.958</td>\n",
       "      <td>72.941</td>\n",
       "      <td>Jawaharlal Nehru - Nhava Sheva</td>\n",
       "    </tr>\n",
       "    <tr>\n",
       "      <th>732481</th>\n",
       "      <td>56d9026ce4b0b5eaae32988f</td>\n",
       "      <td>2016-03-16 08:56:22</td>\n",
       "      <td>0</td>\n",
       "      <td>5358fc78b68ca120a07db709</td>\n",
       "      <td>Denmark</td>\n",
       "      <td>55.944</td>\n",
       "      <td>11.767</td>\n",
       "      <td>Rorvig Havn</td>\n",
       "    </tr>\n",
       "    <tr>\n",
       "      <th>732482</th>\n",
       "      <td>56d9026ce4b0b5eaae32988f</td>\n",
       "      <td>2016-03-16 09:32:12</td>\n",
       "      <td>29</td>\n",
       "      <td>5358fc77b68ca120a07db26a</td>\n",
       "      <td>Denmark</td>\n",
       "      <td>55.962</td>\n",
       "      <td>11.847</td>\n",
       "      <td>Hundested Havn</td>\n",
       "    </tr>\n",
       "    <tr>\n",
       "      <th>732483</th>\n",
       "      <td>56d886a0e4b09db8395760f2</td>\n",
       "      <td>2016-01-02 06:01:15</td>\n",
       "      <td>1840</td>\n",
       "      <td>5358fc78b68ca120a07dbace</td>\n",
       "      <td>SaudiArabia</td>\n",
       "      <td>21.471</td>\n",
       "      <td>39.143</td>\n",
       "      <td>Jeddah Islamic Port</td>\n",
       "    </tr>\n",
       "  </tbody>\n",
       "</table>\n",
       "<p>732484 rows × 8 columns</p>\n",
       "</div>"
      ],
      "text/plain": [
       "                          ves_id          start_time  duration_min  \\\n",
       "0       56db7bf5e4b087b8d90a9d5e 2016-03-10 07:55:05          1641   \n",
       "1       56d88f20e4b0e60539c699ca 2016-03-31 07:37:35           730   \n",
       "2       56d96b7be4b0cdbda2acd645 2016-06-16 07:24:58           141   \n",
       "3       56d88f20e4b0e60539c699ca 2016-03-10 05:28:48           931   \n",
       "4       56d835ace4b09b379252ab21 2016-04-26 18:12:19             1   \n",
       "...                          ...                 ...           ...   \n",
       "732479  56d88f20e4b0e60539c699ca 2016-03-20 23:59:11         10516   \n",
       "732480  56d96d97e4b0d1ae1fbebd6b 2016-06-13 06:10:45          1625   \n",
       "732481  56d9026ce4b0b5eaae32988f 2016-03-16 08:56:22             0   \n",
       "732482  56d9026ce4b0b5eaae32988f 2016-03-16 09:32:12            29   \n",
       "732483  56d886a0e4b09db8395760f2 2016-01-02 06:01:15          1840   \n",
       "\n",
       "                         port_id      country     Lat     Long  \\\n",
       "0       57ce88b62e4e5fe35e7b3008    Indonesia   1.042  103.325   \n",
       "1       5358fc78b68ca120a07dbca5        China  34.664  119.519   \n",
       "2       5358fc78b68ca120a07dbb33  Netherlands  51.689    4.590   \n",
       "3       53720b4f57b2d3980edf9bfa        China  36.016  120.233   \n",
       "4       5358fc77b68ca120a07db099       France  47.276   -1.885   \n",
       "...                          ...          ...     ...      ...   \n",
       "732479  53749f7d8925ee691cb9b4ea        China  31.363  121.714   \n",
       "732480  562cc82a8c0e57be50751ec1        India  18.958   72.941   \n",
       "732481  5358fc78b68ca120a07db709      Denmark  55.944   11.767   \n",
       "732482  5358fc77b68ca120a07db26a      Denmark  55.962   11.847   \n",
       "732483  5358fc78b68ca120a07dbace  SaudiArabia  21.471   39.143   \n",
       "\n",
       "                             port_name  \n",
       "0                                   PT  \n",
       "1                          Lianyungang  \n",
       "2                             Moerdijk  \n",
       "3                              Qingdao  \n",
       "4                            Cordemais  \n",
       "...                                ...  \n",
       "732479                     Chanxingdao  \n",
       "732480  Jawaharlal Nehru - Nhava Sheva  \n",
       "732481                     Rorvig Havn  \n",
       "732482                  Hundested Havn  \n",
       "732483             Jeddah Islamic Port  \n",
       "\n",
       "[732484 rows x 8 columns]"
      ]
     },
     "execution_count": 11,
     "metadata": {},
     "output_type": "execute_result"
    }
   ],
   "source": [
    "train_set_df_orig"
   ]
  },
  {
   "cell_type": "code",
   "execution_count": 14,
   "metadata": {},
   "outputs": [
    {
     "name": "stdout",
     "output_type": "stream",
     "text": [
      "<class 'pandas.core.frame.DataFrame'>\n",
      "RangeIndex: 732484 entries, 0 to 732483\n",
      "Data columns (total 8 columns):\n",
      " #   Column        Non-Null Count   Dtype         \n",
      "---  ------        --------------   -----         \n",
      " 0   ves_id        732484 non-null  object        \n",
      " 1   start_time    732484 non-null  datetime64[ns]\n",
      " 2   duration_min  732484 non-null  int64         \n",
      " 3   port_id       732484 non-null  object        \n",
      " 4   country       732171 non-null  object        \n",
      " 5   Lat           732484 non-null  float64       \n",
      " 6   Long          732484 non-null  float64       \n",
      " 7   port_name     732444 non-null  object        \n",
      "dtypes: datetime64[ns](1), float64(2), int64(1), object(4)\n",
      "memory usage: 44.7+ MB\n"
     ]
    }
   ],
   "source": [
    "train_set_df_orig.info()"
   ]
  },
  {
   "cell_type": "code",
   "execution_count": 40,
   "metadata": {},
   "outputs": [
    {
     "data": {
      "text/html": [
       "<div>\n",
       "<style scoped>\n",
       "    .dataframe tbody tr th:only-of-type {\n",
       "        vertical-align: middle;\n",
       "    }\n",
       "\n",
       "    .dataframe tbody tr th {\n",
       "        vertical-align: top;\n",
       "    }\n",
       "\n",
       "    .dataframe thead th {\n",
       "        text-align: right;\n",
       "    }\n",
       "</style>\n",
       "<table border=\"1\" class=\"dataframe\">\n",
       "  <thead>\n",
       "    <tr style=\"text-align: right;\">\n",
       "      <th></th>\n",
       "      <th>type</th>\n",
       "      <th>label</th>\n",
       "    </tr>\n",
       "    <tr>\n",
       "      <th>vessel_id</th>\n",
       "      <th></th>\n",
       "      <th></th>\n",
       "    </tr>\n",
       "  </thead>\n",
       "  <tbody>\n",
       "    <tr>\n",
       "      <th>56d8509fe4b099a29d073a62</th>\n",
       "      <td>Container Vessel</td>\n",
       "      <td>0</td>\n",
       "    </tr>\n",
       "    <tr>\n",
       "      <th>56d950d9e4b0e60539c6b71d</th>\n",
       "      <td>Container Vessel</td>\n",
       "      <td>0</td>\n",
       "    </tr>\n",
       "    <tr>\n",
       "      <th>56d85a07e4b0fb60063969d8</th>\n",
       "      <td>Bulk Carrier</td>\n",
       "      <td>0</td>\n",
       "    </tr>\n",
       "    <tr>\n",
       "      <th>56d85736e4b030f1c0039905</th>\n",
       "      <td>Oil Tanker</td>\n",
       "      <td>1</td>\n",
       "    </tr>\n",
       "    <tr>\n",
       "      <th>56db31f9e4b02c227b748c14</th>\n",
       "      <td>Tug</td>\n",
       "      <td>0</td>\n",
       "    </tr>\n",
       "    <tr>\n",
       "      <th>...</th>\n",
       "      <td>...</td>\n",
       "      <td>...</td>\n",
       "    </tr>\n",
       "    <tr>\n",
       "      <th>56d83d91e4b0370600ea6b14</th>\n",
       "      <td>Fishing Vessel</td>\n",
       "      <td>0</td>\n",
       "    </tr>\n",
       "    <tr>\n",
       "      <th>56d98b06e4b036f77e70799a</th>\n",
       "      <td>Tug</td>\n",
       "      <td>0</td>\n",
       "    </tr>\n",
       "    <tr>\n",
       "      <th>56d8348ee4b026569c5ac90f</th>\n",
       "      <td>Oil Tanker</td>\n",
       "      <td>1</td>\n",
       "    </tr>\n",
       "    <tr>\n",
       "      <th>56d8348ee4b026569c5ac90c</th>\n",
       "      <td>Container Vessel</td>\n",
       "      <td>0</td>\n",
       "    </tr>\n",
       "    <tr>\n",
       "      <th>56d83d91e4b0370600ea6b19</th>\n",
       "      <td>Container Vessel</td>\n",
       "      <td>0</td>\n",
       "    </tr>\n",
       "  </tbody>\n",
       "</table>\n",
       "<p>21642 rows × 2 columns</p>\n",
       "</div>"
      ],
      "text/plain": [
       "                                      type  label\n",
       "vessel_id                                        \n",
       "56d8509fe4b099a29d073a62  Container Vessel      0\n",
       "56d950d9e4b0e60539c6b71d  Container Vessel      0\n",
       "56d85a07e4b0fb60063969d8      Bulk Carrier      0\n",
       "56d85736e4b030f1c0039905        Oil Tanker      1\n",
       "56db31f9e4b02c227b748c14               Tug      0\n",
       "...                                    ...    ...\n",
       "56d83d91e4b0370600ea6b14    Fishing Vessel      0\n",
       "56d98b06e4b036f77e70799a               Tug      0\n",
       "56d8348ee4b026569c5ac90f        Oil Tanker      1\n",
       "56d8348ee4b026569c5ac90c  Container Vessel      0\n",
       "56d83d91e4b0370600ea6b19  Container Vessel      0\n",
       "\n",
       "[21642 rows x 2 columns]"
      ]
     },
     "execution_count": 40,
     "metadata": {},
     "output_type": "execute_result"
    }
   ],
   "source": [
    "train_vessels_labels_orig"
   ]
  },
  {
   "cell_type": "code",
   "execution_count": 19,
   "metadata": {},
   "outputs": [],
   "source": [
    "train_set_df_orig['type'] = train_set_df_orig['ves_id'].apply(lambda vid : \n",
    "                                    train_vessels_labels_orig.loc[vid, 'type'])\n",
    "train_set_df_orig['label'] = train_set_df_orig['ves_id'].apply(lambda vid : \n",
    "                                    train_vessels_labels_orig.loc[vid, 'label'])"
   ]
  },
  {
   "cell_type": "code",
   "execution_count": 20,
   "metadata": {},
   "outputs": [
    {
     "data": {
      "text/html": [
       "<div>\n",
       "<style scoped>\n",
       "    .dataframe tbody tr th:only-of-type {\n",
       "        vertical-align: middle;\n",
       "    }\n",
       "\n",
       "    .dataframe tbody tr th {\n",
       "        vertical-align: top;\n",
       "    }\n",
       "\n",
       "    .dataframe thead th {\n",
       "        text-align: right;\n",
       "    }\n",
       "</style>\n",
       "<table border=\"1\" class=\"dataframe\">\n",
       "  <thead>\n",
       "    <tr style=\"text-align: right;\">\n",
       "      <th></th>\n",
       "      <th>ves_id</th>\n",
       "      <th>start_time</th>\n",
       "      <th>duration_min</th>\n",
       "      <th>port_id</th>\n",
       "      <th>country</th>\n",
       "      <th>Lat</th>\n",
       "      <th>Long</th>\n",
       "      <th>port_name</th>\n",
       "      <th>label</th>\n",
       "      <th>type</th>\n",
       "    </tr>\n",
       "  </thead>\n",
       "  <tbody>\n",
       "    <tr>\n",
       "      <th>0</th>\n",
       "      <td>56db7bf5e4b087b8d90a9d5e</td>\n",
       "      <td>2016-03-10 07:55:05</td>\n",
       "      <td>1641</td>\n",
       "      <td>57ce88b62e4e5fe35e7b3008</td>\n",
       "      <td>Indonesia</td>\n",
       "      <td>1.042</td>\n",
       "      <td>103.325</td>\n",
       "      <td>PT</td>\n",
       "      <td>0</td>\n",
       "      <td>Tug</td>\n",
       "    </tr>\n",
       "    <tr>\n",
       "      <th>1</th>\n",
       "      <td>56d88f20e4b0e60539c699ca</td>\n",
       "      <td>2016-03-31 07:37:35</td>\n",
       "      <td>730</td>\n",
       "      <td>5358fc78b68ca120a07dbca5</td>\n",
       "      <td>China</td>\n",
       "      <td>34.664</td>\n",
       "      <td>119.519</td>\n",
       "      <td>Lianyungang</td>\n",
       "      <td>0</td>\n",
       "      <td>Container Vessel</td>\n",
       "    </tr>\n",
       "    <tr>\n",
       "      <th>2</th>\n",
       "      <td>56d96b7be4b0cdbda2acd645</td>\n",
       "      <td>2016-06-16 07:24:58</td>\n",
       "      <td>141</td>\n",
       "      <td>5358fc78b68ca120a07dbb33</td>\n",
       "      <td>Netherlands</td>\n",
       "      <td>51.689</td>\n",
       "      <td>4.590</td>\n",
       "      <td>Moerdijk</td>\n",
       "      <td>0</td>\n",
       "      <td>Tug</td>\n",
       "    </tr>\n",
       "    <tr>\n",
       "      <th>3</th>\n",
       "      <td>56d88f20e4b0e60539c699ca</td>\n",
       "      <td>2016-03-10 05:28:48</td>\n",
       "      <td>931</td>\n",
       "      <td>53720b4f57b2d3980edf9bfa</td>\n",
       "      <td>China</td>\n",
       "      <td>36.016</td>\n",
       "      <td>120.233</td>\n",
       "      <td>Qingdao</td>\n",
       "      <td>0</td>\n",
       "      <td>Container Vessel</td>\n",
       "    </tr>\n",
       "    <tr>\n",
       "      <th>4</th>\n",
       "      <td>56d835ace4b09b379252ab21</td>\n",
       "      <td>2016-04-26 18:12:19</td>\n",
       "      <td>1</td>\n",
       "      <td>5358fc77b68ca120a07db099</td>\n",
       "      <td>France</td>\n",
       "      <td>47.276</td>\n",
       "      <td>-1.885</td>\n",
       "      <td>Cordemais</td>\n",
       "      <td>0</td>\n",
       "      <td>Bulk Carrier</td>\n",
       "    </tr>\n",
       "    <tr>\n",
       "      <th>...</th>\n",
       "      <td>...</td>\n",
       "      <td>...</td>\n",
       "      <td>...</td>\n",
       "      <td>...</td>\n",
       "      <td>...</td>\n",
       "      <td>...</td>\n",
       "      <td>...</td>\n",
       "      <td>...</td>\n",
       "      <td>...</td>\n",
       "      <td>...</td>\n",
       "    </tr>\n",
       "    <tr>\n",
       "      <th>732479</th>\n",
       "      <td>56d88f20e4b0e60539c699ca</td>\n",
       "      <td>2016-03-20 23:59:11</td>\n",
       "      <td>10516</td>\n",
       "      <td>53749f7d8925ee691cb9b4ea</td>\n",
       "      <td>China</td>\n",
       "      <td>31.363</td>\n",
       "      <td>121.714</td>\n",
       "      <td>Chanxingdao</td>\n",
       "      <td>0</td>\n",
       "      <td>Container Vessel</td>\n",
       "    </tr>\n",
       "    <tr>\n",
       "      <th>732480</th>\n",
       "      <td>56d96d97e4b0d1ae1fbebd6b</td>\n",
       "      <td>2016-06-13 06:10:45</td>\n",
       "      <td>1625</td>\n",
       "      <td>562cc82a8c0e57be50751ec1</td>\n",
       "      <td>India</td>\n",
       "      <td>18.958</td>\n",
       "      <td>72.941</td>\n",
       "      <td>Jawaharlal Nehru - Nhava Sheva</td>\n",
       "      <td>0</td>\n",
       "      <td>Container Vessel</td>\n",
       "    </tr>\n",
       "    <tr>\n",
       "      <th>732481</th>\n",
       "      <td>56d9026ce4b0b5eaae32988f</td>\n",
       "      <td>2016-03-16 08:56:22</td>\n",
       "      <td>0</td>\n",
       "      <td>5358fc78b68ca120a07db709</td>\n",
       "      <td>Denmark</td>\n",
       "      <td>55.944</td>\n",
       "      <td>11.767</td>\n",
       "      <td>Rorvig Havn</td>\n",
       "      <td>0</td>\n",
       "      <td>Passenger Vessel</td>\n",
       "    </tr>\n",
       "    <tr>\n",
       "      <th>732482</th>\n",
       "      <td>56d9026ce4b0b5eaae32988f</td>\n",
       "      <td>2016-03-16 09:32:12</td>\n",
       "      <td>29</td>\n",
       "      <td>5358fc77b68ca120a07db26a</td>\n",
       "      <td>Denmark</td>\n",
       "      <td>55.962</td>\n",
       "      <td>11.847</td>\n",
       "      <td>Hundested Havn</td>\n",
       "      <td>0</td>\n",
       "      <td>Passenger Vessel</td>\n",
       "    </tr>\n",
       "    <tr>\n",
       "      <th>732483</th>\n",
       "      <td>56d886a0e4b09db8395760f2</td>\n",
       "      <td>2016-01-02 06:01:15</td>\n",
       "      <td>1840</td>\n",
       "      <td>5358fc78b68ca120a07dbace</td>\n",
       "      <td>SaudiArabia</td>\n",
       "      <td>21.471</td>\n",
       "      <td>39.143</td>\n",
       "      <td>Jeddah Islamic Port</td>\n",
       "      <td>0</td>\n",
       "      <td>Bulk Carrier</td>\n",
       "    </tr>\n",
       "  </tbody>\n",
       "</table>\n",
       "<p>732484 rows × 10 columns</p>\n",
       "</div>"
      ],
      "text/plain": [
       "                          ves_id          start_time  duration_min  \\\n",
       "0       56db7bf5e4b087b8d90a9d5e 2016-03-10 07:55:05          1641   \n",
       "1       56d88f20e4b0e60539c699ca 2016-03-31 07:37:35           730   \n",
       "2       56d96b7be4b0cdbda2acd645 2016-06-16 07:24:58           141   \n",
       "3       56d88f20e4b0e60539c699ca 2016-03-10 05:28:48           931   \n",
       "4       56d835ace4b09b379252ab21 2016-04-26 18:12:19             1   \n",
       "...                          ...                 ...           ...   \n",
       "732479  56d88f20e4b0e60539c699ca 2016-03-20 23:59:11         10516   \n",
       "732480  56d96d97e4b0d1ae1fbebd6b 2016-06-13 06:10:45          1625   \n",
       "732481  56d9026ce4b0b5eaae32988f 2016-03-16 08:56:22             0   \n",
       "732482  56d9026ce4b0b5eaae32988f 2016-03-16 09:32:12            29   \n",
       "732483  56d886a0e4b09db8395760f2 2016-01-02 06:01:15          1840   \n",
       "\n",
       "                         port_id      country     Lat     Long  \\\n",
       "0       57ce88b62e4e5fe35e7b3008    Indonesia   1.042  103.325   \n",
       "1       5358fc78b68ca120a07dbca5        China  34.664  119.519   \n",
       "2       5358fc78b68ca120a07dbb33  Netherlands  51.689    4.590   \n",
       "3       53720b4f57b2d3980edf9bfa        China  36.016  120.233   \n",
       "4       5358fc77b68ca120a07db099       France  47.276   -1.885   \n",
       "...                          ...          ...     ...      ...   \n",
       "732479  53749f7d8925ee691cb9b4ea        China  31.363  121.714   \n",
       "732480  562cc82a8c0e57be50751ec1        India  18.958   72.941   \n",
       "732481  5358fc78b68ca120a07db709      Denmark  55.944   11.767   \n",
       "732482  5358fc77b68ca120a07db26a      Denmark  55.962   11.847   \n",
       "732483  5358fc78b68ca120a07dbace  SaudiArabia  21.471   39.143   \n",
       "\n",
       "                             port_name  label              type  \n",
       "0                                   PT      0               Tug  \n",
       "1                          Lianyungang      0  Container Vessel  \n",
       "2                             Moerdijk      0               Tug  \n",
       "3                              Qingdao      0  Container Vessel  \n",
       "4                            Cordemais      0      Bulk Carrier  \n",
       "...                                ...    ...               ...  \n",
       "732479                     Chanxingdao      0  Container Vessel  \n",
       "732480  Jawaharlal Nehru - Nhava Sheva      0  Container Vessel  \n",
       "732481                     Rorvig Havn      0  Passenger Vessel  \n",
       "732482                  Hundested Havn      0  Passenger Vessel  \n",
       "732483             Jeddah Islamic Port      0      Bulk Carrier  \n",
       "\n",
       "[732484 rows x 10 columns]"
      ]
     },
     "execution_count": 20,
     "metadata": {},
     "output_type": "execute_result"
    }
   ],
   "source": [
    "train_set_df_orig"
   ]
  },
  {
   "cell_type": "code",
   "execution_count": 21,
   "metadata": {},
   "outputs": [
    {
     "data": {
      "text/html": [
       "<div>\n",
       "<style scoped>\n",
       "    .dataframe tbody tr th:only-of-type {\n",
       "        vertical-align: middle;\n",
       "    }\n",
       "\n",
       "    .dataframe tbody tr th {\n",
       "        vertical-align: top;\n",
       "    }\n",
       "\n",
       "    .dataframe thead th {\n",
       "        text-align: right;\n",
       "    }\n",
       "</style>\n",
       "<table border=\"1\" class=\"dataframe\">\n",
       "  <thead>\n",
       "    <tr style=\"text-align: right;\">\n",
       "      <th></th>\n",
       "      <th>ves_id</th>\n",
       "      <th>start_time</th>\n",
       "      <th>duration_min</th>\n",
       "      <th>port_id</th>\n",
       "      <th>country</th>\n",
       "      <th>Lat</th>\n",
       "      <th>Long</th>\n",
       "      <th>port_name</th>\n",
       "      <th>label</th>\n",
       "      <th>type</th>\n",
       "    </tr>\n",
       "  </thead>\n",
       "  <tbody>\n",
       "    <tr>\n",
       "      <th>52633</th>\n",
       "      <td>56d8348ae4b02a0dec522fd6</td>\n",
       "      <td>2016-01-13 12:13:10</td>\n",
       "      <td>2068</td>\n",
       "      <td>551400d4001ecfd14d4af881</td>\n",
       "      <td>SaudiArabia</td>\n",
       "      <td>26.937</td>\n",
       "      <td>50.054</td>\n",
       "      <td>Ju'aymah Crude and LPG Terminals</td>\n",
       "      <td>1</td>\n",
       "      <td>Oil Tanker</td>\n",
       "    </tr>\n",
       "    <tr>\n",
       "      <th>52634</th>\n",
       "      <td>56d8348ae4b02a0dec522fd6</td>\n",
       "      <td>2016-03-23 05:58:37</td>\n",
       "      <td>0</td>\n",
       "      <td>5523b39459de2ed24dc2be6b</td>\n",
       "      <td>Venezuela</td>\n",
       "      <td>10.138</td>\n",
       "      <td>-64.828</td>\n",
       "      <td>Jose Petroterminal TAECJ</td>\n",
       "      <td>1</td>\n",
       "      <td>Oil Tanker</td>\n",
       "    </tr>\n",
       "    <tr>\n",
       "      <th>216107</th>\n",
       "      <td>56d8348ae4b02a0dec522fd6</td>\n",
       "      <td>2016-04-30 11:18:29</td>\n",
       "      <td>3945</td>\n",
       "      <td>5358fc78b68ca120a07dbd17</td>\n",
       "      <td>India</td>\n",
       "      <td>22.483</td>\n",
       "      <td>69.676</td>\n",
       "      <td>Vadinar</td>\n",
       "      <td>1</td>\n",
       "      <td>Oil Tanker</td>\n",
       "    </tr>\n",
       "    <tr>\n",
       "      <th>398599</th>\n",
       "      <td>56d8348ae4b02a0dec522fd6</td>\n",
       "      <td>2016-05-16 09:09:45</td>\n",
       "      <td>1179</td>\n",
       "      <td>551400d4001ecfd14d4af881</td>\n",
       "      <td>SaudiArabia</td>\n",
       "      <td>26.937</td>\n",
       "      <td>50.054</td>\n",
       "      <td>Ju'aymah Crude and LPG Terminals</td>\n",
       "      <td>1</td>\n",
       "      <td>Oil Tanker</td>\n",
       "    </tr>\n",
       "    <tr>\n",
       "      <th>398600</th>\n",
       "      <td>56d8348ae4b02a0dec522fd6</td>\n",
       "      <td>2016-05-13 20:59:29</td>\n",
       "      <td>2112</td>\n",
       "      <td>553ca9a5d4e6a49b3fb0d1e0</td>\n",
       "      <td>Kuwait</td>\n",
       "      <td>29.136</td>\n",
       "      <td>48.303</td>\n",
       "      <td>Mina Al Ahmadi</td>\n",
       "      <td>1</td>\n",
       "      <td>Oil Tanker</td>\n",
       "    </tr>\n",
       "  </tbody>\n",
       "</table>\n",
       "</div>"
      ],
      "text/plain": [
       "                          ves_id          start_time  duration_min  \\\n",
       "52633   56d8348ae4b02a0dec522fd6 2016-01-13 12:13:10          2068   \n",
       "52634   56d8348ae4b02a0dec522fd6 2016-03-23 05:58:37             0   \n",
       "216107  56d8348ae4b02a0dec522fd6 2016-04-30 11:18:29          3945   \n",
       "398599  56d8348ae4b02a0dec522fd6 2016-05-16 09:09:45          1179   \n",
       "398600  56d8348ae4b02a0dec522fd6 2016-05-13 20:59:29          2112   \n",
       "\n",
       "                         port_id      country     Lat    Long  \\\n",
       "52633   551400d4001ecfd14d4af881  SaudiArabia  26.937  50.054   \n",
       "52634   5523b39459de2ed24dc2be6b    Venezuela  10.138 -64.828   \n",
       "216107  5358fc78b68ca120a07dbd17        India  22.483  69.676   \n",
       "398599  551400d4001ecfd14d4af881  SaudiArabia  26.937  50.054   \n",
       "398600  553ca9a5d4e6a49b3fb0d1e0       Kuwait  29.136  48.303   \n",
       "\n",
       "                               port_name  label        type  \n",
       "52633   Ju'aymah Crude and LPG Terminals      1  Oil Tanker  \n",
       "52634           Jose Petroterminal TAECJ      1  Oil Tanker  \n",
       "216107                           Vadinar      1  Oil Tanker  \n",
       "398599  Ju'aymah Crude and LPG Terminals      1  Oil Tanker  \n",
       "398600                    Mina Al Ahmadi      1  Oil Tanker  "
      ]
     },
     "execution_count": 21,
     "metadata": {},
     "output_type": "execute_result"
    }
   ],
   "source": [
    "train_set_df_orig[train_set_df_orig['ves_id'] == '56d8348ae4b02a0dec522fd6']"
   ]
  },
  {
   "cell_type": "code",
   "execution_count": null,
   "metadata": {},
   "outputs": [],
   "source": []
  },
  {
   "cell_type": "markdown",
   "metadata": {},
   "source": [
    "# EDA"
   ]
  },
  {
   "cell_type": "markdown",
   "metadata": {},
   "source": [
    "## Initial examination of the raw data ##"
   ]
  },
  {
   "cell_type": "markdown",
   "metadata": {},
   "source": [
    "**Unique vessels**"
   ]
  },
  {
   "cell_type": "code",
   "execution_count": 26,
   "metadata": {},
   "outputs": [
    {
     "data": {
      "text/plain": [
       "21122"
      ]
     },
     "execution_count": 26,
     "metadata": {},
     "output_type": "execute_result"
    }
   ],
   "source": [
    "uniqe_ves_ids_train_orig = np.unique(train_set_df_orig.ves_id)\n",
    "len(uniqe_ves_ids_train_orig)"
   ]
  },
  {
   "cell_type": "code",
   "execution_count": 27,
   "metadata": {},
   "outputs": [
    {
     "data": {
      "text/plain": [
       "21642"
      ]
     },
     "execution_count": 27,
     "metadata": {},
     "output_type": "execute_result"
    }
   ],
   "source": [
    "len(train_vessels_labels_orig)"
   ]
  },
  {
   "cell_type": "code",
   "execution_count": 29,
   "metadata": {},
   "outputs": [
    {
     "name": "stdout",
     "output_type": "stream",
     "text": [
      "There are 21122 vess_ids appearing both in the train df and lables df\n",
      "There are 520 vess_ids appearing in the lables df but not in the labels_vess_ids_diff\n"
     ]
    }
   ],
   "source": [
    "labels_vess_ids_intersect = set(uniqe_ves_ids_train_orig).intersection(train_vessels_labels_orig.vessel_id)\n",
    "labels_vess_ids_diff = set(train_vessels_labels_orig.vessel_id ).difference(uniqe_ves_ids_train_orig)\n",
    "print(f\"There are {len(labels_vess_ids_intersect)} vess_ids appearing both in the train df and lables df\")\n",
    "print(f\"There are {len(labels_vess_ids_diff)} vess_ids appearing in the lables df but not in the labels_vess_ids_diff\")"
   ]
  },
  {
   "cell_type": "markdown",
   "metadata": {},
   "source": [
    "**Unique ports**"
   ]
  },
  {
   "cell_type": "code",
   "execution_count": 5,
   "metadata": {},
   "outputs": [
    {
     "name": "stdout",
     "output_type": "stream",
     "text": [
      "there are 3590 unique ports in the train set\n"
     ]
    }
   ],
   "source": [
    "num_unique_ports_in_train = len(np.unique(train_set_df_orig.port_id.dropna()))\n",
    "print(f\"there are {num_unique_ports_in_train} unique ports in the train set\")"
   ]
  },
  {
   "cell_type": "markdown",
   "metadata": {},
   "source": [
    "**The distribution of the labels is around 13.7% 1 (Tanker) and 86.3% 0 (not a tanker)**"
   ]
  },
  {
   "cell_type": "code",
   "execution_count": 30,
   "metadata": {},
   "outputs": [
    {
     "data": {
      "image/png": "[encoded data removed]",
      "text/plain": [
       "<Figure size 432x288 with 1 Axes>"
      ]
     },
     "metadata": {
      "needs_background": "light"
     },
     "output_type": "display_data"
    }
   ],
   "source": [
    "y_train_raw = train_vessels_labels_orig.label\n",
    "counts = plt.hist(y_train_raw, bins =  [0,1,2,3] )"
   ]
  },
  {
   "cell_type": "code",
   "execution_count": 31,
   "metadata": {},
   "outputs": [
    {
     "data": {
      "text/plain": [
       "array([86.22585713, 13.77414287,  0.        ])"
      ]
     },
     "execution_count": 31,
     "metadata": {},
     "output_type": "execute_result"
    }
   ],
   "source": [
    "counts[0]/counts[0].sum()*100"
   ]
  },
  {
   "cell_type": "code",
   "execution_count": null,
   "metadata": {},
   "outputs": [],
   "source": [
    "train_vessels_labels_orig\n",
    "counts = plt.hist(y_train_raw, bins =  [0,1,2,3] )"
   ]
  },
  {
   "cell_type": "markdown",
   "metadata": {},
   "source": [
    "## Duration distribution as a function of the vessel type ##"
   ]
  },
  {
   "cell_type": "markdown",
   "metadata": {},
   "source": [
    "**What's the subset of ports visited by tankers**"
   ]
  },
  {
   "cell_type": "code",
   "execution_count": 6,
   "metadata": {},
   "outputs": [
    {
     "name": "stdout",
     "output_type": "stream",
     "text": [
      "There are 1652 ports visited by tankers, which are 46.02% of the overall ports\n"
     ]
    }
   ],
   "source": [
    "tankers_ports_set = set(train_set_df_orig['port_id'][train_set_df_orig['label']==1])\n",
    "print(\"There are {} ports visited by tankers, which are\\\n",
    " {:0.2f}% of the overall ports\".format(len(tankers_ports_set), len(tankers_ports_set)/num_unique_ports_in_train*100))"
   ]
  },
  {
   "cell_type": "code",
   "execution_count": 9,
   "metadata": {},
   "outputs": [
    {
     "name": "stdout",
     "output_type": "stream",
     "text": [
      "The intersection between the tankers ports and non-tanker ports is of size 1520 \n"
     ]
    }
   ],
   "source": [
    "all_ports_set = set(np.unique(train_set_df_orig.port_id.dropna()))\n",
    "non_tanker_ports_set = set(train_set_df_orig['port_id'][train_set_df_orig['label']==0])\n",
    "print(\"The intersection between the tankers ports and non-tanker ports is of size {} \".format(len(non_tanker_ports_set.intersection(tankers_ports_set))))"
   ]
  },
  {
   "cell_type": "markdown",
   "metadata": {},
   "source": [
    "**Durations distribution per port**"
   ]
  },
  {
   "cell_type": "code",
   "execution_count": 108,
   "metadata": {},
   "outputs": [
    {
     "name": "stdout",
     "output_type": "stream",
     "text": [
      "There were 3 tankers visits and 22 non-tanker visits to port 57b42870c94a74d24170f1af\n"
     ]
    },
    {
     "data": {
      "text/plain": [
       "<matplotlib.legend.Legend at 0xe79e467b48>"
      ]
     },
     "execution_count": 108,
     "metadata": {},
     "output_type": "execute_result"
    },
    {
     "data": {
      "image/png": "[encoded data removed]",
      "text/plain": [
       "<Figure size 432x288 with 1 Axes>"
      ]
     },
     "metadata": {
      "needs_background": "light"
     },
     "output_type": "display_data"
    }
   ],
   "source": [
    "ports_lst = list(tankers_ports_set)\n",
    "# curr_port = next(iter(tankers_ports_set))\n",
    "curr_port = ports_lst[279]\n",
    "curr_port_visits = train_set_df_orig[train_set_df_orig['port_id'] == curr_port]\n",
    "curr_port_tanker_visits_durations = curr_port_visits[curr_port_visits['label']==1]['duration_min']\n",
    "curr_port_non_tanker_visits_durations = curr_port_visits[curr_port_visits['label']==0]['duration_min']\n",
    "print(f\"There were {len(curr_port_tanker_visits_durations)} tankers visits and {len(curr_port_non_tanker_visits_durations)} non-tanker visits to port {curr_port}\")\n",
    "fig_visits, ax_visits = plt.subplots()\n",
    "bins = np.arange(0,20000, 200)\n",
    "ax_visits.hist(curr_port_non_tanker_visits_durations, bins=bins, density=True, label = \"non tanker durations\")\n",
    "ax_visits.hist(curr_port_tanker_visits_durations,  bins=bins, density=True, label = \"non tanker durations\")\n",
    "plt.legend()\n"
   ]
  },
  {
   "cell_type": "markdown",
   "metadata": {},
   "source": [
    "**Durations distribution per vessel**"
   ]
  },
  {
   "cell_type": "code",
   "execution_count": 119,
   "metadata": {},
   "outputs": [],
   "source": [
    "tanker_grouped = train_set_df_orig[train_set_df_orig['label']==1].groupby('ves_id')\n",
    "tanker_grouped_iter = iter(tanker_grouped)\n",
    "non_tanker_grouped = train_set_df_orig[train_set_df_orig['label']==0].groupby('ves_id')\n",
    "non_tanker_grouped_iter = iter(non_tanker_grouped)"
   ]
  },
  {
   "cell_type": "code",
   "execution_count": 162,
   "metadata": {},
   "outputs": [
    {
     "data": {
      "text/plain": [
       "<matplotlib.axes._subplots.AxesSubplot at 0xe788d5c708>"
      ]
     },
     "execution_count": 162,
     "metadata": {},
     "output_type": "execute_result"
    },
    {
     "data": {
      "image/png": "[encoded data removed]",
      "text/plain": [
       "<Figure size 432x288 with 1 Axes>"
      ]
     },
     "metadata": {
      "needs_background": "light"
     },
     "output_type": "display_data"
    }
   ],
   "source": [
    "curr_tanker_df = next(tanker_grouped_iter)[1]\n",
    "curr_tanker_df['duration_min'].plot.hist(density = True)\n",
    "\n",
    "# non_tanker_grouped.get_group('56d8fabbe4b00724c0f7520b')['duration_min'].plot.hist()"
   ]
  },
  {
   "cell_type": "code",
   "execution_count": 178,
   "metadata": {},
   "outputs": [
    {
     "data": {
      "text/plain": [
       "144792   2016-04-01 15:55:48\n",
       "144794   2016-02-17 10:04:13\n",
       "144795   2016-03-17 05:20:43\n",
       "144796   2016-04-01 05:31:17\n",
       "144814   2016-04-09 12:35:47\n",
       "148494   2016-04-02 12:54:49\n",
       "Name: start_time, dtype: datetime64[ns]"
      ]
     },
     "execution_count": 178,
     "metadata": {},
     "output_type": "execute_result"
    }
   ],
   "source": [
    "curr_tanker_df['start_time']"
   ]
  },
  {
   "cell_type": "code",
   "execution_count": 181,
   "metadata": {},
   "outputs": [
    {
     "data": {
      "text/plain": [
       "Timedelta('52 days 02:31:34')"
      ]
     },
     "execution_count": 181,
     "metadata": {},
     "output_type": "execute_result"
    }
   ],
   "source": [
    "curr_tanker_df['start_time'].max() - curr_tanker_df['start_time'].min()\n",
    "# curr_tanker_df['start_time'].min()"
   ]
  },
  {
   "cell_type": "code",
   "execution_count": 188,
   "metadata": {},
   "outputs": [],
   "source": [
    "sorted_ts = curr_tanker_df['start_time'].sort_values()\n",
    "deltas = sorted_ts[1:] - sorted_ts[:-1]"
   ]
  },
  {
   "cell_type": "code",
   "execution_count": 211,
   "metadata": {},
   "outputs": [
    {
     "data": {
      "text/plain": [
       "144795   2016-03-17 05:20:43\n",
       "144796   2016-04-01 05:31:17\n",
       "144792   2016-04-01 15:55:48\n",
       "148494   2016-04-02 12:54:49\n",
       "144814   2016-04-09 12:35:47\n",
       "Name: start_time, dtype: datetime64[ns]"
      ]
     },
     "execution_count": 211,
     "metadata": {},
     "output_type": "execute_result"
    }
   ],
   "source": [
    "sorted_ts[1:]"
   ]
  },
  {
   "cell_type": "code",
   "execution_count": 210,
   "metadata": {},
   "outputs": [
    {
     "data": {
      "text/plain": [
       "Timedelta('28 days 19:16:30')"
      ]
     },
     "execution_count": 210,
     "metadata": {},
     "output_type": "execute_result"
    }
   ],
   "source": [
    "(sorted_ts.iloc[1] - sorted_ts.iloc[0])#.astype('timedelta64[ns]')"
   ]
  },
  {
   "cell_type": "code",
   "execution_count": 190,
   "metadata": {},
   "outputs": [
    {
     "data": {
      "text/plain": [
       "144794   2016-02-17 10:04:13\n",
       "144795   2016-03-17 05:20:43\n",
       "144796   2016-04-01 05:31:17\n",
       "144792   2016-04-01 15:55:48\n",
       "148494   2016-04-02 12:54:49\n",
       "144814   2016-04-09 12:35:47\n",
       "Name: start_time, dtype: datetime64[ns]"
      ]
     },
     "execution_count": 190,
     "metadata": {},
     "output_type": "execute_result"
    }
   ],
   "source": [
    "sorted_ts"
   ]
  },
  {
   "cell_type": "code",
   "execution_count": 209,
   "metadata": {},
   "outputs": [
    {
     "ename": "TypeError",
     "evalue": "data type \"Timedelta\" not understood",
     "output_type": "error",
     "traceback": [
      "\u001b[1;31m---------------------------------------------------------------------------\u001b[0m",
      "\u001b[1;31mTypeError\u001b[0m                                 Traceback (most recent call last)",
      "\u001b[1;32m<ipython-input-209-29cb81d66ff6>\u001b[0m in \u001b[0;36m<module>\u001b[1;34m\u001b[0m\n\u001b[0;32m      1\u001b[0m \u001b[0mdeltas\u001b[0m \u001b[1;33m=\u001b[0m \u001b[0msorted_ts\u001b[0m\u001b[1;33m.\u001b[0m\u001b[0mvalues\u001b[0m\u001b[1;33m[\u001b[0m\u001b[1;36m1\u001b[0m\u001b[1;33m:\u001b[0m\u001b[1;33m]\u001b[0m \u001b[1;33m-\u001b[0m \u001b[0msorted_ts\u001b[0m\u001b[1;33m.\u001b[0m\u001b[0mvalues\u001b[0m\u001b[1;33m[\u001b[0m\u001b[1;33m:\u001b[0m\u001b[1;33m-\u001b[0m\u001b[1;36m1\u001b[0m\u001b[1;33m]\u001b[0m\u001b[1;33m\u001b[0m\u001b[1;33m\u001b[0m\u001b[0m\n\u001b[0;32m      2\u001b[0m \u001b[0mdeltas\u001b[0m\u001b[1;33m[\u001b[0m\u001b[1;36m0\u001b[0m\u001b[1;33m]\u001b[0m\u001b[1;33m.\u001b[0m\u001b[0mastype\u001b[0m\u001b[1;33m(\u001b[0m\u001b[1;34m'timedelta64[D]'\u001b[0m\u001b[1;33m)\u001b[0m\u001b[1;33m\u001b[0m\u001b[1;33m\u001b[0m\u001b[0m\n\u001b[1;32m----> 3\u001b[1;33m \u001b[0mdeltas\u001b[0m\u001b[1;33m[\u001b[0m\u001b[1;36m0\u001b[0m\u001b[1;33m]\u001b[0m\u001b[1;33m.\u001b[0m\u001b[0mastype\u001b[0m\u001b[1;33m(\u001b[0m\u001b[1;34m'Timedelta'\u001b[0m\u001b[1;33m)\u001b[0m\u001b[1;33m\u001b[0m\u001b[1;33m\u001b[0m\u001b[0m\n\u001b[0m",
      "\u001b[1;31mTypeError\u001b[0m: data type \"Timedelta\" not understood"
     ]
    }
   ],
   "source": [
    "deltas = sorted_ts.values[1:] - sorted_ts.values[:-1]\n",
    "deltas[0].astype('timedelta64[D]')\n",
    "deltas[0].astype('Timedelta')"
   ]
  },
  {
   "cell_type": "code",
   "execution_count": 226,
   "metadata": {},
   "outputs": [
    {
     "data": {
      "text/plain": [
       "[1, 2, 3, 4, 5, 6]"
      ]
     },
     "execution_count": 226,
     "metadata": {},
     "output_type": "execute_result"
    }
   ],
   "source": [
    "tmp = [1,2,3]\n",
    "tmp += ([4,5,6])\n",
    "tmp"
   ]
  },
  {
   "cell_type": "code",
   "execution_count": null,
   "metadata": {},
   "outputs": [],
   "source": []
  },
  {
   "cell_type": "code",
   "execution_count": null,
   "metadata": {},
   "outputs": [],
   "source": []
  },
  {
   "cell_type": "markdown",
   "metadata": {},
   "source": [
    "**Durations distribution per class**"
   ]
  },
  {
   "cell_type": "code",
   "execution_count": 315,
   "metadata": {},
   "outputs": [
    {
     "name": "stdout",
     "output_type": "stream",
     "text": [
      "1070.0\n",
      "498.0\n"
     ]
    },
    {
     "data": {
      "image/png": "[encoded data removed]",
      "text/plain": [
       "<Figure size 432x288 with 1 Axes>"
      ]
     },
     "metadata": {
      "needs_background": "light"
     },
     "output_type": "display_data"
    }
   ],
   "source": [
    "all_tanker_durations = train_set_df_orig[train_set_df_orig['label']==1]['duration_min']\n",
    "all_non_tanker_durations = train_set_df_orig[train_set_df_orig['label']==0]['duration_min']\n",
    "fig_durations,ax_durations = plt.subplots()\n",
    "durations_bins = np.arange(10,10000, 200)\n",
    "ax_durations.hist(all_tanker_durations, bins = durations_bins, density=True, label = 'Tanker durations', alpha=0.5)\n",
    "ax_durations.hist(all_non_tanker_durations, bins = durations_bins, density=True, label = 'Non Tanker durations', alpha=0.5)\n",
    "plt.legend()\n",
    "print(np.median(all_tanker_durations.values))\n",
    "print(np.median(all_non_tanker_durations.values))"
   ]
  },
  {
   "cell_type": "markdown",
   "metadata": {},
   "source": [
    "**Num samples and overall series duration per vessel**"
   ]
  },
  {
   "cell_type": "code",
   "execution_count": 10,
   "metadata": {},
   "outputs": [],
   "source": [
    "train_orig_grouped = train_set_df_orig.groupby('ves_id')\n"
   ]
  },
  {
   "cell_type": "code",
   "execution_count": 288,
   "metadata": {},
   "outputs": [],
   "source": [
    "per_ves_ts_len_tanker = []\n",
    "per_ves_ts_duration_tanker = []\n",
    "overall_deltas_tanker = np.array([])\n",
    "per_ves_ts_len_non_tanker = []\n",
    "per_ves_ts_duration_non_tanker = []\n",
    "overall_deltas_non_tanker = np.array([])\n",
    "\n",
    "for vid, vdf in train_orig_grouped:\n",
    "#     print(vid)\n",
    "    is_tanker = vdf.iloc[0]['label'] == 1\n",
    "    per_ves_ts_len  = per_ves_ts_len_tanker if is_tanker else per_ves_ts_len_non_tanker\n",
    "    per_ves_ts_len.append(len(vdf))\n",
    "    sorted_ts = vdf['start_time'].sort_values().values\n",
    "    deltas = sorted_ts[1:] - sorted_ts[:-1]\n",
    "    if is_tanker:\n",
    "        overall_deltas_tanker = np.append(overall_deltas_tanker, deltas.astype('timedelta64[m]').astype('int'))\n",
    "    else:\n",
    "        overall_deltas_non_tanker = np.append(overall_deltas_non_tanker, deltas.astype('timedelta64[m]').astype('int'))\n",
    "    per_ves_ts_duration = per_ves_ts_duration_tanker if is_tanker else per_ves_ts_duration_non_tanker\n",
    "    per_ves_ts_duration.append(sorted_ts[-1]-sorted_ts[0])\n",
    "    "
   ]
  },
  {
   "cell_type": "code",
   "execution_count": 289,
   "metadata": {},
   "outputs": [
    {
     "data": {
      "text/plain": [
       "array([19337., 44039., 32045., ...,  2005.,  6043.,  6815.])"
      ]
     },
     "execution_count": 289,
     "metadata": {},
     "output_type": "execute_result"
    }
   ],
   "source": [
    "overall_deltas_tanker"
   ]
  },
  {
   "cell_type": "code",
   "execution_count": 273,
   "metadata": {},
   "outputs": [
    {
     "data": {
      "image/png": "[encoded data removed]",
      "text/plain": [
       "<Figure size 432x288 with 1 Axes>"
      ]
     },
     "metadata": {
      "needs_background": "light"
     },
     "output_type": "display_data"
    }
   ],
   "source": [
    "fig_ts_len, ax_ts_len = plt.subplots()\n",
    "ax_ts_len.hist(per_ves_ts_len_tanker, bins=np.arange(0,1000,10), label='Tanker', density=True);\n",
    "ax_ts_len.hist(per_ves_ts_len_non_tanker, bins=np.arange(0,1000,10), label='Non Tanker', density=True);"
   ]
  },
  {
   "cell_type": "code",
   "execution_count": 262,
   "metadata": {},
   "outputs": [
    {
     "data": {
      "text/plain": [
       "1"
      ]
     },
     "execution_count": 262,
     "metadata": {},
     "output_type": "execute_result"
    }
   ],
   "source": [
    "min(per_ves_ts_len)"
   ]
  },
  {
   "cell_type": "code",
   "execution_count": 249,
   "metadata": {},
   "outputs": [
    {
     "data": {
      "text/plain": [
       "array([250356, 148235, 252381, ...,   1542,      0,      0])"
      ]
     },
     "execution_count": 249,
     "metadata": {},
     "output_type": "execute_result"
    }
   ],
   "source": [
    "np.array(per_ves_ts_duration).astype('timedelta64[m]').astype('int')"
   ]
  },
  {
   "cell_type": "code",
   "execution_count": 294,
   "metadata": {},
   "outputs": [
    {
     "data": {
      "text/plain": [
       "<matplotlib.legend.Legend at 0xe7ac8dd088>"
      ]
     },
     "execution_count": 294,
     "metadata": {},
     "output_type": "execute_result"
    },
    {
     "data": {
      "image/png": "[encoded data removed]",
      "text/plain": [
       "<Figure size 432x288 with 1 Axes>"
      ]
     },
     "metadata": {
      "needs_background": "light"
     },
     "output_type": "display_data"
    }
   ],
   "source": [
    "fig_ts_duration, ax_ts_duration = plt.subplots()\n",
    "ax_ts_duration.hist(np.array(per_ves_ts_duration_non_tanker).astype('timedelta64[m]').astype('int'), label='Non Tanker', density=True, alpha=0.5);\n",
    "ax_ts_duration.hist(np.array(per_ves_ts_duration_tanker).astype('timedelta64[m]').astype('int'), label='Tanker', density=True, alpha=0.5);\n",
    "\n",
    "ax_ts_duration.legend()\n",
    "# plt.hist(np.array(per_ves_ts_duration).astype('timedelta64[m]').astype('int'), density=True);"
   ]
  },
  {
   "cell_type": "code",
   "execution_count": 295,
   "metadata": {},
   "outputs": [
    {
     "data": {
      "text/plain": [
       "<matplotlib.legend.Legend at 0xe7ac64fb88>"
      ]
     },
     "execution_count": 295,
     "metadata": {},
     "output_type": "execute_result"
    },
    {
     "data": {
      "image/png": "[encoded data removed]",
      "text/plain": [
       "<Figure size 432x288 with 1 Axes>"
      ]
     },
     "metadata": {
      "needs_background": "light"
     },
     "output_type": "display_data"
    }
   ],
   "source": [
    "fig_ts_deltas, ax_ts_deltas = plt.subplots()\n",
    "ax_ts_deltas.hist(overall_deltas_non_tanker,  label='Non Tanker', density=True, bins=np.arange(0,10000,100), alpha=0.5 ); \n",
    "ax_ts_deltas.hist(overall_deltas_tanker,  label='Tanker', density=True, bins=np.arange(0,10000,100), alpha=0.5 ); \n",
    "ax_ts_deltas.legend()"
   ]
  },
  {
   "cell_type": "code",
   "execution_count": 298,
   "metadata": {},
   "outputs": [],
   "source": [
    "tanker_grouped_lst = list(tanker_grouped)\n",
    "tanker_lst_lens = [len(vdf) for vid,vdf in tanker_grouped_lst]"
   ]
  },
  {
   "cell_type": "code",
   "execution_count": 302,
   "metadata": {},
   "outputs": [
    {
     "data": {
      "text/plain": [
       "2741"
      ]
     },
     "execution_count": 302,
     "metadata": {},
     "output_type": "execute_result"
    }
   ],
   "source": [
    "np.argmax(tanker_lst_lens)"
   ]
  },
  {
   "cell_type": "code",
   "execution_count": 300,
   "metadata": {},
   "outputs": [
    {
     "data": {
      "text/plain": [
       "2898"
      ]
     },
     "execution_count": 300,
     "metadata": {},
     "output_type": "execute_result"
    }
   ],
   "source": [
    "len(tanker_lst_lens)"
   ]
  },
  {
   "cell_type": "code",
   "execution_count": 313,
   "metadata": {},
   "outputs": [],
   "source": [
    "# tanker_grouped_lst[2741][1].to_csv(\"tanker_2741.csv\")\n",
    "len(pd.unique(tanker_grouped_lst[2741][1]['port_id']))\n",
    "curr_tanker_sorted_df = tanker_grouped_lst[2741][1].sort_values('start_time')\n",
    "curr_tanker_sorted_df.to_csv(\"tanker_2741.csv\")"
   ]
  },
  {
   "cell_type": "code",
   "execution_count": 316,
   "metadata": {},
   "outputs": [],
   "source": [
    "non_tanker_grouped_lst = list(non_tanker_grouped)\n",
    "non_tanker_lst_lens = [len(vdf) for vid,vdf in non_tanker_grouped_lst]"
   ]
  },
  {
   "cell_type": "code",
   "execution_count": 317,
   "metadata": {},
   "outputs": [
    {
     "data": {
      "text/plain": [
       "9933"
      ]
     },
     "execution_count": 317,
     "metadata": {},
     "output_type": "execute_result"
    }
   ],
   "source": [
    "np.argmax(non_tanker_lst_lens)"
   ]
  },
  {
   "cell_type": "code",
   "execution_count": 322,
   "metadata": {},
   "outputs": [],
   "source": [
    "curr_non_tanker_sorted_df = non_tanker_grouped_lst[9933][1].sort_values('start_time')\n",
    "curr_non_tanker_sorted_df.to_csv(\"non_tanker_9933.csv\")"
   ]
  },
  {
   "cell_type": "markdown",
   "metadata": {},
   "source": [
    "**Vess 56d96c11e4b0436ba6e245ca is a passenger vessel - it just travels between two ports: Cowes Harbour and southhampton**"
   ]
  },
  {
   "cell_type": "code",
   "execution_count": 24,
   "metadata": {},
   "outputs": [],
   "source": [
    "\n",
    "vess_by_type = defaultdict(list)\n",
    "for vid,vdf in train_orig_grouped:\n",
    "    vess_by_type[vdf.iloc[0]['type']].append(vdf)\n",
    "\n"
   ]
  },
  {
   "cell_type": "code",
   "execution_count": 72,
   "metadata": {},
   "outputs": [
    {
     "name": "stderr",
     "output_type": "stream",
     "text": [
      "C:\\Users\\Matan\\anaconda3\\lib\\site-packages\\ipykernel_launcher.py:1: DeprecationWarning:\n",
      "\n",
      "The default dtype for empty Series will be 'object' instead of 'float64' in a future version. Specify a dtype explicitly to silence this warning.\n",
      "\n",
      "C:\\Users\\Matan\\anaconda3\\lib\\site-packages\\numpy\\lib\\histograms.py:908: RuntimeWarning:\n",
      "\n",
      "invalid value encountered in true_divide\n",
      "\n"
     ]
    },
    {
     "data": {
      "text/plain": [
       "<matplotlib.axes._subplots.AxesSubplot at 0x1b3bcf9608>"
      ]
     },
     "execution_count": 72,
     "metadata": {},
     "output_type": "execute_result"
    },
    {
     "data": {
      "image/png": "[encoded data removed]",
      "text/plain": [
       "<Figure size 432x288 with 1 Axes>"
      ]
     },
     "metadata": {
      "needs_background": "light"
     },
     "output_type": "display_data"
    }
   ],
   "source": [
    "num_locations_per_type = { k : pd.Series( [len(np.unique(vdf['port_id'])) for vdf in vess_by_type[k]]) for k in vess_by_type}\n",
    "pd.DataFrame(num_locations_per_type).plot.hist(alpha=0.25, density=True, bins=bins_for_num_locations)"
   ]
  },
  {
   "cell_type": "code",
   "execution_count": 47,
   "metadata": {},
   "outputs": [],
   "source": [
    "non_tanker_num_locations = pd.Series(np.concatenate([loc_ser.values for k,loc_ser in  num_locations_per_type.items() if k != 'Oil Tanker' ]))"
   ]
  },
  {
   "cell_type": "code",
   "execution_count": 74,
   "metadata": {},
   "outputs": [
    {
     "data": {
      "text/plain": [
       "<matplotlib.axes._subplots.AxesSubplot at 0x1b3c23f808>"
      ]
     },
     "execution_count": 74,
     "metadata": {},
     "output_type": "execute_result"
    },
    {
     "data": {
      "image/png": "[encoded data removed]",
      "text/plain": [
       "<Figure size 432x288 with 1 Axes>"
      ]
     },
     "metadata": {
      "needs_background": "light"
     },
     "output_type": "display_data"
    }
   ],
   "source": [
    "pd.DataFrame({\"tanker\": num_locations_per_type['Oil Tanker'],  \"non-tanker\": non_tanker_num_locations }).plot.\\\n",
    "hist(alpha=0.2, density=True, bins=bins_for_num_locations)"
   ]
  },
  {
   "cell_type": "code",
   "execution_count": 44,
   "metadata": {},
   "outputs": [
    {
     "data": {
      "text/plain": [
       "18224"
      ]
     },
     "execution_count": 44,
     "metadata": {},
     "output_type": "execute_result"
    }
   ],
   "source": [
    "len(non_tanker_num_locations)"
   ]
  },
  {
   "cell_type": "code",
   "execution_count": 54,
   "metadata": {},
   "outputs": [
    {
     "data": {
      "text/plain": [
       "21122"
      ]
     },
     "execution_count": 54,
     "metadata": {},
     "output_type": "execute_result"
    }
   ],
   "source": [
    "len(non_tanker_num_locations.index.unique()) + len(num_locations_per_type['Oil Tanker'])"
   ]
  },
  {
   "cell_type": "code",
   "execution_count": 53,
   "metadata": {},
   "outputs": [
    {
     "data": {
      "text/plain": [
       "21122"
      ]
     },
     "execution_count": 53,
     "metadata": {},
     "output_type": "execute_result"
    }
   ],
   "source": [
    "sum([len(s) for s in num_locations_per_type.values() ])"
   ]
  },
  {
   "cell_type": "code",
   "execution_count": 62,
   "metadata": {},
   "outputs": [],
   "source": [
    "bins_for_num_locations = np.arange(0, 50, 1)"
   ]
  },
  {
   "cell_type": "code",
   "execution_count": 63,
   "metadata": {},
   "outputs": [
    {
     "data": {
      "text/plain": [
       "(array([0.        , 0.05248619, 0.05904696, 0.06664365, 0.08425414,\n",
       "        0.08149171, 0.07458564, 0.07872928, 0.06975138, 0.0621547 ,\n",
       "        0.04868785, 0.05006906, 0.03487569, 0.03176796, 0.03004144,\n",
       "        0.02279006, 0.0179558 , 0.01864641, 0.01277624, 0.01104972,\n",
       "        0.01139503, 0.01104972, 0.00483425, 0.00828729, 0.0086326 ,\n",
       "        0.00587017, 0.00517956, 0.00517956, 0.00414365, 0.00241713,\n",
       "        0.00414365, 0.00207182, 0.00241713, 0.00172652, 0.00241713,\n",
       "        0.00310773, 0.00241713, 0.00069061, 0.00172652, 0.0003453 ,\n",
       "        0.00069061, 0.0003453 , 0.00138122, 0.        , 0.0003453 ,\n",
       "        0.0003453 , 0.        , 0.0003453 , 0.00069061]),\n",
       " array([ 0,  1,  2,  3,  4,  5,  6,  7,  8,  9, 10, 11, 12, 13, 14, 15, 16,\n",
       "        17, 18, 19, 20, 21, 22, 23, 24, 25, 26, 27, 28, 29, 30, 31, 32, 33,\n",
       "        34, 35, 36, 37, 38, 39, 40, 41, 42, 43, 44, 45, 46, 47, 48, 49]),\n",
       " <a list of 49 Patch objects>)"
      ]
     },
     "execution_count": 63,
     "metadata": {},
     "output_type": "execute_result"
    },
    {
     "data": {
      "image/png": "[encoded data removed]",
      "text/plain": [
       "<Figure size 432x288 with 1 Axes>"
      ]
     },
     "metadata": {
      "needs_background": "light"
     },
     "output_type": "display_data"
    }
   ],
   "source": [
    "tanker_num_locations = [len(np.unique(vdf['port_id'])) for vdf in vess_by_type['Oil Tanker']]\n",
    "plt.hist(tanker_num_locations, density=True, bins=bins_for_num_locations)"
   ]
  },
  {
   "cell_type": "code",
   "execution_count": 38,
   "metadata": {},
   "outputs": [],
   "source": [
    "passengers_num_locations = [len(np.unique(vdf['port_id'])) for vdf in vess_by_type['Passenger Vessel']]"
   ]
  },
  {
   "cell_type": "code",
   "execution_count": 66,
   "metadata": {},
   "outputs": [
    {
     "data": {
      "text/plain": [
       "(array([0.        , 0.14226376, 0.18795431, 0.14018692, 0.08515057,\n",
       "        0.06022845, 0.04465213, 0.04049844, 0.0238837 , 0.02076843,\n",
       "        0.01973001, 0.00519211, 0.01038422, 0.00934579, 0.01557632,\n",
       "        0.0145379 , 0.00726895, 0.01038422, 0.01349948, 0.00415369,\n",
       "        0.00726895, 0.01142264, 0.00830737, 0.01142264, 0.00415369,\n",
       "        0.00519211, 0.00934579, 0.00934579, 0.00623053, 0.00934579,\n",
       "        0.00207684, 0.00623053, 0.00311526, 0.00519211, 0.00415369,\n",
       "        0.00207684, 0.00311526, 0.00311526, 0.00311526, 0.00207684,\n",
       "        0.00519211, 0.00207684, 0.00311526, 0.00623053, 0.00207684,\n",
       "        0.00415369, 0.00103842, 0.00103842, 0.00311526]),\n",
       " array([ 0,  1,  2,  3,  4,  5,  6,  7,  8,  9, 10, 11, 12, 13, 14, 15, 16,\n",
       "        17, 18, 19, 20, 21, 22, 23, 24, 25, 26, 27, 28, 29, 30, 31, 32, 33,\n",
       "        34, 35, 36, 37, 38, 39, 40, 41, 42, 43, 44, 45, 46, 47, 48, 49]),\n",
       " <a list of 49 Patch objects>)"
      ]
     },
     "execution_count": 66,
     "metadata": {},
     "output_type": "execute_result"
    },
    {
     "data": {
      "image/png": "[encoded data removed]",
      "text/plain": [
       "<Figure size 432x288 with 1 Axes>"
      ]
     },
     "metadata": {
      "needs_background": "light"
     },
     "output_type": "display_data"
    }
   ],
   "source": [
    "plt.hist(passengers_num_locations, bins=bins_for_num_locations, density=True)"
   ]
  },
  {
   "cell_type": "code",
   "execution_count": 67,
   "metadata": {},
   "outputs": [
    {
     "data": {
      "text/plain": [
       "(array([0.        , 0.21554661, 0.21275937, 0.14183958, 0.11117993,\n",
       "        0.06720347, 0.0470734 , 0.03871168, 0.03065965, 0.02880149,\n",
       "        0.01951068, 0.0142459 , 0.01238774, 0.00836172, 0.00867142,\n",
       "        0.00836172, 0.00495509, 0.00495509, 0.00526479, 0.00371632,\n",
       "        0.00309693, 0.00371632, 0.00185816, 0.00123877, 0.00123877,\n",
       "        0.00030969, 0.00185816, 0.00061939, 0.        , 0.        ,\n",
       "        0.        , 0.00030969, 0.00030969, 0.        , 0.00092908,\n",
       "        0.        , 0.        , 0.        , 0.        , 0.00030969,\n",
       "        0.        , 0.        , 0.        , 0.        , 0.        ,\n",
       "        0.        , 0.        , 0.        , 0.        ]),\n",
       " array([ 0,  1,  2,  3,  4,  5,  6,  7,  8,  9, 10, 11, 12, 13, 14, 15, 16,\n",
       "        17, 18, 19, 20, 21, 22, 23, 24, 25, 26, 27, 28, 29, 30, 31, 32, 33,\n",
       "        34, 35, 36, 37, 38, 39, 40, 41, 42, 43, 44, 45, 46, 47, 48, 49]),\n",
       " <a list of 49 Patch objects>)"
      ]
     },
     "execution_count": 67,
     "metadata": {},
     "output_type": "execute_result"
    },
    {
     "data": {
      "image/png": "[encoded data removed]",
      "text/plain": [
       "<Figure size 432x288 with 1 Axes>"
      ]
     },
     "metadata": {
      "needs_background": "light"
     },
     "output_type": "display_data"
    }
   ],
   "source": [
    "tug_num_locations = [len(np.unique(vdf['port_id'])) for vdf in vess_by_type['Tug']]\n",
    "plt.hist(tug_num_locations, bins=bins_for_num_locations, density=True)"
   ]
  },
  {
   "cell_type": "code",
   "execution_count": 68,
   "metadata": {},
   "outputs": [
    {
     "data": {
      "text/plain": [
       "(array([0.        , 0.35604607, 0.25335893, 0.13627639, 0.07101727,\n",
       "        0.05278311, 0.04174664, 0.01775432, 0.01727447, 0.01007678,\n",
       "        0.01007678, 0.00767754, 0.00863724, 0.00479846, 0.00239923,\n",
       "        0.00431862, 0.00191939, 0.00095969, 0.00143954, 0.00095969,\n",
       "        0.        , 0.        , 0.        , 0.        , 0.00047985,\n",
       "        0.        , 0.        , 0.        , 0.        , 0.        ,\n",
       "        0.        , 0.        , 0.        , 0.        , 0.        ,\n",
       "        0.        , 0.        , 0.        , 0.        , 0.        ,\n",
       "        0.        , 0.        , 0.        , 0.        , 0.        ,\n",
       "        0.        , 0.        , 0.        , 0.        ]),\n",
       " array([ 0,  1,  2,  3,  4,  5,  6,  7,  8,  9, 10, 11, 12, 13, 14, 15, 16,\n",
       "        17, 18, 19, 20, 21, 22, 23, 24, 25, 26, 27, 28, 29, 30, 31, 32, 33,\n",
       "        34, 35, 36, 37, 38, 39, 40, 41, 42, 43, 44, 45, 46, 47, 48, 49]),\n",
       " <a list of 49 Patch objects>)"
      ]
     },
     "execution_count": 68,
     "metadata": {},
     "output_type": "execute_result"
    },
    {
     "data": {
      "image/png": "[encoded data removed]",
      "text/plain": [
       "<Figure size 432x288 with 1 Axes>"
      ]
     },
     "metadata": {
      "needs_background": "light"
     },
     "output_type": "display_data"
    }
   ],
   "source": [
    "plt.hist([len(np.unique(vdf['port_id'])) for vdf in vess_by_type['Fishing Vessel']], density=True, bins=bins_for_num_locations)"
   ]
  },
  {
   "cell_type": "code",
   "execution_count": 69,
   "metadata": {},
   "outputs": [
    {
     "data": {
      "text/plain": [
       "(array([0.        , 0.03185407, 0.0358018 , 0.04424176, 0.06180234,\n",
       "        0.06452491, 0.07160359, 0.07405391, 0.07582358, 0.07391778,\n",
       "        0.0649333 , 0.06575007, 0.06084944, 0.05417915, 0.04696433,\n",
       "        0.03906888, 0.0319902 , 0.02613667, 0.02382249, 0.01306834,\n",
       "        0.01075415, 0.00748707, 0.00558127, 0.00435611, 0.00299483,\n",
       "        0.00204193, 0.00108903, 0.00081677, 0.00081677, 0.00081677,\n",
       "        0.00040839, 0.00040839, 0.00054451, 0.00054451, 0.00027226,\n",
       "        0.        , 0.00013613, 0.00013613, 0.        , 0.00027226,\n",
       "        0.        , 0.        , 0.        , 0.        , 0.        ,\n",
       "        0.00013613, 0.        , 0.        , 0.        ]),\n",
       " array([ 0,  1,  2,  3,  4,  5,  6,  7,  8,  9, 10, 11, 12, 13, 14, 15, 16,\n",
       "        17, 18, 19, 20, 21, 22, 23, 24, 25, 26, 27, 28, 29, 30, 31, 32, 33,\n",
       "        34, 35, 36, 37, 38, 39, 40, 41, 42, 43, 44, 45, 46, 47, 48, 49]),\n",
       " <a list of 49 Patch objects>)"
      ]
     },
     "execution_count": 69,
     "metadata": {},
     "output_type": "execute_result"
    },
    {
     "data": {
      "image/png": "[encoded data removed]",
      "text/plain": [
       "<Figure size 432x288 with 1 Axes>"
      ]
     },
     "metadata": {
      "needs_background": "light"
     },
     "output_type": "display_data"
    }
   ],
   "source": [
    "plt.hist([len(np.unique(vdf['port_id'])) for vdf in vess_by_type['Bulk Carrier']], density=True, bins=bins_for_num_locations)"
   ]
  },
  {
   "cell_type": "code",
   "execution_count": 70,
   "metadata": {},
   "outputs": [
    {
     "data": {
      "text/plain": [
       "(array([0.        , 0.01658826, 0.02005447, 0.02698688, 0.04184204,\n",
       "        0.04976479, 0.05917306, 0.05644962, 0.05471651, 0.0514979 ,\n",
       "        0.06016341, 0.04926962, 0.05793513, 0.05446893, 0.05471651,\n",
       "        0.05545927, 0.04976479, 0.03490963, 0.03614756, 0.03119584,\n",
       "        0.02352067, 0.02822481, 0.01634068, 0.01535033, 0.01089379,\n",
       "        0.0089131 , 0.00569448, 0.00866551, 0.00668482, 0.00495172,\n",
       "        0.00198069, 0.0017331 , 0.00123793, 0.0017331 , 0.0017331 ,\n",
       "        0.        , 0.        , 0.        , 0.00049517, 0.00024759,\n",
       "        0.        , 0.00024759, 0.        , 0.        , 0.00024759,\n",
       "        0.        , 0.        , 0.        , 0.        ]),\n",
       " array([ 0,  1,  2,  3,  4,  5,  6,  7,  8,  9, 10, 11, 12, 13, 14, 15, 16,\n",
       "        17, 18, 19, 20, 21, 22, 23, 24, 25, 26, 27, 28, 29, 30, 31, 32, 33,\n",
       "        34, 35, 36, 37, 38, 39, 40, 41, 42, 43, 44, 45, 46, 47, 48, 49]),\n",
       " <a list of 49 Patch objects>)"
      ]
     },
     "execution_count": 70,
     "metadata": {},
     "output_type": "execute_result"
    },
    {
     "data": {
      "image/png": "[encoded data removed]",
      "text/plain": [
       "<Figure size 432x288 with 1 Axes>"
      ]
     },
     "metadata": {
      "needs_background": "light"
     },
     "output_type": "display_data"
    }
   ],
   "source": [
    "plt.hist([len(np.unique(vdf['port_id'])) for vdf in vess_by_type['Container Vessel']], density=True, bins=bins_for_num_locations)"
   ]
  },
  {
   "cell_type": "code",
   "execution_count": 13,
   "metadata": {},
   "outputs": [
    {
     "data": {
      "text/plain": [
       "array(['Bulk Carrier', 'Container Vessel', 'Fishing Vessel', 'Oil Tanker',\n",
       "       'Passenger Vessel', 'Reefer', 'Tug'], dtype=object)"
      ]
     },
     "execution_count": 13,
     "metadata": {},
     "output_type": "execute_result"
    }
   ],
   "source": [
    "np.unique(train_vessels_labels_orig.type)"
   ]
  },
  {
   "cell_type": "markdown",
   "metadata": {},
   "source": [
    "# Features engineering"
   ]
  },
  {
   "cell_type": "code",
   "execution_count": 14,
   "metadata": {},
   "outputs": [],
   "source": [
    "#Plot a vessel timeseries\n",
    "def plot_vessel_timeline(vessel_id, extracted_features = None, plot_ax = None):\n",
    "    if plot_ax is None:\n",
    "        fig_p, ax_p = plt.subplots()\n",
    "    else:\n",
    "        ax_p = plot_ax\n",
    "    \n",
    "    curr_patient_df = train_orig_grouped.get_group(vessel_id)\n",
    "    first_timestamp = curr_patient_df['timestamp'].iloc[0]\n",
    "    curr_patient_df.index = list(map(lambda ts : (ts -first_timestamp).total_seconds()*1000, curr_patient_df['timestamp']))\n",
    "    curr_patient_df[['measurement_x', 'measurement_y', 'measurement_z']].plot(ax=ax_p)\n",
    "    if extracted_features is not None:\n",
    "        coefs = extracted_features[:9].reshape(3,3).T\n",
    "        x_regr = curr_patient_df.index.values\n",
    "        x_mat = np.array([np.ones(len(x_regr)), x_regr, x_regr*x_regr ]).T\n",
    "        curr_patient_df_approx = pd.DataFrame( x_mat.dot(coefs), \n",
    "                                              columns = ['measurement_x_regr', 'measurement_y_regr', 'measurement_z_regr'], \n",
    "                                                index = curr_patient_df.index\n",
    "                                             )\n",
    "        curr_patient_df_approx[['measurement_x_regr', 'measurement_y_regr', 'measurement_z_regr']].plot(ax=ax_p, style='--')\n",
    "    ax_p.set_title(f\"Patient {patient_id} timeseries\")\n",
    "    ax_p.set_xlabel(\"time from first timestamp (ms)\")\n",
    "    return len(curr_patient_df), ax_p\n"
   ]
  },
  {
   "cell_type": "code",
   "execution_count": 15,
   "metadata": {},
   "outputs": [
    {
     "ename": "SyntaxError",
     "evalue": "invalid syntax (<ipython-input-15-eaa33083f872>, line 1)",
     "output_type": "error",
     "traceback": [
      "\u001b[1;36m  File \u001b[1;32m\"<ipython-input-15-eaa33083f872>\"\u001b[1;36m, line \u001b[1;32m1\u001b[0m\n\u001b[1;33m    def extract_time_series\u001b[0m\n\u001b[1;37m                           ^\u001b[0m\n\u001b[1;31mSyntaxError\u001b[0m\u001b[1;31m:\u001b[0m invalid syntax\n"
     ]
    }
   ],
   "source": [
    "def extract_time_series\n",
    "\n",
    "#Converts the \n",
    "def extract_features(in_df: pd.DataFrame) -> pd.DataFrame:\n",
    "    #TODO: input sanity checks   \n",
    "    X = []\n",
    "    y = []\n",
    "    iter_over = in_dfs.groupby('patient_id') if type(in_dfs) ==  pd.DataFrame else in_dfs\n",
    "    for _,patient_df in iter_over:\n",
    "        extracted_features = extract_single_patient_features( patient_df, extraction_scheme, ts_handling_scheme, add_avg_dists )\n",
    "     \n",
    "#         print(f\"Appending features of shape {extracted_features.shape}\")\n",
    "        X.append(extracted_features )\n",
    "#         print(np.array(X).shape)\n",
    "#         if len(X) == 388:\n",
    "#             set_trace()\n",
    "        if 'label' in patient_df:\n",
    "            y.append(patient_df['label'].iloc[0])\n",
    "    features_names = ['meas_{}_a{}'.format(i,j) for i in ['x', 'y', 'z'] for j in range(3)]\n",
    "    intersection_names = ['intersect_x_y_1', 'intersect_x_y_2', 'intersect_x_z_1', 'intersect_x_z_2',  'intersect_y_z_1', 'intersect_y_z_2']\n",
    "    avg_dist_names = ['avg_dist_x_y', 'avg_dist_x_z', 'avg_dist_y_z']\n",
    "    \n",
    "    all_features_names = features_names + intersection_names\n",
    "    if add_avg_dists:\n",
    "        all_features_names += avg_dist_names\n",
    "    \n",
    "    return np.array(X), np.array(y),  all_features_names"
   ]
  },
  {
   "cell_type": "markdown",
   "metadata": {},
   "source": [
    "# Some experiments #"
   ]
  },
  {
   "cell_type": "code",
   "execution_count": 16,
   "metadata": {},
   "outputs": [],
   "source": [
    "import gmplot\n",
    "\n",
    "# Create the map plotter:\n",
    "apikey = '' # (your API key here)\n",
    "gmap = gmplot.GoogleMapPlotter(37.766956, -122.448481, 14, apikey=apikey)\n",
    "\n",
    "# Mark a hidden gem:\n",
    "gmap.marker(37.770776, -122.461689, color='cornflowerblue')\n",
    "\n",
    "# Highlight some attractions:\n",
    "attractions_lats, attractions_lngs = zip(*[\n",
    "    (37.769901, -122.498331),\n",
    "    (37.768645, -122.475328),\n",
    "    (37.771478, -122.468677),\n",
    "    (37.769867, -122.466102),\n",
    "    (37.767187, -122.467496),\n",
    "    (37.770104, -122.470436)\n",
    "])\n",
    "gmap.scatter(attractions_lats, attractions_lngs, color='#3B0B39', size=40, marker=False)\n",
    "\n",
    "# Outline the Golden Gate Park:\n",
    "golden_gate_park = zip(*[\n",
    "    (37.771269, -122.511015),\n",
    "    (37.773495, -122.464830),\n",
    "    (37.774797, -122.454538),\n",
    "    (37.771988, -122.454018),\n",
    "    (37.773646, -122.440979),\n",
    "    (37.772742, -122.440797),\n",
    "    (37.771096, -122.453889),\n",
    "    (37.768669, -122.453518),\n",
    "    (37.766227, -122.460213),\n",
    "    (37.764028, -122.510347)\n",
    "])\n",
    "gmap.polygon(*golden_gate_park, color='cornflowerblue', edge_width=10)\n",
    "\n",
    "# Draw the map to an HTML file:\n",
    "gmap.draw('map.html')"
   ]
  },
  {
   "cell_type": "code",
   "execution_count": 17,
   "metadata": {},
   "outputs": [
    {
     "data": {
      "text/plain": [
       "0"
      ]
     },
     "execution_count": 17,
     "metadata": {},
     "output_type": "execute_result"
    }
   ],
   "source": [
    "import os\n",
    "os.system('map.html')"
   ]
  },
  {
   "cell_type": "markdown",
   "metadata": {},
   "source": [
    "TODO:\n",
    "    * IMPORTANT!! Remove duplicates!!!\n",
    "    * Distance and time gap between successive ports.\n",
    "    * Has visited a single non-tanker port.\n",
    "    * Typical duration distribution: per tanker, per port. percentiles of distribution as features."
   ]
  },
  {
   "cell_type": "code",
   "execution_count": null,
   "metadata": {},
   "outputs": [],
   "source": []
  },
  {
   "cell_type": "code",
   "execution_count": null,
   "metadata": {},
   "outputs": [],
   "source": []
  },
  {
   "cell_type": "code",
   "execution_count": null,
   "metadata": {},
   "outputs": [],
   "source": []
  },
  {
   "cell_type": "code",
   "execution_count": null,
   "metadata": {},
   "outputs": [],
   "source": []
  },
  {
   "cell_type": "code",
   "execution_count": null,
   "metadata": {},
   "outputs": [],
   "source": []
  },
  {
   "cell_type": "code",
   "execution_count": null,
   "metadata": {},
   "outputs": [],
   "source": []
  },
  {
   "cell_type": "code",
   "execution_count": null,
   "metadata": {},
   "outputs": [],
   "source": []
  },
  {
   "cell_type": "code",
   "execution_count": null,
   "metadata": {},
   "outputs": [],
   "source": []
  },
  {
   "cell_type": "code",
   "execution_count": null,
   "metadata": {},
   "outputs": [],
   "source": []
  },
  {
   "cell_type": "code",
   "execution_count": null,
   "metadata": {},
   "outputs": [],
   "source": []
  },
  {
   "cell_type": "code",
   "execution_count": null,
   "metadata": {},
   "outputs": [],
   "source": []
  },
  {
   "cell_type": "code",
   "execution_count": null,
   "metadata": {},
   "outputs": [],
   "source": []
  },
  {
   "cell_type": "code",
   "execution_count": null,
   "metadata": {},
   "outputs": [],
   "source": []
  },
  {
   "cell_type": "code",
   "execution_count": null,
   "metadata": {},
   "outputs": [],
   "source": []
  },
  {
   "cell_type": "code",
   "execution_count": null,
   "metadata": {},
   "outputs": [],
   "source": []
  },
  {
   "cell_type": "code",
   "execution_count": null,
   "metadata": {},
   "outputs": [],
   "source": []
  },
  {
   "cell_type": "code",
   "execution_count": null,
   "metadata": {},
   "outputs": [],
   "source": []
  },
  {
   "cell_type": "code",
   "execution_count": null,
   "metadata": {},
   "outputs": [],
   "source": []
  },
  {
   "cell_type": "code",
   "execution_count": null,
   "metadata": {},
   "outputs": [],
   "source": []
  },
  {
   "cell_type": "code",
   "execution_count": null,
   "metadata": {},
   "outputs": [],
   "source": []
  },
  {
   "cell_type": "code",
   "execution_count": null,
   "metadata": {},
   "outputs": [],
   "source": []
  },
  {
   "cell_type": "code",
   "execution_count": null,
   "metadata": {},
   "outputs": [],
   "source": []
  },
  {
   "cell_type": "code",
   "execution_count": null,
   "metadata": {},
   "outputs": [],
   "source": []
  },
  {
   "cell_type": "code",
   "execution_count": null,
   "metadata": {},
   "outputs": [],
   "source": []
  },
  {
   "cell_type": "code",
   "execution_count": null,
   "metadata": {},
   "outputs": [],
   "source": []
  },
  {
   "cell_type": "code",
   "execution_count": null,
   "metadata": {},
   "outputs": [],
   "source": []
  },
  {
   "cell_type": "code",
   "execution_count": null,
   "metadata": {},
   "outputs": [],
   "source": []
  },
  {
   "cell_type": "code",
   "execution_count": null,
   "metadata": {},
   "outputs": [],
   "source": []
  },
  {
   "cell_type": "code",
   "execution_count": null,
   "metadata": {},
   "outputs": [],
   "source": []
  },
  {
   "cell_type": "code",
   "execution_count": null,
   "metadata": {},
   "outputs": [],
   "source": []
  },
  {
   "cell_type": "code",
   "execution_count": null,
   "metadata": {},
   "outputs": [],
   "source": []
  },
  {
   "cell_type": "code",
   "execution_count": null,
   "metadata": {},
   "outputs": [],
   "source": []
  },
  {
   "cell_type": "code",
   "execution_count": null,
   "metadata": {},
   "outputs": [],
   "source": []
  },
  {
   "cell_type": "code",
   "execution_count": null,
   "metadata": {},
   "outputs": [],
   "source": []
  },
  {
   "cell_type": "code",
   "execution_count": null,
   "metadata": {},
   "outputs": [],
   "source": []
  },
  {
   "cell_type": "code",
   "execution_count": null,
   "metadata": {},
   "outputs": [],
   "source": []
  },
  {
   "cell_type": "code",
   "execution_count": null,
   "metadata": {},
   "outputs": [],
   "source": []
  },
  {
   "cell_type": "code",
   "execution_count": null,
   "metadata": {},
   "outputs": [],
   "source": []
  },
  {
   "cell_type": "code",
   "execution_count": null,
   "metadata": {},
   "outputs": [],
   "source": []
  },
  {
   "cell_type": "code",
   "execution_count": null,
   "metadata": {},
   "outputs": [],
   "source": []
  },
  {
   "cell_type": "code",
   "execution_count": null,
   "metadata": {},
   "outputs": [],
   "source": []
  },
  {
   "cell_type": "code",
   "execution_count": null,
   "metadata": {},
   "outputs": [],
   "source": []
  },
  {
   "cell_type": "code",
   "execution_count": null,
   "metadata": {},
   "outputs": [],
   "source": []
  },
  {
   "cell_type": "code",
   "execution_count": null,
   "metadata": {},
   "outputs": [],
   "source": []
  },
  {
   "cell_type": "code",
   "execution_count": null,
   "metadata": {},
   "outputs": [],
   "source": []
  },
  {
   "cell_type": "code",
   "execution_count": null,
   "metadata": {},
   "outputs": [],
   "source": []
  },
  {
   "cell_type": "code",
   "execution_count": null,
   "metadata": {},
   "outputs": [],
   "source": []
  },
  {
   "cell_type": "code",
   "execution_count": null,
   "metadata": {},
   "outputs": [],
   "source": []
  },
  {
   "cell_type": "code",
   "execution_count": null,
   "metadata": {},
   "outputs": [],
   "source": []
  },
  {
   "cell_type": "code",
   "execution_count": null,
   "metadata": {},
   "outputs": [],
   "source": []
  },
  {
   "cell_type": "code",
   "execution_count": null,
   "metadata": {},
   "outputs": [],
   "source": []
  },
  {
   "cell_type": "code",
   "execution_count": null,
   "metadata": {},
   "outputs": [],
   "source": []
  },
  {
   "cell_type": "code",
   "execution_count": null,
   "metadata": {},
   "outputs": [],
   "source": []
  },
  {
   "cell_type": "code",
   "execution_count": null,
   "metadata": {},
   "outputs": [],
   "source": []
  },
  {
   "cell_type": "code",
   "execution_count": null,
   "metadata": {},
   "outputs": [],
   "source": []
  },
  {
   "cell_type": "code",
   "execution_count": null,
   "metadata": {},
   "outputs": [],
   "source": []
  },
  {
   "cell_type": "code",
   "execution_count": null,
   "metadata": {},
   "outputs": [],
   "source": []
  },
  {
   "cell_type": "code",
   "execution_count": null,
   "metadata": {},
   "outputs": [],
   "source": []
  },
  {
   "cell_type": "code",
   "execution_count": null,
   "metadata": {},
   "outputs": [],
   "source": []
  },
  {
   "cell_type": "code",
   "execution_count": null,
   "metadata": {},
   "outputs": [],
   "source": []
  },
  {
   "cell_type": "code",
   "execution_count": null,
   "metadata": {},
   "outputs": [],
   "source": []
  },
  {
   "cell_type": "code",
   "execution_count": null,
   "metadata": {},
   "outputs": [],
   "source": []
  },
  {
   "cell_type": "code",
   "execution_count": null,
   "metadata": {},
   "outputs": [],
   "source": []
  },
  {
   "cell_type": "code",
   "execution_count": null,
   "metadata": {},
   "outputs": [],
   "source": []
  },
  {
   "cell_type": "code",
   "execution_count": null,
   "metadata": {},
   "outputs": [],
   "source": []
  },
  {
   "cell_type": "code",
   "execution_count": null,
   "metadata": {},
   "outputs": [],
   "source": []
  },
  {
   "cell_type": "code",
   "execution_count": null,
   "metadata": {},
   "outputs": [],
   "source": []
  },
  {
   "cell_type": "code",
   "execution_count": null,
   "metadata": {},
   "outputs": [],
   "source": []
  },
  {
   "cell_type": "code",
   "execution_count": null,
   "metadata": {},
   "outputs": [],
   "source": []
  },
  {
   "cell_type": "code",
   "execution_count": null,
   "metadata": {},
   "outputs": [],
   "source": []
  },
  {
   "cell_type": "code",
   "execution_count": null,
   "metadata": {},
   "outputs": [],
   "source": []
  },
  {
   "cell_type": "code",
   "execution_count": null,
   "metadata": {},
   "outputs": [],
   "source": []
  }
 ],
 "metadata": {
  "kernelspec": {
   "display_name": "Python 3",
   "language": "python",
   "name": "python3"
  },
  "language_info": {
   "codemirror_mode": {
    "name": "ipython",
    "version": 3
   },
   "file_extension": ".py",
   "mimetype": "text/x-python",
   "name": "python",
   "nbconvert_exporter": "python",
   "pygments_lexer": "ipython3",
   "version": "3.7.6"
  },
  "toc": {
   "base_numbering": 1,
   "nav_menu": {},
   "number_sections": true,
   "sideBar": true,
   "skip_h1_title": false,
   "title_cell": "Table of Contents",
   "title_sidebar": "Contents",
   "toc_cell": false,
   "toc_position": {},
   "toc_section_display": true,
   "toc_window_display": true
  },
  "varInspector": {
   "cols": {
    "lenName": 16,
    "lenType": 16,
    "lenVar": 40
   },
   "kernels_config": {
    "python": {
     "delete_cmd_postfix": "",
     "delete_cmd_prefix": "del ",
     "library": "var_list.py",
     "varRefreshCmd": "print(var_dic_list())"
    },
    "r": {
     "delete_cmd_postfix": ") ",
     "delete_cmd_prefix": "rm(",
     "library": "var_list.r",
     "varRefreshCmd": "cat(var_dic_list()) "
    }
   },
   "position": {
    "height": "663px",
    "left": "1534px",
    "right": "20px",
    "top": "72px",
    "width": "340px"
   },
   "types_to_exclude": [
    "module",
    "function",
    "builtin_function_or_method",
    "instance",
    "_Feature"
   ],
   "window_display": true
  }
 },
 "nbformat": 4,
 "nbformat_minor": 4
}
