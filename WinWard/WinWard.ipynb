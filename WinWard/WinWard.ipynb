{
 "cells": [
  {
   "cell_type": "code",
   "execution_count": 20,
   "metadata": {},
   "outputs": [
    {
     "data": {
      "text/html": [
       "        <script type=\"text/javascript\">\n",
       "        window.PlotlyConfig = {MathJaxConfig: 'local'};\n",
       "        if (window.MathJax) {MathJax.Hub.Config({SVG: {font: \"STIX-Web\"}});}\n",
       "        if (typeof require !== 'undefined') {\n",
       "        require.undef(\"plotly\");\n",
       "        requirejs.config({\n",
       "            paths: {\n",
       "                'plotly': ['https://cdn.plot.ly/plotly-latest.min']\n",
       "            }\n",
       "        });\n",
       "        require(['plotly'], function(Plotly) {\n",
       "            window._Plotly = Plotly;\n",
       "        });\n",
       "        }\n",
       "        </script>\n",
       "        "
      ]
     },
     "metadata": {},
     "output_type": "display_data"
    }
   ],
   "source": [
    "import pandas as pd\n",
    "import os\n",
    "import sklearn\n",
    "from sklearn.linear_model import LinearRegression\n",
    "import numpy as np\n",
    "from pandas_summary import DataFrameSummary\n",
    "import pandas_profiling as pp\n",
    "import matplotlib.pyplot as plt\n",
    "from sklearn.linear_model import LogisticRegressionCV, LogisticRegression\n",
    "from sklearn import preprocessing\n",
    "from sklearn.metrics import classification_report, confusion_matrix\n",
    "from sklearn.model_selection import train_test_split\n",
    "import random\n",
    "from sklearn.svm import SVC\n",
    "from sklearn.model_selection import GridSearchCV, RandomizedSearchCV\n",
    "from sklearn.neighbors import KNeighborsClassifier\n",
    "from sklearn.tree import DecisionTreeClassifier\n",
    "import plotly.graph_objs as go\n",
    "from plotly.offline import iplot, init_notebook_mode\n",
    "init_notebook_mode(connected=True)\n",
    "from sklearn.ensemble import RandomForestClassifier\n",
    "from sklearn.metrics import f1_score\n",
    "import xgboost as xgb\n",
    "import graphviz \n",
    "from sklearn.neural_network import MLPClassifier\n",
    "from sklearn import tree\n",
    "from pandas.util import hash_pandas_object\n",
    "from sklearn.metrics import plot_confusion_matrix\n",
    "from sklearn.metrics import fbeta_score, make_scorer\n",
    "from sklearn.model_selection import RepeatedKFold, RepeatedStratifiedKFold, StratifiedKFold, cross_val_score\n",
    "import imblearn\n",
    "from imblearn.over_sampling import SMOTE\n",
    "from imblearn.under_sampling import RandomUnderSampler\n",
    "from imblearn.pipeline import Pipeline\n",
    "from typing import Optional, List, Any\n",
    "%matplotlib inline\n",
    "from IPython.core.debugger import set_trace\n",
    "from dateutil.parser import parse\n",
    "from collections import defaultdict\n",
    "from sklearn.preprocessing import OneHotEncoder\n",
    "import geopy.distance"
   ]
  },
  {
   "cell_type": "code",
   "execution_count": 2,
   "metadata": {},
   "outputs": [],
   "source": [
    "train_set_df_orig = pd.read_csv(\"port_visits_train.csv\", parse_dates = ['start_time'], date_parser = parse )\n",
    "train_vessels_labels_orig = pd.read_csv(\"vessels_labels_train.csv\", index_col='vessel_id' )"
   ]
  },
  {
   "cell_type": "code",
   "execution_count": 3,
   "metadata": {},
   "outputs": [
    {
     "name": "stdout",
     "output_type": "stream",
     "text": [
      "<class 'pandas.core.frame.DataFrame'>\n",
      "RangeIndex: 732484 entries, 0 to 732483\n",
      "Data columns (total 8 columns):\n",
      " #   Column        Non-Null Count   Dtype         \n",
      "---  ------        --------------   -----         \n",
      " 0   ves_id        732484 non-null  object        \n",
      " 1   start_time    732484 non-null  datetime64[ns]\n",
      " 2   duration_min  732484 non-null  int64         \n",
      " 3   port_id       732484 non-null  object        \n",
      " 4   country       732171 non-null  object        \n",
      " 5   Lat           732484 non-null  float64       \n",
      " 6   Long          732484 non-null  float64       \n",
      " 7   port_name     732444 non-null  object        \n",
      "dtypes: datetime64[ns](1), float64(2), int64(1), object(4)\n",
      "memory usage: 44.7+ MB\n"
     ]
    }
   ],
   "source": [
    "train_set_df_orig.info()"
   ]
  },
  {
   "cell_type": "code",
   "execution_count": 4,
   "metadata": {},
   "outputs": [],
   "source": [
    "train_set_df_orig['type'] = train_set_df_orig['ves_id'].apply(lambda vid : \n",
    "                                    train_vessels_labels_orig.loc[vid, 'type'])\n",
    "train_set_df_orig['label'] = train_set_df_orig['ves_id'].apply(lambda vid : \n",
    "                                    train_vessels_labels_orig.loc[vid, 'label'])"
   ]
  },
  {
   "cell_type": "code",
   "execution_count": 6,
   "metadata": {},
   "outputs": [
    {
     "name": "stdout",
     "output_type": "stream",
     "text": [
      "<class 'pandas.core.frame.DataFrame'>\n",
      "RangeIndex: 732484 entries, 0 to 732483\n",
      "Data columns (total 10 columns):\n",
      " #   Column        Non-Null Count   Dtype         \n",
      "---  ------        --------------   -----         \n",
      " 0   ves_id        732484 non-null  object        \n",
      " 1   start_time    732484 non-null  datetime64[ns]\n",
      " 2   duration_min  732484 non-null  int64         \n",
      " 3   port_id       732484 non-null  object        \n",
      " 4   country       732171 non-null  object        \n",
      " 5   Lat           732484 non-null  float64       \n",
      " 6   Long          732484 non-null  float64       \n",
      " 7   port_name     732444 non-null  object        \n",
      " 8   type          732484 non-null  object        \n",
      " 9   label         732484 non-null  int64         \n",
      "dtypes: datetime64[ns](1), float64(2), int64(2), object(5)\n",
      "memory usage: 55.9+ MB\n"
     ]
    }
   ],
   "source": [
    "train_set_df_orig.info()"
   ]
  },
  {
   "cell_type": "code",
   "execution_count": null,
   "metadata": {},
   "outputs": [],
   "source": []
  },
  {
   "cell_type": "markdown",
   "metadata": {},
   "source": [
    "# EDA"
   ]
  },
  {
   "cell_type": "markdown",
   "metadata": {},
   "source": [
    "## Initial examination of the raw data ##"
   ]
  },
  {
   "cell_type": "markdown",
   "metadata": {},
   "source": [
    "### Unique vessels ###"
   ]
  },
  {
   "cell_type": "code",
   "execution_count": 7,
   "metadata": {},
   "outputs": [
    {
     "data": {
      "text/plain": [
       "21122"
      ]
     },
     "execution_count": 7,
     "metadata": {},
     "output_type": "execute_result"
    }
   ],
   "source": [
    "uniqe_ves_ids_train_orig = np.unique(train_set_df_orig.ves_id)\n",
    "len(uniqe_ves_ids_train_orig)"
   ]
  },
  {
   "cell_type": "code",
   "execution_count": 8,
   "metadata": {},
   "outputs": [
    {
     "data": {
      "text/plain": [
       "21642"
      ]
     },
     "execution_count": 8,
     "metadata": {},
     "output_type": "execute_result"
    }
   ],
   "source": [
    "len(train_vessels_labels_orig)"
   ]
  },
  {
   "cell_type": "code",
   "execution_count": 12,
   "metadata": {},
   "outputs": [
    {
     "data": {
      "text/plain": [
       "Index(['56d8509fe4b099a29d073a62', '56d950d9e4b0e60539c6b71d',\n",
       "       '56d85a07e4b0fb60063969d8', '56d85736e4b030f1c0039905',\n",
       "       '56db31f9e4b02c227b748c14', '56d839f0e4b002eabab58240',\n",
       "       '56dcc15fe4b009004fbe1a23', '56d96d9ee4b0515e6629201a',\n",
       "       '56db8801e4b07967d3afcb96', '56d8367be4b0550004876e52',\n",
       "       ...\n",
       "       '56db7ddbe4b08b5ca584321a', '56dcd51be4b0a2087a7cede2',\n",
       "       '56dc34b4e4b0c3380a936c08', '56d835abe4b01b88a1e19dcb',\n",
       "       '56d835abe4b01b88a1e19dce', '56d83d91e4b0370600ea6b14',\n",
       "       '56d98b06e4b036f77e70799a', '56d8348ee4b026569c5ac90f',\n",
       "       '56d8348ee4b026569c5ac90c', '56d83d91e4b0370600ea6b19'],\n",
       "      dtype='object', name='vessel_id', length=21642)"
      ]
     },
     "execution_count": 12,
     "metadata": {},
     "output_type": "execute_result"
    }
   ],
   "source": []
  },
  {
   "cell_type": "code",
   "execution_count": 14,
   "metadata": {},
   "outputs": [
    {
     "name": "stdout",
     "output_type": "stream",
     "text": [
      "There are 21122 vess_ids appearing both in the train df and lables df\n",
      "There are 520 vess_ids appearing in the lables df but not in the labels_vess_ids_diff\n"
     ]
    }
   ],
   "source": [
    "labels_vess_ids_intersect = set(uniqe_ves_ids_train_orig).intersection(train_vessels_labels_orig.index)\n",
    "labels_vess_ids_diff = set(train_vessels_labels_orig.index ).difference(uniqe_ves_ids_train_orig)\n",
    "print(f\"There are {len(labels_vess_ids_intersect)} vess_ids appearing both in the train df and lables df\")\n",
    "print(f\"There are {len(labels_vess_ids_diff)} vess_ids appearing in the lables df but not in the labels_vess_ids_diff\")"
   ]
  },
  {
   "cell_type": "markdown",
   "metadata": {},
   "source": [
    "### Unique ports ###"
   ]
  },
  {
   "cell_type": "code",
   "execution_count": 16,
   "metadata": {},
   "outputs": [
    {
     "name": "stdout",
     "output_type": "stream",
     "text": [
      "there are 3590 unique ports in the train set\n"
     ]
    }
   ],
   "source": [
    "num_unique_ports_in_train = len(np.unique(train_set_df_orig.port_id.dropna()))\n",
    "print(f\"there are {num_unique_ports_in_train} unique ports in the train set\")"
   ]
  },
  {
   "cell_type": "markdown",
   "metadata": {},
   "source": [
    "**The distribution of the labels is around 13.7% 1 (Tanker) and 86.3% 0 (not a tanker)**"
   ]
  },
  {
   "cell_type": "code",
   "execution_count": 17,
   "metadata": {},
   "outputs": [
    {
     "data": {
      "image/png": "[encoded data removed]",
      "text/plain": [
       "<Figure size 432x288 with 1 Axes>"
      ]
     },
     "metadata": {
      "needs_background": "light"
     },
     "output_type": "display_data"
    }
   ],
   "source": [
    "y_train_raw = train_vessels_labels_orig.label\n",
    "counts = plt.hist(y_train_raw, bins =  [0,1,2,3] )"
   ]
  },
  {
   "cell_type": "code",
   "execution_count": 18,
   "metadata": {},
   "outputs": [
    {
     "data": {
      "text/plain": [
       "array([86.22585713, 13.77414287,  0.        ])"
      ]
     },
     "execution_count": 18,
     "metadata": {},
     "output_type": "execute_result"
    }
   ],
   "source": [
    "counts[0]/counts[0].sum()*100"
   ]
  },
  {
   "cell_type": "code",
   "execution_count": null,
   "metadata": {},
   "outputs": [],
   "source": [
    "\n"
   ]
  },
  {
   "cell_type": "markdown",
   "metadata": {},
   "source": [
    "### The subset of ports visited by tankers ###"
   ]
  },
  {
   "cell_type": "code",
   "execution_count": 19,
   "metadata": {},
   "outputs": [
    {
     "name": "stdout",
     "output_type": "stream",
     "text": [
      "There are 1652 ports visited by tankers, which are 46.02% of the overall ports\n"
     ]
    }
   ],
   "source": [
    "tankers_ports_set = set(train_set_df_orig['port_id'][train_set_df_orig['label']==1])\n",
    "print(\"There are {} ports visited by tankers, which are\\\n",
    " {:0.2f}% of the overall ports\".format(len(tankers_ports_set), len(tankers_ports_set)/num_unique_ports_in_train*100))"
   ]
  },
  {
   "cell_type": "code",
   "execution_count": 20,
   "metadata": {},
   "outputs": [
    {
     "name": "stdout",
     "output_type": "stream",
     "text": [
      "The intersection between the tankers ports and non-tanker ports is of size 1520 \n"
     ]
    }
   ],
   "source": [
    "all_ports_set = set(np.unique(train_set_df_orig.port_id.dropna()))\n",
    "non_tanker_ports_set = set(train_set_df_orig['port_id'][train_set_df_orig['label']==0])\n",
    "print(\"The intersection between the tankers ports and non-tanker ports is of size {} \".format(len(non_tanker_ports_set.intersection(tankers_ports_set))))"
   ]
  },
  {
   "cell_type": "markdown",
   "metadata": {},
   "source": [
    "## Data cleaning ##"
   ]
  },
  {
   "cell_type": "code",
   "execution_count": 21,
   "metadata": {},
   "outputs": [],
   "source": [
    "#Based on https://www.marineinsight.com/guidelines/speed-of-a-ship-at-sea/\n",
    "# https://en.wikipedia.org/wiki/Fishing_vessel#:~:text=The%20trolling%20line%20is%20towed,canoes%20with%20outriggers%20for%20stability.\n",
    "# https://www.weeksmarine.com/equipment-division/tugboats\n",
    "vess_velocities_kmph = {\n",
    "    'Bulk Carrier': 15*1.852,\n",
    "    'Container Vessel' : 24*1.852 , \n",
    "    'Fishing Vessel' : 11*1.852,\n",
    "    'Oil Tanker': 17*1.852,\n",
    "    'Passenger Vessel': 20*1.852, \n",
    "    'Reefer': 20*1.852, \n",
    "    'Tug':14*1.852\n",
    "    \n",
    "}\n",
    "\n",
    "MIN_DIST_KM = 0.5\n",
    "\n",
    "def calc_dist_km(lat_lng_1, lat_lng_2):\n",
    "        return geopy.distance.geodesic(lat_lng_1, lat_lng_2).km\n",
    "\n",
    "def calc_timediff_hours(prev_row_start_time, curr_row_start_time):\n",
    "    delta = curr_row_start_time - prev_row_start_time\n",
    "    return delta.days*24 + delta.seconds/3600\n",
    "    \n",
    "# Simplest approach - it's valid if the distance can be covered by the start times differences.\n",
    "def is_valid_travel(prev_row, curr_row):\n",
    " \n",
    "    if prev_row is None:\n",
    "        return True, 1000000000000000 #Ideally, we won't give the first row this privilege \n",
    "    dist = calc_dist_km(prev_row[['Lat', 'Long']], curr_row[['Lat', 'Long']])\n",
    "    #If we haven't moved at all - consider this as an invalid travel\n",
    "    if dist <= MIN_DIST_KM:\n",
    "        return False, -1\n",
    "    airline_travel_duration_hours = dist/vess_velocities_kmph[curr_row['type']]\n",
    "    start_times_diff_hours =  calc_timediff_hours(prev_row.start_time, curr_row.start_time )\n",
    "    is_v = airline_travel_duration_hours <=  start_times_diff_hours\n",
    "    max_bound = (start_times_diff_hours - airline_travel_duration_hours)*60\n",
    "    return is_v, max_bound\n",
    "\n",
    "       \n",
    "\n",
    "def  amend_zero_durations(valid_rows: List[pd.DataFrame], idx: List[int]):\n",
    "    cleaned_df = pd.DataFrame(valid_rows, index = idx)\n",
    "    \n",
    "    if cleaned_df['duration_min'].isnull().values.any():\n",
    "        nan_entries_port_ids = set(cleaned_df['port_id'][cleaned_df['duration_min'].isnull()])\n",
    "        means_per_port = {}\n",
    "        grpd_by_port = cleaned_df.groupby('port_id')\n",
    "        for port_id in nan_entries_port_ids:\n",
    "            means_per_port[port_id] = np.nanmean(grpd_by_port.get_group(port_id).duration_min)\n",
    "        for pid,pmean in means_per_port.items():\n",
    "            cleaned_df.loc[(cleaned_df['port_id'] == pid) & (cleaned_df['duration_min'].isnull()),'duration_min'] = pmean\n",
    "        #If we don't have the per-port - use the overall average.\n",
    "        global_mean = np.nanmean(cleaned_df['duration_min'].values)\n",
    "        cleaned_df.loc[cleaned_df['duration_min'].isnull(), 'duration_min'] = global_mean if not np.isnan(global_mean) else 0\n",
    "    #TODO: if there's more time - use the mean over all vessels of the same type.\n",
    "    return cleaned_df\n",
    "        \n",
    "def clean_ves_df(raw_ves_df: pd.DataFrame) -> pd.DataFrame:\n",
    "    valid_rows = []\n",
    "    idx = []\n",
    "    prev_row = None\n",
    "    #Filter out unfeasible travels\n",
    "    for ind,r in raw_ves_df.sort_values(by = ['start_time']).iterrows():\n",
    "     \n",
    "        valid_travel, upper_duration_bound =  is_valid_travel(prev_row, r)\n",
    "        if valid_travel:\n",
    "            idx.append(ind)\n",
    "            if len(valid_rows) > 0 :\n",
    "                valid_rows[-1]['duration_min'] =  min(valid_rows[-1]['duration_min'], upper_duration_bound)\n",
    "            if r['duration_min'] <= 0:\n",
    "                r['duration_min'] = np.nan\n",
    "            valid_rows.append(r)\n",
    "            prev_row = r\n",
    "        else:\n",
    "            pass\n",
    "\n",
    "    cleaned_df =  amend_zero_durations(valid_rows, idx)\n",
    "    return cleaned_df\n",
    "\n",
    "def clean_raw_port_visits(visits_df: pd.DataFrame) -> pd.DataFrame:\n",
    "    cleaned_per_ves_lst = []\n",
    "    for vid,ves_df in visits_df.groupby('ves_id'):\n",
    "        cleaned_per_ves_lst.append(clean_ves_df(ves_df))\n",
    "        print(f\"finished vid {vid}\")\n",
    "    return pd.concat(cleaned_per_ves_lst)"
   ]
  },
  {
   "cell_type": "code",
   "execution_count": 7,
   "metadata": {},
   "outputs": [],
   "source": [
    "# cleaned_raw_df = clean_raw_port_visits(train_set_df_orig)\n",
    "cleaned_raw_df = pd.read_csv('training_cleaned.csv', index_col=0)"
   ]
  },
  {
   "cell_type": "code",
   "execution_count": 26,
   "metadata": {},
   "outputs": [],
   "source": [
    "cleaned_raw_df.to_csv('training_cleaned.csv')"
   ]
  },
  {
   "cell_type": "code",
   "execution_count": 8,
   "metadata": {},
   "outputs": [
    {
     "name": "stdout",
     "output_type": "stream",
     "text": [
      "Before cleaning, there were overall 732484 rows. After cleaning there are 674240 rows\n"
     ]
    }
   ],
   "source": [
    "print(f\"Before cleaning, there were overall { len(train_set_df_orig) } rows. After cleaning there are { len(cleaned_raw_df)} rows\")"
   ]
  },
  {
   "cell_type": "markdown",
   "metadata": {},
   "source": [
    "## Duration distribution as a function of the vessel type ##"
   ]
  },
  {
   "cell_type": "markdown",
   "metadata": {},
   "source": [
    "### Durations distribution per port ###"
   ]
  },
  {
   "cell_type": "code",
   "execution_count": 9,
   "metadata": {},
   "outputs": [],
   "source": [
    "train_df_to_work_with = cleaned_raw_df"
   ]
  },
  {
   "cell_type": "code",
   "execution_count": 29,
   "metadata": {},
   "outputs": [
    {
     "name": "stdout",
     "output_type": "stream",
     "text": [
      "There were 45 tankers visits and 589 non-tanker visits to port 5358fc78b68ca120a07dba30\n"
     ]
    },
    {
     "data": {
      "text/plain": [
       "<matplotlib.legend.Legend at 0xefe1f0d508>"
      ]
     },
     "execution_count": 29,
     "metadata": {},
     "output_type": "execute_result"
    },
    {
     "data": {
      "image/png": "[encoded data removed]",
      "text/plain": [
       "<Figure size 432x288 with 1 Axes>"
      ]
     },
     "metadata": {
      "needs_background": "light"
     },
     "output_type": "display_data"
    }
   ],
   "source": [
    "ports_lst = list(tankers_ports_set)\n",
    "# curr_port = next(iter(tankers_ports_set))\n",
    "curr_port = ports_lst[279]\n",
    "curr_port_visits = train_df_to_work_with[train_df_to_work_with['port_id'] == curr_port]\n",
    "curr_port_tanker_visits_durations = curr_port_visits[curr_port_visits['label']==1]['duration_min']\n",
    "curr_port_non_tanker_visits_durations = curr_port_visits[curr_port_visits['label']==0]['duration_min']\n",
    "print(f\"There were {len(curr_port_tanker_visits_durations)} tankers visits and {len(curr_port_non_tanker_visits_durations)} non-tanker visits to port {curr_port}\")\n",
    "fig_visits, ax_visits = plt.subplots()\n",
    "bins = np.arange(0,20000, 200)\n",
    "ax_visits.hist(curr_port_non_tanker_visits_durations, bins=bins, density=True, label = \"non tanker durations\")\n",
    "ax_visits.hist(curr_port_tanker_visits_durations,  bins=bins, density=True, label = \"non tanker durations\")\n",
    "plt.legend()\n"
   ]
  },
  {
   "cell_type": "code",
   "execution_count": 13,
   "metadata": {},
   "outputs": [
    {
     "data": {
      "text/plain": [
       "(array([  0., 353., 183., 136., 122.,  70.,  91.,  63.,  76.,  61.,  40.,\n",
       "         53.,  53.,  45.,  40.,  28.,  29.,  23.,  32.,  34.,  38.,  22.,\n",
       "         24.,  30.,  22.,  14.,  20.,  23.,  21.,  27.,  19.,  21.,  26.,\n",
       "         22.,  16.,  19.,  21.,  12.,  16.,  13.,  18.,  18.,  13.,   8.,\n",
       "         20.,  16.,  13.,  12.,  20.,  10.,   7.,   9.,  13.,   7.,  12.,\n",
       "         11.,   8.,  12.,   7.,  15.,  13.,  15.,  12.,  11.,   9.,   9.,\n",
       "         11.,  10.,  15.,   4.,   8.,   5.,  10.,   9.,   7.,   4.,   8.,\n",
       "          8.,   6.,   9.,   3.,   9.,   8.,   6.,   6.,   8.,   8.,   9.,\n",
       "         10.,   5.,   7.,   7.,   2.,   2.,   8.,   3.,  10.,   4.,   7.,\n",
       "          7.,   3.,   5.,  12.,   5.,   4.,   5.,   2.,   5.,   6.,   7.,\n",
       "          6.,   5.,   2.,   4.,   5.,   8.,   2.,   5.,   2.,   4.,   5.,\n",
       "          4.,   7.,   6.,   2.,   6.,   8.,   6.,   4.,   3.,   2.,   3.,\n",
       "          3.,   4.,   2.,   4.,   3.,   4.,   2.,   4.,   3.,   4.,   6.,\n",
       "          2.,   3.,   5.,   4.,   4.,   5.,   5.,   3.,   8.,   4.,   3.,\n",
       "          2.,   6.,   5.,   1.,   4.,   4.,   6.,   2.,   3.,   5.,   7.,\n",
       "          2.,   2.,   6.,   2.,   2.,   5.,   1.,   2.,   3.,   0.,   2.,\n",
       "          3.,   3.,   1.,   9.,   7.,   3.,   3.,   4.,   2.,   2.,   4.,\n",
       "          4.,   1.,   1.,   2.,   4.,   2.,   0.,   3.,   7.,   1.,   2.,\n",
       "          6.]),\n",
       " array([  0,   1,   2,   3,   4,   5,   6,   7,   8,   9,  10,  11,  12,\n",
       "         13,  14,  15,  16,  17,  18,  19,  20,  21,  22,  23,  24,  25,\n",
       "         26,  27,  28,  29,  30,  31,  32,  33,  34,  35,  36,  37,  38,\n",
       "         39,  40,  41,  42,  43,  44,  45,  46,  47,  48,  49,  50,  51,\n",
       "         52,  53,  54,  55,  56,  57,  58,  59,  60,  61,  62,  63,  64,\n",
       "         65,  66,  67,  68,  69,  70,  71,  72,  73,  74,  75,  76,  77,\n",
       "         78,  79,  80,  81,  82,  83,  84,  85,  86,  87,  88,  89,  90,\n",
       "         91,  92,  93,  94,  95,  96,  97,  98,  99, 100, 101, 102, 103,\n",
       "        104, 105, 106, 107, 108, 109, 110, 111, 112, 113, 114, 115, 116,\n",
       "        117, 118, 119, 120, 121, 122, 123, 124, 125, 126, 127, 128, 129,\n",
       "        130, 131, 132, 133, 134, 135, 136, 137, 138, 139, 140, 141, 142,\n",
       "        143, 144, 145, 146, 147, 148, 149, 150, 151, 152, 153, 154, 155,\n",
       "        156, 157, 158, 159, 160, 161, 162, 163, 164, 165, 166, 167, 168,\n",
       "        169, 170, 171, 172, 173, 174, 175, 176, 177, 178, 179, 180, 181,\n",
       "        182, 183, 184, 185, 186, 187, 188, 189, 190, 191, 192, 193, 194,\n",
       "        195, 196, 197, 198, 199]),\n",
       " <a list of 199 Patch objects>)"
      ]
     },
     "execution_count": 13,
     "metadata": {},
     "output_type": "execute_result"
    },
    {
     "data": {
      "image/png": "[encoded data removed]",
      "text/plain": [
       "<Figure size 432x288 with 1 Axes>"
      ]
     },
     "metadata": {
      "needs_background": "light"
     },
     "output_type": "display_data"
    }
   ],
   "source": [
    "num_visits_per_port = [len(pdf) for pid,pdf in train_df_to_work_with.groupby('port_id')]\n",
    "plt.hist(num_visits_per_port, bins=np.arange(200))"
   ]
  },
  {
   "cell_type": "code",
   "execution_count": 14,
   "metadata": {},
   "outputs": [
    {
     "data": {
      "text/plain": [
       "3586"
      ]
     },
     "execution_count": 14,
     "metadata": {},
     "output_type": "execute_result"
    }
   ],
   "source": [
    "len(num_visits_per_port)"
   ]
  },
  {
   "cell_type": "markdown",
   "metadata": {},
   "source": [
    "### Durations distribution per vessel ###"
   ]
  },
  {
   "cell_type": "code",
   "execution_count": 30,
   "metadata": {},
   "outputs": [],
   "source": [
    "tanker_grouped = train_df_to_work_with[train_df_to_work_with['label']==1].groupby('ves_id')\n",
    "tanker_grouped_iter = iter(tanker_grouped)\n",
    "non_tanker_grouped = train_df_to_work_with[train_df_to_work_with['label']==0].groupby('ves_id')\n",
    "non_tanker_grouped_iter = iter(non_tanker_grouped)"
   ]
  },
  {
   "cell_type": "code",
   "execution_count": 33,
   "metadata": {},
   "outputs": [
    {
     "data": {
      "text/plain": [
       "<matplotlib.axes._subplots.AxesSubplot at 0xefe3bb0308>"
      ]
     },
     "execution_count": 33,
     "metadata": {},
     "output_type": "execute_result"
    },
    {
     "data": {
      "image/png": "[encoded data removed]",
      "text/plain": [
       "<Figure size 432x288 with 1 Axes>"
      ]
     },
     "metadata": {
      "needs_background": "light"
     },
     "output_type": "display_data"
    }
   ],
   "source": [
    "curr_tanker_df = next(tanker_grouped_iter)[1]\n",
    "curr_tanker_df['duration_min'].plot.hist(density = True)\n",
    "\n",
    "# non_tanker_grouped.get_group('56d8fabbe4b00724c0f7520b')['duration_min'].plot.hist()"
   ]
  },
  {
   "cell_type": "markdown",
   "metadata": {},
   "source": [
    "### Durations distribution per class ###"
   ]
  },
  {
   "cell_type": "code",
   "execution_count": 34,
   "metadata": {},
   "outputs": [
    {
     "name": "stdout",
     "output_type": "stream",
     "text": [
      "1293.0\n",
      "644.81\n"
     ]
    },
    {
     "data": {
      "image/png": "[encoded data removed]",
      "text/plain": [
       "<Figure size 432x288 with 1 Axes>"
      ]
     },
     "metadata": {
      "needs_background": "light"
     },
     "output_type": "display_data"
    }
   ],
   "source": [
    "all_tanker_durations = train_df_to_work_with[train_df_to_work_with['label']==1]['duration_min']\n",
    "all_non_tanker_durations = train_df_to_work_with[train_df_to_work_with['label']==0]['duration_min']\n",
    "fig_durations,ax_durations = plt.subplots()\n",
    "durations_bins = np.arange(10,10000, 200)\n",
    "ax_durations.hist(all_tanker_durations, bins = durations_bins, density=True, label = 'Tanker durations', alpha=0.5)\n",
    "ax_durations.hist(all_non_tanker_durations, bins = durations_bins, density=True, label = 'Non Tanker durations', alpha=0.5)\n",
    "plt.legend()\n",
    "print(np.median(all_tanker_durations.values))\n",
    "print(np.median(all_non_tanker_durations.values))"
   ]
  },
  {
   "cell_type": "markdown",
   "metadata": {},
   "source": [
    "**Num samples and overall series duration per vessel**"
   ]
  },
  {
   "cell_type": "code",
   "execution_count": 410,
   "metadata": {},
   "outputs": [],
   "source": [
    "train_orig_grouped = train_df_to_work_with.groupby('ves_id')\n"
   ]
  },
  {
   "cell_type": "code",
   "execution_count": 36,
   "metadata": {},
   "outputs": [
    {
     "ename": "NameError",
     "evalue": "name 'train_orig_grouped' is not defined",
     "output_type": "error",
     "traceback": [
      "\u001b[1;31m---------------------------------------------------------------------------\u001b[0m",
      "\u001b[1;31mNameError\u001b[0m                                 Traceback (most recent call last)",
      "\u001b[1;32m<ipython-input-36-82f0e7abbfcd>\u001b[0m in \u001b[0;36m<module>\u001b[1;34m\u001b[0m\n\u001b[0;32m      6\u001b[0m \u001b[0moverall_deltas_non_tanker\u001b[0m \u001b[1;33m=\u001b[0m \u001b[0mnp\u001b[0m\u001b[1;33m.\u001b[0m\u001b[0marray\u001b[0m\u001b[1;33m(\u001b[0m\u001b[1;33m[\u001b[0m\u001b[1;33m]\u001b[0m\u001b[1;33m)\u001b[0m\u001b[1;33m\u001b[0m\u001b[1;33m\u001b[0m\u001b[0m\n\u001b[0;32m      7\u001b[0m \u001b[1;33m\u001b[0m\u001b[0m\n\u001b[1;32m----> 8\u001b[1;33m \u001b[1;32mfor\u001b[0m \u001b[0mvid\u001b[0m\u001b[1;33m,\u001b[0m \u001b[0mvdf\u001b[0m \u001b[1;32min\u001b[0m \u001b[0mtrain_orig_grouped\u001b[0m\u001b[1;33m:\u001b[0m\u001b[1;33m\u001b[0m\u001b[1;33m\u001b[0m\u001b[0m\n\u001b[0m\u001b[0;32m      9\u001b[0m \u001b[1;31m#     print(vid)\u001b[0m\u001b[1;33m\u001b[0m\u001b[1;33m\u001b[0m\u001b[1;33m\u001b[0m\u001b[0m\n\u001b[0;32m     10\u001b[0m     \u001b[0mis_tanker\u001b[0m \u001b[1;33m=\u001b[0m \u001b[0mvdf\u001b[0m\u001b[1;33m.\u001b[0m\u001b[0miloc\u001b[0m\u001b[1;33m[\u001b[0m\u001b[1;36m0\u001b[0m\u001b[1;33m]\u001b[0m\u001b[1;33m[\u001b[0m\u001b[1;34m'label'\u001b[0m\u001b[1;33m]\u001b[0m \u001b[1;33m==\u001b[0m \u001b[1;36m1\u001b[0m\u001b[1;33m\u001b[0m\u001b[1;33m\u001b[0m\u001b[0m\n",
      "\u001b[1;31mNameError\u001b[0m: name 'train_orig_grouped' is not defined"
     ]
    }
   ],
   "source": [
    "per_ves_ts_len_tanker = []\n",
    "per_ves_ts_duration_tanker = []\n",
    "overall_deltas_tanker = np.array([])\n",
    "per_ves_ts_len_non_tanker = []\n",
    "per_ves_ts_duration_non_tanker = []\n",
    "overall_deltas_non_tanker = np.array([])\n",
    "\n",
    "for vid, vdf in train_orig_grouped:\n",
    "#     print(vid)\n",
    "    is_tanker = vdf.iloc[0]['label'] == 1\n",
    "    per_ves_ts_len  = per_ves_ts_len_tanker if is_tanker else per_ves_ts_len_non_tanker\n",
    "    per_ves_ts_len.append(len(vdf))\n",
    "    sorted_ts = vdf['start_time'].sort_values().values\n",
    "    deltas = sorted_ts[1:] - sorted_ts[:-1]\n",
    "    if is_tanker:\n",
    "        overall_deltas_tanker = np.append(overall_deltas_tanker, deltas.astype('timedelta64[m]').astype('int'))\n",
    "    else:\n",
    "        overall_deltas_non_tanker = np.append(overall_deltas_non_tanker, deltas.astype('timedelta64[m]').astype('int'))\n",
    "    per_ves_ts_duration = per_ves_ts_duration_tanker if is_tanker else per_ves_ts_duration_non_tanker\n",
    "    per_ves_ts_duration.append(sorted_ts[-1]-sorted_ts[0])\n",
    "    "
   ]
  },
  {
   "cell_type": "code",
   "execution_count": 289,
   "metadata": {},
   "outputs": [
    {
     "data": {
      "text/plain": [
       "array([19337., 44039., 32045., ...,  2005.,  6043.,  6815.])"
      ]
     },
     "execution_count": 289,
     "metadata": {},
     "output_type": "execute_result"
    }
   ],
   "source": [
    "overall_deltas_tanker"
   ]
  },
  {
   "cell_type": "code",
   "execution_count": 273,
   "metadata": {},
   "outputs": [
    {
     "data": {
      "image/png": "[encoded data removed]",
      "text/plain": [
       "<Figure size 432x288 with 1 Axes>"
      ]
     },
     "metadata": {
      "needs_background": "light"
     },
     "output_type": "display_data"
    }
   ],
   "source": [
    "fig_ts_len, ax_ts_len = plt.subplots()\n",
    "ax_ts_len.hist(per_ves_ts_len_tanker, bins=np.arange(0,1000,10), label='Tanker', density=True);\n",
    "ax_ts_len.hist(per_ves_ts_len_non_tanker, bins=np.arange(0,1000,10), label='Non Tanker', density=True);"
   ]
  },
  {
   "cell_type": "code",
   "execution_count": 262,
   "metadata": {},
   "outputs": [
    {
     "data": {
      "text/plain": [
       "1"
      ]
     },
     "execution_count": 262,
     "metadata": {},
     "output_type": "execute_result"
    }
   ],
   "source": [
    "min(per_ves_ts_len)"
   ]
  },
  {
   "cell_type": "code",
   "execution_count": 249,
   "metadata": {},
   "outputs": [
    {
     "data": {
      "text/plain": [
       "array([250356, 148235, 252381, ...,   1542,      0,      0])"
      ]
     },
     "execution_count": 249,
     "metadata": {},
     "output_type": "execute_result"
    }
   ],
   "source": [
    "np.array(per_ves_ts_duration).astype('timedelta64[m]').astype('int')"
   ]
  },
  {
   "cell_type": "code",
   "execution_count": 35,
   "metadata": {},
   "outputs": [
    {
     "ename": "NameError",
     "evalue": "name 'per_ves_ts_duration_non_tanker' is not defined",
     "output_type": "error",
     "traceback": [
      "\u001b[1;31m---------------------------------------------------------------------------\u001b[0m",
      "\u001b[1;31mNameError\u001b[0m                                 Traceback (most recent call last)",
      "\u001b[1;32m<ipython-input-35-1f647f43c435>\u001b[0m in \u001b[0;36m<module>\u001b[1;34m\u001b[0m\n\u001b[0;32m      1\u001b[0m \u001b[0mfig_ts_duration\u001b[0m\u001b[1;33m,\u001b[0m \u001b[0max_ts_duration\u001b[0m \u001b[1;33m=\u001b[0m \u001b[0mplt\u001b[0m\u001b[1;33m.\u001b[0m\u001b[0msubplots\u001b[0m\u001b[1;33m(\u001b[0m\u001b[1;33m)\u001b[0m\u001b[1;33m\u001b[0m\u001b[1;33m\u001b[0m\u001b[0m\n\u001b[1;32m----> 2\u001b[1;33m \u001b[0max_ts_duration\u001b[0m\u001b[1;33m.\u001b[0m\u001b[0mhist\u001b[0m\u001b[1;33m(\u001b[0m\u001b[0mnp\u001b[0m\u001b[1;33m.\u001b[0m\u001b[0marray\u001b[0m\u001b[1;33m(\u001b[0m\u001b[0mper_ves_ts_duration_non_tanker\u001b[0m\u001b[1;33m)\u001b[0m\u001b[1;33m.\u001b[0m\u001b[0mastype\u001b[0m\u001b[1;33m(\u001b[0m\u001b[1;34m'timedelta64[m]'\u001b[0m\u001b[1;33m)\u001b[0m\u001b[1;33m.\u001b[0m\u001b[0mastype\u001b[0m\u001b[1;33m(\u001b[0m\u001b[1;34m'int'\u001b[0m\u001b[1;33m)\u001b[0m\u001b[1;33m,\u001b[0m \u001b[0mlabel\u001b[0m\u001b[1;33m=\u001b[0m\u001b[1;34m'Non Tanker'\u001b[0m\u001b[1;33m,\u001b[0m \u001b[0mdensity\u001b[0m\u001b[1;33m=\u001b[0m\u001b[1;32mTrue\u001b[0m\u001b[1;33m,\u001b[0m \u001b[0malpha\u001b[0m\u001b[1;33m=\u001b[0m\u001b[1;36m0.5\u001b[0m\u001b[1;33m)\u001b[0m\u001b[1;33m;\u001b[0m\u001b[1;33m\u001b[0m\u001b[1;33m\u001b[0m\u001b[0m\n\u001b[0m\u001b[0;32m      3\u001b[0m \u001b[0max_ts_duration\u001b[0m\u001b[1;33m.\u001b[0m\u001b[0mhist\u001b[0m\u001b[1;33m(\u001b[0m\u001b[0mnp\u001b[0m\u001b[1;33m.\u001b[0m\u001b[0marray\u001b[0m\u001b[1;33m(\u001b[0m\u001b[0mper_ves_ts_duration_tanker\u001b[0m\u001b[1;33m)\u001b[0m\u001b[1;33m.\u001b[0m\u001b[0mastype\u001b[0m\u001b[1;33m(\u001b[0m\u001b[1;34m'timedelta64[m]'\u001b[0m\u001b[1;33m)\u001b[0m\u001b[1;33m.\u001b[0m\u001b[0mastype\u001b[0m\u001b[1;33m(\u001b[0m\u001b[1;34m'int'\u001b[0m\u001b[1;33m)\u001b[0m\u001b[1;33m,\u001b[0m \u001b[0mlabel\u001b[0m\u001b[1;33m=\u001b[0m\u001b[1;34m'Tanker'\u001b[0m\u001b[1;33m,\u001b[0m \u001b[0mdensity\u001b[0m\u001b[1;33m=\u001b[0m\u001b[1;32mTrue\u001b[0m\u001b[1;33m,\u001b[0m \u001b[0malpha\u001b[0m\u001b[1;33m=\u001b[0m\u001b[1;36m0.5\u001b[0m\u001b[1;33m)\u001b[0m\u001b[1;33m;\u001b[0m\u001b[1;33m\u001b[0m\u001b[1;33m\u001b[0m\u001b[0m\n\u001b[0;32m      4\u001b[0m \u001b[1;33m\u001b[0m\u001b[0m\n\u001b[0;32m      5\u001b[0m \u001b[0max_ts_duration\u001b[0m\u001b[1;33m.\u001b[0m\u001b[0mlegend\u001b[0m\u001b[1;33m(\u001b[0m\u001b[1;33m)\u001b[0m\u001b[1;33m\u001b[0m\u001b[1;33m\u001b[0m\u001b[0m\n",
      "\u001b[1;31mNameError\u001b[0m: name 'per_ves_ts_duration_non_tanker' is not defined"
     ]
    },
    {
     "data": {
      "image/png": "[encoded data removed]",
      "text/plain": [
       "<Figure size 432x288 with 1 Axes>"
      ]
     },
     "metadata": {
      "needs_background": "light"
     },
     "output_type": "display_data"
    }
   ],
   "source": [
    "fig_ts_duration, ax_ts_duration = plt.subplots()\n",
    "ax_ts_duration.hist(np.array(per_ves_ts_duration_non_tanker).astype('timedelta64[m]').astype('int'), label='Non Tanker', density=True, alpha=0.5);\n",
    "ax_ts_duration.hist(np.array(per_ves_ts_duration_tanker).astype('timedelta64[m]').astype('int'), label='Tanker', density=True, alpha=0.5);\n",
    "\n",
    "ax_ts_duration.legend()\n",
    "# plt.hist(np.array(per_ves_ts_duration).astype('timedelta64[m]').astype('int'), density=True);"
   ]
  },
  {
   "cell_type": "code",
   "execution_count": 295,
   "metadata": {},
   "outputs": [
    {
     "data": {
      "text/plain": [
       "<matplotlib.legend.Legend at 0xe7ac64fb88>"
      ]
     },
     "execution_count": 295,
     "metadata": {},
     "output_type": "execute_result"
    },
    {
     "data": {
      "image/png": "[encoded data removed]",
      "text/plain": [
       "<Figure size 432x288 with 1 Axes>"
      ]
     },
     "metadata": {
      "needs_background": "light"
     },
     "output_type": "display_data"
    }
   ],
   "source": [
    "fig_ts_deltas, ax_ts_deltas = plt.subplots()\n",
    "ax_ts_deltas.hist(overall_deltas_non_tanker,  label='Non Tanker', density=True, bins=np.arange(0,10000,100), alpha=0.5 ); \n",
    "ax_ts_deltas.hist(overall_deltas_tanker,  label='Tanker', density=True, bins=np.arange(0,10000,100), alpha=0.5 ); \n",
    "ax_ts_deltas.legend()"
   ]
  },
  {
   "cell_type": "code",
   "execution_count": 298,
   "metadata": {},
   "outputs": [],
   "source": [
    "tanker_grouped_lst = list(tanker_grouped)\n",
    "tanker_lst_lens = [len(vdf) for vid,vdf in tanker_grouped_lst]"
   ]
  },
  {
   "cell_type": "code",
   "execution_count": 302,
   "metadata": {},
   "outputs": [
    {
     "data": {
      "text/plain": [
       "2741"
      ]
     },
     "execution_count": 302,
     "metadata": {},
     "output_type": "execute_result"
    }
   ],
   "source": [
    "np.argmax(tanker_lst_lens)"
   ]
  },
  {
   "cell_type": "code",
   "execution_count": 300,
   "metadata": {},
   "outputs": [
    {
     "data": {
      "text/plain": [
       "2898"
      ]
     },
     "execution_count": 300,
     "metadata": {},
     "output_type": "execute_result"
    }
   ],
   "source": [
    "len(tanker_lst_lens)"
   ]
  },
  {
   "cell_type": "code",
   "execution_count": 313,
   "metadata": {},
   "outputs": [],
   "source": [
    "# tanker_grouped_lst[2741][1].to_csv(\"tanker_2741.csv\")\n",
    "len(pd.unique(tanker_grouped_lst[2741][1]['port_id']))\n",
    "curr_tanker_sorted_df = tanker_grouped_lst[2741][1].sort_values('start_time')\n",
    "curr_tanker_sorted_df.to_csv(\"tanker_2741.csv\")"
   ]
  },
  {
   "cell_type": "code",
   "execution_count": 316,
   "metadata": {},
   "outputs": [],
   "source": [
    "non_tanker_grouped_lst = list(non_tanker_grouped)\n",
    "non_tanker_lst_lens = [len(vdf) for vid,vdf in non_tanker_grouped_lst]"
   ]
  },
  {
   "cell_type": "code",
   "execution_count": 317,
   "metadata": {},
   "outputs": [
    {
     "data": {
      "text/plain": [
       "9933"
      ]
     },
     "execution_count": 317,
     "metadata": {},
     "output_type": "execute_result"
    }
   ],
   "source": [
    "np.argmax(non_tanker_lst_lens)"
   ]
  },
  {
   "cell_type": "code",
   "execution_count": 322,
   "metadata": {},
   "outputs": [],
   "source": [
    "curr_non_tanker_sorted_df = non_tanker_grouped_lst[9933][1].sort_values('start_time')\n",
    "curr_non_tanker_sorted_df.to_csv(\"non_tanker_9933.csv\")"
   ]
  },
  {
   "cell_type": "markdown",
   "metadata": {},
   "source": [
    "**Vess 56d96c11e4b0436ba6e245ca is a passenger vessel - it just travels between two ports: Cowes Harbour and southhampton**"
   ]
  },
  {
   "cell_type": "code",
   "execution_count": 24,
   "metadata": {},
   "outputs": [],
   "source": [
    "\n",
    "vess_by_type = defaultdict(list)\n",
    "for vid,vdf in train_orig_grouped:\n",
    "    vess_by_type[vdf.iloc[0]['type']].append(vdf)\n",
    "\n"
   ]
  },
  {
   "cell_type": "code",
   "execution_count": 72,
   "metadata": {},
   "outputs": [
    {
     "name": "stderr",
     "output_type": "stream",
     "text": [
      "C:\\Users\\Matan\\anaconda3\\lib\\site-packages\\ipykernel_launcher.py:1: DeprecationWarning:\n",
      "\n",
      "The default dtype for empty Series will be 'object' instead of 'float64' in a future version. Specify a dtype explicitly to silence this warning.\n",
      "\n",
      "C:\\Users\\Matan\\anaconda3\\lib\\site-packages\\numpy\\lib\\histograms.py:908: RuntimeWarning:\n",
      "\n",
      "invalid value encountered in true_divide\n",
      "\n"
     ]
    },
    {
     "data": {
      "text/plain": [
       "<matplotlib.axes._subplots.AxesSubplot at 0x1b3bcf9608>"
      ]
     },
     "execution_count": 72,
     "metadata": {},
     "output_type": "execute_result"
    },
    {
     "data": {
      "image/png": "[encoded data removed]",
      "text/plain": [
       "<Figure size 432x288 with 1 Axes>"
      ]
     },
     "metadata": {
      "needs_background": "light"
     },
     "output_type": "display_data"
    }
   ],
   "source": [
    "num_locations_per_type = { k : pd.Series( [len(np.unique(vdf['port_id'])) for vdf in vess_by_type[k]]) for k in vess_by_type}\n",
    "pd.DataFrame(num_locations_per_type).plot.hist(alpha=0.25, density=True, bins=bins_for_num_locations)"
   ]
  },
  {
   "cell_type": "code",
   "execution_count": 47,
   "metadata": {},
   "outputs": [],
   "source": [
    "non_tanker_num_locations = pd.Series(np.concatenate([loc_ser.values for k,loc_ser in  num_locations_per_type.items() if k != 'Oil Tanker' ]))"
   ]
  },
  {
   "cell_type": "code",
   "execution_count": 74,
   "metadata": {},
   "outputs": [
    {
     "data": {
      "text/plain": [
       "<matplotlib.axes._subplots.AxesSubplot at 0x1b3c23f808>"
      ]
     },
     "execution_count": 74,
     "metadata": {},
     "output_type": "execute_result"
    },
    {
     "data": {
      "image/png": "[encoded data removed]",
      "text/plain": [
       "<Figure size 432x288 with 1 Axes>"
      ]
     },
     "metadata": {
      "needs_background": "light"
     },
     "output_type": "display_data"
    }
   ],
   "source": [
    "pd.DataFrame({\"tanker\": num_locations_per_type['Oil Tanker'],  \"non-tanker\": non_tanker_num_locations }).plot.\\\n",
    "hist(alpha=0.2, density=True, bins=bins_for_num_locations)"
   ]
  },
  {
   "cell_type": "code",
   "execution_count": 44,
   "metadata": {},
   "outputs": [
    {
     "data": {
      "text/plain": [
       "18224"
      ]
     },
     "execution_count": 44,
     "metadata": {},
     "output_type": "execute_result"
    }
   ],
   "source": [
    "len(non_tanker_num_locations)"
   ]
  },
  {
   "cell_type": "code",
   "execution_count": 54,
   "metadata": {},
   "outputs": [
    {
     "data": {
      "text/plain": [
       "21122"
      ]
     },
     "execution_count": 54,
     "metadata": {},
     "output_type": "execute_result"
    }
   ],
   "source": [
    "len(non_tanker_num_locations.index.unique()) + len(num_locations_per_type['Oil Tanker'])"
   ]
  },
  {
   "cell_type": "code",
   "execution_count": 53,
   "metadata": {},
   "outputs": [
    {
     "data": {
      "text/plain": [
       "21122"
      ]
     },
     "execution_count": 53,
     "metadata": {},
     "output_type": "execute_result"
    }
   ],
   "source": [
    "sum([len(s) for s in num_locations_per_type.values() ])"
   ]
  },
  {
   "cell_type": "code",
   "execution_count": 62,
   "metadata": {},
   "outputs": [],
   "source": [
    "bins_for_num_locations = np.arange(0, 50, 1)"
   ]
  },
  {
   "cell_type": "code",
   "execution_count": 63,
   "metadata": {},
   "outputs": [
    {
     "data": {
      "text/plain": [
       "(array([0.        , 0.05248619, 0.05904696, 0.06664365, 0.08425414,\n",
       "        0.08149171, 0.07458564, 0.07872928, 0.06975138, 0.0621547 ,\n",
       "        0.04868785, 0.05006906, 0.03487569, 0.03176796, 0.03004144,\n",
       "        0.02279006, 0.0179558 , 0.01864641, 0.01277624, 0.01104972,\n",
       "        0.01139503, 0.01104972, 0.00483425, 0.00828729, 0.0086326 ,\n",
       "        0.00587017, 0.00517956, 0.00517956, 0.00414365, 0.00241713,\n",
       "        0.00414365, 0.00207182, 0.00241713, 0.00172652, 0.00241713,\n",
       "        0.00310773, 0.00241713, 0.00069061, 0.00172652, 0.0003453 ,\n",
       "        0.00069061, 0.0003453 , 0.00138122, 0.        , 0.0003453 ,\n",
       "        0.0003453 , 0.        , 0.0003453 , 0.00069061]),\n",
       " array([ 0,  1,  2,  3,  4,  5,  6,  7,  8,  9, 10, 11, 12, 13, 14, 15, 16,\n",
       "        17, 18, 19, 20, 21, 22, 23, 24, 25, 26, 27, 28, 29, 30, 31, 32, 33,\n",
       "        34, 35, 36, 37, 38, 39, 40, 41, 42, 43, 44, 45, 46, 47, 48, 49]),\n",
       " <a list of 49 Patch objects>)"
      ]
     },
     "execution_count": 63,
     "metadata": {},
     "output_type": "execute_result"
    },
    {
     "data": {
      "image/png": "[encoded data removed]",
      "text/plain": [
       "<Figure size 432x288 with 1 Axes>"
      ]
     },
     "metadata": {
      "needs_background": "light"
     },
     "output_type": "display_data"
    }
   ],
   "source": [
    "tanker_num_locations = [len(np.unique(vdf['port_id'])) for vdf in vess_by_type['Oil Tanker']]\n",
    "plt.hist(tanker_num_locations, density=True, bins=bins_for_num_locations)"
   ]
  },
  {
   "cell_type": "code",
   "execution_count": 38,
   "metadata": {},
   "outputs": [],
   "source": [
    "passengers_num_locations = [len(np.unique(vdf['port_id'])) for vdf in vess_by_type['Passenger Vessel']]"
   ]
  },
  {
   "cell_type": "code",
   "execution_count": 66,
   "metadata": {},
   "outputs": [
    {
     "data": {
      "text/plain": [
       "(array([0.        , 0.14226376, 0.18795431, 0.14018692, 0.08515057,\n",
       "        0.06022845, 0.04465213, 0.04049844, 0.0238837 , 0.02076843,\n",
       "        0.01973001, 0.00519211, 0.01038422, 0.00934579, 0.01557632,\n",
       "        0.0145379 , 0.00726895, 0.01038422, 0.01349948, 0.00415369,\n",
       "        0.00726895, 0.01142264, 0.00830737, 0.01142264, 0.00415369,\n",
       "        0.00519211, 0.00934579, 0.00934579, 0.00623053, 0.00934579,\n",
       "        0.00207684, 0.00623053, 0.00311526, 0.00519211, 0.00415369,\n",
       "        0.00207684, 0.00311526, 0.00311526, 0.00311526, 0.00207684,\n",
       "        0.00519211, 0.00207684, 0.00311526, 0.00623053, 0.00207684,\n",
       "        0.00415369, 0.00103842, 0.00103842, 0.00311526]),\n",
       " array([ 0,  1,  2,  3,  4,  5,  6,  7,  8,  9, 10, 11, 12, 13, 14, 15, 16,\n",
       "        17, 18, 19, 20, 21, 22, 23, 24, 25, 26, 27, 28, 29, 30, 31, 32, 33,\n",
       "        34, 35, 36, 37, 38, 39, 40, 41, 42, 43, 44, 45, 46, 47, 48, 49]),\n",
       " <a list of 49 Patch objects>)"
      ]
     },
     "execution_count": 66,
     "metadata": {},
     "output_type": "execute_result"
    },
    {
     "data": {
      "image/png": "[encoded data removed]",
      "text/plain": [
       "<Figure size 432x288 with 1 Axes>"
      ]
     },
     "metadata": {
      "needs_background": "light"
     },
     "output_type": "display_data"
    }
   ],
   "source": [
    "plt.hist(passengers_num_locations, bins=bins_for_num_locations, density=True)"
   ]
  },
  {
   "cell_type": "code",
   "execution_count": 67,
   "metadata": {},
   "outputs": [
    {
     "data": {
      "text/plain": [
       "(array([0.        , 0.21554661, 0.21275937, 0.14183958, 0.11117993,\n",
       "        0.06720347, 0.0470734 , 0.03871168, 0.03065965, 0.02880149,\n",
       "        0.01951068, 0.0142459 , 0.01238774, 0.00836172, 0.00867142,\n",
       "        0.00836172, 0.00495509, 0.00495509, 0.00526479, 0.00371632,\n",
       "        0.00309693, 0.00371632, 0.00185816, 0.00123877, 0.00123877,\n",
       "        0.00030969, 0.00185816, 0.00061939, 0.        , 0.        ,\n",
       "        0.        , 0.00030969, 0.00030969, 0.        , 0.00092908,\n",
       "        0.        , 0.        , 0.        , 0.        , 0.00030969,\n",
       "        0.        , 0.        , 0.        , 0.        , 0.        ,\n",
       "        0.        , 0.        , 0.        , 0.        ]),\n",
       " array([ 0,  1,  2,  3,  4,  5,  6,  7,  8,  9, 10, 11, 12, 13, 14, 15, 16,\n",
       "        17, 18, 19, 20, 21, 22, 23, 24, 25, 26, 27, 28, 29, 30, 31, 32, 33,\n",
       "        34, 35, 36, 37, 38, 39, 40, 41, 42, 43, 44, 45, 46, 47, 48, 49]),\n",
       " <a list of 49 Patch objects>)"
      ]
     },
     "execution_count": 67,
     "metadata": {},
     "output_type": "execute_result"
    },
    {
     "data": {
      "image/png": "[encoded data removed]",
      "text/plain": [
       "<Figure size 432x288 with 1 Axes>"
      ]
     },
     "metadata": {
      "needs_background": "light"
     },
     "output_type": "display_data"
    }
   ],
   "source": [
    "tug_num_locations = [len(np.unique(vdf['port_id'])) for vdf in vess_by_type['Tug']]\n",
    "plt.hist(tug_num_locations, bins=bins_for_num_locations, density=True)"
   ]
  },
  {
   "cell_type": "code",
   "execution_count": 68,
   "metadata": {},
   "outputs": [
    {
     "data": {
      "text/plain": [
       "(array([0.        , 0.35604607, 0.25335893, 0.13627639, 0.07101727,\n",
       "        0.05278311, 0.04174664, 0.01775432, 0.01727447, 0.01007678,\n",
       "        0.01007678, 0.00767754, 0.00863724, 0.00479846, 0.00239923,\n",
       "        0.00431862, 0.00191939, 0.00095969, 0.00143954, 0.00095969,\n",
       "        0.        , 0.        , 0.        , 0.        , 0.00047985,\n",
       "        0.        , 0.        , 0.        , 0.        , 0.        ,\n",
       "        0.        , 0.        , 0.        , 0.        , 0.        ,\n",
       "        0.        , 0.        , 0.        , 0.        , 0.        ,\n",
       "        0.        , 0.        , 0.        , 0.        , 0.        ,\n",
       "        0.        , 0.        , 0.        , 0.        ]),\n",
       " array([ 0,  1,  2,  3,  4,  5,  6,  7,  8,  9, 10, 11, 12, 13, 14, 15, 16,\n",
       "        17, 18, 19, 20, 21, 22, 23, 24, 25, 26, 27, 28, 29, 30, 31, 32, 33,\n",
       "        34, 35, 36, 37, 38, 39, 40, 41, 42, 43, 44, 45, 46, 47, 48, 49]),\n",
       " <a list of 49 Patch objects>)"
      ]
     },
     "execution_count": 68,
     "metadata": {},
     "output_type": "execute_result"
    },
    {
     "data": {
      "image/png": "[encoded data removed]",
      "text/plain": [
       "<Figure size 432x288 with 1 Axes>"
      ]
     },
     "metadata": {
      "needs_background": "light"
     },
     "output_type": "display_data"
    }
   ],
   "source": [
    "plt.hist([len(np.unique(vdf['port_id'])) for vdf in vess_by_type['Fishing Vessel']], density=True, bins=bins_for_num_locations)"
   ]
  },
  {
   "cell_type": "code",
   "execution_count": 69,
   "metadata": {},
   "outputs": [
    {
     "data": {
      "text/plain": [
       "(array([0.        , 0.03185407, 0.0358018 , 0.04424176, 0.06180234,\n",
       "        0.06452491, 0.07160359, 0.07405391, 0.07582358, 0.07391778,\n",
       "        0.0649333 , 0.06575007, 0.06084944, 0.05417915, 0.04696433,\n",
       "        0.03906888, 0.0319902 , 0.02613667, 0.02382249, 0.01306834,\n",
       "        0.01075415, 0.00748707, 0.00558127, 0.00435611, 0.00299483,\n",
       "        0.00204193, 0.00108903, 0.00081677, 0.00081677, 0.00081677,\n",
       "        0.00040839, 0.00040839, 0.00054451, 0.00054451, 0.00027226,\n",
       "        0.        , 0.00013613, 0.00013613, 0.        , 0.00027226,\n",
       "        0.        , 0.        , 0.        , 0.        , 0.        ,\n",
       "        0.00013613, 0.        , 0.        , 0.        ]),\n",
       " array([ 0,  1,  2,  3,  4,  5,  6,  7,  8,  9, 10, 11, 12, 13, 14, 15, 16,\n",
       "        17, 18, 19, 20, 21, 22, 23, 24, 25, 26, 27, 28, 29, 30, 31, 32, 33,\n",
       "        34, 35, 36, 37, 38, 39, 40, 41, 42, 43, 44, 45, 46, 47, 48, 49]),\n",
       " <a list of 49 Patch objects>)"
      ]
     },
     "execution_count": 69,
     "metadata": {},
     "output_type": "execute_result"
    },
    {
     "data": {
      "image/png": "[encoded data removed]",
      "text/plain": [
       "<Figure size 432x288 with 1 Axes>"
      ]
     },
     "metadata": {
      "needs_background": "light"
     },
     "output_type": "display_data"
    }
   ],
   "source": [
    "plt.hist([len(np.unique(vdf['port_id'])) for vdf in vess_by_type['Bulk Carrier']], density=True, bins=bins_for_num_locations)"
   ]
  },
  {
   "cell_type": "code",
   "execution_count": 70,
   "metadata": {},
   "outputs": [
    {
     "data": {
      "text/plain": [
       "(array([0.        , 0.01658826, 0.02005447, 0.02698688, 0.04184204,\n",
       "        0.04976479, 0.05917306, 0.05644962, 0.05471651, 0.0514979 ,\n",
       "        0.06016341, 0.04926962, 0.05793513, 0.05446893, 0.05471651,\n",
       "        0.05545927, 0.04976479, 0.03490963, 0.03614756, 0.03119584,\n",
       "        0.02352067, 0.02822481, 0.01634068, 0.01535033, 0.01089379,\n",
       "        0.0089131 , 0.00569448, 0.00866551, 0.00668482, 0.00495172,\n",
       "        0.00198069, 0.0017331 , 0.00123793, 0.0017331 , 0.0017331 ,\n",
       "        0.        , 0.        , 0.        , 0.00049517, 0.00024759,\n",
       "        0.        , 0.00024759, 0.        , 0.        , 0.00024759,\n",
       "        0.        , 0.        , 0.        , 0.        ]),\n",
       " array([ 0,  1,  2,  3,  4,  5,  6,  7,  8,  9, 10, 11, 12, 13, 14, 15, 16,\n",
       "        17, 18, 19, 20, 21, 22, 23, 24, 25, 26, 27, 28, 29, 30, 31, 32, 33,\n",
       "        34, 35, 36, 37, 38, 39, 40, 41, 42, 43, 44, 45, 46, 47, 48, 49]),\n",
       " <a list of 49 Patch objects>)"
      ]
     },
     "execution_count": 70,
     "metadata": {},
     "output_type": "execute_result"
    },
    {
     "data": {
      "image/png": "[encoded data removed]",
      "text/plain": [
       "<Figure size 432x288 with 1 Axes>"
      ]
     },
     "metadata": {
      "needs_background": "light"
     },
     "output_type": "display_data"
    }
   ],
   "source": [
    "plt.hist([len(np.unique(vdf['port_id'])) for vdf in vess_by_type['Container Vessel']], density=True, bins=bins_for_num_locations)"
   ]
  },
  {
   "cell_type": "code",
   "execution_count": 75,
   "metadata": {},
   "outputs": [
    {
     "data": {
      "text/plain": [
       "(array([0.        , 0.10153257, 0.13218391, 0.11111111, 0.11877395,\n",
       "        0.10344828, 0.07854406, 0.07854406, 0.06321839, 0.04214559,\n",
       "        0.02298851, 0.0210728 , 0.02873563, 0.02298851, 0.03065134,\n",
       "        0.00383142, 0.00574713, 0.00383142, 0.00383142, 0.00383142,\n",
       "        0.00383142, 0.00383142, 0.        , 0.00574713, 0.        ,\n",
       "        0.        , 0.00191571, 0.        , 0.00191571, 0.        ,\n",
       "        0.        , 0.00191571, 0.        , 0.        , 0.        ,\n",
       "        0.        , 0.        , 0.        , 0.        , 0.        ,\n",
       "        0.        , 0.        , 0.00191571, 0.        , 0.        ,\n",
       "        0.        , 0.        , 0.00191571, 0.        ]),\n",
       " array([ 0,  1,  2,  3,  4,  5,  6,  7,  8,  9, 10, 11, 12, 13, 14, 15, 16,\n",
       "        17, 18, 19, 20, 21, 22, 23, 24, 25, 26, 27, 28, 29, 30, 31, 32, 33,\n",
       "        34, 35, 36, 37, 38, 39, 40, 41, 42, 43, 44, 45, 46, 47, 48, 49]),\n",
       " <a list of 49 Patch objects>)"
      ]
     },
     "execution_count": 75,
     "metadata": {},
     "output_type": "execute_result"
    },
    {
     "data": {
      "image/png": "[encoded data removed]",
      "text/plain": [
       "<Figure size 432x288 with 1 Axes>"
      ]
     },
     "metadata": {
      "needs_background": "light"
     },
     "output_type": "display_data"
    }
   ],
   "source": [
    "plt.hist([len(np.unique(vdf['port_id'])) for vdf in vess_by_type['Reefer']], density=True, bins=bins_for_num_locations)"
   ]
  },
  {
   "cell_type": "code",
   "execution_count": 13,
   "metadata": {},
   "outputs": [
    {
     "data": {
      "text/plain": [
       "array(['Bulk Carrier', 'Container Vessel', 'Fishing Vessel', 'Oil Tanker',\n",
       "       'Passenger Vessel', 'Reefer', 'Tug'], dtype=object)"
      ]
     },
     "execution_count": 13,
     "metadata": {},
     "output_type": "execute_result"
    }
   ],
   "source": [
    "np.unique(train_vessels_labels_orig.type)"
   ]
  },
  {
   "cell_type": "markdown",
   "metadata": {},
   "source": [
    "# Features engineering"
   ]
  },
  {
   "cell_type": "markdown",
   "metadata": {},
   "source": [
    "### Extractor classes ###"
   ]
  },
  {
   "cell_type": "code",
   "execution_count": 73,
   "metadata": {},
   "outputs": [],
   "source": [
    "#TODO: use ABC\n",
    "class FeaturesGenerator:\n",
    "    def __init__(self):\n",
    "        pass\n",
    "    def generate_features(self, input_df:pd.DataFrame) -> pd.DataFrame:\n",
    "        pass\n",
    "    \n",
    "    \n",
    "class LabelsGenerator:\n",
    "    def __init__(self):\n",
    "        pass\n",
    "    def generate_labels(self, input_df:pd.DataFrame) -> pd.DataFrame:\n",
    "        pass\n",
    "    \n",
    "    \n",
    "class FeaturesExtractor:\n",
    "    def __init__(self, features_generators:List[FeaturesGenerator], labels_generator: LabelsGenerator):\n",
    "        self.generators_lst = features_generators\n",
    "        self.labels_generator = labels_generator\n",
    "    \n",
    "    #Returns the features dataframe and the labels dataframe\n",
    "    def generate_features(self, input_df:pd.DataFrame) -> (pd.DataFrame, pd.DataFrame):\n",
    "        features_dfs = [gen.generate_features(input_df) for gen in self.generators_lst ]\n",
    "        features_df = pd.concat(features_dfs, axis=1)\n",
    "        labels_df = self.labels_generator.generate_labels(input_df)\n",
    "        if not all(labels_df.index == features_df.index):\n",
    "            raise Exception(\"In generate_features(). The labels and features dfs have different index!!\")\n",
    "        return features_df,labels_df"
   ]
  },
  {
   "cell_type": "code",
   "execution_count": 74,
   "metadata": {},
   "outputs": [],
   "source": [
    "#TODO: check embedding here instead of on-hot-encoding\n",
    "'''\n",
    "Encode categorical ports as a one-hot numeric array, and have the per-port value the total stay duration in this port.\n",
    "Return a dataframe in which each row encodes the durations per port of a single vessel.\n",
    "'''\n",
    "from sklearn.preprocessing import OneHotEncoder\n",
    "\n",
    "class PortsFeaturesGenerator(FeaturesGenerator):\n",
    "    def generate_features(self, input_df:pd.DataFrame) -> pd.DataFrame:\n",
    "        res_df_rows = []\n",
    "        res_df_ind = []\n",
    "        enc = OneHotEncoder(handle_unknown='ignore')\n",
    "        enc.fit(input_df[['port_id']])\n",
    "        for vid,vdf in input_df.groupby('ves_id'):\n",
    "            ports_categorized = enc.transform(vdf[['port_id']]).toarray()\n",
    "            ports_categorized_durations = ports_categorized * vdf[['duration_min']].values\n",
    "            res_df_ind.append(vid)\n",
    "            res_df_rows.append(ports_categorized_durations.sum(axis=0))\n",
    "        return pd.DataFrame(res_df_rows, index = res_df_ind, columns=enc.categories_[0])\n",
    "            \n",
    "'''\n",
    "The spread of the visited locations\n",
    "'''\n",
    "\n",
    "class DistanceVarianceGenerator(FeaturesGenerator):\n",
    "    def generate_features(self, input_df:pd.DataFrame) -> pd.DataFrame:    \n",
    "        res_df_rows = []\n",
    "        res_df_ind = []\n",
    "        for vid,vdf in input_df.groupby('ves_id'):\n",
    "            locations_polygon = Polygon([(lt,lng) for lt,lng in zip(vdf['Lat'], vdf['Long'])])\n",
    "            #Probably not the geodetic centroid, but I don't have time to improve this now...\n",
    "            locations_centroid = locations_polygon.centroid \n",
    "            dists_from_centroid = np.array([calc_dist_km((locations_centroid.x, locations_centroid.y), (lt,lng)) for\n",
    "                                   lt,lng in zip(vdf['Lat'], vdf['Long'])] )\n",
    "            res_df_ind.append(vid)\n",
    "            res_df_rows.append[dists_from_centroid.dot(dists_from_centroid)/len(dists_from_centroid)]\n",
    "            res =  pd.DataFrame(res_df_rows, index = res_df_ind, columns=['ports_var'])\n",
    "\n",
    "'''\n",
    "The average and median durations in the tankers and non-tanker ports \n",
    "'''\n",
    "class PortsDurationSamplesFeaturesGenerator(FeaturesGenerator):\n",
    "    def generate_features(self, input_df:pd.DataFrame) -> pd.DataFrame:\n",
    "        all_ports_set = set(input_df['port_id'])\n",
    "        tankers_ports_set = set(input_df['port_id'][input_df['label']==1])\n",
    "#         non-tankers_ports_set = all_ports_set.difference(tankers_ports_set)\n",
    "        res_df_rows = []\n",
    "        res_df_ind = []    \n",
    "        for vid,vdf in input_df.groupby('ves_id'):\n",
    "            tankers_inds = vdf['port_id'].apply(lambda p : p in tankers_ports_set)\n",
    "            res_df_ind.append(vid)\n",
    "            res_df_rows.append([vdf[tankers_inds]['duration_min'].mean(), vdf[tankers_inds]['duration_min'].median(), \n",
    "                                vdf[~tankers_inds]['duration_min'].mean(), vdf[~tankers_inds]['duration_min'].median(), \n",
    "                               vdf['duration_min'].mean(), vdf['duration_min'].median()])\n",
    "        res =  pd.DataFrame(res_df_rows, index = res_df_ind, \n",
    "                            columns=['tanker_ports_mean_duration', 'tanker_ports_median_duration', \n",
    "                                    'non_tanker_ports_mean_duration', 'non_tanker_ports_median_duration', \n",
    "                                     'all_ports_mean_duration', 'all_ports_median_duration' ])\n",
    "        res = res.fillna(-1)\n",
    "        return res\n",
    "\n",
    "class PercentTankersPortsFeaturesGenerator(FeaturesGenerator):\n",
    "    def generate_features(self, input_df:pd.DataFrame) -> pd.DataFrame:\n",
    "        all_ports_set = set(input_df['port_id'])\n",
    "        tankers_ports_set = set(input_df['port_id'][input_df['label']==1])\n",
    "        res_df_rows = []\n",
    "        res_df_ind = []    \n",
    "        for vid,vdf in input_df.groupby('ves_id'):\n",
    "            tankers_inds = vdf['port_id'].apply(lambda p : p in tankers_ports_set)\n",
    "            res_df_ind.append(vid)\n",
    "            res_df_rows.append([tankers_inds.sum()/len(vdf)])\n",
    "                               \n",
    "        res = pd.DataFrame(res_df_rows, index = res_df_ind, columns = ['tankers_ports_percentage'])\n",
    "        return res\n",
    "                           \n",
    "    \n",
    "    \n",
    "class BinaryLabelsGenerator(LabelsGenerator):\n",
    "    def __init__(self):\n",
    "        pass\n",
    "    def generate_labels(self, input_df:pd.DataFrame) -> pd.DataFrame:\n",
    "        patients_classes_df = input_df.groupby('ves_id').nth(0)['label']\n",
    "        return patients_classes_df\n",
    "                                                                \n",
    "        "
   ]
  },
  {
   "cell_type": "code",
   "execution_count": 19,
   "metadata": {},
   "outputs": [
    {
     "ename": "NameError",
     "evalue": "name 'train_df_to_work_with' is not defined",
     "output_type": "error",
     "traceback": [
      "\u001b[1;31m---------------------------------------------------------------------------\u001b[0m",
      "\u001b[1;31mNameError\u001b[0m                                 Traceback (most recent call last)",
      "\u001b[1;32m<ipython-input-19-9b098cacd0ea>\u001b[0m in \u001b[0;36m<module>\u001b[1;34m\u001b[0m\n\u001b[1;32m----> 1\u001b[1;33m \u001b[0mtankers_ports_set\u001b[0m \u001b[1;33m=\u001b[0m \u001b[0mset\u001b[0m\u001b[1;33m(\u001b[0m\u001b[0mtrain_df_to_work_with\u001b[0m\u001b[1;33m[\u001b[0m\u001b[1;34m'port_id'\u001b[0m\u001b[1;33m]\u001b[0m\u001b[1;33m[\u001b[0m\u001b[0mtrain_df_to_work_with\u001b[0m\u001b[1;33m[\u001b[0m\u001b[1;34m'label'\u001b[0m\u001b[1;33m]\u001b[0m\u001b[1;33m==\u001b[0m\u001b[1;36m1\u001b[0m\u001b[1;33m]\u001b[0m\u001b[1;33m)\u001b[0m\u001b[1;33m\u001b[0m\u001b[1;33m\u001b[0m\u001b[0m\n\u001b[0m\u001b[0;32m      2\u001b[0m \u001b[0mprint\u001b[0m\u001b[1;33m(\u001b[0m\u001b[0mlen\u001b[0m\u001b[1;33m(\u001b[0m\u001b[0mtankers_ports_set\u001b[0m\u001b[1;33m)\u001b[0m\u001b[1;33m)\u001b[0m\u001b[1;33m\u001b[0m\u001b[1;33m\u001b[0m\u001b[0m\n\u001b[0;32m      3\u001b[0m \u001b[0mtest_grp\u001b[0m \u001b[1;33m=\u001b[0m \u001b[0mtrain_df_to_work_with\u001b[0m\u001b[1;33m.\u001b[0m\u001b[0mgroupby\u001b[0m\u001b[1;33m(\u001b[0m\u001b[1;34m'ves_id'\u001b[0m\u001b[1;33m)\u001b[0m\u001b[1;33m.\u001b[0m\u001b[0mget_group\u001b[0m\u001b[1;33m(\u001b[0m\u001b[1;34m'56dd02bde4b02341a159b0ab'\u001b[0m\u001b[1;33m)\u001b[0m\u001b[1;33m\u001b[0m\u001b[1;33m\u001b[0m\u001b[0m\n\u001b[0;32m      4\u001b[0m \u001b[0mtest_grp\u001b[0m\u001b[1;33m\u001b[0m\u001b[1;33m\u001b[0m\u001b[0m\n",
      "\u001b[1;31mNameError\u001b[0m: name 'train_df_to_work_with' is not defined"
     ]
    }
   ],
   "source": [
    "tankers_ports_set = set(train_df_to_work_with['port_id'][train_df_to_work_with['label']==1])\n",
    "print(len(tankers_ports_set))\n",
    "test_grp = train_df_to_work_with.groupby('ves_id').get_group('56dd02bde4b02341a159b0ab')\n",
    "test_grp"
   ]
  },
  {
   "cell_type": "code",
   "execution_count": 64,
   "metadata": {},
   "outputs": [
    {
     "data": {
      "text/plain": [
       "0"
      ]
     },
     "execution_count": 64,
     "metadata": {},
     "output_type": "execute_result"
    }
   ],
   "source": [
    "tankers_inds = test_grp['port_id'].apply(lambda p : p in tankers_ports_set)\n",
    "(~tankers_inds).sum()"
   ]
  },
  {
   "cell_type": "code",
   "execution_count": 67,
   "metadata": {},
   "outputs": [
    {
     "data": {
      "text/html": [
       "<div>\n",
       "<style scoped>\n",
       "    .dataframe tbody tr th:only-of-type {\n",
       "        vertical-align: middle;\n",
       "    }\n",
       "\n",
       "    .dataframe tbody tr th {\n",
       "        vertical-align: top;\n",
       "    }\n",
       "\n",
       "    .dataframe thead th {\n",
       "        text-align: right;\n",
       "    }\n",
       "</style>\n",
       "<table border=\"1\" class=\"dataframe\">\n",
       "  <thead>\n",
       "    <tr style=\"text-align: right;\">\n",
       "      <th></th>\n",
       "      <th>tanker_ports_mean_duration</th>\n",
       "      <th>tanker_ports_median_duration</th>\n",
       "      <th>non_tanker_ports_mean_duration</th>\n",
       "      <th>non_tanker_ports_median_duration</th>\n",
       "      <th>all_ports_mean_duration</th>\n",
       "      <th>all_ports_median_duration</th>\n",
       "    </tr>\n",
       "  </thead>\n",
       "  <tbody>\n",
       "    <tr>\n",
       "      <th>56dd02bde4b02341a159b0ab</th>\n",
       "      <td>672.994782</td>\n",
       "      <td>300.0</td>\n",
       "      <td>-1.0</td>\n",
       "      <td>-1.0</td>\n",
       "      <td>672.994782</td>\n",
       "      <td>300.0</td>\n",
       "    </tr>\n",
       "  </tbody>\n",
       "</table>\n",
       "</div>"
      ],
      "text/plain": [
       "                          tanker_ports_mean_duration  \\\n",
       "56dd02bde4b02341a159b0ab                  672.994782   \n",
       "\n",
       "                          tanker_ports_median_duration  \\\n",
       "56dd02bde4b02341a159b0ab                         300.0   \n",
       "\n",
       "                          non_tanker_ports_mean_duration  \\\n",
       "56dd02bde4b02341a159b0ab                            -1.0   \n",
       "\n",
       "                          non_tanker_ports_median_duration  \\\n",
       "56dd02bde4b02341a159b0ab                              -1.0   \n",
       "\n",
       "                          all_ports_mean_duration  all_ports_median_duration  \n",
       "56dd02bde4b02341a159b0ab               672.994782                      300.0  "
      ]
     },
     "execution_count": 67,
     "metadata": {},
     "output_type": "execute_result"
    }
   ],
   "source": [
    "PortsDurationSamplesFeaturesGenerator().generate_features(test_grp)"
   ]
  },
  {
   "cell_type": "markdown",
   "metadata": {},
   "source": [
    "### Features generation ###"
   ]
  },
  {
   "cell_type": "code",
   "execution_count": 82,
   "metadata": {},
   "outputs": [],
   "source": [
    "# extractor = FeaturesExtractor([PortsFeaturesGenerator()], BinaryLabelsGenerator())\n",
    "extractor = FeaturesExtractor([PortsDurationSamplesFeaturesGenerator(), PercentTankersPortsFeaturesGenerator()], BinaryLabelsGenerator())\n",
    "features_df, labels_df = extractor.generate_features(train_df_to_work_with)"
   ]
  },
  {
   "cell_type": "markdown",
   "metadata": {},
   "source": [
    "# Classification #"
   ]
  },
  {
   "cell_type": "markdown",
   "metadata": {},
   "source": [
    "## Classification utils ##"
   ]
  },
  {
   "cell_type": "code",
   "execution_count": 84,
   "metadata": {},
   "outputs": [],
   "source": [
    "class ClassifierContainer:\n",
    "    # Long_params_list - a wide range to examine.\n",
    "    # short_params_list - reduced one based on wide range examination (to reduce runtime when executing)\n",
    "    # short_params_list_over_entire_train - used for sanity tests over the entire train set before submission.\n",
    "    def __init__(self, clf, long_params_list, short_params_list, short_params_list_over_entire_train):\n",
    "        self.clf = clf\n",
    "        self.long_params_list = long_params_list\n",
    "        self.short_params_list = short_params_list\n",
    "        self.short_params_list_over_entire_train = short_params_list_over_entire_train\n",
    "        \n",
    "\n",
    "        \n",
    "classifiers_dict = {\n",
    "    'logistic_regression': ClassifierContainer(LogisticRegression(),\n",
    "                    [{'C': [0.01, 0.03, 0.1, 0.3, 1, 3, 10, 30, 100, 300, 700, 800, 1000, 1200, 1500], \n",
    "                     'class_weight' : [None, 'balanced']}], \n",
    "                    [{'C': [ 10], \n",
    "                     'class_weight' : [ 'balanced']}], \n",
    "                    [{'C': [ 10], \n",
    "                     'class_weight' : [ 'balanced']}]\n",
    "            ), \n",
    "                            \n",
    "    'random_forest' : ClassifierContainer(RandomForestClassifier(), \n",
    "                           [{ 'n_estimators' : [100, 200, 500, 1000, 1200, 1500],\n",
    "                              'max_depth': [ 10, 20, 30, 40, 50, 60, 100], \n",
    "                              'class_weight' :['balanced'] }\n",
    "                           ], \n",
    "                            [{ 'n_estimators' : [ 500, 600],\n",
    "                              'max_depth': [ 30, 40 ], \n",
    "                              'class_weight' :['balanced'] }\n",
    "                           ], \n",
    "                            [{ 'n_estimators' : [ 1000, 1200],\n",
    "                              'max_depth': [ 60 ], \n",
    "                              'class_weight' :['balanced'] }\n",
    "                           ]\n",
    "                    ),\n",
    "    \n",
    "    'xgboost' : ClassifierContainer( xgb.XGBClassifier(), \n",
    "                           [{ 'reg_lambda' : [10, 30, 100, 300], #[0.1, 0.3, 1, 3, 10, 30, 100, 300],\n",
    "                              'max_depth': [5, 7, 10, 20, 30], #[ 10, 20, 30, 40, 50, 60, 100], \n",
    "                              'n_estimators' : [ 1000, 1500, 2000, 2500],\n",
    "                              'n_jobs' : [6]\n",
    "                               }\n",
    "                           ], \n",
    "                             [{ 'reg_lambda' : [ 10 ],\n",
    "                                'max_depth': [ 20], \n",
    "                               'n_jobs' : [6], \n",
    "                               'n_estimators' :[1500]\n",
    "                               }\n",
    "                           ], \n",
    "                             [{ 'reg_lambda' : [ 30 ],\n",
    "                                'max_depth': [ 20], \n",
    "                               'n_jobs' : [6]\n",
    "                               }\n",
    "                           ]\n",
    "                    ), \n",
    "#     'nn'   : ClassifierContainer( MLPClassifier(), \n",
    "#                            [{ 'hidden_layer_sizes' : [(100, 15), (500, 150), (1000, 300), (3500, 700)], \n",
    "#                               'alpha' : [0.00001, 0.00003, 0.001, 0.003, 0.1, 0.3, 1, 3, 10, 30, 100, 300]\n",
    "#                                }\n",
    "#                            ], \n",
    "#                              [{ 'hidden_layer_sizes' : [(1000, 300)], \n",
    "#                               'alpha' : [ 0.003]\n",
    "#                                }\n",
    "#                            ], \n",
    "#                              [{ 'hidden_layer_sizes' : [(1000, 300)], \n",
    "#                               'alpha' : [ 0.003]\n",
    "#                                }\n",
    "#                            ]\n",
    "#                     )\n",
    "         \n",
    "}\n",
    "\n"
   ]
  },
  {
   "cell_type": "code",
   "execution_count": 85,
   "metadata": {},
   "outputs": [],
   "source": [
    "def my_custom_loss_func(y_true, y_pred):\n",
    "    return sklearn.metrics.f1_score(y_true, y_pred, average=None).min()\n",
    "\n",
    "score_min_f1 = make_scorer(my_custom_loss_func, greater_is_better=True)\n",
    "    \n",
    "def find_optimal_meta_parameters(train_x, train_y, classifier, tuned_parameters_dict, score='f1'):\n",
    "   \n",
    "#!!!TODO: fix this code, in particular - the scoring!!\n",
    "\n",
    "    scores = [score]\n",
    "    for score in scores:\n",
    "        print(\"# Tuning hyper-parameters for %s\" % \"min_f1\")\n",
    "        print()\n",
    "#         cv = RepeatedStratifiedKFold(n_splits=5, n_repeats=2)\n",
    "        cv = StratifiedKFold(n_splits=5)\n",
    "        clf = GridSearchCV( #RandomizedSearchCV( # GridSearchCV(\n",
    "            classifier, tuned_parameters_dict, scoring='%s_macro' % score, #score_min_f1,\n",
    "            verbose=10, \n",
    "            n_jobs=6, cv =cv\n",
    "        )\n",
    "        clf.fit(train_x, train_y)\n",
    "\n",
    "        print(\"Best parameters set found on development set:\")\n",
    "        print()\n",
    "        print(clf.best_params_)\n",
    "        print()\n",
    "        print(\"Grid scores on development set:\")\n",
    "        print()\n",
    "        means = clf.cv_results_['mean_test_score']\n",
    "        stds = clf.cv_results_['std_test_score']\n",
    "        for mean, std, params in zip(means, stds, clf.cv_results_['params']):\n",
    "            print(\"%0.3f (+/-%0.03f) for %r\"\n",
    "                  % (mean, std * 2, params))\n",
    "        print()\n",
    "\n",
    "    return clf.best_estimator_\n"
   ]
  },
  {
   "cell_type": "code",
   "execution_count": 86,
   "metadata": {},
   "outputs": [],
   "source": [
    "##!!!!!! removed the _dropped !!!\n",
    "X_train, X_test, y_train, y_test = train_test_split(features_df, labels_df, test_size = 0.2)\n",
    "scaler = preprocessing.StandardScaler().fit(X_train)\n",
    "X_train_scaled = scaler.transform(X_train)\n",
    "X_test_scaled = scaler.transform(X_test)"
   ]
  },
  {
   "cell_type": "code",
   "execution_count": 422,
   "metadata": {},
   "outputs": [
    {
     "data": {
      "text/html": [
       "<div>\n",
       "<style scoped>\n",
       "    .dataframe tbody tr th:only-of-type {\n",
       "        vertical-align: middle;\n",
       "    }\n",
       "\n",
       "    .dataframe tbody tr th {\n",
       "        vertical-align: top;\n",
       "    }\n",
       "\n",
       "    .dataframe thead th {\n",
       "        text-align: right;\n",
       "    }\n",
       "</style>\n",
       "<table border=\"1\" class=\"dataframe\">\n",
       "  <thead>\n",
       "    <tr style=\"text-align: right;\">\n",
       "      <th></th>\n",
       "      <th>5358fc77b68ca120a07dab3a</th>\n",
       "      <th>5358fc77b68ca120a07dab3c</th>\n",
       "      <th>5358fc77b68ca120a07dab42</th>\n",
       "      <th>5358fc77b68ca120a07dab44</th>\n",
       "      <th>5358fc77b68ca120a07dab45</th>\n",
       "      <th>5358fc77b68ca120a07dab53</th>\n",
       "      <th>5358fc77b68ca120a07dab58</th>\n",
       "      <th>5358fc77b68ca120a07dab5a</th>\n",
       "      <th>5358fc77b68ca120a07dab61</th>\n",
       "      <th>5358fc77b68ca120a07dab62</th>\n",
       "      <th>...</th>\n",
       "      <th>57d5268a376b25d85e8577d9</th>\n",
       "      <th>57d5300d8f3ea8dd5e7e5995</th>\n",
       "      <th>57d530a5376b25d85e8577e3</th>\n",
       "      <th>57d531d4be57e5de5e75ff1e</th>\n",
       "      <th>57d536d2376b25d85e8577e9</th>\n",
       "      <th>57d53f2f2e4e5fe35e7b30e5</th>\n",
       "      <th>57d5408b2e4e5fe35e7b30e9</th>\n",
       "      <th>57d543d0be57e5de5e75ff33</th>\n",
       "      <th>57d547ab8f3ea8dd5e7e59a6</th>\n",
       "      <th>57d552ff376b25d85e8577ff</th>\n",
       "    </tr>\n",
       "  </thead>\n",
       "  <tbody>\n",
       "    <tr>\n",
       "      <th>56d83489e4b01c7098934f48</th>\n",
       "      <td>False</td>\n",
       "      <td>False</td>\n",
       "      <td>False</td>\n",
       "      <td>False</td>\n",
       "      <td>False</td>\n",
       "      <td>False</td>\n",
       "      <td>False</td>\n",
       "      <td>False</td>\n",
       "      <td>False</td>\n",
       "      <td>False</td>\n",
       "      <td>...</td>\n",
       "      <td>False</td>\n",
       "      <td>False</td>\n",
       "      <td>False</td>\n",
       "      <td>False</td>\n",
       "      <td>False</td>\n",
       "      <td>False</td>\n",
       "      <td>False</td>\n",
       "      <td>False</td>\n",
       "      <td>False</td>\n",
       "      <td>False</td>\n",
       "    </tr>\n",
       "    <tr>\n",
       "      <th>56d83489e4b01c7098934f4f</th>\n",
       "      <td>False</td>\n",
       "      <td>False</td>\n",
       "      <td>False</td>\n",
       "      <td>False</td>\n",
       "      <td>False</td>\n",
       "      <td>False</td>\n",
       "      <td>False</td>\n",
       "      <td>False</td>\n",
       "      <td>False</td>\n",
       "      <td>False</td>\n",
       "      <td>...</td>\n",
       "      <td>False</td>\n",
       "      <td>False</td>\n",
       "      <td>False</td>\n",
       "      <td>False</td>\n",
       "      <td>False</td>\n",
       "      <td>False</td>\n",
       "      <td>False</td>\n",
       "      <td>False</td>\n",
       "      <td>False</td>\n",
       "      <td>False</td>\n",
       "    </tr>\n",
       "    <tr>\n",
       "      <th>56d83489e4b01c7098934f50</th>\n",
       "      <td>False</td>\n",
       "      <td>False</td>\n",
       "      <td>False</td>\n",
       "      <td>False</td>\n",
       "      <td>False</td>\n",
       "      <td>False</td>\n",
       "      <td>False</td>\n",
       "      <td>False</td>\n",
       "      <td>False</td>\n",
       "      <td>False</td>\n",
       "      <td>...</td>\n",
       "      <td>False</td>\n",
       "      <td>False</td>\n",
       "      <td>False</td>\n",
       "      <td>False</td>\n",
       "      <td>False</td>\n",
       "      <td>False</td>\n",
       "      <td>False</td>\n",
       "      <td>False</td>\n",
       "      <td>False</td>\n",
       "      <td>False</td>\n",
       "    </tr>\n",
       "    <tr>\n",
       "      <th>56d83489e4b01c7098934f51</th>\n",
       "      <td>False</td>\n",
       "      <td>False</td>\n",
       "      <td>False</td>\n",
       "      <td>False</td>\n",
       "      <td>False</td>\n",
       "      <td>False</td>\n",
       "      <td>False</td>\n",
       "      <td>False</td>\n",
       "      <td>False</td>\n",
       "      <td>False</td>\n",
       "      <td>...</td>\n",
       "      <td>False</td>\n",
       "      <td>False</td>\n",
       "      <td>False</td>\n",
       "      <td>False</td>\n",
       "      <td>False</td>\n",
       "      <td>False</td>\n",
       "      <td>False</td>\n",
       "      <td>False</td>\n",
       "      <td>False</td>\n",
       "      <td>False</td>\n",
       "    </tr>\n",
       "    <tr>\n",
       "      <th>56d83489e4b025a920ad5e6e</th>\n",
       "      <td>False</td>\n",
       "      <td>False</td>\n",
       "      <td>False</td>\n",
       "      <td>False</td>\n",
       "      <td>False</td>\n",
       "      <td>False</td>\n",
       "      <td>False</td>\n",
       "      <td>False</td>\n",
       "      <td>False</td>\n",
       "      <td>False</td>\n",
       "      <td>...</td>\n",
       "      <td>False</td>\n",
       "      <td>False</td>\n",
       "      <td>False</td>\n",
       "      <td>False</td>\n",
       "      <td>False</td>\n",
       "      <td>False</td>\n",
       "      <td>False</td>\n",
       "      <td>False</td>\n",
       "      <td>False</td>\n",
       "      <td>False</td>\n",
       "    </tr>\n",
       "    <tr>\n",
       "      <th>...</th>\n",
       "      <td>...</td>\n",
       "      <td>...</td>\n",
       "      <td>...</td>\n",
       "      <td>...</td>\n",
       "      <td>...</td>\n",
       "      <td>...</td>\n",
       "      <td>...</td>\n",
       "      <td>...</td>\n",
       "      <td>...</td>\n",
       "      <td>...</td>\n",
       "      <td>...</td>\n",
       "      <td>...</td>\n",
       "      <td>...</td>\n",
       "      <td>...</td>\n",
       "      <td>...</td>\n",
       "      <td>...</td>\n",
       "      <td>...</td>\n",
       "      <td>...</td>\n",
       "      <td>...</td>\n",
       "      <td>...</td>\n",
       "      <td>...</td>\n",
       "    </tr>\n",
       "    <tr>\n",
       "      <th>57722a948f0c6d34c1dabec4</th>\n",
       "      <td>False</td>\n",
       "      <td>False</td>\n",
       "      <td>False</td>\n",
       "      <td>False</td>\n",
       "      <td>False</td>\n",
       "      <td>False</td>\n",
       "      <td>False</td>\n",
       "      <td>False</td>\n",
       "      <td>False</td>\n",
       "      <td>False</td>\n",
       "      <td>...</td>\n",
       "      <td>False</td>\n",
       "      <td>False</td>\n",
       "      <td>False</td>\n",
       "      <td>False</td>\n",
       "      <td>False</td>\n",
       "      <td>False</td>\n",
       "      <td>False</td>\n",
       "      <td>False</td>\n",
       "      <td>False</td>\n",
       "      <td>False</td>\n",
       "    </tr>\n",
       "    <tr>\n",
       "      <th>5773709693808d549f0aeeda</th>\n",
       "      <td>False</td>\n",
       "      <td>False</td>\n",
       "      <td>False</td>\n",
       "      <td>False</td>\n",
       "      <td>False</td>\n",
       "      <td>False</td>\n",
       "      <td>False</td>\n",
       "      <td>False</td>\n",
       "      <td>False</td>\n",
       "      <td>False</td>\n",
       "      <td>...</td>\n",
       "      <td>False</td>\n",
       "      <td>False</td>\n",
       "      <td>False</td>\n",
       "      <td>False</td>\n",
       "      <td>False</td>\n",
       "      <td>False</td>\n",
       "      <td>False</td>\n",
       "      <td>False</td>\n",
       "      <td>False</td>\n",
       "      <td>False</td>\n",
       "    </tr>\n",
       "    <tr>\n",
       "      <th>5773a2b72ba52333810dc7b8</th>\n",
       "      <td>False</td>\n",
       "      <td>False</td>\n",
       "      <td>False</td>\n",
       "      <td>False</td>\n",
       "      <td>False</td>\n",
       "      <td>False</td>\n",
       "      <td>False</td>\n",
       "      <td>False</td>\n",
       "      <td>False</td>\n",
       "      <td>False</td>\n",
       "      <td>...</td>\n",
       "      <td>False</td>\n",
       "      <td>False</td>\n",
       "      <td>False</td>\n",
       "      <td>False</td>\n",
       "      <td>False</td>\n",
       "      <td>False</td>\n",
       "      <td>False</td>\n",
       "      <td>False</td>\n",
       "      <td>False</td>\n",
       "      <td>False</td>\n",
       "    </tr>\n",
       "    <tr>\n",
       "      <th>5773ce253e747804ba9438fa</th>\n",
       "      <td>False</td>\n",
       "      <td>False</td>\n",
       "      <td>False</td>\n",
       "      <td>False</td>\n",
       "      <td>False</td>\n",
       "      <td>False</td>\n",
       "      <td>False</td>\n",
       "      <td>False</td>\n",
       "      <td>False</td>\n",
       "      <td>False</td>\n",
       "      <td>...</td>\n",
       "      <td>False</td>\n",
       "      <td>False</td>\n",
       "      <td>False</td>\n",
       "      <td>False</td>\n",
       "      <td>False</td>\n",
       "      <td>False</td>\n",
       "      <td>False</td>\n",
       "      <td>False</td>\n",
       "      <td>False</td>\n",
       "      <td>False</td>\n",
       "    </tr>\n",
       "    <tr>\n",
       "      <th>577433cae8760d63a5c01356</th>\n",
       "      <td>False</td>\n",
       "      <td>False</td>\n",
       "      <td>False</td>\n",
       "      <td>False</td>\n",
       "      <td>False</td>\n",
       "      <td>False</td>\n",
       "      <td>False</td>\n",
       "      <td>False</td>\n",
       "      <td>False</td>\n",
       "      <td>False</td>\n",
       "      <td>...</td>\n",
       "      <td>False</td>\n",
       "      <td>False</td>\n",
       "      <td>False</td>\n",
       "      <td>False</td>\n",
       "      <td>False</td>\n",
       "      <td>False</td>\n",
       "      <td>False</td>\n",
       "      <td>False</td>\n",
       "      <td>False</td>\n",
       "      <td>False</td>\n",
       "    </tr>\n",
       "  </tbody>\n",
       "</table>\n",
       "<p>21122 rows × 3586 columns</p>\n",
       "</div>"
      ],
      "text/plain": [
       "                          5358fc77b68ca120a07dab3a  5358fc77b68ca120a07dab3c  \\\n",
       "56d83489e4b01c7098934f48                     False                     False   \n",
       "56d83489e4b01c7098934f4f                     False                     False   \n",
       "56d83489e4b01c7098934f50                     False                     False   \n",
       "56d83489e4b01c7098934f51                     False                     False   \n",
       "56d83489e4b025a920ad5e6e                     False                     False   \n",
       "...                                            ...                       ...   \n",
       "57722a948f0c6d34c1dabec4                     False                     False   \n",
       "5773709693808d549f0aeeda                     False                     False   \n",
       "5773a2b72ba52333810dc7b8                     False                     False   \n",
       "5773ce253e747804ba9438fa                     False                     False   \n",
       "577433cae8760d63a5c01356                     False                     False   \n",
       "\n",
       "                          5358fc77b68ca120a07dab42  5358fc77b68ca120a07dab44  \\\n",
       "56d83489e4b01c7098934f48                     False                     False   \n",
       "56d83489e4b01c7098934f4f                     False                     False   \n",
       "56d83489e4b01c7098934f50                     False                     False   \n",
       "56d83489e4b01c7098934f51                     False                     False   \n",
       "56d83489e4b025a920ad5e6e                     False                     False   \n",
       "...                                            ...                       ...   \n",
       "57722a948f0c6d34c1dabec4                     False                     False   \n",
       "5773709693808d549f0aeeda                     False                     False   \n",
       "5773a2b72ba52333810dc7b8                     False                     False   \n",
       "5773ce253e747804ba9438fa                     False                     False   \n",
       "577433cae8760d63a5c01356                     False                     False   \n",
       "\n",
       "                          5358fc77b68ca120a07dab45  5358fc77b68ca120a07dab53  \\\n",
       "56d83489e4b01c7098934f48                     False                     False   \n",
       "56d83489e4b01c7098934f4f                     False                     False   \n",
       "56d83489e4b01c7098934f50                     False                     False   \n",
       "56d83489e4b01c7098934f51                     False                     False   \n",
       "56d83489e4b025a920ad5e6e                     False                     False   \n",
       "...                                            ...                       ...   \n",
       "57722a948f0c6d34c1dabec4                     False                     False   \n",
       "5773709693808d549f0aeeda                     False                     False   \n",
       "5773a2b72ba52333810dc7b8                     False                     False   \n",
       "5773ce253e747804ba9438fa                     False                     False   \n",
       "577433cae8760d63a5c01356                     False                     False   \n",
       "\n",
       "                          5358fc77b68ca120a07dab58  5358fc77b68ca120a07dab5a  \\\n",
       "56d83489e4b01c7098934f48                     False                     False   \n",
       "56d83489e4b01c7098934f4f                     False                     False   \n",
       "56d83489e4b01c7098934f50                     False                     False   \n",
       "56d83489e4b01c7098934f51                     False                     False   \n",
       "56d83489e4b025a920ad5e6e                     False                     False   \n",
       "...                                            ...                       ...   \n",
       "57722a948f0c6d34c1dabec4                     False                     False   \n",
       "5773709693808d549f0aeeda                     False                     False   \n",
       "5773a2b72ba52333810dc7b8                     False                     False   \n",
       "5773ce253e747804ba9438fa                     False                     False   \n",
       "577433cae8760d63a5c01356                     False                     False   \n",
       "\n",
       "                          5358fc77b68ca120a07dab61  5358fc77b68ca120a07dab62  \\\n",
       "56d83489e4b01c7098934f48                     False                     False   \n",
       "56d83489e4b01c7098934f4f                     False                     False   \n",
       "56d83489e4b01c7098934f50                     False                     False   \n",
       "56d83489e4b01c7098934f51                     False                     False   \n",
       "56d83489e4b025a920ad5e6e                     False                     False   \n",
       "...                                            ...                       ...   \n",
       "57722a948f0c6d34c1dabec4                     False                     False   \n",
       "5773709693808d549f0aeeda                     False                     False   \n",
       "5773a2b72ba52333810dc7b8                     False                     False   \n",
       "5773ce253e747804ba9438fa                     False                     False   \n",
       "577433cae8760d63a5c01356                     False                     False   \n",
       "\n",
       "                          ...  57d5268a376b25d85e8577d9  \\\n",
       "56d83489e4b01c7098934f48  ...                     False   \n",
       "56d83489e4b01c7098934f4f  ...                     False   \n",
       "56d83489e4b01c7098934f50  ...                     False   \n",
       "56d83489e4b01c7098934f51  ...                     False   \n",
       "56d83489e4b025a920ad5e6e  ...                     False   \n",
       "...                       ...                       ...   \n",
       "57722a948f0c6d34c1dabec4  ...                     False   \n",
       "5773709693808d549f0aeeda  ...                     False   \n",
       "5773a2b72ba52333810dc7b8  ...                     False   \n",
       "5773ce253e747804ba9438fa  ...                     False   \n",
       "577433cae8760d63a5c01356  ...                     False   \n",
       "\n",
       "                          57d5300d8f3ea8dd5e7e5995  57d530a5376b25d85e8577e3  \\\n",
       "56d83489e4b01c7098934f48                     False                     False   \n",
       "56d83489e4b01c7098934f4f                     False                     False   \n",
       "56d83489e4b01c7098934f50                     False                     False   \n",
       "56d83489e4b01c7098934f51                     False                     False   \n",
       "56d83489e4b025a920ad5e6e                     False                     False   \n",
       "...                                            ...                       ...   \n",
       "57722a948f0c6d34c1dabec4                     False                     False   \n",
       "5773709693808d549f0aeeda                     False                     False   \n",
       "5773a2b72ba52333810dc7b8                     False                     False   \n",
       "5773ce253e747804ba9438fa                     False                     False   \n",
       "577433cae8760d63a5c01356                     False                     False   \n",
       "\n",
       "                          57d531d4be57e5de5e75ff1e  57d536d2376b25d85e8577e9  \\\n",
       "56d83489e4b01c7098934f48                     False                     False   \n",
       "56d83489e4b01c7098934f4f                     False                     False   \n",
       "56d83489e4b01c7098934f50                     False                     False   \n",
       "56d83489e4b01c7098934f51                     False                     False   \n",
       "56d83489e4b025a920ad5e6e                     False                     False   \n",
       "...                                            ...                       ...   \n",
       "57722a948f0c6d34c1dabec4                     False                     False   \n",
       "5773709693808d549f0aeeda                     False                     False   \n",
       "5773a2b72ba52333810dc7b8                     False                     False   \n",
       "5773ce253e747804ba9438fa                     False                     False   \n",
       "577433cae8760d63a5c01356                     False                     False   \n",
       "\n",
       "                          57d53f2f2e4e5fe35e7b30e5  57d5408b2e4e5fe35e7b30e9  \\\n",
       "56d83489e4b01c7098934f48                     False                     False   \n",
       "56d83489e4b01c7098934f4f                     False                     False   \n",
       "56d83489e4b01c7098934f50                     False                     False   \n",
       "56d83489e4b01c7098934f51                     False                     False   \n",
       "56d83489e4b025a920ad5e6e                     False                     False   \n",
       "...                                            ...                       ...   \n",
       "57722a948f0c6d34c1dabec4                     False                     False   \n",
       "5773709693808d549f0aeeda                     False                     False   \n",
       "5773a2b72ba52333810dc7b8                     False                     False   \n",
       "5773ce253e747804ba9438fa                     False                     False   \n",
       "577433cae8760d63a5c01356                     False                     False   \n",
       "\n",
       "                          57d543d0be57e5de5e75ff33  57d547ab8f3ea8dd5e7e59a6  \\\n",
       "56d83489e4b01c7098934f48                     False                     False   \n",
       "56d83489e4b01c7098934f4f                     False                     False   \n",
       "56d83489e4b01c7098934f50                     False                     False   \n",
       "56d83489e4b01c7098934f51                     False                     False   \n",
       "56d83489e4b025a920ad5e6e                     False                     False   \n",
       "...                                            ...                       ...   \n",
       "57722a948f0c6d34c1dabec4                     False                     False   \n",
       "5773709693808d549f0aeeda                     False                     False   \n",
       "5773a2b72ba52333810dc7b8                     False                     False   \n",
       "5773ce253e747804ba9438fa                     False                     False   \n",
       "577433cae8760d63a5c01356                     False                     False   \n",
       "\n",
       "                          57d552ff376b25d85e8577ff  \n",
       "56d83489e4b01c7098934f48                     False  \n",
       "56d83489e4b01c7098934f4f                     False  \n",
       "56d83489e4b01c7098934f50                     False  \n",
       "56d83489e4b01c7098934f51                     False  \n",
       "56d83489e4b025a920ad5e6e                     False  \n",
       "...                                            ...  \n",
       "57722a948f0c6d34c1dabec4                     False  \n",
       "5773709693808d549f0aeeda                     False  \n",
       "5773a2b72ba52333810dc7b8                     False  \n",
       "5773ce253e747804ba9438fa                     False  \n",
       "577433cae8760d63a5c01356                     False  \n",
       "\n",
       "[21122 rows x 3586 columns]"
      ]
     },
     "execution_count": 422,
     "metadata": {},
     "output_type": "execute_result"
    }
   ],
   "source": []
  },
  {
   "cell_type": "code",
   "execution_count": 88,
   "metadata": {
    "scrolled": false
   },
   "outputs": [
    {
     "name": "stdout",
     "output_type": "stream",
     "text": [
      "\n",
      " ############## Tuning meta parameters for classifier random_forest ########### \n",
      "\n",
      "# Tuning hyper-parameters for min_f1\n",
      "\n",
      "Fitting 5 folds for each of 42 candidates, totalling 210 fits\n"
     ]
    },
    {
     "name": "stderr",
     "output_type": "stream",
     "text": [
      "[Parallel(n_jobs=6)]: Using backend LokyBackend with 6 concurrent workers.\n",
      "[Parallel(n_jobs=6)]: Done   1 tasks      | elapsed:    2.4s\n",
      "[Parallel(n_jobs=6)]: Done   6 tasks      | elapsed:    6.6s\n",
      "[Parallel(n_jobs=6)]: Done  13 tasks      | elapsed:   17.9s\n",
      "[Parallel(n_jobs=6)]: Done  20 tasks      | elapsed:   41.3s\n",
      "[Parallel(n_jobs=6)]: Done  29 tasks      | elapsed:  1.3min\n",
      "[Parallel(n_jobs=6)]: Done  38 tasks      | elapsed:  1.6min\n",
      "[Parallel(n_jobs=6)]: Done  49 tasks      | elapsed:  2.3min\n",
      "[Parallel(n_jobs=6)]: Done  60 tasks      | elapsed:  3.0min\n",
      "[Parallel(n_jobs=6)]: Done  73 tasks      | elapsed:  3.6min\n",
      "[Parallel(n_jobs=6)]: Done  86 tasks      | elapsed:  4.8min\n",
      "[Parallel(n_jobs=6)]: Done 101 tasks      | elapsed:  5.6min\n",
      "[Parallel(n_jobs=6)]: Done 116 tasks      | elapsed:  6.9min\n",
      "[Parallel(n_jobs=6)]: Done 133 tasks      | elapsed:  7.7min\n",
      "[Parallel(n_jobs=6)]: Done 150 tasks      | elapsed:  9.2min\n",
      "[Parallel(n_jobs=6)]: Done 169 tasks      | elapsed: 10.4min\n",
      "[Parallel(n_jobs=6)]: Done 188 tasks      | elapsed: 11.9min\n",
      "[Parallel(n_jobs=6)]: Done 210 out of 210 | elapsed: 13.8min finished\n"
     ]
    },
    {
     "name": "stdout",
     "output_type": "stream",
     "text": [
      "Best parameters set found on development set:\n",
      "\n",
      "{'class_weight': 'balanced', 'max_depth': 10, 'n_estimators': 100}\n",
      "\n",
      "Grid scores on development set:\n",
      "\n",
      "0.739 (+/-0.014) for {'class_weight': 'balanced', 'max_depth': 10, 'n_estimators': 100}\n",
      "0.738 (+/-0.009) for {'class_weight': 'balanced', 'max_depth': 10, 'n_estimators': 200}\n",
      "0.738 (+/-0.013) for {'class_weight': 'balanced', 'max_depth': 10, 'n_estimators': 500}\n",
      "0.738 (+/-0.011) for {'class_weight': 'balanced', 'max_depth': 10, 'n_estimators': 1000}\n",
      "0.738 (+/-0.012) for {'class_weight': 'balanced', 'max_depth': 10, 'n_estimators': 1200}\n",
      "0.737 (+/-0.011) for {'class_weight': 'balanced', 'max_depth': 10, 'n_estimators': 1500}\n",
      "0.736 (+/-0.015) for {'class_weight': 'balanced', 'max_depth': 20, 'n_estimators': 100}\n",
      "0.736 (+/-0.014) for {'class_weight': 'balanced', 'max_depth': 20, 'n_estimators': 200}\n",
      "0.735 (+/-0.015) for {'class_weight': 'balanced', 'max_depth': 20, 'n_estimators': 500}\n",
      "0.737 (+/-0.015) for {'class_weight': 'balanced', 'max_depth': 20, 'n_estimators': 1000}\n",
      "0.737 (+/-0.016) for {'class_weight': 'balanced', 'max_depth': 20, 'n_estimators': 1200}\n",
      "0.737 (+/-0.013) for {'class_weight': 'balanced', 'max_depth': 20, 'n_estimators': 1500}\n",
      "0.702 (+/-0.036) for {'class_weight': 'balanced', 'max_depth': 30, 'n_estimators': 100}\n",
      "0.702 (+/-0.032) for {'class_weight': 'balanced', 'max_depth': 30, 'n_estimators': 200}\n",
      "0.701 (+/-0.030) for {'class_weight': 'balanced', 'max_depth': 30, 'n_estimators': 500}\n",
      "0.700 (+/-0.029) for {'class_weight': 'balanced', 'max_depth': 30, 'n_estimators': 1000}\n",
      "0.700 (+/-0.030) for {'class_weight': 'balanced', 'max_depth': 30, 'n_estimators': 1200}\n",
      "0.700 (+/-0.030) for {'class_weight': 'balanced', 'max_depth': 30, 'n_estimators': 1500}\n",
      "0.692 (+/-0.035) for {'class_weight': 'balanced', 'max_depth': 40, 'n_estimators': 100}\n",
      "0.695 (+/-0.031) for {'class_weight': 'balanced', 'max_depth': 40, 'n_estimators': 200}\n",
      "0.694 (+/-0.030) for {'class_weight': 'balanced', 'max_depth': 40, 'n_estimators': 500}\n",
      "0.694 (+/-0.028) for {'class_weight': 'balanced', 'max_depth': 40, 'n_estimators': 1000}\n",
      "0.694 (+/-0.031) for {'class_weight': 'balanced', 'max_depth': 40, 'n_estimators': 1200}\n",
      "0.693 (+/-0.030) for {'class_weight': 'balanced', 'max_depth': 40, 'n_estimators': 1500}\n",
      "0.691 (+/-0.028) for {'class_weight': 'balanced', 'max_depth': 50, 'n_estimators': 100}\n",
      "0.694 (+/-0.034) for {'class_weight': 'balanced', 'max_depth': 50, 'n_estimators': 200}\n",
      "0.693 (+/-0.030) for {'class_weight': 'balanced', 'max_depth': 50, 'n_estimators': 500}\n",
      "0.694 (+/-0.032) for {'class_weight': 'balanced', 'max_depth': 50, 'n_estimators': 1000}\n",
      "0.693 (+/-0.034) for {'class_weight': 'balanced', 'max_depth': 50, 'n_estimators': 1200}\n",
      "0.692 (+/-0.034) for {'class_weight': 'balanced', 'max_depth': 50, 'n_estimators': 1500}\n",
      "0.693 (+/-0.030) for {'class_weight': 'balanced', 'max_depth': 60, 'n_estimators': 100}\n",
      "0.692 (+/-0.032) for {'class_weight': 'balanced', 'max_depth': 60, 'n_estimators': 200}\n",
      "0.694 (+/-0.035) for {'class_weight': 'balanced', 'max_depth': 60, 'n_estimators': 500}\n",
      "0.693 (+/-0.032) for {'class_weight': 'balanced', 'max_depth': 60, 'n_estimators': 1000}\n",
      "0.693 (+/-0.032) for {'class_weight': 'balanced', 'max_depth': 60, 'n_estimators': 1200}\n",
      "0.692 (+/-0.030) for {'class_weight': 'balanced', 'max_depth': 60, 'n_estimators': 1500}\n",
      "0.691 (+/-0.035) for {'class_weight': 'balanced', 'max_depth': 100, 'n_estimators': 100}\n",
      "0.693 (+/-0.036) for {'class_weight': 'balanced', 'max_depth': 100, 'n_estimators': 200}\n",
      "0.694 (+/-0.032) for {'class_weight': 'balanced', 'max_depth': 100, 'n_estimators': 500}\n",
      "0.693 (+/-0.033) for {'class_weight': 'balanced', 'max_depth': 100, 'n_estimators': 1000}\n",
      "0.693 (+/-0.036) for {'class_weight': 'balanced', 'max_depth': 100, 'n_estimators': 1200}\n",
      "0.693 (+/-0.033) for {'class_weight': 'balanced', 'max_depth': 100, 'n_estimators': 1500}\n",
      "\n",
      "\n",
      " ############## Tuning meta parameters for classifier xgboost ########### \n",
      "\n",
      "# Tuning hyper-parameters for min_f1\n",
      "\n",
      "Fitting 5 folds for each of 80 candidates, totalling 400 fits\n"
     ]
    },
    {
     "name": "stderr",
     "output_type": "stream",
     "text": [
      "[Parallel(n_jobs=6)]: Using backend LokyBackend with 6 concurrent workers.\n",
      "[Parallel(n_jobs=6)]: Done   1 tasks      | elapsed:   28.0s\n",
      "[Parallel(n_jobs=6)]: Done   6 tasks      | elapsed:   28.8s\n",
      "[Parallel(n_jobs=6)]: Done  13 tasks      | elapsed:  1.3min\n",
      "[Parallel(n_jobs=6)]: Done  20 tasks      | elapsed:  1.8min\n",
      "[Parallel(n_jobs=6)]: Done  29 tasks      | elapsed:  2.8min\n",
      "[Parallel(n_jobs=6)]: Done  38 tasks      | elapsed:  3.9min\n",
      "[Parallel(n_jobs=6)]: Done  49 tasks      | elapsed:  5.8min\n",
      "[Parallel(n_jobs=6)]: Done  60 tasks      | elapsed:  7.3min\n",
      "[Parallel(n_jobs=6)]: Done  73 tasks      | elapsed: 10.5min\n"
     ]
    },
    {
     "ename": "KeyboardInterrupt",
     "evalue": "",
     "output_type": "error",
     "traceback": [
      "\u001b[1;31m---------------------------------------------------------------------------\u001b[0m",
      "\u001b[1;31mKeyboardInterrupt\u001b[0m                         Traceback (most recent call last)",
      "\u001b[1;32m<ipython-input-88-95136ee2c0bb>\u001b[0m in \u001b[0;36m<module>\u001b[1;34m\u001b[0m\n\u001b[0;32m     22\u001b[0m     curr_best_estimator = find_optimal_meta_parameters(train_X, train_y , clf_params_to_tune.clf, \n\u001b[0;32m     23\u001b[0m                                  \u001b[0mparams_to_tune\u001b[0m \u001b[1;33m,\u001b[0m\u001b[1;33m\u001b[0m\u001b[1;33m\u001b[0m\u001b[0m\n\u001b[1;32m---> 24\u001b[1;33m                                  score='f1')\n\u001b[0m\u001b[0;32m     25\u001b[0m     \u001b[0mtuned_classifiers\u001b[0m\u001b[1;33m[\u001b[0m\u001b[0mclfname\u001b[0m\u001b[1;33m]\u001b[0m \u001b[1;33m=\u001b[0m \u001b[0mcurr_best_estimator\u001b[0m\u001b[1;33m\u001b[0m\u001b[1;33m\u001b[0m\u001b[0m\n\u001b[0;32m     26\u001b[0m \u001b[1;33m\u001b[0m\u001b[0m\n",
      "\u001b[1;32m<ipython-input-85-0d8665f38f50>\u001b[0m in \u001b[0;36mfind_optimal_meta_parameters\u001b[1;34m(train_x, train_y, classifier, tuned_parameters_dict, score)\u001b[0m\n\u001b[0;32m     19\u001b[0m             \u001b[0mn_jobs\u001b[0m\u001b[1;33m=\u001b[0m\u001b[1;36m6\u001b[0m\u001b[1;33m,\u001b[0m \u001b[0mcv\u001b[0m \u001b[1;33m=\u001b[0m\u001b[0mcv\u001b[0m\u001b[1;33m\u001b[0m\u001b[1;33m\u001b[0m\u001b[0m\n\u001b[0;32m     20\u001b[0m         )\n\u001b[1;32m---> 21\u001b[1;33m         \u001b[0mclf\u001b[0m\u001b[1;33m.\u001b[0m\u001b[0mfit\u001b[0m\u001b[1;33m(\u001b[0m\u001b[0mtrain_x\u001b[0m\u001b[1;33m,\u001b[0m \u001b[0mtrain_y\u001b[0m\u001b[1;33m)\u001b[0m\u001b[1;33m\u001b[0m\u001b[1;33m\u001b[0m\u001b[0m\n\u001b[0m\u001b[0;32m     22\u001b[0m \u001b[1;33m\u001b[0m\u001b[0m\n\u001b[0;32m     23\u001b[0m         \u001b[0mprint\u001b[0m\u001b[1;33m(\u001b[0m\u001b[1;34m\"Best parameters set found on development set:\"\u001b[0m\u001b[1;33m)\u001b[0m\u001b[1;33m\u001b[0m\u001b[1;33m\u001b[0m\u001b[0m\n",
      "\u001b[1;32m~\\anaconda3\\lib\\site-packages\\sklearn\\utils\\validation.py\u001b[0m in \u001b[0;36minner_f\u001b[1;34m(*args, **kwargs)\u001b[0m\n\u001b[0;32m     70\u001b[0m                           FutureWarning)\n\u001b[0;32m     71\u001b[0m         \u001b[0mkwargs\u001b[0m\u001b[1;33m.\u001b[0m\u001b[0mupdate\u001b[0m\u001b[1;33m(\u001b[0m\u001b[1;33m{\u001b[0m\u001b[0mk\u001b[0m\u001b[1;33m:\u001b[0m \u001b[0marg\u001b[0m \u001b[1;32mfor\u001b[0m \u001b[0mk\u001b[0m\u001b[1;33m,\u001b[0m \u001b[0marg\u001b[0m \u001b[1;32min\u001b[0m \u001b[0mzip\u001b[0m\u001b[1;33m(\u001b[0m\u001b[0msig\u001b[0m\u001b[1;33m.\u001b[0m\u001b[0mparameters\u001b[0m\u001b[1;33m,\u001b[0m \u001b[0margs\u001b[0m\u001b[1;33m)\u001b[0m\u001b[1;33m}\u001b[0m\u001b[1;33m)\u001b[0m\u001b[1;33m\u001b[0m\u001b[1;33m\u001b[0m\u001b[0m\n\u001b[1;32m---> 72\u001b[1;33m         \u001b[1;32mreturn\u001b[0m \u001b[0mf\u001b[0m\u001b[1;33m(\u001b[0m\u001b[1;33m**\u001b[0m\u001b[0mkwargs\u001b[0m\u001b[1;33m)\u001b[0m\u001b[1;33m\u001b[0m\u001b[1;33m\u001b[0m\u001b[0m\n\u001b[0m\u001b[0;32m     73\u001b[0m     \u001b[1;32mreturn\u001b[0m \u001b[0minner_f\u001b[0m\u001b[1;33m\u001b[0m\u001b[1;33m\u001b[0m\u001b[0m\n\u001b[0;32m     74\u001b[0m \u001b[1;33m\u001b[0m\u001b[0m\n",
      "\u001b[1;32m~\\anaconda3\\lib\\site-packages\\sklearn\\model_selection\\_search.py\u001b[0m in \u001b[0;36mfit\u001b[1;34m(self, X, y, groups, **fit_params)\u001b[0m\n\u001b[0;32m    734\u001b[0m                 \u001b[1;32mreturn\u001b[0m \u001b[0mresults\u001b[0m\u001b[1;33m\u001b[0m\u001b[1;33m\u001b[0m\u001b[0m\n\u001b[0;32m    735\u001b[0m \u001b[1;33m\u001b[0m\u001b[0m\n\u001b[1;32m--> 736\u001b[1;33m             \u001b[0mself\u001b[0m\u001b[1;33m.\u001b[0m\u001b[0m_run_search\u001b[0m\u001b[1;33m(\u001b[0m\u001b[0mevaluate_candidates\u001b[0m\u001b[1;33m)\u001b[0m\u001b[1;33m\u001b[0m\u001b[1;33m\u001b[0m\u001b[0m\n\u001b[0m\u001b[0;32m    737\u001b[0m \u001b[1;33m\u001b[0m\u001b[0m\n\u001b[0;32m    738\u001b[0m         \u001b[1;31m# For multi-metric evaluation, store the best_index_, best_params_ and\u001b[0m\u001b[1;33m\u001b[0m\u001b[1;33m\u001b[0m\u001b[1;33m\u001b[0m\u001b[0m\n",
      "\u001b[1;32m~\\anaconda3\\lib\\site-packages\\sklearn\\model_selection\\_search.py\u001b[0m in \u001b[0;36m_run_search\u001b[1;34m(self, evaluate_candidates)\u001b[0m\n\u001b[0;32m   1186\u001b[0m     \u001b[1;32mdef\u001b[0m \u001b[0m_run_search\u001b[0m\u001b[1;33m(\u001b[0m\u001b[0mself\u001b[0m\u001b[1;33m,\u001b[0m \u001b[0mevaluate_candidates\u001b[0m\u001b[1;33m)\u001b[0m\u001b[1;33m:\u001b[0m\u001b[1;33m\u001b[0m\u001b[1;33m\u001b[0m\u001b[0m\n\u001b[0;32m   1187\u001b[0m         \u001b[1;34m\"\"\"Search all candidates in param_grid\"\"\"\u001b[0m\u001b[1;33m\u001b[0m\u001b[1;33m\u001b[0m\u001b[0m\n\u001b[1;32m-> 1188\u001b[1;33m         \u001b[0mevaluate_candidates\u001b[0m\u001b[1;33m(\u001b[0m\u001b[0mParameterGrid\u001b[0m\u001b[1;33m(\u001b[0m\u001b[0mself\u001b[0m\u001b[1;33m.\u001b[0m\u001b[0mparam_grid\u001b[0m\u001b[1;33m)\u001b[0m\u001b[1;33m)\u001b[0m\u001b[1;33m\u001b[0m\u001b[1;33m\u001b[0m\u001b[0m\n\u001b[0m\u001b[0;32m   1189\u001b[0m \u001b[1;33m\u001b[0m\u001b[0m\n\u001b[0;32m   1190\u001b[0m \u001b[1;33m\u001b[0m\u001b[0m\n",
      "\u001b[1;32m~\\anaconda3\\lib\\site-packages\\sklearn\\model_selection\\_search.py\u001b[0m in \u001b[0;36mevaluate_candidates\u001b[1;34m(candidate_params)\u001b[0m\n\u001b[0;32m    713\u001b[0m                                \u001b[1;32mfor\u001b[0m \u001b[0mparameters\u001b[0m\u001b[1;33m,\u001b[0m \u001b[1;33m(\u001b[0m\u001b[0mtrain\u001b[0m\u001b[1;33m,\u001b[0m \u001b[0mtest\u001b[0m\u001b[1;33m)\u001b[0m\u001b[1;33m\u001b[0m\u001b[1;33m\u001b[0m\u001b[0m\n\u001b[0;32m    714\u001b[0m                                in product(candidate_params,\n\u001b[1;32m--> 715\u001b[1;33m                                           cv.split(X, y, groups)))\n\u001b[0m\u001b[0;32m    716\u001b[0m \u001b[1;33m\u001b[0m\u001b[0m\n\u001b[0;32m    717\u001b[0m                 \u001b[1;32mif\u001b[0m \u001b[0mlen\u001b[0m\u001b[1;33m(\u001b[0m\u001b[0mout\u001b[0m\u001b[1;33m)\u001b[0m \u001b[1;33m<\u001b[0m \u001b[1;36m1\u001b[0m\u001b[1;33m:\u001b[0m\u001b[1;33m\u001b[0m\u001b[1;33m\u001b[0m\u001b[0m\n",
      "\u001b[1;32m~\\anaconda3\\lib\\site-packages\\joblib\\parallel.py\u001b[0m in \u001b[0;36m__call__\u001b[1;34m(self, iterable)\u001b[0m\n\u001b[0;32m   1015\u001b[0m \u001b[1;33m\u001b[0m\u001b[0m\n\u001b[0;32m   1016\u001b[0m             \u001b[1;32mwith\u001b[0m \u001b[0mself\u001b[0m\u001b[1;33m.\u001b[0m\u001b[0m_backend\u001b[0m\u001b[1;33m.\u001b[0m\u001b[0mretrieval_context\u001b[0m\u001b[1;33m(\u001b[0m\u001b[1;33m)\u001b[0m\u001b[1;33m:\u001b[0m\u001b[1;33m\u001b[0m\u001b[1;33m\u001b[0m\u001b[0m\n\u001b[1;32m-> 1017\u001b[1;33m                 \u001b[0mself\u001b[0m\u001b[1;33m.\u001b[0m\u001b[0mretrieve\u001b[0m\u001b[1;33m(\u001b[0m\u001b[1;33m)\u001b[0m\u001b[1;33m\u001b[0m\u001b[1;33m\u001b[0m\u001b[0m\n\u001b[0m\u001b[0;32m   1018\u001b[0m             \u001b[1;31m# Make sure that we get a last message telling us we are done\u001b[0m\u001b[1;33m\u001b[0m\u001b[1;33m\u001b[0m\u001b[1;33m\u001b[0m\u001b[0m\n\u001b[0;32m   1019\u001b[0m             \u001b[0melapsed_time\u001b[0m \u001b[1;33m=\u001b[0m \u001b[0mtime\u001b[0m\u001b[1;33m.\u001b[0m\u001b[0mtime\u001b[0m\u001b[1;33m(\u001b[0m\u001b[1;33m)\u001b[0m \u001b[1;33m-\u001b[0m \u001b[0mself\u001b[0m\u001b[1;33m.\u001b[0m\u001b[0m_start_time\u001b[0m\u001b[1;33m\u001b[0m\u001b[1;33m\u001b[0m\u001b[0m\n",
      "\u001b[1;32m~\\anaconda3\\lib\\site-packages\\joblib\\parallel.py\u001b[0m in \u001b[0;36mretrieve\u001b[1;34m(self)\u001b[0m\n\u001b[0;32m    907\u001b[0m             \u001b[1;32mtry\u001b[0m\u001b[1;33m:\u001b[0m\u001b[1;33m\u001b[0m\u001b[1;33m\u001b[0m\u001b[0m\n\u001b[0;32m    908\u001b[0m                 \u001b[1;32mif\u001b[0m \u001b[0mgetattr\u001b[0m\u001b[1;33m(\u001b[0m\u001b[0mself\u001b[0m\u001b[1;33m.\u001b[0m\u001b[0m_backend\u001b[0m\u001b[1;33m,\u001b[0m \u001b[1;34m'supports_timeout'\u001b[0m\u001b[1;33m,\u001b[0m \u001b[1;32mFalse\u001b[0m\u001b[1;33m)\u001b[0m\u001b[1;33m:\u001b[0m\u001b[1;33m\u001b[0m\u001b[1;33m\u001b[0m\u001b[0m\n\u001b[1;32m--> 909\u001b[1;33m                     \u001b[0mself\u001b[0m\u001b[1;33m.\u001b[0m\u001b[0m_output\u001b[0m\u001b[1;33m.\u001b[0m\u001b[0mextend\u001b[0m\u001b[1;33m(\u001b[0m\u001b[0mjob\u001b[0m\u001b[1;33m.\u001b[0m\u001b[0mget\u001b[0m\u001b[1;33m(\u001b[0m\u001b[0mtimeout\u001b[0m\u001b[1;33m=\u001b[0m\u001b[0mself\u001b[0m\u001b[1;33m.\u001b[0m\u001b[0mtimeout\u001b[0m\u001b[1;33m)\u001b[0m\u001b[1;33m)\u001b[0m\u001b[1;33m\u001b[0m\u001b[1;33m\u001b[0m\u001b[0m\n\u001b[0m\u001b[0;32m    910\u001b[0m                 \u001b[1;32melse\u001b[0m\u001b[1;33m:\u001b[0m\u001b[1;33m\u001b[0m\u001b[1;33m\u001b[0m\u001b[0m\n\u001b[0;32m    911\u001b[0m                     \u001b[0mself\u001b[0m\u001b[1;33m.\u001b[0m\u001b[0m_output\u001b[0m\u001b[1;33m.\u001b[0m\u001b[0mextend\u001b[0m\u001b[1;33m(\u001b[0m\u001b[0mjob\u001b[0m\u001b[1;33m.\u001b[0m\u001b[0mget\u001b[0m\u001b[1;33m(\u001b[0m\u001b[1;33m)\u001b[0m\u001b[1;33m)\u001b[0m\u001b[1;33m\u001b[0m\u001b[1;33m\u001b[0m\u001b[0m\n",
      "\u001b[1;32m~\\anaconda3\\lib\\site-packages\\joblib\\_parallel_backends.py\u001b[0m in \u001b[0;36mwrap_future_result\u001b[1;34m(future, timeout)\u001b[0m\n\u001b[0;32m    560\u001b[0m         AsyncResults.get from multiprocessing.\"\"\"\n\u001b[0;32m    561\u001b[0m         \u001b[1;32mtry\u001b[0m\u001b[1;33m:\u001b[0m\u001b[1;33m\u001b[0m\u001b[1;33m\u001b[0m\u001b[0m\n\u001b[1;32m--> 562\u001b[1;33m             \u001b[1;32mreturn\u001b[0m \u001b[0mfuture\u001b[0m\u001b[1;33m.\u001b[0m\u001b[0mresult\u001b[0m\u001b[1;33m(\u001b[0m\u001b[0mtimeout\u001b[0m\u001b[1;33m=\u001b[0m\u001b[0mtimeout\u001b[0m\u001b[1;33m)\u001b[0m\u001b[1;33m\u001b[0m\u001b[1;33m\u001b[0m\u001b[0m\n\u001b[0m\u001b[0;32m    563\u001b[0m         \u001b[1;32mexcept\u001b[0m \u001b[0mLokyTimeoutError\u001b[0m\u001b[1;33m:\u001b[0m\u001b[1;33m\u001b[0m\u001b[1;33m\u001b[0m\u001b[0m\n\u001b[0;32m    564\u001b[0m             \u001b[1;32mraise\u001b[0m \u001b[0mTimeoutError\u001b[0m\u001b[1;33m(\u001b[0m\u001b[1;33m)\u001b[0m\u001b[1;33m\u001b[0m\u001b[1;33m\u001b[0m\u001b[0m\n",
      "\u001b[1;32m~\\anaconda3\\lib\\concurrent\\futures\\_base.py\u001b[0m in \u001b[0;36mresult\u001b[1;34m(self, timeout)\u001b[0m\n\u001b[0;32m    428\u001b[0m                 \u001b[1;32mreturn\u001b[0m \u001b[0mself\u001b[0m\u001b[1;33m.\u001b[0m\u001b[0m__get_result\u001b[0m\u001b[1;33m(\u001b[0m\u001b[1;33m)\u001b[0m\u001b[1;33m\u001b[0m\u001b[1;33m\u001b[0m\u001b[0m\n\u001b[0;32m    429\u001b[0m \u001b[1;33m\u001b[0m\u001b[0m\n\u001b[1;32m--> 430\u001b[1;33m             \u001b[0mself\u001b[0m\u001b[1;33m.\u001b[0m\u001b[0m_condition\u001b[0m\u001b[1;33m.\u001b[0m\u001b[0mwait\u001b[0m\u001b[1;33m(\u001b[0m\u001b[0mtimeout\u001b[0m\u001b[1;33m)\u001b[0m\u001b[1;33m\u001b[0m\u001b[1;33m\u001b[0m\u001b[0m\n\u001b[0m\u001b[0;32m    431\u001b[0m \u001b[1;33m\u001b[0m\u001b[0m\n\u001b[0;32m    432\u001b[0m             \u001b[1;32mif\u001b[0m \u001b[0mself\u001b[0m\u001b[1;33m.\u001b[0m\u001b[0m_state\u001b[0m \u001b[1;32min\u001b[0m \u001b[1;33m[\u001b[0m\u001b[0mCANCELLED\u001b[0m\u001b[1;33m,\u001b[0m \u001b[0mCANCELLED_AND_NOTIFIED\u001b[0m\u001b[1;33m]\u001b[0m\u001b[1;33m:\u001b[0m\u001b[1;33m\u001b[0m\u001b[1;33m\u001b[0m\u001b[0m\n",
      "\u001b[1;32m~\\anaconda3\\lib\\threading.py\u001b[0m in \u001b[0;36mwait\u001b[1;34m(self, timeout)\u001b[0m\n\u001b[0;32m    294\u001b[0m         \u001b[1;32mtry\u001b[0m\u001b[1;33m:\u001b[0m    \u001b[1;31m# restore state no matter what (e.g., KeyboardInterrupt)\u001b[0m\u001b[1;33m\u001b[0m\u001b[1;33m\u001b[0m\u001b[0m\n\u001b[0;32m    295\u001b[0m             \u001b[1;32mif\u001b[0m \u001b[0mtimeout\u001b[0m \u001b[1;32mis\u001b[0m \u001b[1;32mNone\u001b[0m\u001b[1;33m:\u001b[0m\u001b[1;33m\u001b[0m\u001b[1;33m\u001b[0m\u001b[0m\n\u001b[1;32m--> 296\u001b[1;33m                 \u001b[0mwaiter\u001b[0m\u001b[1;33m.\u001b[0m\u001b[0macquire\u001b[0m\u001b[1;33m(\u001b[0m\u001b[1;33m)\u001b[0m\u001b[1;33m\u001b[0m\u001b[1;33m\u001b[0m\u001b[0m\n\u001b[0m\u001b[0;32m    297\u001b[0m                 \u001b[0mgotit\u001b[0m \u001b[1;33m=\u001b[0m \u001b[1;32mTrue\u001b[0m\u001b[1;33m\u001b[0m\u001b[1;33m\u001b[0m\u001b[0m\n\u001b[0;32m    298\u001b[0m             \u001b[1;32melse\u001b[0m\u001b[1;33m:\u001b[0m\u001b[1;33m\u001b[0m\u001b[1;33m\u001b[0m\u001b[0m\n",
      "\u001b[1;31mKeyboardInterrupt\u001b[0m: "
     ]
    }
   ],
   "source": [
    "# Tune each of the considered classifiers, and store the one with highest performance in tuned_classifiers\n",
    "list_to_tune_options = ['long', 'short', 'short_on_all']\n",
    "list_to_tune = 'long'\n",
    "classifier_dict_to_use = classifiers_dict #classifiers_dict_smote_pipeline\n",
    "tuned_classifiers = {}\n",
    "\n",
    "train_X = X_train_scaled\n",
    "train_y = y_train\n",
    "\n",
    "for clfname in classifier_dict_to_use:\n",
    "    print( \"\\n ############## Tuning meta parameters for classifier {} ########### \\n\".format(clfname))\n",
    "    clf_params_to_tune = classifier_dict_to_use[clfname]\n",
    "    if list_to_tune == 'long':\n",
    "        params_to_tune = clf_params_to_tune.long_params_list\n",
    "    elif list_to_tune == 'short':\n",
    "        params_to_tune = clf_params_to_tune.short_params_list\n",
    "    elif list_to_tune == 'short_on_all':\n",
    "        params_to_tune = clf_params_to_tune.short_params_list_over_entire_train\n",
    "    else:\n",
    "        print(\"list_to_tune {} is not valid!\".format(list_to_tune))\n",
    "         \n",
    "    curr_best_estimator = find_optimal_meta_parameters(train_X, train_y , clf_params_to_tune.clf, \n",
    "                                 params_to_tune ,\n",
    "                                 score='f1')\n",
    "    tuned_classifiers[clfname] = curr_best_estimator\n",
    "\n"
   ]
  },
  {
   "cell_type": "code",
   "execution_count": null,
   "metadata": {},
   "outputs": [],
   "source": [
    "x=2"
   ]
  },
  {
   "cell_type": "code",
   "execution_count": null,
   "metadata": {},
   "outputs": [],
   "source": []
  },
  {
   "cell_type": "markdown",
   "metadata": {},
   "source": [
    "# Some experiments #"
   ]
  },
  {
   "cell_type": "code",
   "execution_count": 16,
   "metadata": {},
   "outputs": [],
   "source": [
    "import gmplot\n",
    "\n",
    "# Create the map plotter:\n",
    "apikey = '' # (your API key here)\n",
    "gmap = gmplot.GoogleMapPlotter(37.766956, -122.448481, 14, apikey=apikey)\n",
    "\n",
    "# Mark a hidden gem:\n",
    "gmap.marker(37.770776, -122.461689, color='cornflowerblue')\n",
    "\n",
    "# Highlight some attractions:\n",
    "attractions_lats, attractions_lngs = zip(*[\n",
    "    (37.769901, -122.498331),\n",
    "    (37.768645, -122.475328),\n",
    "    (37.771478, -122.468677),\n",
    "    (37.769867, -122.466102),\n",
    "    (37.767187, -122.467496),\n",
    "    (37.770104, -122.470436)\n",
    "])\n",
    "gmap.scatter(attractions_lats, attractions_lngs, color='#3B0B39', size=40, marker=False)\n",
    "\n",
    "# Outline the Golden Gate Park:\n",
    "golden_gate_park = zip(*[\n",
    "    (37.771269, -122.511015),\n",
    "    (37.773495, -122.464830),\n",
    "    (37.774797, -122.454538),\n",
    "    (37.771988, -122.454018),\n",
    "    (37.773646, -122.440979),\n",
    "    (37.772742, -122.440797),\n",
    "    (37.771096, -122.453889),\n",
    "    (37.768669, -122.453518),\n",
    "    (37.766227, -122.460213),\n",
    "    (37.764028, -122.510347)\n",
    "])\n",
    "gmap.polygon(*golden_gate_park, color='cornflowerblue', edge_width=10)\n",
    "\n",
    "# Draw the map to an HTML file:\n",
    "gmap.draw('map.html')"
   ]
  },
  {
   "cell_type": "code",
   "execution_count": 194,
   "metadata": {},
   "outputs": [
    {
     "name": "stdout",
     "output_type": "stream",
     "text": [
      "132.53385211071947\n"
     ]
    }
   ],
   "source": [
    "import geopy.distance\n",
    "\n",
    "coords_1 = (17.692, 83.28)\n",
    "coords_2 = (16.978, 82.279)\n",
    "\n",
    "print(geopy.distance.geodesic(coords_1, coords_2).km)"
   ]
  },
  {
   "cell_type": "code",
   "execution_count": 207,
   "metadata": {},
   "outputs": [],
   "source": [
    "import gmplot\n",
    "\n",
    "# Create the map plotter:\n",
    "apikey = '' # (your API key here)\n",
    "gmap = gmplot.GoogleMapPlotter(17.69, 83.28, 2, apikey=apikey)\n",
    "\n",
    "test_grp = train_set_df_orig.groupby('ves_id').get_group('56dd02bde4b02341a159b0ab')\n",
    "gmap.polygon(test_grp['Lat'].values, test_grp['Long'].values, color='cornflowerblue', edge_width=2)\n",
    "gmap.draw('map_vss.html')"
   ]
  },
  {
   "cell_type": "code",
   "execution_count": 210,
   "metadata": {},
   "outputs": [],
   "source": [
    "import gmaps\n",
    "# gmaps.configure(api_key='AIza...')\n",
    "\n",
    "fig = gmaps.figure(center=(51.5, 0.1), zoom_level=9)\n",
    "\n",
    "# Features to draw on the map\n",
    "gmt_meridian = gmaps.Line(\n",
    "    start=(52.0, 0.0),\n",
    "    end=(50.0, 0.0),\n",
    "    stroke_weight=3.0\n",
    ")\n",
    "greenwich = gmaps.Marker((51.3, 0.0), info_box_content='Greenwich')\n",
    "\n",
    "drawing = gmaps.drawing_layer(features=[greenwich, gmt_meridian])\n",
    "fig.add_layer(drawing)\n",
    "fig\n",
    "plt.show()"
   ]
  },
  {
   "cell_type": "code",
   "execution_count": 214,
   "metadata": {},
   "outputs": [],
   "source": [
    "# import gmplot package\n",
    "import gmplot\n",
    "#Set different latitude and longitude points\n",
    "Charminar_top_attraction_lats, Charminar_top_attraction_lons = test_grp['Lat'].values, test_grp['Long'].values\n",
    "# zip(*[\n",
    "#    (17.3833, 78.4011),(17.4239, 78.4738),(17.3713, 78.4804),(17.3616, 78.4747),\n",
    "#    (17.3578, 78.4717),(17.3604, 78.4736),(17.2543, 78.6808),(17.4062, 78.4691),\n",
    "#    (17.3950, 78.3968),(17.3587, 78.2988),(17.4156, 78.4750)])\n",
    "#declare the center of the map, and how much we want the map zoomed in\n",
    "gmap3 = gmplot.GoogleMapPlotter(17.3616, 78.4747, 13)\n",
    "# Scatter map\n",
    "gmap3.scatter( Charminar_top_attraction_lats, Charminar_top_attraction_lons, '#FF0000',size = 50, marker = False )\n",
    "# Plot method Draw a line in between given coordinates\n",
    "gmap3.plot(Charminar_top_attraction_lats, Charminar_top_attraction_lons, 'cornflowerblue', edge_width = 3.0)\n",
    "#Your Google_API_Key\n",
    "# gmap.apikey = \" API_Key”\n",
    "# save it to html\n",
    "gmap3.draw(r\"scatter_1.html\")"
   ]
  },
  {
   "cell_type": "code",
   "execution_count": 17,
   "metadata": {},
   "outputs": [
    {
     "data": {
      "text/plain": [
       "0"
      ]
     },
     "execution_count": 17,
     "metadata": {},
     "output_type": "execute_result"
    }
   ],
   "source": [
    "import os\n",
    "os.system('map.html')"
   ]
  },
  {
   "cell_type": "code",
   "execution_count": 14,
   "metadata": {},
   "outputs": [],
   "source": [
    "#Plot a vessel timeseries\n",
    "def plot_vessel_timeline(vessel_id, extracted_features = None, plot_ax = None):\n",
    "    if plot_ax is None:\n",
    "        fig_p, ax_p = plt.subplots()\n",
    "    else:\n",
    "        ax_p = plot_ax\n",
    "    \n",
    "    curr_patient_df = train_orig_grouped.get_group(vessel_id)\n",
    "    first_timestamp = curr_patient_df['timestamp'].iloc[0]\n",
    "    curr_patient_df.index = list(map(lambda ts : (ts -first_timestamp).total_seconds()*1000, curr_patient_df['timestamp']))\n",
    "    curr_patient_df[['measurement_x', 'measurement_y', 'measurement_z']].plot(ax=ax_p)\n",
    "    if extracted_features is not None:\n",
    "        coefs = extracted_features[:9].reshape(3,3).T\n",
    "        x_regr = curr_patient_df.index.values\n",
    "        x_mat = np.array([np.ones(len(x_regr)), x_regr, x_regr*x_regr ]).T\n",
    "        curr_patient_df_approx = pd.DataFrame( x_mat.dot(coefs), \n",
    "                                              columns = ['measurement_x_regr', 'measurement_y_regr', 'measurement_z_regr'], \n",
    "                                                index = curr_patient_df.index\n",
    "                                             )\n",
    "        curr_patient_df_approx[['measurement_x_regr', 'measurement_y_regr', 'measurement_z_regr']].plot(ax=ax_p, style='--')\n",
    "    ax_p.set_title(f\"Patient {patient_id} timeseries\")\n",
    "    ax_p.set_xlabel(\"time from first timestamp (ms)\")\n",
    "    return len(curr_patient_df), ax_p\n"
   ]
  },
  {
   "cell_type": "code",
   "execution_count": 15,
   "metadata": {},
   "outputs": [
    {
     "ename": "SyntaxError",
     "evalue": "invalid syntax (<ipython-input-15-eaa33083f872>, line 1)",
     "output_type": "error",
     "traceback": [
      "\u001b[1;36m  File \u001b[1;32m\"<ipython-input-15-eaa33083f872>\"\u001b[1;36m, line \u001b[1;32m1\u001b[0m\n\u001b[1;33m    def extract_time_series\u001b[0m\n\u001b[1;37m                           ^\u001b[0m\n\u001b[1;31mSyntaxError\u001b[0m\u001b[1;31m:\u001b[0m invalid syntax\n"
     ]
    }
   ],
   "source": [
    "def extract_time_series\n",
    "\n",
    "#Converts the \n",
    "def extract_features(in_df: pd.DataFrame) -> pd.DataFrame:\n",
    "    #TODO: input sanity checks   \n",
    "    X = []\n",
    "    y = []\n",
    "    iter_over = in_dfs.groupby('patient_id') if type(in_dfs) ==  pd.DataFrame else in_dfs\n",
    "    for _,patient_df in iter_over:\n",
    "        extracted_features = extract_single_patient_features( patient_df, extraction_scheme, ts_handling_scheme, add_avg_dists )\n",
    "     \n",
    "#         print(f\"Appending features of shape {extracted_features.shape}\")\n",
    "        X.append(extracted_features )\n",
    "#         print(np.array(X).shape)\n",
    "#         if len(X) == 388:\n",
    "#             set_trace()\n",
    "        if 'label' in patient_df:\n",
    "            y.append(patient_df['label'].iloc[0])\n",
    "    features_names = ['meas_{}_a{}'.format(i,j) for i in ['x', 'y', 'z'] for j in range(3)]\n",
    "    intersection_names = ['intersect_x_y_1', 'intersect_x_y_2', 'intersect_x_z_1', 'intersect_x_z_2',  'intersect_y_z_1', 'intersect_y_z_2']\n",
    "    avg_dist_names = ['avg_dist_x_y', 'avg_dist_x_z', 'avg_dist_y_z']\n",
    "    \n",
    "    all_features_names = features_names + intersection_names\n",
    "    if add_avg_dists:\n",
    "        all_features_names += avg_dist_names\n",
    "    \n",
    "    return np.array(X), np.array(y),  all_features_names"
   ]
  },
  {
   "cell_type": "markdown",
   "metadata": {},
   "source": [
    "TODO:\n",
    "    * IMPORTANT!! Remove duplicates!!!\n",
    "    * Distance and time gap between successive ports.\n",
    "    * Has visited a single non-tanker port.\n",
    "    * Typical duration distribution: per tanker, per port. percentiles of distribution as features."
   ]
  },
  {
   "cell_type": "code",
   "execution_count": 22,
   "metadata": {},
   "outputs": [],
   "source": [
    "df = pd.DataFrame({'a':[1,2,3], 'b':[4,5,6]})"
   ]
  },
  {
   "cell_type": "code",
   "execution_count": 29,
   "metadata": {},
   "outputs": [],
   "source": [
    "tmp = df['b'].apply(lambda x :x in set([4,6,7]))"
   ]
  },
  {
   "cell_type": "code",
   "execution_count": 30,
   "metadata": {},
   "outputs": [
    {
     "data": {
      "text/plain": [
       "0    False\n",
       "1     True\n",
       "2    False\n",
       "Name: b, dtype: bool"
      ]
     },
     "execution_count": 30,
     "metadata": {},
     "output_type": "execute_result"
    }
   ],
   "source": [
    "tmp"
   ]
  },
  {
   "cell_type": "code",
   "execution_count": 439,
   "metadata": {},
   "outputs": [
    {
     "data": {
      "text/html": [
       "<div>\n",
       "<style scoped>\n",
       "    .dataframe tbody tr th:only-of-type {\n",
       "        vertical-align: middle;\n",
       "    }\n",
       "\n",
       "    .dataframe tbody tr th {\n",
       "        vertical-align: top;\n",
       "    }\n",
       "\n",
       "    .dataframe thead th {\n",
       "        text-align: right;\n",
       "    }\n",
       "</style>\n",
       "<table border=\"1\" class=\"dataframe\">\n",
       "  <thead>\n",
       "    <tr style=\"text-align: right;\">\n",
       "      <th></th>\n",
       "      <th>a</th>\n",
       "      <th>b</th>\n",
       "    </tr>\n",
       "  </thead>\n",
       "  <tbody>\n",
       "    <tr>\n",
       "      <th>0</th>\n",
       "      <td>1</td>\n",
       "      <td>4</td>\n",
       "    </tr>\n",
       "    <tr>\n",
       "      <th>2</th>\n",
       "      <td>3</td>\n",
       "      <td>6</td>\n",
       "    </tr>\n",
       "  </tbody>\n",
       "</table>\n",
       "</div>"
      ],
      "text/plain": [
       "   a  b\n",
       "0  1  4\n",
       "2  3  6"
      ]
     },
     "execution_count": 439,
     "metadata": {},
     "output_type": "execute_result"
    }
   ],
   "source": [
    "df.drop([1])"
   ]
  },
  {
   "cell_type": "code",
   "execution_count": 227,
   "metadata": {},
   "outputs": [],
   "source": [
    "l = []\n",
    "for ind,r in df.iterrows():\n",
    "    l.append(r)"
   ]
  },
  {
   "cell_type": "code",
   "execution_count": 228,
   "metadata": {},
   "outputs": [
    {
     "data": {
      "text/plain": [
       "[a    1\n",
       " b    4\n",
       " Name: 0, dtype: int64,\n",
       " a    2\n",
       " b    5\n",
       " Name: 1, dtype: int64,\n",
       " a    3\n",
       " b    6\n",
       " Name: 2, dtype: int64]"
      ]
     },
     "execution_count": 228,
     "metadata": {},
     "output_type": "execute_result"
    }
   ],
   "source": [
    "l"
   ]
  },
  {
   "cell_type": "code",
   "execution_count": 229,
   "metadata": {},
   "outputs": [
    {
     "data": {
      "text/html": [
       "<div>\n",
       "<style scoped>\n",
       "    .dataframe tbody tr th:only-of-type {\n",
       "        vertical-align: middle;\n",
       "    }\n",
       "\n",
       "    .dataframe tbody tr th {\n",
       "        vertical-align: top;\n",
       "    }\n",
       "\n",
       "    .dataframe thead th {\n",
       "        text-align: right;\n",
       "    }\n",
       "</style>\n",
       "<table border=\"1\" class=\"dataframe\">\n",
       "  <thead>\n",
       "    <tr style=\"text-align: right;\">\n",
       "      <th></th>\n",
       "      <th>a</th>\n",
       "      <th>b</th>\n",
       "    </tr>\n",
       "  </thead>\n",
       "  <tbody>\n",
       "    <tr>\n",
       "      <th>0</th>\n",
       "      <td>1</td>\n",
       "      <td>4</td>\n",
       "    </tr>\n",
       "    <tr>\n",
       "      <th>1</th>\n",
       "      <td>2</td>\n",
       "      <td>5</td>\n",
       "    </tr>\n",
       "    <tr>\n",
       "      <th>2</th>\n",
       "      <td>3</td>\n",
       "      <td>6</td>\n",
       "    </tr>\n",
       "  </tbody>\n",
       "</table>\n",
       "</div>"
      ],
      "text/plain": [
       "   a  b\n",
       "0  1  4\n",
       "1  2  5\n",
       "2  3  6"
      ]
     },
     "execution_count": 229,
     "metadata": {},
     "output_type": "execute_result"
    }
   ],
   "source": [
    "pd.DataFrame(l)"
   ]
  },
  {
   "cell_type": "code",
   "execution_count": 375,
   "metadata": {},
   "outputs": [
    {
     "data": {
      "text/html": [
       "<div>\n",
       "<style scoped>\n",
       "    .dataframe tbody tr th:only-of-type {\n",
       "        vertical-align: middle;\n",
       "    }\n",
       "\n",
       "    .dataframe tbody tr th {\n",
       "        vertical-align: top;\n",
       "    }\n",
       "\n",
       "    .dataframe thead th {\n",
       "        text-align: right;\n",
       "    }\n",
       "</style>\n",
       "<table border=\"1\" class=\"dataframe\">\n",
       "  <thead>\n",
       "    <tr style=\"text-align: right;\">\n",
       "      <th></th>\n",
       "      <th>a</th>\n",
       "      <th>b</th>\n",
       "    </tr>\n",
       "  </thead>\n",
       "  <tbody>\n",
       "    <tr>\n",
       "      <th>0</th>\n",
       "      <td>1</td>\n",
       "      <td>2</td>\n",
       "    </tr>\n",
       "    <tr>\n",
       "      <th>0</th>\n",
       "      <td>3</td>\n",
       "      <td>4</td>\n",
       "    </tr>\n",
       "  </tbody>\n",
       "</table>\n",
       "</div>"
      ],
      "text/plain": [
       "   a  b\n",
       "0  1  2\n",
       "0  3  4"
      ]
     },
     "execution_count": 375,
     "metadata": {},
     "output_type": "execute_result"
    }
   ],
   "source": [
    "df1 = pd.DataFrame({'a':[1], 'b':[2]})\n",
    "df2 = pd.DataFrame({'a':[3], 'b':[4]})\n",
    "pd.concat([df1, df2])"
   ]
  },
  {
   "cell_type": "code",
   "execution_count": 6,
   "metadata": {},
   "outputs": [
    {
     "data": {
      "text/plain": [
       "0    POINT (1.00000 1.00000)\n",
       "1    POINT (2.00000 2.00000)\n",
       "2    POINT (3.00000 3.00000)\n",
       "dtype: geometry"
      ]
     },
     "execution_count": 6,
     "metadata": {},
     "output_type": "execute_result"
    }
   ],
   "source": [
    "import geopandas\n",
    "from shapely.geometry import Point\n",
    "s = geopandas.GeoSeries([Point(1, 1), Point(2, 2), Point(3, 3)])\n",
    "s.centroid"
   ]
  },
  {
   "cell_type": "code",
   "execution_count": 15,
   "metadata": {},
   "outputs": [
    {
     "data": {
      "text/plain": [
       "2.0"
      ]
     },
     "execution_count": 15,
     "metadata": {},
     "output_type": "execute_result"
    }
   ],
   "source": [
    "from shapely.geometry import Polygon\n",
    "p = Polygon([(1, 1), (2, 2), (3, 3)])\n",
    "c = p.centroid\n",
    "c.x\n",
    "c.y"
   ]
  },
  {
   "cell_type": "code",
   "execution_count": 18,
   "metadata": {},
   "outputs": [
    {
     "ename": "AttributeError",
     "evalue": "'Polygon' object has no attribute 'points'",
     "output_type": "error",
     "traceback": [
      "\u001b[1;31m---------------------------------------------------------------------------\u001b[0m",
      "\u001b[1;31mAttributeError\u001b[0m                            Traceback (most recent call last)",
      "\u001b[1;32m<ipython-input-18-f9af43fc74dc>\u001b[0m in \u001b[0;36m<module>\u001b[1;34m\u001b[0m\n\u001b[1;32m----> 1\u001b[1;33m \u001b[0mp\u001b[0m\u001b[1;33m.\u001b[0m\u001b[0mpoints\u001b[0m\u001b[1;33m\u001b[0m\u001b[1;33m\u001b[0m\u001b[0m\n\u001b[0m",
      "\u001b[1;31mAttributeError\u001b[0m: 'Polygon' object has no attribute 'points'"
     ]
    }
   ],
   "source": [
    "p.points"
   ]
  },
  {
   "cell_type": "code",
   "execution_count": 21,
   "metadata": {},
   "outputs": [
    {
     "name": "stdout",
     "output_type": "stream",
     "text": [
      "There are 1585 ports visited by tankers, which are 44.15% of the overall ports\n"
     ]
    }
   ],
   "source": [
    "X_temp_train,_,_,_ = train_test_split(train_df_to_work_with, train_df_to_work_with['label'], test_size = 0.2)\n",
    "tankers_ports_set = set(X_temp_train['port_id'][X_temp_train['label']==1])\n",
    "print(\"There are {} ports visited by tankers, which are\\\n",
    " {:0.2f}% of the overall ports\".format(len(tankers_ports_set), len(tankers_ports_set)/num_unique_ports_in_train*100))"
   ]
  },
  {
   "cell_type": "code",
   "execution_count": null,
   "metadata": {},
   "outputs": [],
   "source": []
  },
  {
   "cell_type": "code",
   "execution_count": null,
   "metadata": {},
   "outputs": [],
   "source": []
  },
  {
   "cell_type": "code",
   "execution_count": null,
   "metadata": {},
   "outputs": [],
   "source": []
  },
  {
   "cell_type": "code",
   "execution_count": null,
   "metadata": {},
   "outputs": [],
   "source": []
  },
  {
   "cell_type": "code",
   "execution_count": null,
   "metadata": {},
   "outputs": [],
   "source": []
  },
  {
   "cell_type": "code",
   "execution_count": null,
   "metadata": {},
   "outputs": [],
   "source": []
  },
  {
   "cell_type": "code",
   "execution_count": null,
   "metadata": {},
   "outputs": [],
   "source": []
  },
  {
   "cell_type": "code",
   "execution_count": null,
   "metadata": {},
   "outputs": [],
   "source": []
  },
  {
   "cell_type": "code",
   "execution_count": null,
   "metadata": {},
   "outputs": [],
   "source": []
  },
  {
   "cell_type": "code",
   "execution_count": null,
   "metadata": {},
   "outputs": [],
   "source": []
  },
  {
   "cell_type": "code",
   "execution_count": null,
   "metadata": {},
   "outputs": [],
   "source": []
  },
  {
   "cell_type": "code",
   "execution_count": null,
   "metadata": {},
   "outputs": [],
   "source": []
  },
  {
   "cell_type": "code",
   "execution_count": null,
   "metadata": {},
   "outputs": [],
   "source": []
  },
  {
   "cell_type": "code",
   "execution_count": null,
   "metadata": {},
   "outputs": [],
   "source": []
  },
  {
   "cell_type": "code",
   "execution_count": null,
   "metadata": {},
   "outputs": [],
   "source": []
  },
  {
   "cell_type": "code",
   "execution_count": null,
   "metadata": {},
   "outputs": [],
   "source": []
  },
  {
   "cell_type": "code",
   "execution_count": null,
   "metadata": {},
   "outputs": [],
   "source": []
  },
  {
   "cell_type": "code",
   "execution_count": null,
   "metadata": {},
   "outputs": [],
   "source": []
  },
  {
   "cell_type": "code",
   "execution_count": null,
   "metadata": {},
   "outputs": [],
   "source": []
  },
  {
   "cell_type": "code",
   "execution_count": null,
   "metadata": {},
   "outputs": [],
   "source": []
  },
  {
   "cell_type": "code",
   "execution_count": null,
   "metadata": {},
   "outputs": [],
   "source": []
  },
  {
   "cell_type": "code",
   "execution_count": null,
   "metadata": {},
   "outputs": [],
   "source": []
  },
  {
   "cell_type": "code",
   "execution_count": null,
   "metadata": {},
   "outputs": [],
   "source": []
  },
  {
   "cell_type": "code",
   "execution_count": null,
   "metadata": {},
   "outputs": [],
   "source": []
  },
  {
   "cell_type": "code",
   "execution_count": null,
   "metadata": {},
   "outputs": [],
   "source": []
  },
  {
   "cell_type": "code",
   "execution_count": null,
   "metadata": {},
   "outputs": [],
   "source": []
  },
  {
   "cell_type": "code",
   "execution_count": null,
   "metadata": {},
   "outputs": [],
   "source": []
  },
  {
   "cell_type": "code",
   "execution_count": null,
   "metadata": {},
   "outputs": [],
   "source": []
  },
  {
   "cell_type": "code",
   "execution_count": null,
   "metadata": {},
   "outputs": [],
   "source": []
  },
  {
   "cell_type": "code",
   "execution_count": null,
   "metadata": {},
   "outputs": [],
   "source": []
  },
  {
   "cell_type": "code",
   "execution_count": null,
   "metadata": {},
   "outputs": [],
   "source": []
  },
  {
   "cell_type": "code",
   "execution_count": null,
   "metadata": {},
   "outputs": [],
   "source": []
  },
  {
   "cell_type": "code",
   "execution_count": null,
   "metadata": {},
   "outputs": [],
   "source": []
  },
  {
   "cell_type": "code",
   "execution_count": null,
   "metadata": {},
   "outputs": [],
   "source": []
  },
  {
   "cell_type": "code",
   "execution_count": null,
   "metadata": {},
   "outputs": [],
   "source": []
  },
  {
   "cell_type": "code",
   "execution_count": null,
   "metadata": {},
   "outputs": [],
   "source": []
  },
  {
   "cell_type": "code",
   "execution_count": null,
   "metadata": {},
   "outputs": [],
   "source": []
  },
  {
   "cell_type": "code",
   "execution_count": null,
   "metadata": {},
   "outputs": [],
   "source": []
  },
  {
   "cell_type": "code",
   "execution_count": null,
   "metadata": {},
   "outputs": [],
   "source": []
  },
  {
   "cell_type": "code",
   "execution_count": null,
   "metadata": {},
   "outputs": [],
   "source": []
  },
  {
   "cell_type": "code",
   "execution_count": null,
   "metadata": {},
   "outputs": [],
   "source": []
  },
  {
   "cell_type": "code",
   "execution_count": null,
   "metadata": {},
   "outputs": [],
   "source": []
  },
  {
   "cell_type": "code",
   "execution_count": null,
   "metadata": {},
   "outputs": [],
   "source": []
  },
  {
   "cell_type": "code",
   "execution_count": null,
   "metadata": {},
   "outputs": [],
   "source": []
  },
  {
   "cell_type": "code",
   "execution_count": null,
   "metadata": {},
   "outputs": [],
   "source": []
  },
  {
   "cell_type": "code",
   "execution_count": null,
   "metadata": {},
   "outputs": [],
   "source": []
  },
  {
   "cell_type": "code",
   "execution_count": null,
   "metadata": {},
   "outputs": [],
   "source": []
  },
  {
   "cell_type": "code",
   "execution_count": null,
   "metadata": {},
   "outputs": [],
   "source": []
  },
  {
   "cell_type": "code",
   "execution_count": null,
   "metadata": {},
   "outputs": [],
   "source": []
  },
  {
   "cell_type": "code",
   "execution_count": null,
   "metadata": {},
   "outputs": [],
   "source": []
  },
  {
   "cell_type": "code",
   "execution_count": null,
   "metadata": {},
   "outputs": [],
   "source": []
  },
  {
   "cell_type": "code",
   "execution_count": null,
   "metadata": {},
   "outputs": [],
   "source": []
  },
  {
   "cell_type": "code",
   "execution_count": null,
   "metadata": {},
   "outputs": [],
   "source": []
  },
  {
   "cell_type": "code",
   "execution_count": null,
   "metadata": {},
   "outputs": [],
   "source": []
  },
  {
   "cell_type": "code",
   "execution_count": null,
   "metadata": {},
   "outputs": [],
   "source": []
  },
  {
   "cell_type": "code",
   "execution_count": null,
   "metadata": {},
   "outputs": [],
   "source": []
  },
  {
   "cell_type": "code",
   "execution_count": null,
   "metadata": {},
   "outputs": [],
   "source": []
  },
  {
   "cell_type": "code",
   "execution_count": null,
   "metadata": {},
   "outputs": [],
   "source": []
  },
  {
   "cell_type": "code",
   "execution_count": null,
   "metadata": {},
   "outputs": [],
   "source": []
  },
  {
   "cell_type": "code",
   "execution_count": null,
   "metadata": {},
   "outputs": [],
   "source": []
  },
  {
   "cell_type": "code",
   "execution_count": null,
   "metadata": {},
   "outputs": [],
   "source": []
  },
  {
   "cell_type": "code",
   "execution_count": null,
   "metadata": {},
   "outputs": [],
   "source": []
  },
  {
   "cell_type": "code",
   "execution_count": null,
   "metadata": {},
   "outputs": [],
   "source": []
  },
  {
   "cell_type": "code",
   "execution_count": null,
   "metadata": {},
   "outputs": [],
   "source": []
  },
  {
   "cell_type": "code",
   "execution_count": null,
   "metadata": {},
   "outputs": [],
   "source": []
  }
 ],
 "metadata": {
  "kernelspec": {
   "display_name": "Python 3",
   "language": "python",
   "name": "python3"
  },
  "language_info": {
   "codemirror_mode": {
    "name": "ipython",
    "version": 3
   },
   "file_extension": ".py",
   "mimetype": "text/x-python",
   "name": "python",
   "nbconvert_exporter": "python",
   "pygments_lexer": "ipython3",
   "version": "3.7.6"
  },
  "toc": {
   "base_numbering": 1,
   "nav_menu": {},
   "number_sections": true,
   "sideBar": true,
   "skip_h1_title": false,
   "title_cell": "Table of Contents",
   "title_sidebar": "Contents",
   "toc_cell": false,
   "toc_position": {
    "height": "calc(100% - 180px)",
    "left": "10px",
    "top": "150px",
    "width": "384px"
   },
   "toc_section_display": true,
   "toc_window_display": true
  },
  "varInspector": {
   "cols": {
    "lenName": 16,
    "lenType": 16,
    "lenVar": 40
   },
   "kernels_config": {
    "python": {
     "delete_cmd_postfix": "",
     "delete_cmd_prefix": "del ",
     "library": "var_list.py",
     "varRefreshCmd": "print(var_dic_list())"
    },
    "r": {
     "delete_cmd_postfix": ") ",
     "delete_cmd_prefix": "rm(",
     "library": "var_list.r",
     "varRefreshCmd": "cat(var_dic_list()) "
    }
   },
   "position": {
    "height": "663px",
    "left": "1564px",
    "right": "20px",
    "top": "63px",
    "width": "340px"
   },
   "types_to_exclude": [
    "module",
    "function",
    "builtin_function_or_method",
    "instance",
    "_Feature"
   ],
   "window_display": false
  }
 },
 "nbformat": 4,
 "nbformat_minor": 4
}
