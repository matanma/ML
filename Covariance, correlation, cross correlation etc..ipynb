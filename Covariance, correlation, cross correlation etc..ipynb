{
 "cells": [
  {
   "cell_type": "markdown",
   "metadata": {},
   "source": [
    "Q: Define covariance and variance\n",
    "    "
   ]
  },
  {
   "cell_type": "markdown",
   "metadata": {},
   "source": [
    "A: Given two random variables $X$, $Y$\n",
    "\n",
    "$Cov(X,Y) = E[(X-\\mu_X)(Y-\\mu_Y)] = E[XY]-E[X]E[Y]$\n",
    "\n",
    "$Var(X) = Cov(X,X) = E[(X-\\mu_X)^2] = E[X^2]-E[X]^2$"
   ]
  },
  {
   "cell_type": "markdown",
   "metadata": {},
   "source": [
    "Q: Define correlation coefficient"
   ]
  },
  {
   "cell_type": "markdown",
   "metadata": {},
   "source": [
    "$\\rho(X,Y) = \\frac{cov(X,Y)}{\\sigma_X \\sigma_Y}$"
   ]
  },
  {
   "cell_type": "markdown",
   "metadata": {},
   "source": [
    "Q: What is the meaning of this number?"
   ]
  },
  {
   "cell_type": "markdown",
   "metadata": {},
   "source": [
    "A: it's a measure of the linear relationship between $X$ and $Y$. If it's close to 1 it means they are positively correlated and -1 - negatively"
   ]
  },
  {
   "cell_type": "markdown",
   "metadata": {},
   "source": [
    "TODO: check regression line from intro to probability"
   ]
  },
  {
   "cell_type": "code",
   "execution_count": null,
   "metadata": {},
   "outputs": [],
   "source": []
  },
  {
   "cell_type": "markdown",
   "metadata": {},
   "source": [
    "Q: What's correlation, auto correlation and cross correnation of a signal? What's the relationship between this and the RV's statistics?"
   ]
  },
  {
   "cell_type": "markdown",
   "metadata": {},
   "source": [
    "A: check [wiki page](https://en.wikipedia.org/wiki/Cross-correlation)"
   ]
  },
  {
   "cell_type": "markdown",
   "metadata": {},
   "source": [
    "Q: What's autoregression"
   ]
  },
  {
   "cell_type": "markdown",
   "metadata": {},
   "source": [
    "Q: What's the difference between Spearman and pearson correlations?"
   ]
  },
  {
   "cell_type": "markdown",
   "metadata": {},
   "source": [
    "Q: In the [stanford intro course](https://www.coursera.org/learn/machine-learning/resources/kGWsY), in the PCA section, the covariance matrix is defined as: \n",
    "$$ \\Sigma = \\frac{1}{m}\\sum_{i=1}^m x^{(i)}  {x^{(i)}}^T $$, \n",
    "where $ x^{(i)} $ are the $m$ samples of dimension $n$. Why is it the covariance matric of the $ \\{ x^{(i)} \\}_i $?"
   ]
  },
  {
   "cell_type": "markdown",
   "metadata": {},
   "source": [
    "A: It's not the covariance matrix of the $ \\{ x^{(i)} \\}_i $, but of the (normalized) features $ \\{ f^{(i)} \\}_i $. Indeed, there are $n$ features, so their covariance matrix should be an $n$x$n$ matrix. To see this explicitly: \n",
    "$$ \\Sigma_{ij} = \\left(\\frac{1}{m}\\sum_{k=1}^m x^{(k)}  {x^{(k)}}^T \\right )_{ij} =\n",
    "    \\frac{1}{m}\\sum_{k=1}^m x^{(k)}_i x^{(k)}_j = \\frac{1}{m} f_i^T f_j\n",
    "$$, "
   ]
  },
  {
   "cell_type": "code",
   "execution_count": null,
   "metadata": {},
   "outputs": [],
   "source": []
  }
 ],
 "metadata": {
  "kernelspec": {
   "display_name": "Python 3",
   "language": "python",
   "name": "python3"
  },
  "language_info": {
   "codemirror_mode": {
    "name": "ipython",
    "version": 3
   },
   "file_extension": ".py",
   "mimetype": "text/x-python",
   "name": "python",
   "nbconvert_exporter": "python",
   "pygments_lexer": "ipython3",
   "version": "3.7.6"
  }
 },
 "nbformat": 4,
 "nbformat_minor": 4
}
