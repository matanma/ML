{
 "cells": [
  {
   "cell_type": "markdown",
   "metadata": {},
   "source": [
    "Q: What's the difference between supervised and unsupervised learning?\n"
   ]
  },
  {
   "cell_type": "markdown",
   "metadata": {},
   "source": [
    "A: In supervised learning the input consists of instances and labels (i.e. X and y), and learning is done based on these labels (e.g. linear or logistic regression). Labeling is typically human based. In unsupervised learning there's no labeling associated with the instances (i.e. only X, without y), and the learning process itself is intended to automatically detect patterns in the given instances. \n",
    "It can be said that whereas supervised learning intends to infer a conditional probability distribution ${\\textstyle p_{X}(x\\,|\\,y)}$ conditioned on the label ${\\textstyle y}$ of input data; unsupervised learning intends to infer an a priori probability distribution ${\\textstyle p_{X}(x)}$."
   ]
  },
  {
   "cell_type": "markdown",
   "metadata": {},
   "source": [
    "Q: What unsupervised learning algorithms do you know or have used in the past?"
   ]
  },
  {
   "cell_type": "markdown",
   "metadata": {},
   "source": [
    "A: I haven't used any at work. I know:\n",
    "- Clustering: K-means, Hierarchial clustering, DBscan\n",
    "- Anomaly detection\n",
    "- PCA\n"
   ]
  },
  {
   "cell_type": "markdown",
   "metadata": {},
   "source": [
    "Q: Please choose one of these algorithms and explain how it works"
   ]
  },
  {
   "cell_type": "markdown",
   "metadata": {},
   "source": [
    "A: K-means. Given the set of m samples (training set) and k (number of clusters), the flow is as follows: \n",
    "1. Initialize k points - choose k random points from the training set or in thet closure of the training set\n",
    "2. while not converged: \n",
    "    for i=1:m:\n",
    "        choose the nearest centroid to x_i\n",
    "    calculate new centroids of each subset of the x_i\n",
    "    error = mean distance from centroids\n",
    "4. Per k value repeat e.g. 100 times, due to random intializaion.\n",
    "\n",
    "\n",
    "How to choose k? - try over a grid - sometimes ther'll be an elbow, otherwise choose to arbitrary precision, or business purpose (e.g. clothing sizes).\n",
    "\n",
    "Objective function $J(X,\\mu) = \\frac{1}{m} \\sum_{j=1}^m ||{x^i-\\mu_{c^{(i)}}}||^2$\n",
    "    "
   ]
  },
  {
   "cell_type": "markdown",
   "metadata": {},
   "source": [
    "Q: You've mentioned 3 clustering algorithms. What's the difference between them, and when will you use either\n"
   ]
  },
  {
   "cell_type": "markdown",
   "metadata": {},
   "source": [
    "A: read here: https://www.analyticsvidhya.com/blog/2016/11/an-introduction-to-clustering-and-different-methods-of-clustering/ and here: https://www.researchgate.net/post/What_is_the_difference_between_K-MEAN_and_density_based_clustering_algorithm_DBSCAN"
   ]
  },
  {
   "cell_type": "markdown",
   "metadata": {},
   "source": [
    "Q: Implement K-means on the following dataset, once by your own code, and once using sklearn"
   ]
  },
  {
   "cell_type": "code",
   "execution_count": null,
   "metadata": {},
   "outputs": [],
   "source": []
  }
 ],
 "metadata": {
  "kernelspec": {
   "display_name": "Python 3",
   "language": "python",
   "name": "python3"
  },
  "language_info": {
   "codemirror_mode": {
    "name": "ipython",
    "version": 3
   },
   "file_extension": ".py",
   "mimetype": "text/x-python",
   "name": "python",
   "nbconvert_exporter": "python",
   "pygments_lexer": "ipython3",
   "version": "3.7.6"
  }
 },
 "nbformat": 4,
 "nbformat_minor": 4
}
